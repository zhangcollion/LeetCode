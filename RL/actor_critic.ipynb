{
 "cells": [
  {
   "cell_type": "markdown",
   "metadata": {
    "id": "_jQ1tEQCxwRx"
   },
   "source": [
    "##### Copyright 2020 The TensorFlow Authors."
   ]
  },
  {
   "cell_type": "code",
   "execution_count": 1,
   "metadata": {
    "cellView": "form",
    "execution": {
     "iopub.execute_input": "2021-06-16T15:03:32.101821Z",
     "iopub.status.busy": "2021-06-16T15:03:32.101058Z",
     "iopub.status.idle": "2021-06-16T15:03:32.103505Z",
     "shell.execute_reply": "2021-06-16T15:03:32.102849Z"
    },
    "id": "V_sgB_5dx1f1"
   },
   "outputs": [],
   "source": [
    "#@title Licensed under the Apache License, Version 2.0 (the \"License\");\n",
    "# you may not use this file except in compliance with the License.\n",
    "# You may obtain a copy of the License at\n",
    "#\n",
    "# https://www.apache.org/licenses/LICENSE-2.0\n",
    "#\n",
    "# Unless required by applicable law or agreed to in writing, software\n",
    "# distributed under the License is distributed on an \"AS IS\" BASIS,\n",
    "# WITHOUT WARRANTIES OR CONDITIONS OF ANY KIND, either express or implied.\n",
    "# See the License for the specific language governing permissions and\n",
    "# limitations under the License."
   ]
  },
  {
   "cell_type": "markdown",
   "metadata": {
    "id": "p62G8M_viUJp"
   },
   "source": [
    "# Playing CartPole with the Actor-Critic Method\n"
   ]
  },
  {
   "cell_type": "markdown",
   "metadata": {
    "id": "-mJ2i6jvZ3sK"
   },
   "source": [
    "<table class=\"tfo-notebook-buttons\" align=\"left\">\n",
    "  <td>\n",
    "    <a target=\"_blank\" href=\"https://www.tensorflow.org/tutorials/reinforcement_learning/actor_critic\">\n",
    "    <img src=\"https://www.tensorflow.org/images/tf_logo_32px.png\" />\n",
    "    View on TensorFlow.org</a>\n",
    "  </td>\n",
    "  <td>\n",
    "    <a target=\"_blank\" href=\"https://colab.research.google.com/github/tensorflow/docs/blob/master/site/en/tutorials/reinforcement_learning/actor_critic.ipynb\">\n",
    "    <img src=\"https://www.tensorflow.org/images/colab_logo_32px.png\" />\n",
    "    Run in Google Colab</a>\n",
    "  </td>\n",
    "  <td>\n",
    "    <a target=\"_blank\" href=\"https://github.com/tensorflow/docs/blob/master/site/en/tutorials/reinforcement_learning/actor_critic.ipynb\">\n",
    "    <img src=\"https://www.tensorflow.org/images/GitHub-Mark-32px.png\" />\n",
    "    View source on GitHub</a>\n",
    "  </td>\n",
    "  <td>\n",
    "    <a href=\"https://storage.googleapis.com/tensorflow_docs/docs/site/en/tutorials/reinforcement_learning/actor_critic.ipynb\"><img src=\"https://www.tensorflow.org/images/download_logo_32px.png\" />Download notebook</a>\n",
    "  </td>\n",
    "</table>"
   ]
  },
  {
   "cell_type": "markdown",
   "metadata": {
    "id": "kFgN7h_wiUJq"
   },
   "source": [
    "This tutorial demonstrates how to implement the [Actor-Critic](https://papers.nips.cc/paper/1786-actor-critic-algorithms.pdf) method using TensorFlow to train an agent on the [Open AI Gym](https://gym.openai.com/) CartPole-V0 environment.\n",
    "The reader is assumed to have some familiarity with [policy gradient methods](https://papers.nips.cc/paper/1713-policy-gradient-methods-for-reinforcement-learning-with-function-approximation.pdf) of reinforcement learning. \n"
   ]
  },
  {
   "cell_type": "markdown",
   "metadata": {
    "id": "_kA10ZKRR0hi"
   },
   "source": [
    "**Actor-Critic methods**\n",
    "\n",
    "Actor-Critic methods are [temporal difference (TD) learning](https://en.wikipedia.org/wiki/Temporal_difference_learning) methods that represent the policy function independent of the value function. \n",
    "\n",
    "A policy function (or policy) returns a probability distribution over actions that the agent can take based on the given state.\n",
    "A value function determines the expected return for an agent starting at a given state and acting according to a particular policy forever after.\n",
    "\n",
    "In the Actor-Critic method, the policy is referred to as the *actor* that proposes a set of possible actions given a state, and the estimated value function is referred to as the *critic*, which evaluates actions taken by the *actor* based on the given policy.\n",
    "\n",
    "In this tutorial, both the *Actor* and *Critic* will be represented using one neural network with two outputs.\n"
   ]
  },
  {
   "cell_type": "markdown",
   "metadata": {
    "id": "rBfiafKSRs2k"
   },
   "source": [
    "**CartPole-v0**\n",
    "\n",
    "In the [CartPole-v0 environment](https://gym.openai.com/envs/CartPole-v0), a pole is attached to a cart moving along a frictionless track. \n",
    "The pole starts upright and the goal of the agent is to prevent it from falling over by applying a force of -1 or +1 to the cart. \n",
    "A reward of +1 is given for every time step the pole remains upright.\n",
    "An episode ends when (1) the pole is more than 15 degrees from vertical or (2) the cart moves more than 2.4 units from the center.\n",
    "\n",
    "<center>\n",
    "  <figure>\n",
    "    <image src=\"images/cartpole-v0.gif\">\n",
    "    <figcaption>\n",
    "      Trained actor-critic model in Cartpole-v0 environment\n",
    "    </figcaption>\n",
    "  </figure>\n",
    "</center>\n"
   ]
  },
  {
   "cell_type": "markdown",
   "metadata": {
    "id": "XSNVK0AeRoJd"
   },
   "source": [
    "The problem is considered \"solved\" when the average total reward for the episode reaches 195 over 100 consecutive trials."
   ]
  },
  {
   "cell_type": "markdown",
   "metadata": {
    "id": "glLwIctHiUJq"
   },
   "source": [
    "## Setup\n",
    "\n",
    "Import necessary packages and configure global settings.\n"
   ]
  },
  {
   "cell_type": "code",
   "execution_count": 2,
   "metadata": {
    "execution": {
     "iopub.execute_input": "2021-06-16T15:03:32.110797Z",
     "iopub.status.busy": "2021-06-16T15:03:32.110177Z",
     "iopub.status.idle": "2021-06-16T15:03:36.036155Z",
     "shell.execute_reply": "2021-06-16T15:03:36.035529Z"
    },
    "id": "13l6BbxKhCKp"
   },
   "outputs": [
    {
     "name": "stdout",
     "output_type": "stream",
     "text": [
      "Collecting gym\n",
      "  Downloading gym-0.18.3.tar.gz (1.6 MB)\n",
      "\u001b[K     |████████████████████████████████| 1.6 MB 4.3 MB/s \n",
      "\u001b[?25hRequirement already satisfied: scipy in /home/kbuilder/.local/lib/python3.7/site-packages (from gym) (1.6.3)\n",
      "Requirement already satisfied: numpy>=1.10.4 in /tmpfs/src/tf_docs_env/lib/python3.7/site-packages (from gym) (1.19.5)\n",
      "Collecting pyglet<=1.5.15,>=1.4.0\n",
      "  Downloading pyglet-1.5.15-py3-none-any.whl (1.1 MB)\n",
      "\u001b[K     |████████████████████████████████| 1.1 MB 10.7 MB/s \n",
      "\u001b[?25hRequirement already satisfied: Pillow<=8.2.0 in /home/kbuilder/.local/lib/python3.7/site-packages (from gym) (8.2.0)\n",
      "Collecting cloudpickle<1.7.0,>=1.2.0\n",
      "  Downloading cloudpickle-1.6.0-py3-none-any.whl (23 kB)\n",
      "Building wheels for collected packages: gym\n",
      "  Building wheel for gym (setup.py) ... \u001b[?25ldone\n",
      "\u001b[?25h  Created wheel for gym: filename=gym-0.18.3-py3-none-any.whl size=1657533 sha256=727e2235d5ea7a73903ba66954ef21248e84abbe2dfee8f526081dca70c515f3\n",
      "  Stored in directory: /home/kbuilder/.cache/pip/wheels/1a/ec/6d/705d53925f481ab70fd48ec7728558745eeae14dfda3b49c99\n",
      "Successfully built gym\n",
      "Installing collected packages: pyglet, cloudpickle, gym\n",
      "Successfully installed cloudpickle-1.6.0 gym-0.18.3 pyglet-1.5.15\n"
     ]
    }
   ],
   "source": [
    "!pip install gym"
   ]
  },
  {
   "cell_type": "code",
   "execution_count": 3,
   "metadata": {
    "execution": {
     "iopub.execute_input": "2021-06-16T15:03:36.040828Z",
     "iopub.status.busy": "2021-06-16T15:03:36.040250Z",
     "iopub.status.idle": "2021-06-16T15:03:55.109529Z",
     "shell.execute_reply": "2021-06-16T15:03:55.108816Z"
    },
    "id": "WBeQhPi2S4m5"
   },
   "outputs": [],
   "source": [
    "%%bash\n",
    "# Install additional packages for visualization\n",
    "sudo apt-get install -y xvfb python-opengl > /dev/null 2>&1\n",
    "pip install pyvirtualdisplay > /dev/null 2>&1\n",
    "pip install git+https://github.com/tensorflow/docs > /dev/null 2>&1"
   ]
  },
  {
   "cell_type": "code",
   "execution_count": 1,
   "metadata": {
    "execution": {
     "iopub.execute_input": "2021-06-16T15:03:55.115561Z",
     "iopub.status.busy": "2021-06-16T15:03:55.114829Z",
     "iopub.status.idle": "2021-06-16T15:03:56.813338Z",
     "shell.execute_reply": "2021-06-16T15:03:56.812802Z"
    },
    "id": "tT4N3qYviUJr"
   },
   "outputs": [],
   "source": [
    "import collections\n",
    "import gym\n",
    "import numpy as np\n",
    "import statistics\n",
    "import tensorflow as tf\n",
    "import tqdm\n",
    "\n",
    "from matplotlib import pyplot as plt\n",
    "from tensorflow.keras import layers\n",
    "from typing import Any, List, Sequence, Tuple\n",
    "\n",
    "\n",
    "# Create the environment\n",
    "env = gym.make(\"CartPole-v0\")\n",
    "\n",
    "# Set seed for experiment reproducibility\n",
    "seed = 42\n",
    "env.seed(seed)\n",
    "tf.random.set_seed(seed)\n",
    "np.random.seed(seed)\n",
    "\n",
    "# Small epsilon value for stabilizing division operations\n",
    "eps = np.finfo(np.float32).eps.item()"
   ]
  },
  {
   "cell_type": "markdown",
   "metadata": {
    "id": "AOUCe2D0iUJu"
   },
   "source": [
    "## Model\n",
    "\n",
    "The *Actor* and *Critic* will be modeled using one neural network that generates the action probabilities and critic value respectively. This tutorial uses model subclassing to define the model. \n",
    "\n",
    "During the forward pass, the model will take in the state as the input and will output both action probabilities and critic value $V$, which models the state-dependent [value function](https://spinningup.openai.com/en/latest/spinningup/rl_intro.html#value-functions). The goal is to train a model that chooses actions based on a policy $\\pi$ that maximizes expected [return](https://spinningup.openai.com/en/latest/spinningup/rl_intro.html#reward-and-return).\n",
    "\n",
    "For Cartpole-v0, there are four values representing the state: cart position, cart-velocity, pole angle and pole velocity respectively. The agent can take two actions to push the cart left (0) and right (1) respectively.\n",
    "\n",
    "Refer to [OpenAI Gym's CartPole-v0 wiki page](http://www.derongliu.org/adp/adp-cdrom/Barto1983.pdf) for more information.\n"
   ]
  },
  {
   "cell_type": "code",
   "execution_count": 3,
   "metadata": {
    "execution": {
     "iopub.execute_input": "2021-06-16T15:03:56.819537Z",
     "iopub.status.busy": "2021-06-16T15:03:56.818852Z",
     "iopub.status.idle": "2021-06-16T15:03:56.821009Z",
     "shell.execute_reply": "2021-06-16T15:03:56.820549Z"
    },
    "id": "aXKbbMC-kmuv"
   },
   "outputs": [],
   "source": [
    "class ActorCritic(tf.keras.Model):\n",
    "    def __init__(\n",
    "      self, \n",
    "      num_actions: int, \n",
    "      num_hidden_units: int):\n",
    "        super().__init__()\n",
    "\n",
    "        self.common = layers.Dense(num_hidden_units, activation=\"relu\")\n",
    "        self.actor = layers.Dense(num_actions)\n",
    "        self.critic = layers.Dense(1)\n",
    "\n",
    "    def call(self, inputs: tf.Tensor) -> Tuple[tf.Tensor, tf.Tensor]:\n",
    "        x = self.common(inputs)\n",
    "        return self.actor(x), self.critic(x)"
   ]
  },
  {
   "cell_type": "code",
   "execution_count": 4,
   "metadata": {
    "execution": {
     "iopub.execute_input": "2021-06-16T15:03:56.825667Z",
     "iopub.status.busy": "2021-06-16T15:03:56.824118Z",
     "iopub.status.idle": "2021-06-16T15:03:58.392766Z",
     "shell.execute_reply": "2021-06-16T15:03:58.393155Z"
    },
    "id": "nWyxJgjLn68c"
   },
   "outputs": [],
   "source": [
    "num_actions = env.action_space.n  # 2\n",
    "num_hidden_units = 128\n",
    "\n",
    "model = ActorCritic(num_actions, num_hidden_units)"
   ]
  },
  {
   "cell_type": "markdown",
   "metadata": {
    "id": "hk92njFziUJw"
   },
   "source": [
    "## Training\n",
    "\n",
    "To train the agent, you will follow these steps:\n",
    "\n",
    "1. Run the agent on the environment to collect training data per episode.\n",
    "2. Compute expected return at each time step.\n",
    "3. Compute the loss for the combined actor-critic model.\n",
    "4. Compute gradients and update network parameters.\n",
    "5. Repeat 1-4 until either success criterion or max episodes has been reached.\n"
   ]
  },
  {
   "cell_type": "markdown",
   "metadata": {
    "id": "R2nde2XDs8Gh"
   },
   "source": [
    "### 1. Collecting training data\n",
    "\n",
    "As in supervised learning, in order to train the actor-critic model, you need\n",
    "to have training data. However, in order to collect such data, the model would\n",
    "need to be \"run\" in the environment.\n",
    "\n",
    "Training data is collected for each episode. Then at each time step, the model's forward pass will be run on the environment's state in order to generate action probabilities and the critic value based on the current policy parameterized by the model's weights.\n",
    "\n",
    "The next action will be sampled from the action probabilities generated by the model, which would then be applied to the environment, causing the next state and reward to be generated.\n",
    "\n",
    "This process is implemented in the `run_episode` function, which uses TensorFlow operations so that it can later be compiled into a TensorFlow graph for faster training. Note that `tf.TensorArray`s were used to support Tensor iteration on variable length arrays."
   ]
  },
  {
   "cell_type": "code",
   "execution_count": 5,
   "metadata": {
    "execution": {
     "iopub.execute_input": "2021-06-16T15:03:58.398778Z",
     "iopub.status.busy": "2021-06-16T15:03:58.398191Z",
     "iopub.status.idle": "2021-06-16T15:03:58.399964Z",
     "shell.execute_reply": "2021-06-16T15:03:58.400306Z"
    },
    "id": "5URrbGlDSAGx"
   },
   "outputs": [],
   "source": [
    "# Wrap OpenAI Gym's `env.step` call as an operation in a TensorFlow function.\n",
    "# This would allow it to be included in a callable TensorFlow graph.\n",
    "\n",
    "def env_step(action: np.ndarray) -> Tuple[np.ndarray, np.ndarray, np.ndarray]:\n",
    "  \"\"\"Returns state, reward and done flag given an action.\"\"\"\n",
    "\n",
    "  state, reward, done, _ = env.step(action)\n",
    "  return (state.astype(np.float32), \n",
    "          np.array(reward, np.int32), \n",
    "          np.array(done, np.int32))\n",
    "\n",
    "\n",
    "def tf_env_step(action: tf.Tensor) -> List[tf.Tensor]:\n",
    "  return tf.numpy_function(env_step, [action], \n",
    "                           [tf.float32, tf.int32, tf.int32])"
   ]
  },
  {
   "cell_type": "code",
   "execution_count": 6,
   "metadata": {
    "execution": {
     "iopub.execute_input": "2021-06-16T15:03:58.407284Z",
     "iopub.status.busy": "2021-06-16T15:03:58.406713Z",
     "iopub.status.idle": "2021-06-16T15:03:58.408542Z",
     "shell.execute_reply": "2021-06-16T15:03:58.408896Z"
    },
    "id": "a4qVRV063Cl9"
   },
   "outputs": [],
   "source": [
    "def run_episode(\n",
    "    initial_state: tf.Tensor,  \n",
    "    model: tf.keras.Model, \n",
    "    max_steps: int) -> Tuple[tf.Tensor, tf.Tensor, tf.Tensor]:\n",
    "  \"\"\"Runs a single episode to collect training data.\"\"\"\n",
    "\n",
    "  action_probs = tf.TensorArray(dtype=tf.float32, size=0, dynamic_size=True)\n",
    "  values = tf.TensorArray(dtype=tf.float32, size=0, dynamic_size=True)\n",
    "  rewards = tf.TensorArray(dtype=tf.int32, size=0, dynamic_size=True)\n",
    "\n",
    "  initial_state_shape = initial_state.shape\n",
    "  state = initial_state\n",
    "\n",
    "  for t in tf.range(max_steps):\n",
    "    # Convert state into a batched tensor (batch size = 1)\n",
    "    state = tf.expand_dims(state, 0)\n",
    "  \n",
    "    # Run the model and to get action probabilities and critic value\n",
    "    action_logits_t, value = model(state)\n",
    "  \n",
    "    # Sample next action from the action probability distribution\n",
    "    action = tf.random.categorical(action_logits_t, 1)[0, 0]\n",
    "    action_probs_t = tf.nn.softmax(action_logits_t)\n",
    "\n",
    "    # Store critic values\n",
    "    values = values.write(t, tf.squeeze(value))\n",
    "\n",
    "    # Store log probability of the action chosen\n",
    "    action_probs = action_probs.write(t, action_probs_t[0, action])\n",
    "  \n",
    "    # Apply action to the environment to get next state and reward\n",
    "    state, reward, done = tf_env_step(action)\n",
    "    state.set_shape(initial_state_shape)\n",
    "  \n",
    "    # Store reward\n",
    "    rewards = rewards.write(t, reward)\n",
    "\n",
    "    if tf.cast(done, tf.bool):\n",
    "      break\n",
    "\n",
    "  action_probs = action_probs.stack()\n",
    "  values = values.stack()\n",
    "  rewards = rewards.stack()\n",
    "  \n",
    "  return action_probs, values, rewards"
   ]
  },
  {
   "cell_type": "markdown",
   "metadata": {
    "id": "lBnIHdz22dIx"
   },
   "source": [
    "### 2. Computing expected returns\n",
    "\n",
    "The sequence of rewards for each timestep $t$, $\\{r_{t}\\}^{T}_{t=1}$ collected during one episode is converted into a sequence of expected returns $\\{G_{t}\\}^{T}_{t=1}$ in which the sum of rewards is taken from the current timestep $t$ to $T$ and each reward is multiplied with an exponentially decaying discount factor $\\gamma$:\n",
    "\n",
    "$$G_{t} = \\sum^{T}_{t'=t} \\gamma^{t'-t}r_{t'}$$\n",
    "\n",
    "Since $\\gamma\\in(0,1)$, rewards further out from the current timestep are given less weight.\n",
    "\n",
    "Intuitively, expected return simply implies that rewards now are better than rewards later. In a mathematical sense, it is to ensure that the sum of the rewards converges.\n",
    "\n",
    "To stabilize training, the resulting sequence of returns is also standardized (i.e. to have zero mean and unit standard deviation).\n"
   ]
  },
  {
   "cell_type": "code",
   "execution_count": 7,
   "metadata": {
    "execution": {
     "iopub.execute_input": "2021-06-16T15:03:58.414659Z",
     "iopub.status.busy": "2021-06-16T15:03:58.414062Z",
     "iopub.status.idle": "2021-06-16T15:03:58.415720Z",
     "shell.execute_reply": "2021-06-16T15:03:58.416069Z"
    },
    "id": "jpEwFyl315dl"
   },
   "outputs": [],
   "source": [
    "def get_expected_return(\n",
    "    rewards: tf.Tensor, \n",
    "    gamma: float, \n",
    "    standardize: bool = True) -> tf.Tensor:\n",
    "  \"\"\"Compute expected returns per timestep.\"\"\"\n",
    "\n",
    "  n = tf.shape(rewards)[0]\n",
    "  returns = tf.TensorArray(dtype=tf.float32, size=n)\n",
    "\n",
    "  # Start from the end of `rewards` and accumulate reward sums\n",
    "  # into the `returns` array\n",
    "  rewards = tf.cast(rewards[::-1], dtype=tf.float32)\n",
    "  discounted_sum = tf.constant(0.0)\n",
    "  discounted_sum_shape = discounted_sum.shape\n",
    "  for i in tf.range(n):\n",
    "    reward = rewards[i]\n",
    "    discounted_sum = reward + gamma * discounted_sum\n",
    "    discounted_sum.set_shape(discounted_sum_shape)\n",
    "    returns = returns.write(i, discounted_sum)\n",
    "  returns = returns.stack()[::-1]\n",
    "\n",
    "  if standardize:\n",
    "    returns = ((returns - tf.math.reduce_mean(returns)) / \n",
    "               (tf.math.reduce_std(returns) + eps))\n",
    "\n",
    "  return returns"
   ]
  },
  {
   "cell_type": "markdown",
   "metadata": {
    "id": "1hrPLrgGxlvb"
   },
   "source": [
    "### 3. The actor-critic loss\n",
    "\n",
    "Since a hybrid actor-critic model is used, the chosen loss function is a combination of actor and critic losses for training, as shown below:\n",
    "\n",
    "$$L = L_{actor} + L_{critic}$$\n",
    "\n",
    "#### Actor loss\n",
    "\n",
    "The actor loss is based on [policy gradients with the critic as a state dependent baseline](https://www.youtube.com/watch?v=EKqxumCuAAY&t=62m23s) and computed with single-sample (per-episode) estimates.\n",
    "\n",
    "$$L_{actor} = -\\sum^{T}_{t=1} log\\pi_{\\theta}(a_{t} | s_{t})[G(s_{t}, a_{t})  - V^{\\pi}_{\\theta}(s_{t})]$$\n",
    "\n",
    "where:\n",
    "- $T$: the number of timesteps per episode, which can vary per episode\n",
    "- $s_{t}$: the state at timestep $t$\n",
    "- $a_{t}$: chosen action at timestep $t$ given state $s$\n",
    "- $\\pi_{\\theta}$: is the policy (actor) parameterized by $\\theta$\n",
    "- $V^{\\pi}_{\\theta}$: is the value function (critic) also parameterized by $\\theta$\n",
    "- $G = G_{t}$: the expected return for a given state, action pair at timestep $t$\n",
    "\n",
    "A negative term is added to the sum since the idea is to maximize the probabilities of actions yielding higher rewards by minimizing the combined loss.\n",
    "\n",
    "<br>\n",
    "\n",
    "##### Advantage\n",
    "\n",
    "The $G - V$ term in our $L_{actor}$ formulation is called the [advantage](https://spinningup.openai.com/en/latest/spinningup/rl_intro.html#advantage-functions), which indicates how much better an action is given a particular state over a random action selected according to the policy $\\pi$ for that state.\n",
    "\n",
    "While it's possible to exclude a baseline, this may result in high variance during training. And the nice thing about choosing the critic $V$ as a baseline is that it trained to be as close as possible to $G$, leading to a lower variance.\n",
    "\n",
    "In addition, without the critic, the algorithm would try to increase probabilities for actions taken on a particular state based on expected return, which may not make much of a difference if the relative probabilities between actions remain the same.\n",
    "\n",
    "For instance, suppose that two actions for a given state would yield the same expected return. Without the critic, the algorithm would try to raise the probability of these actions based on the objective $J$. With the critic, it may turn out that there's no advantage ($G - V = 0$) and thus no benefit gained in increasing the actions' probabilities and the algorithm would set the gradients to zero.\n",
    "\n",
    "<br>\n",
    "\n",
    "#### Critic loss\n",
    "\n",
    "Training $V$ to be as close possible to $G$ can be set up as a regression problem with the following loss function:\n",
    "\n",
    "$$L_{critic} = L_{\\delta}(G, V^{\\pi}_{\\theta})$$\n",
    "\n",
    "where $L_{\\delta}$ is the [Huber loss](https://en.wikipedia.org/wiki/Huber_loss), which is less sensitive to outliers in data than squared-error loss.\n"
   ]
  },
  {
   "cell_type": "code",
   "execution_count": 14,
   "metadata": {
    "execution": {
     "iopub.execute_input": "2021-06-16T15:03:58.420510Z",
     "iopub.status.busy": "2021-06-16T15:03:58.419951Z",
     "iopub.status.idle": "2021-06-16T15:03:58.421856Z",
     "shell.execute_reply": "2021-06-16T15:03:58.422199Z"
    },
    "id": "9EXwbEez6n9m"
   },
   "outputs": [],
   "source": [
    "huber_loss = tf.keras.losses.Huber(reduction=tf.keras.losses.Reduction.SUM)\n",
    "\n",
    "def compute_loss(\n",
    "    action_probs: tf.Tensor,  \n",
    "    values: tf.Tensor,  \n",
    "    returns: tf.Tensor) -> tf.Tensor:\n",
    "  \"\"\"Computes the combined actor-critic loss.\"\"\"\n",
    "\n",
    "  advantage = returns - values\n",
    "\n",
    "  action_log_probs = tf.math.log(action_probs)\n",
    "  print(\"action_log_probs ) is \", action_log_probs)\n",
    "  print(\"advantage ) is \", advantage)\n",
    "  actor_loss = -tf.math.reduce_sum(action_log_probs * advantage)\n",
    "\n",
    "  critic_loss = huber_loss(values, returns)\n",
    "\n",
    "  return actor_loss + critic_loss"
   ]
  },
  {
   "cell_type": "markdown",
   "metadata": {
    "id": "HSYkQOmRfV75"
   },
   "source": [
    "### 4. Defining the training step to update parameters\n",
    "\n",
    "All of the steps above are combined into a training step that is run every episode. All steps leading up to the loss function are executed with the `tf.GradientTape` context to enable automatic differentiation.\n",
    "\n",
    "This tutorial uses the Adam optimizer to apply the gradients to the model parameters.\n",
    "\n",
    "The sum of the undiscounted rewards, `episode_reward`, is also computed in this step. This value will be used later on to evaluate if the success criterion is met.\n",
    "\n",
    "The `tf.function` context is applied to the `train_step` function so that it can be compiled into a callable TensorFlow graph, which can lead to 10x speedup in training.\n"
   ]
  },
  {
   "cell_type": "code",
   "execution_count": 15,
   "metadata": {
    "execution": {
     "iopub.execute_input": "2021-06-16T15:03:58.428189Z",
     "iopub.status.busy": "2021-06-16T15:03:58.427588Z",
     "iopub.status.idle": "2021-06-16T15:03:58.429275Z",
     "shell.execute_reply": "2021-06-16T15:03:58.429616Z"
    },
    "id": "QoccrkF3IFCg"
   },
   "outputs": [],
   "source": [
    "optimizer = tf.keras.optimizers.Adam(learning_rate=0.01)\n",
    "\n",
    "\n",
    "@tf.function\n",
    "def train_step(\n",
    "    initial_state: tf.Tensor, \n",
    "    model: tf.keras.Model, \n",
    "    optimizer: tf.keras.optimizers.Optimizer, \n",
    "    gamma: float, \n",
    "    max_steps_per_episode: int) -> tf.Tensor:\n",
    "  \"\"\"Runs a model training step.\"\"\"\n",
    "\n",
    "  with tf.GradientTape() as tape:\n",
    "\n",
    "    # Run the model for one episode to collect training data\n",
    "    action_probs, values, rewards = run_episode(\n",
    "        initial_state, model, max_steps_per_episode) \n",
    "\n",
    "    # Calculate expected returns\n",
    "    returns = get_expected_return(rewards, gamma)\n",
    "\n",
    "    # Convert training data to appropriate TF tensor shapes\n",
    "    action_probs, values, returns = [\n",
    "        tf.expand_dims(x, 1) for x in [action_probs, values, returns]] \n",
    "\n",
    "    # Calculating loss values to update our network\n",
    "    loss = compute_loss(action_probs, values, returns)\n",
    "\n",
    "  # Compute the gradients from the loss\n",
    "  grads = tape.gradient(loss, model.trainable_variables)\n",
    "\n",
    "  # Apply the gradients to the model's parameters\n",
    "  optimizer.apply_gradients(zip(grads, model.trainable_variables))\n",
    "\n",
    "  episode_reward = tf.math.reduce_sum(rewards)\n",
    "\n",
    "  return episode_reward"
   ]
  },
  {
   "cell_type": "markdown",
   "metadata": {
    "id": "HFvZiDoAflGK"
   },
   "source": [
    "### 5. Run the training loop\n",
    "\n",
    "Training is executed by running the training step until either the success criterion or maximum number of episodes is reached.  \n",
    "\n",
    "A running record of episode rewards is kept in a queue. Once 100 trials are reached, the oldest reward is removed at the left (tail) end of the queue and the newest one is added at the head (right). A running sum of the rewards is also maintained for computational efficiency. \n",
    "\n",
    "Depending on your runtime, training can finish in less than a minute."
   ]
  },
  {
   "cell_type": "code",
   "execution_count": 17,
   "metadata": {
    "execution": {
     "iopub.execute_input": "2021-06-16T15:03:58.434380Z",
     "iopub.status.busy": "2021-06-16T15:03:58.433810Z",
     "iopub.status.idle": "2021-06-16T15:05:13.702979Z",
     "shell.execute_reply": "2021-06-16T15:05:13.703412Z"
    },
    "id": "kbmBxnzLiUJx"
   },
   "outputs": [
    {
     "name": "stderr",
     "output_type": "stream",
     "text": [
      "Episode 100:   1%| | 100/10000 [00:29<48:57,  3.37it/s, episode_reward=200, run\n"
     ]
    },
    {
     "name": "stdout",
     "output_type": "stream",
     "text": [
      "\n",
      "Solved at episode 100: average reward: 198.50!\n",
      "Wall time: 30.8 s\n",
      "Parser   : 255 ms\n"
     ]
    }
   ],
   "source": [
    "%%time\n",
    "\n",
    "min_episodes_criterion = 100\n",
    "max_episodes = 10000\n",
    "max_steps_per_episode = 1000\n",
    "\n",
    "# Cartpole-v0 is considered solved if average reward is >= 195 over 100 \n",
    "# consecutive trials\n",
    "reward_threshold = 195\n",
    "running_reward = 0\n",
    "\n",
    "# Discount factor for future rewards\n",
    "gamma = 0.99\n",
    "\n",
    "# Keep last episodes reward\n",
    "episodes_reward: collections.deque = collections.deque(maxlen=min_episodes_criterion)\n",
    "\n",
    "with tqdm.trange(max_episodes) as t:\n",
    "  for i in t:\n",
    "    initial_state = tf.constant(env.reset(), dtype=tf.float32)\n",
    "    episode_reward = int(train_step(\n",
    "        initial_state, model, optimizer, gamma, max_steps_per_episode))\n",
    "    \n",
    "    episodes_reward.append(episode_reward)\n",
    "    running_reward = statistics.mean(episodes_reward)\n",
    "    env.render()\n",
    "  \n",
    "    t.set_description(f'Episode {i}')\n",
    "    t.set_postfix(\n",
    "        episode_reward=episode_reward, running_reward=running_reward)\n",
    "  \n",
    "    # Show average episode reward every 10 episodes\n",
    "    if i % 10 == 0:\n",
    "      pass # print(f'Episode {i}: average reward: {avg_reward}')\n",
    "  \n",
    "    if running_reward > reward_threshold and i >= min_episodes_criterion:  \n",
    "        break\n",
    "\n",
    "print(f'\\nSolved at episode {i}: average reward: {running_reward:.2f}!')"
   ]
  },
  {
   "cell_type": "markdown",
   "metadata": {
    "id": "ru8BEwS1EmAv"
   },
   "source": [
    "## Visualization\n",
    "\n",
    "After training, it would be good to visualize how the model performs in the environment. You can run the cells below to generate a GIF animation of one episode run of the model. Note that additional packages need to be installed for OpenAI Gym to render the environment's images correctly in Colab."
   ]
  },
  {
   "cell_type": "code",
   "execution_count": 13,
   "metadata": {
    "execution": {
     "iopub.execute_input": "2021-06-16T15:05:13.711044Z",
     "iopub.status.busy": "2021-06-16T15:05:13.710457Z",
     "iopub.status.idle": "2021-06-16T15:05:15.744072Z",
     "shell.execute_reply": "2021-06-16T15:05:15.744478Z"
    },
    "id": "qbIMMkfmRHyC"
   },
   "outputs": [],
   "source": [
    "# Render an episode and save as a GIF file\n",
    "\n",
    "from IPython import display as ipythondisplay\n",
    "from PIL import Image\n",
    "from pyvirtualdisplay import Display\n",
    "\n",
    "\n",
    "display = Display(visible=0, size=(400, 300))\n",
    "display.start()\n",
    "\n",
    "\n",
    "def render_episode(env: gym.Env, model: tf.keras.Model, max_steps: int): \n",
    "  screen = env.render(mode='rgb_array')\n",
    "  im = Image.fromarray(screen)\n",
    "\n",
    "  images = [im]\n",
    "  \n",
    "  state = tf.constant(env.reset(), dtype=tf.float32)\n",
    "  for i in range(1, max_steps + 1):\n",
    "    state = tf.expand_dims(state, 0)\n",
    "    action_probs, _ = model(state)\n",
    "    action = np.argmax(np.squeeze(action_probs))\n",
    "\n",
    "    state, _, done, _ = env.step(action)\n",
    "    state = tf.constant(state, dtype=tf.float32)\n",
    "\n",
    "    # Render screen every 10 steps\n",
    "    if i % 10 == 0:\n",
    "      screen = env.render(mode='rgb_array')\n",
    "      images.append(Image.fromarray(screen))\n",
    "  \n",
    "    if done:\n",
    "      break\n",
    "  \n",
    "  return images\n",
    "\n",
    "\n",
    "# Save GIF image\n",
    "images = render_episode(env, model, max_steps_per_episode)\n",
    "image_file = 'cartpole-v0.gif'\n",
    "# loop=0: loop forever, duration=1: play each frame for 1ms\n",
    "images[0].save(\n",
    "    image_file, save_all=True, append_images=images[1:], loop=0, duration=1)"
   ]
  },
  {
   "cell_type": "code",
   "execution_count": 14,
   "metadata": {
    "execution": {
     "iopub.execute_input": "2021-06-16T15:05:15.748593Z",
     "iopub.status.busy": "2021-06-16T15:05:15.748040Z",
     "iopub.status.idle": "2021-06-16T15:05:15.767630Z",
     "shell.execute_reply": "2021-06-16T15:05:15.768053Z"
    },
    "id": "TLd720SejKmf"
   },
   "outputs": [
    {
     "data": {
      "text/html": [
       "<img src=\"data:image/gif;base64,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\"/>"
      ],
      "text/plain": [
       "<IPython.core.display.HTML object>"
      ]
     },
     "execution_count": 1,
     "metadata": {},
     "output_type": "execute_result"
    }
   ],
   "source": [
    "import tensorflow_docs.vis.embed as embed\n",
    "embed.embed_file(image_file)"
   ]
  },
  {
   "cell_type": "markdown",
   "metadata": {
    "id": "lnq9Hzo1Po6X"
   },
   "source": [
    "## Next steps\n",
    "\n",
    "This tutorial demonstrated how to implement the actor-critic method using Tensorflow.\n",
    "\n",
    "As a next step, you could try training a model on a different environment in OpenAI Gym. \n",
    "\n",
    "For additional information regarding actor-critic methods and the Cartpole-v0 problem, you may refer to the following resources:\n",
    "\n",
    "- [Actor Critic Method](https://hal.inria.fr/hal-00840470/document)\n",
    "- [Actor Critic Lecture (CAL)](https://www.youtube.com/watch?v=EKqxumCuAAY&list=PLkFD6_40KJIwhWJpGazJ9VSj9CFMkb79A&index=7&t=0s)\n",
    "- [Cartpole learning control problem \\[Barto, et al. 1983\\]](http://www.derongliu.org/adp/adp-cdrom/Barto1983.pdf) \n",
    "\n",
    "For more reinforcement learning examples in TensorFlow, you can check the following resources:\n",
    "- [Reinforcement learning code examples (keras.io)](https://keras.io/examples/rl/)\n",
    "- [TF-Agents reinforcement learning library](https://www.tensorflow.org/agents)\n"
   ]
  }
 ],
 "metadata": {
  "colab": {
   "collapsed_sections": [
    "_jQ1tEQCxwRx"
   ],
   "name": "actor_critic.ipynb",
   "toc_visible": true
  },
  "kernelspec": {
   "display_name": "Python 3",
   "language": "python",
   "name": "python3"
  },
  "language_info": {
   "codemirror_mode": {
    "name": "ipython",
    "version": 3
   },
   "file_extension": ".py",
   "mimetype": "text/x-python",
   "name": "python",
   "nbconvert_exporter": "python",
   "pygments_lexer": "ipython3",
   "version": "3.6.5"
  }
 },
 "nbformat": 4,
 "nbformat_minor": 2
}
