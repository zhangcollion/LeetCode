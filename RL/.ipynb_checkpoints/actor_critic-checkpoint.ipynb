{
 "cells": [
  {
   "cell_type": "markdown",
   "metadata": {
    "id": "_jQ1tEQCxwRx"
   },
   "source": [
    "##### Copyright 2020 The TensorFlow Authors."
   ]
  },
  {
   "cell_type": "code",
   "execution_count": 1,
   "metadata": {
    "cellView": "form",
    "execution": {
     "iopub.execute_input": "2021-06-16T15:03:32.101821Z",
     "iopub.status.busy": "2021-06-16T15:03:32.101058Z",
     "iopub.status.idle": "2021-06-16T15:03:32.103505Z",
     "shell.execute_reply": "2021-06-16T15:03:32.102849Z"
    },
    "id": "V_sgB_5dx1f1"
   },
   "outputs": [],
   "source": [
    "#@title Licensed under the Apache License, Version 2.0 (the \"License\");\n",
    "# you may not use this file except in compliance with the License.\n",
    "# You may obtain a copy of the License at\n",
    "#\n",
    "# https://www.apache.org/licenses/LICENSE-2.0\n",
    "#\n",
    "# Unless required by applicable law or agreed to in writing, software\n",
    "# distributed under the License is distributed on an \"AS IS\" BASIS,\n",
    "# WITHOUT WARRANTIES OR CONDITIONS OF ANY KIND, either express or implied.\n",
    "# See the License for the specific language governing permissions and\n",
    "# limitations under the License."
   ]
  },
  {
   "cell_type": "markdown",
   "metadata": {
    "id": "p62G8M_viUJp"
   },
   "source": [
    "# Playing CartPole with the Actor-Critic Method\n"
   ]
  },
  {
   "cell_type": "markdown",
   "metadata": {
    "id": "-mJ2i6jvZ3sK"
   },
   "source": [
    "<table class=\"tfo-notebook-buttons\" align=\"left\">\n",
    "  <td>\n",
    "    <a target=\"_blank\" href=\"https://www.tensorflow.org/tutorials/reinforcement_learning/actor_critic\">\n",
    "    <img src=\"https://www.tensorflow.org/images/tf_logo_32px.png\" />\n",
    "    View on TensorFlow.org</a>\n",
    "  </td>\n",
    "  <td>\n",
    "    <a target=\"_blank\" href=\"https://colab.research.google.com/github/tensorflow/docs/blob/master/site/en/tutorials/reinforcement_learning/actor_critic.ipynb\">\n",
    "    <img src=\"https://www.tensorflow.org/images/colab_logo_32px.png\" />\n",
    "    Run in Google Colab</a>\n",
    "  </td>\n",
    "  <td>\n",
    "    <a target=\"_blank\" href=\"https://github.com/tensorflow/docs/blob/master/site/en/tutorials/reinforcement_learning/actor_critic.ipynb\">\n",
    "    <img src=\"https://www.tensorflow.org/images/GitHub-Mark-32px.png\" />\n",
    "    View source on GitHub</a>\n",
    "  </td>\n",
    "  <td>\n",
    "    <a href=\"https://storage.googleapis.com/tensorflow_docs/docs/site/en/tutorials/reinforcement_learning/actor_critic.ipynb\"><img src=\"https://www.tensorflow.org/images/download_logo_32px.png\" />Download notebook</a>\n",
    "  </td>\n",
    "</table>"
   ]
  },
  {
   "cell_type": "markdown",
   "metadata": {
    "id": "kFgN7h_wiUJq"
   },
   "source": [
    "This tutorial demonstrates how to implement the [Actor-Critic](https://papers.nips.cc/paper/1786-actor-critic-algorithms.pdf) method using TensorFlow to train an agent on the [Open AI Gym](https://gym.openai.com/) CartPole-V0 environment.\n",
    "The reader is assumed to have some familiarity with [policy gradient methods](https://papers.nips.cc/paper/1713-policy-gradient-methods-for-reinforcement-learning-with-function-approximation.pdf) of reinforcement learning. \n"
   ]
  },
  {
   "cell_type": "markdown",
   "metadata": {
    "id": "_kA10ZKRR0hi"
   },
   "source": [
    "**Actor-Critic methods**\n",
    "\n",
    "Actor-Critic methods are [temporal difference (TD) learning](https://en.wikipedia.org/wiki/Temporal_difference_learning) methods that represent the policy function independent of the value function. \n",
    "\n",
    "A policy function (or policy) returns a probability distribution over actions that the agent can take based on the given state.\n",
    "A value function determines the expected return for an agent starting at a given state and acting according to a particular policy forever after.\n",
    "\n",
    "In the Actor-Critic method, the policy is referred to as the *actor* that proposes a set of possible actions given a state, and the estimated value function is referred to as the *critic*, which evaluates actions taken by the *actor* based on the given policy.\n",
    "\n",
    "In this tutorial, both the *Actor* and *Critic* will be represented using one neural network with two outputs.\n"
   ]
  },
  {
   "cell_type": "markdown",
   "metadata": {
    "id": "rBfiafKSRs2k"
   },
   "source": [
    "**CartPole-v0**\n",
    "\n",
    "In the [CartPole-v0 environment](https://gym.openai.com/envs/CartPole-v0), a pole is attached to a cart moving along a frictionless track. \n",
    "The pole starts upright and the goal of the agent is to prevent it from falling over by applying a force of -1 or +1 to the cart. \n",
    "A reward of +1 is given for every time step the pole remains upright.\n",
    "An episode ends when (1) the pole is more than 15 degrees from vertical or (2) the cart moves more than 2.4 units from the center.\n",
    "\n",
    "<center>\n",
    "  <figure>\n",
    "    <image src=\"images/cartpole-v0.gif\">\n",
    "    <figcaption>\n",
    "      Trained actor-critic model in Cartpole-v0 environment\n",
    "    </figcaption>\n",
    "  </figure>\n",
    "</center>\n"
   ]
  },
  {
   "cell_type": "markdown",
   "metadata": {
    "id": "XSNVK0AeRoJd"
   },
   "source": [
    "The problem is considered \"solved\" when the average total reward for the episode reaches 195 over 100 consecutive trials."
   ]
  },
  {
   "cell_type": "markdown",
   "metadata": {
    "id": "glLwIctHiUJq"
   },
   "source": [
    "## Setup\n",
    "\n",
    "Import necessary packages and configure global settings.\n"
   ]
  },
  {
   "cell_type": "code",
   "execution_count": 2,
   "metadata": {
    "execution": {
     "iopub.execute_input": "2021-06-16T15:03:32.110797Z",
     "iopub.status.busy": "2021-06-16T15:03:32.110177Z",
     "iopub.status.idle": "2021-06-16T15:03:36.036155Z",
     "shell.execute_reply": "2021-06-16T15:03:36.035529Z"
    },
    "id": "13l6BbxKhCKp"
   },
   "outputs": [
    {
     "name": "stdout",
     "output_type": "stream",
     "text": [
      "Collecting gym\r\n"
     ]
    },
    {
     "name": "stdout",
     "output_type": "stream",
     "text": [
      "  Downloading gym-0.18.3.tar.gz (1.6 MB)\r\n",
      "\u001b[?25l\r",
      "\u001b[K     |▏                               | 10 kB 28.4 MB/s eta 0:00:01\r",
      "\u001b[K     |▍                               | 20 kB 8.8 MB/s eta 0:00:01\r",
      "\u001b[K     |▋                               | 30 kB 7.8 MB/s eta 0:00:01"
     ]
    },
    {
     "name": "stdout",
     "output_type": "stream",
     "text": [
      "\r",
      "\u001b[K     |▉                               | 40 kB 3.6 MB/s eta 0:00:01\r",
      "\u001b[K     |█                               | 51 kB 4.2 MB/s eta 0:00:01\r",
      "\u001b[K     |█▎                              | 61 kB 4.4 MB/s eta 0:00:01\r",
      "\u001b[K     |█▌                              | 71 kB 4.6 MB/s eta 0:00:01\r",
      "\u001b[K     |█▋                              | 81 kB 5.0 MB/s eta 0:00:01\r",
      "\u001b[K     |█▉                              | 92 kB 5.1 MB/s eta 0:00:01\r",
      "\u001b[K     |██                              | 102 kB 4.3 MB/s eta 0:00:01\r",
      "\u001b[K     |██▎                             | 112 kB 4.3 MB/s eta 0:00:01\r",
      "\u001b[K     |██▌                             | 122 kB 4.3 MB/s eta 0:00:01\r",
      "\u001b[K     |██▊                             | 133 kB 4.3 MB/s eta 0:00:01\r",
      "\u001b[K     |███                             | 143 kB 4.3 MB/s eta 0:00:01\r",
      "\u001b[K     |███▏                            | 153 kB 4.3 MB/s eta 0:00:01\r",
      "\u001b[K     |███▎                            | 163 kB 4.3 MB/s eta 0:00:01\r",
      "\u001b[K     |███▌                            | 174 kB 4.3 MB/s eta 0:00:01\r",
      "\u001b[K     |███▊                            | 184 kB 4.3 MB/s eta 0:00:01\r",
      "\u001b[K     |████                            | 194 kB 4.3 MB/s eta 0:00:01\r",
      "\u001b[K     |████▏                           | 204 kB 4.3 MB/s eta 0:00:01\r",
      "\u001b[K     |████▍                           | 215 kB 4.3 MB/s eta 0:00:01\r",
      "\u001b[K     |████▋                           | 225 kB 4.3 MB/s eta 0:00:01\r",
      "\u001b[K     |████▉                           | 235 kB 4.3 MB/s eta 0:00:01\r",
      "\u001b[K     |█████                           | 245 kB 4.3 MB/s eta 0:00:01\r",
      "\u001b[K     |█████▏                          | 256 kB 4.3 MB/s eta 0:00:01\r",
      "\u001b[K     |█████▍                          | 266 kB 4.3 MB/s eta 0:00:01\r",
      "\u001b[K     |█████▋                          | 276 kB 4.3 MB/s eta 0:00:01\r",
      "\u001b[K     |█████▉                          | 286 kB 4.3 MB/s eta 0:00:01\r",
      "\u001b[K     |██████                          | 296 kB 4.3 MB/s eta 0:00:01\r",
      "\u001b[K     |██████▎                         | 307 kB 4.3 MB/s eta 0:00:01\r",
      "\u001b[K     |██████▌                         | 317 kB 4.3 MB/s eta 0:00:01\r",
      "\u001b[K     |██████▋                         | 327 kB 4.3 MB/s eta 0:00:01\r",
      "\u001b[K     |██████▉                         | 337 kB 4.3 MB/s eta 0:00:01\r",
      "\u001b[K     |███████                         | 348 kB 4.3 MB/s eta 0:00:01"
     ]
    },
    {
     "name": "stdout",
     "output_type": "stream",
     "text": [
      "\r",
      "\u001b[K     |███████▎                        | 358 kB 4.3 MB/s eta 0:00:01\r",
      "\u001b[K     |███████▌                        | 368 kB 4.3 MB/s eta 0:00:01\r",
      "\u001b[K     |███████▊                        | 378 kB 4.3 MB/s eta 0:00:01\r",
      "\u001b[K     |████████                        | 389 kB 4.3 MB/s eta 0:00:01\r",
      "\u001b[K     |████████▏                       | 399 kB 4.3 MB/s eta 0:00:01\r",
      "\u001b[K     |████████▎                       | 409 kB 4.3 MB/s eta 0:00:01\r",
      "\u001b[K     |████████▌                       | 419 kB 4.3 MB/s eta 0:00:01\r",
      "\u001b[K     |████████▊                       | 430 kB 4.3 MB/s eta 0:00:01\r",
      "\u001b[K     |█████████                       | 440 kB 4.3 MB/s eta 0:00:01\r",
      "\u001b[K     |█████████▏                      | 450 kB 4.3 MB/s eta 0:00:01\r",
      "\u001b[K     |█████████▍                      | 460 kB 4.3 MB/s eta 0:00:01\r",
      "\u001b[K     |█████████▋                      | 471 kB 4.3 MB/s eta 0:00:01\r",
      "\u001b[K     |█████████▉                      | 481 kB 4.3 MB/s eta 0:00:01\r",
      "\u001b[K     |██████████                      | 491 kB 4.3 MB/s eta 0:00:01\r",
      "\u001b[K     |██████████▏                     | 501 kB 4.3 MB/s eta 0:00:01\r",
      "\u001b[K     |██████████▍                     | 512 kB 4.3 MB/s eta 0:00:01\r",
      "\u001b[K     |██████████▋                     | 522 kB 4.3 MB/s eta 0:00:01\r",
      "\u001b[K     |██████████▉                     | 532 kB 4.3 MB/s eta 0:00:01\r",
      "\u001b[K     |███████████                     | 542 kB 4.3 MB/s eta 0:00:01\r",
      "\u001b[K     |███████████▎                    | 552 kB 4.3 MB/s eta 0:00:01\r",
      "\u001b[K     |███████████▌                    | 563 kB 4.3 MB/s eta 0:00:01\r",
      "\u001b[K     |███████████▋                    | 573 kB 4.3 MB/s eta 0:00:01\r",
      "\u001b[K     |███████████▉                    | 583 kB 4.3 MB/s eta 0:00:01\r",
      "\u001b[K     |████████████                    | 593 kB 4.3 MB/s eta 0:00:01\r",
      "\u001b[K     |████████████▎                   | 604 kB 4.3 MB/s eta 0:00:01\r",
      "\u001b[K     |████████████▌                   | 614 kB 4.3 MB/s eta 0:00:01\r",
      "\u001b[K     |████████████▊                   | 624 kB 4.3 MB/s eta 0:00:01\r",
      "\u001b[K     |█████████████                   | 634 kB 4.3 MB/s eta 0:00:01\r",
      "\u001b[K     |█████████████                   | 645 kB 4.3 MB/s eta 0:00:01\r",
      "\u001b[K     |█████████████▎                  | 655 kB 4.3 MB/s eta 0:00:01\r",
      "\u001b[K     |█████████████▌                  | 665 kB 4.3 MB/s eta 0:00:01\r",
      "\u001b[K     |█████████████▊                  | 675 kB 4.3 MB/s eta 0:00:01\r",
      "\u001b[K     |██████████████                  | 686 kB 4.3 MB/s eta 0:00:01\r",
      "\u001b[K     |██████████████▏                 | 696 kB 4.3 MB/s eta 0:00:01\r",
      "\u001b[K     |██████████████▍                 | 706 kB 4.3 MB/s eta 0:00:01\r",
      "\u001b[K     |██████████████▋                 | 716 kB 4.3 MB/s eta 0:00:01\r",
      "\u001b[K     |██████████████▊                 | 727 kB 4.3 MB/s eta 0:00:01\r",
      "\u001b[K     |███████████████                 | 737 kB 4.3 MB/s eta 0:00:01\r",
      "\u001b[K     |███████████████▏                | 747 kB 4.3 MB/s eta 0:00:01"
     ]
    },
    {
     "name": "stdout",
     "output_type": "stream",
     "text": [
      "\r",
      "\u001b[K     |███████████████▍                | 757 kB 4.3 MB/s eta 0:00:01\r",
      "\u001b[K     |███████████████▋                | 768 kB 4.3 MB/s eta 0:00:01\r",
      "\u001b[K     |███████████████▉                | 778 kB 4.3 MB/s eta 0:00:01\r",
      "\u001b[K     |████████████████                | 788 kB 4.3 MB/s eta 0:00:01\r",
      "\u001b[K     |████████████████▎               | 798 kB 4.3 MB/s eta 0:00:01\r",
      "\u001b[K     |████████████████▍               | 808 kB 4.3 MB/s eta 0:00:01\r",
      "\u001b[K     |████████████████▋               | 819 kB 4.3 MB/s eta 0:00:01\r",
      "\u001b[K     |████████████████▉               | 829 kB 4.3 MB/s eta 0:00:01\r",
      "\u001b[K     |█████████████████               | 839 kB 4.3 MB/s eta 0:00:01\r",
      "\u001b[K     |█████████████████▎              | 849 kB 4.3 MB/s eta 0:00:01\r",
      "\u001b[K     |█████████████████▌              | 860 kB 4.3 MB/s eta 0:00:01\r",
      "\u001b[K     |█████████████████▊              | 870 kB 4.3 MB/s eta 0:00:01\r",
      "\u001b[K     |██████████████████              | 880 kB 4.3 MB/s eta 0:00:01\r",
      "\u001b[K     |██████████████████              | 890 kB 4.3 MB/s eta 0:00:01\r",
      "\u001b[K     |██████████████████▎             | 901 kB 4.3 MB/s eta 0:00:01\r",
      "\u001b[K     |██████████████████▌             | 911 kB 4.3 MB/s eta 0:00:01\r",
      "\u001b[K     |██████████████████▊             | 921 kB 4.3 MB/s eta 0:00:01\r",
      "\u001b[K     |███████████████████             | 931 kB 4.3 MB/s eta 0:00:01\r",
      "\u001b[K     |███████████████████▏            | 942 kB 4.3 MB/s eta 0:00:01\r",
      "\u001b[K     |███████████████████▍            | 952 kB 4.3 MB/s eta 0:00:01\r",
      "\u001b[K     |███████████████████▋            | 962 kB 4.3 MB/s eta 0:00:01\r",
      "\u001b[K     |███████████████████▊            | 972 kB 4.3 MB/s eta 0:00:01\r",
      "\u001b[K     |████████████████████            | 983 kB 4.3 MB/s eta 0:00:01\r",
      "\u001b[K     |████████████████████▏           | 993 kB 4.3 MB/s eta 0:00:01\r",
      "\u001b[K     |████████████████████▍           | 1.0 MB 4.3 MB/s eta 0:00:01\r",
      "\u001b[K     |████████████████████▋           | 1.0 MB 4.3 MB/s eta 0:00:01\r",
      "\u001b[K     |████████████████████▉           | 1.0 MB 4.3 MB/s eta 0:00:01\r",
      "\u001b[K     |█████████████████████           | 1.0 MB 4.3 MB/s eta 0:00:01\r",
      "\u001b[K     |█████████████████████▎          | 1.0 MB 4.3 MB/s eta 0:00:01\r",
      "\u001b[K     |█████████████████████▍          | 1.1 MB 4.3 MB/s eta 0:00:01\r",
      "\u001b[K     |█████████████████████▋          | 1.1 MB 4.3 MB/s eta 0:00:01\r",
      "\u001b[K     |█████████████████████▉          | 1.1 MB 4.3 MB/s eta 0:00:01\r",
      "\u001b[K     |██████████████████████          | 1.1 MB 4.3 MB/s eta 0:00:01\r",
      "\u001b[K     |██████████████████████▎         | 1.1 MB 4.3 MB/s eta 0:00:01\r",
      "\u001b[K     |██████████████████████▌         | 1.1 MB 4.3 MB/s eta 0:00:01\r",
      "\u001b[K     |██████████████████████▊         | 1.1 MB 4.3 MB/s eta 0:00:01\r",
      "\u001b[K     |███████████████████████         | 1.1 MB 4.3 MB/s eta 0:00:01\r",
      "\u001b[K     |███████████████████████         | 1.1 MB 4.3 MB/s eta 0:00:01\r",
      "\u001b[K     |███████████████████████▎        | 1.1 MB 4.3 MB/s eta 0:00:01\r",
      "\u001b[K     |███████████████████████▌        | 1.2 MB 4.3 MB/s eta 0:00:01\r",
      "\u001b[K     |███████████████████████▊        | 1.2 MB 4.3 MB/s eta 0:00:01\r",
      "\u001b[K     |████████████████████████        | 1.2 MB 4.3 MB/s eta 0:00:01\r",
      "\u001b[K     |████████████████████████▏       | 1.2 MB 4.3 MB/s eta 0:00:01\r",
      "\u001b[K     |████████████████████████▍       | 1.2 MB 4.3 MB/s eta 0:00:01\r",
      "\u001b[K     |████████████████████████▋       | 1.2 MB 4.3 MB/s eta 0:00:01\r",
      "\u001b[K     |████████████████████████▊       | 1.2 MB 4.3 MB/s eta 0:00:01\r",
      "\u001b[K     |█████████████████████████       | 1.2 MB 4.3 MB/s eta 0:00:01\r",
      "\u001b[K     |█████████████████████████▏      | 1.2 MB 4.3 MB/s eta 0:00:01\r",
      "\u001b[K     |█████████████████████████▍      | 1.2 MB 4.3 MB/s eta 0:00:01"
     ]
    },
    {
     "name": "stdout",
     "output_type": "stream",
     "text": [
      "\r",
      "\u001b[K     |█████████████████████████▋      | 1.3 MB 4.3 MB/s eta 0:00:01\r",
      "\u001b[K     |█████████████████████████▉      | 1.3 MB 4.3 MB/s eta 0:00:01\r",
      "\u001b[K     |██████████████████████████      | 1.3 MB 4.3 MB/s eta 0:00:01\r",
      "\u001b[K     |██████████████████████████▏     | 1.3 MB 4.3 MB/s eta 0:00:01\r",
      "\u001b[K     |██████████████████████████▍     | 1.3 MB 4.3 MB/s eta 0:00:01\r",
      "\u001b[K     |██████████████████████████▋     | 1.3 MB 4.3 MB/s eta 0:00:01\r",
      "\u001b[K     |██████████████████████████▉     | 1.3 MB 4.3 MB/s eta 0:00:01\r",
      "\u001b[K     |███████████████████████████     | 1.3 MB 4.3 MB/s eta 0:00:01\r",
      "\u001b[K     |███████████████████████████▎    | 1.3 MB 4.3 MB/s eta 0:00:01\r",
      "\u001b[K     |███████████████████████████▌    | 1.4 MB 4.3 MB/s eta 0:00:01\r",
      "\u001b[K     |███████████████████████████▊    | 1.4 MB 4.3 MB/s eta 0:00:01\r",
      "\u001b[K     |███████████████████████████▉    | 1.4 MB 4.3 MB/s eta 0:00:01\r",
      "\u001b[K     |████████████████████████████    | 1.4 MB 4.3 MB/s eta 0:00:01\r",
      "\u001b[K     |████████████████████████████▎   | 1.4 MB 4.3 MB/s eta 0:00:01\r",
      "\u001b[K     |████████████████████████████▌   | 1.4 MB 4.3 MB/s eta 0:00:01\r",
      "\u001b[K     |████████████████████████████▊   | 1.4 MB 4.3 MB/s eta 0:00:01\r",
      "\u001b[K     |█████████████████████████████   | 1.4 MB 4.3 MB/s eta 0:00:01\r",
      "\u001b[K     |█████████████████████████████▏  | 1.4 MB 4.3 MB/s eta 0:00:01\r",
      "\u001b[K     |█████████████████████████████▍  | 1.4 MB 4.3 MB/s eta 0:00:01\r",
      "\u001b[K     |█████████████████████████████▌  | 1.5 MB 4.3 MB/s eta 0:00:01\r",
      "\u001b[K     |█████████████████████████████▊  | 1.5 MB 4.3 MB/s eta 0:00:01\r",
      "\u001b[K     |██████████████████████████████  | 1.5 MB 4.3 MB/s eta 0:00:01\r",
      "\u001b[K     |██████████████████████████████▏ | 1.5 MB 4.3 MB/s eta 0:00:01\r",
      "\u001b[K     |██████████████████████████████▍ | 1.5 MB 4.3 MB/s eta 0:00:01\r",
      "\u001b[K     |██████████████████████████████▋ | 1.5 MB 4.3 MB/s eta 0:00:01\r",
      "\u001b[K     |██████████████████████████████▉ | 1.5 MB 4.3 MB/s eta 0:00:01\r",
      "\u001b[K     |███████████████████████████████ | 1.5 MB 4.3 MB/s eta 0:00:01\r",
      "\u001b[K     |███████████████████████████████▏| 1.5 MB 4.3 MB/s eta 0:00:01\r",
      "\u001b[K     |███████████████████████████████▍| 1.5 MB 4.3 MB/s eta 0:00:01\r",
      "\u001b[K     |███████████████████████████████▋| 1.6 MB 4.3 MB/s eta 0:00:01\r",
      "\u001b[K     |███████████████████████████████▉| 1.6 MB 4.3 MB/s eta 0:00:01\r",
      "\u001b[K     |████████████████████████████████| 1.6 MB 4.3 MB/s \r\n"
     ]
    },
    {
     "name": "stdout",
     "output_type": "stream",
     "text": [
      "\u001b[?25hRequirement already satisfied: scipy in /home/kbuilder/.local/lib/python3.7/site-packages (from gym) (1.6.3)\r\n",
      "Requirement already satisfied: numpy>=1.10.4 in /tmpfs/src/tf_docs_env/lib/python3.7/site-packages (from gym) (1.19.5)\r\n"
     ]
    },
    {
     "name": "stdout",
     "output_type": "stream",
     "text": [
      "Collecting pyglet<=1.5.15,>=1.4.0\r\n",
      "  Downloading pyglet-1.5.15-py3-none-any.whl (1.1 MB)\r\n",
      "\u001b[?25l\r",
      "\u001b[K     |▎                               | 10 kB 2.9 MB/s eta 0:00:01\r",
      "\u001b[K     |▋                               | 20 kB 4.6 MB/s eta 0:00:01\r",
      "\u001b[K     |█                               | 30 kB 6.6 MB/s eta 0:00:01\r",
      "\u001b[K     |█▏                              | 40 kB 7.7 MB/s eta 0:00:01\r",
      "\u001b[K     |█▌                              | 51 kB 8.2 MB/s eta 0:00:01\r",
      "\u001b[K     |█▉                              | 61 kB 9.6 MB/s eta 0:00:01\r",
      "\u001b[K     |██                              | 71 kB 10.0 MB/s eta 0:00:01\r",
      "\u001b[K     |██▍                             | 81 kB 11.2 MB/s eta 0:00:01\r",
      "\u001b[K     |██▊                             | 92 kB 11.3 MB/s eta 0:00:01\r",
      "\u001b[K     |███                             | 102 kB 10.7 MB/s eta 0:00:01\r",
      "\u001b[K     |███▎                            | 112 kB 10.7 MB/s eta 0:00:01\r",
      "\u001b[K     |███▋                            | 122 kB 10.7 MB/s eta 0:00:01\r",
      "\u001b[K     |███▉                            | 133 kB 10.7 MB/s eta 0:00:01\r",
      "\u001b[K     |████▏                           | 143 kB 10.7 MB/s eta 0:00:01\r",
      "\u001b[K     |████▌                           | 153 kB 10.7 MB/s eta 0:00:01\r",
      "\u001b[K     |████▊                           | 163 kB 10.7 MB/s eta 0:00:01\r",
      "\u001b[K     |█████                           | 174 kB 10.7 MB/s eta 0:00:01\r",
      "\u001b[K     |█████▍                          | 184 kB 10.7 MB/s eta 0:00:01\r",
      "\u001b[K     |█████▋                          | 194 kB 10.7 MB/s eta 0:00:01\r",
      "\u001b[K     |██████                          | 204 kB 10.7 MB/s eta 0:00:01\r",
      "\u001b[K     |██████▎                         | 215 kB 10.7 MB/s eta 0:00:01"
     ]
    },
    {
     "name": "stdout",
     "output_type": "stream",
     "text": [
      "\r",
      "\u001b[K     |██████▌                         | 225 kB 10.7 MB/s eta 0:00:01\r",
      "\u001b[K     |██████▉                         | 235 kB 10.7 MB/s eta 0:00:01\r",
      "\u001b[K     |███████▏                        | 245 kB 10.7 MB/s eta 0:00:01\r",
      "\u001b[K     |███████▍                        | 256 kB 10.7 MB/s eta 0:00:01\r",
      "\u001b[K     |███████▊                        | 266 kB 10.7 MB/s eta 0:00:01\r",
      "\u001b[K     |████████                        | 276 kB 10.7 MB/s eta 0:00:01\r",
      "\u001b[K     |████████▎                       | 286 kB 10.7 MB/s eta 0:00:01\r",
      "\u001b[K     |████████▋                       | 296 kB 10.7 MB/s eta 0:00:01\r",
      "\u001b[K     |█████████                       | 307 kB 10.7 MB/s eta 0:00:01\r",
      "\u001b[K     |█████████▏                      | 317 kB 10.7 MB/s eta 0:00:01\r",
      "\u001b[K     |█████████▌                      | 327 kB 10.7 MB/s eta 0:00:01\r",
      "\u001b[K     |█████████▉                      | 337 kB 10.7 MB/s eta 0:00:01\r",
      "\u001b[K     |██████████                      | 348 kB 10.7 MB/s eta 0:00:01\r",
      "\u001b[K     |██████████▍                     | 358 kB 10.7 MB/s eta 0:00:01\r",
      "\u001b[K     |██████████▊                     | 368 kB 10.7 MB/s eta 0:00:01\r",
      "\u001b[K     |███████████                     | 378 kB 10.7 MB/s eta 0:00:01\r",
      "\u001b[K     |███████████▎                    | 389 kB 10.7 MB/s eta 0:00:01\r",
      "\u001b[K     |███████████▋                    | 399 kB 10.7 MB/s eta 0:00:01\r",
      "\u001b[K     |███████████▉                    | 409 kB 10.7 MB/s eta 0:00:01\r",
      "\u001b[K     |████████████▏                   | 419 kB 10.7 MB/s eta 0:00:01\r",
      "\u001b[K     |████████████▌                   | 430 kB 10.7 MB/s eta 0:00:01\r",
      "\u001b[K     |████████████▊                   | 440 kB 10.7 MB/s eta 0:00:01\r",
      "\u001b[K     |█████████████                   | 450 kB 10.7 MB/s eta 0:00:01\r",
      "\u001b[K     |█████████████▍                  | 460 kB 10.7 MB/s eta 0:00:01\r",
      "\u001b[K     |█████████████▋                  | 471 kB 10.7 MB/s eta 0:00:01\r",
      "\u001b[K     |██████████████                  | 481 kB 10.7 MB/s eta 0:00:01\r",
      "\u001b[K     |██████████████▎                 | 491 kB 10.7 MB/s eta 0:00:01\r",
      "\u001b[K     |██████████████▌                 | 501 kB 10.7 MB/s eta 0:00:01\r",
      "\u001b[K     |██████████████▉                 | 512 kB 10.7 MB/s eta 0:00:01\r",
      "\u001b[K     |███████████████▏                | 522 kB 10.7 MB/s eta 0:00:01\r",
      "\u001b[K     |███████████████▍                | 532 kB 10.7 MB/s eta 0:00:01\r",
      "\u001b[K     |███████████████▊                | 542 kB 10.7 MB/s eta 0:00:01\r",
      "\u001b[K     |████████████████                | 552 kB 10.7 MB/s eta 0:00:01\r",
      "\u001b[K     |████████████████▎               | 563 kB 10.7 MB/s eta 0:00:01\r",
      "\u001b[K     |████████████████▋               | 573 kB 10.7 MB/s eta 0:00:01\r",
      "\u001b[K     |█████████████████               | 583 kB 10.7 MB/s eta 0:00:01\r",
      "\u001b[K     |█████████████████▏              | 593 kB 10.7 MB/s eta 0:00:01\r",
      "\u001b[K     |█████████████████▌              | 604 kB 10.7 MB/s eta 0:00:01\r",
      "\u001b[K     |█████████████████▉              | 614 kB 10.7 MB/s eta 0:00:01\r",
      "\u001b[K     |██████████████████              | 624 kB 10.7 MB/s eta 0:00:01\r",
      "\u001b[K     |██████████████████▍             | 634 kB 10.7 MB/s eta 0:00:01\r",
      "\u001b[K     |██████████████████▊             | 645 kB 10.7 MB/s eta 0:00:01\r",
      "\u001b[K     |███████████████████             | 655 kB 10.7 MB/s eta 0:00:01\r",
      "\u001b[K     |███████████████████▎            | 665 kB 10.7 MB/s eta 0:00:01\r",
      "\u001b[K     |███████████████████▋            | 675 kB 10.7 MB/s eta 0:00:01\r",
      "\u001b[K     |███████████████████▉            | 686 kB 10.7 MB/s eta 0:00:01\r",
      "\u001b[K     |████████████████████▏           | 696 kB 10.7 MB/s eta 0:00:01\r",
      "\u001b[K     |████████████████████▌           | 706 kB 10.7 MB/s eta 0:00:01\r",
      "\u001b[K     |████████████████████▊           | 716 kB 10.7 MB/s eta 0:00:01\r",
      "\u001b[K     |█████████████████████           | 727 kB 10.7 MB/s eta 0:00:01\r",
      "\u001b[K     |█████████████████████▍          | 737 kB 10.7 MB/s eta 0:00:01\r",
      "\u001b[K     |█████████████████████▊          | 747 kB 10.7 MB/s eta 0:00:01\r",
      "\u001b[K     |██████████████████████          | 757 kB 10.7 MB/s eta 0:00:01\r",
      "\u001b[K     |██████████████████████▎         | 768 kB 10.7 MB/s eta 0:00:01\r",
      "\u001b[K     |██████████████████████▋         | 778 kB 10.7 MB/s eta 0:00:01\r",
      "\u001b[K     |██████████████████████▉         | 788 kB 10.7 MB/s eta 0:00:01\r",
      "\u001b[K     |███████████████████████▏        | 798 kB 10.7 MB/s eta 0:00:01\r",
      "\u001b[K     |███████████████████████▌        | 808 kB 10.7 MB/s eta 0:00:01\r",
      "\u001b[K     |███████████████████████▊        | 819 kB 10.7 MB/s eta 0:00:01\r",
      "\u001b[K     |████████████████████████        | 829 kB 10.7 MB/s eta 0:00:01\r",
      "\u001b[K     |████████████████████████▍       | 839 kB 10.7 MB/s eta 0:00:01\r",
      "\u001b[K     |████████████████████████▋       | 849 kB 10.7 MB/s eta 0:00:01\r",
      "\u001b[K     |█████████████████████████       | 860 kB 10.7 MB/s eta 0:00:01\r",
      "\u001b[K     |█████████████████████████▎      | 870 kB 10.7 MB/s eta 0:00:01\r",
      "\u001b[K     |█████████████████████████▌      | 880 kB 10.7 MB/s eta 0:00:01\r",
      "\u001b[K     |█████████████████████████▉      | 890 kB 10.7 MB/s eta 0:00:01\r",
      "\u001b[K     |██████████████████████████▏     | 901 kB 10.7 MB/s eta 0:00:01\r",
      "\u001b[K     |██████████████████████████▍     | 911 kB 10.7 MB/s eta 0:00:01\r",
      "\u001b[K     |██████████████████████████▊     | 921 kB 10.7 MB/s eta 0:00:01"
     ]
    },
    {
     "name": "stdout",
     "output_type": "stream",
     "text": [
      "\r",
      "\u001b[K     |███████████████████████████     | 931 kB 10.7 MB/s eta 0:00:01\r",
      "\u001b[K     |███████████████████████████▎    | 942 kB 10.7 MB/s eta 0:00:01\r",
      "\u001b[K     |███████████████████████████▋    | 952 kB 10.7 MB/s eta 0:00:01\r",
      "\u001b[K     |████████████████████████████    | 962 kB 10.7 MB/s eta 0:00:01\r",
      "\u001b[K     |████████████████████████████▏   | 972 kB 10.7 MB/s eta 0:00:01\r",
      "\u001b[K     |████████████████████████████▌   | 983 kB 10.7 MB/s eta 0:00:01\r",
      "\u001b[K     |████████████████████████████▉   | 993 kB 10.7 MB/s eta 0:00:01\r",
      "\u001b[K     |█████████████████████████████   | 1.0 MB 10.7 MB/s eta 0:00:01\r",
      "\u001b[K     |█████████████████████████████▍  | 1.0 MB 10.7 MB/s eta 0:00:01\r",
      "\u001b[K     |█████████████████████████████▊  | 1.0 MB 10.7 MB/s eta 0:00:01\r",
      "\u001b[K     |██████████████████████████████  | 1.0 MB 10.7 MB/s eta 0:00:01\r",
      "\u001b[K     |██████████████████████████████▎ | 1.0 MB 10.7 MB/s eta 0:00:01\r",
      "\u001b[K     |██████████████████████████████▋ | 1.1 MB 10.7 MB/s eta 0:00:01\r",
      "\u001b[K     |██████████████████████████████▉ | 1.1 MB 10.7 MB/s eta 0:00:01\r",
      "\u001b[K     |███████████████████████████████▏| 1.1 MB 10.7 MB/s eta 0:00:01\r",
      "\u001b[K     |███████████████████████████████▌| 1.1 MB 10.7 MB/s eta 0:00:01\r",
      "\u001b[K     |███████████████████████████████▊| 1.1 MB 10.7 MB/s eta 0:00:01\r",
      "\u001b[K     |████████████████████████████████| 1.1 MB 10.7 MB/s \r\n",
      "\u001b[?25hRequirement already satisfied: Pillow<=8.2.0 in /home/kbuilder/.local/lib/python3.7/site-packages (from gym) (8.2.0)\r\n"
     ]
    },
    {
     "name": "stdout",
     "output_type": "stream",
     "text": [
      "Collecting cloudpickle<1.7.0,>=1.2.0\r\n",
      "  Downloading cloudpickle-1.6.0-py3-none-any.whl (23 kB)\r\n",
      "Building wheels for collected packages: gym\r\n"
     ]
    },
    {
     "name": "stdout",
     "output_type": "stream",
     "text": [
      "  Building wheel for gym (setup.py) ... \u001b[?25l-"
     ]
    },
    {
     "name": "stdout",
     "output_type": "stream",
     "text": [
      "\b \b\\"
     ]
    },
    {
     "name": "stdout",
     "output_type": "stream",
     "text": [
      "\b \b|"
     ]
    },
    {
     "name": "stdout",
     "output_type": "stream",
     "text": [
      "\b \bdone\r\n",
      "\u001b[?25h  Created wheel for gym: filename=gym-0.18.3-py3-none-any.whl size=1657533 sha256=727e2235d5ea7a73903ba66954ef21248e84abbe2dfee8f526081dca70c515f3\r\n",
      "  Stored in directory: /home/kbuilder/.cache/pip/wheels/1a/ec/6d/705d53925f481ab70fd48ec7728558745eeae14dfda3b49c99\r\n",
      "Successfully built gym\r\n"
     ]
    },
    {
     "name": "stdout",
     "output_type": "stream",
     "text": [
      "Installing collected packages: pyglet, cloudpickle, gym\r\n"
     ]
    },
    {
     "name": "stdout",
     "output_type": "stream",
     "text": [
      "Successfully installed cloudpickle-1.6.0 gym-0.18.3 pyglet-1.5.15\r\n"
     ]
    }
   ],
   "source": [
    "!pip install gym"
   ]
  },
  {
   "cell_type": "code",
   "execution_count": 3,
   "metadata": {
    "execution": {
     "iopub.execute_input": "2021-06-16T15:03:36.040828Z",
     "iopub.status.busy": "2021-06-16T15:03:36.040250Z",
     "iopub.status.idle": "2021-06-16T15:03:55.109529Z",
     "shell.execute_reply": "2021-06-16T15:03:55.108816Z"
    },
    "id": "WBeQhPi2S4m5"
   },
   "outputs": [],
   "source": [
    "%%bash\n",
    "# Install additional packages for visualization\n",
    "sudo apt-get install -y xvfb python-opengl > /dev/null 2>&1\n",
    "pip install pyvirtualdisplay > /dev/null 2>&1\n",
    "pip install git+https://github.com/tensorflow/docs > /dev/null 2>&1"
   ]
  },
  {
   "cell_type": "code",
   "execution_count": 4,
   "metadata": {
    "execution": {
     "iopub.execute_input": "2021-06-16T15:03:55.115561Z",
     "iopub.status.busy": "2021-06-16T15:03:55.114829Z",
     "iopub.status.idle": "2021-06-16T15:03:56.813338Z",
     "shell.execute_reply": "2021-06-16T15:03:56.812802Z"
    },
    "id": "tT4N3qYviUJr"
   },
   "outputs": [],
   "source": [
    "import collections\n",
    "import gym\n",
    "import numpy as np\n",
    "import statistics\n",
    "import tensorflow as tf\n",
    "import tqdm\n",
    "\n",
    "from matplotlib import pyplot as plt\n",
    "from tensorflow.keras import layers\n",
    "from typing import Any, List, Sequence, Tuple\n",
    "\n",
    "\n",
    "# Create the environment\n",
    "env = gym.make(\"CartPole-v0\")\n",
    "\n",
    "# Set seed for experiment reproducibility\n",
    "seed = 42\n",
    "env.seed(seed)\n",
    "tf.random.set_seed(seed)\n",
    "np.random.seed(seed)\n",
    "\n",
    "# Small epsilon value for stabilizing division operations\n",
    "eps = np.finfo(np.float32).eps.item()"
   ]
  },
  {
   "cell_type": "markdown",
   "metadata": {
    "id": "AOUCe2D0iUJu"
   },
   "source": [
    "## Model\n",
    "\n",
    "The *Actor* and *Critic* will be modeled using one neural network that generates the action probabilities and critic value respectively. This tutorial uses model subclassing to define the model. \n",
    "\n",
    "During the forward pass, the model will take in the state as the input and will output both action probabilities and critic value $V$, which models the state-dependent [value function](https://spinningup.openai.com/en/latest/spinningup/rl_intro.html#value-functions). The goal is to train a model that chooses actions based on a policy $\\pi$ that maximizes expected [return](https://spinningup.openai.com/en/latest/spinningup/rl_intro.html#reward-and-return).\n",
    "\n",
    "For Cartpole-v0, there are four values representing the state: cart position, cart-velocity, pole angle and pole velocity respectively. The agent can take two actions to push the cart left (0) and right (1) respectively.\n",
    "\n",
    "Refer to [OpenAI Gym's CartPole-v0 wiki page](http://www.derongliu.org/adp/adp-cdrom/Barto1983.pdf) for more information.\n"
   ]
  },
  {
   "cell_type": "code",
   "execution_count": 5,
   "metadata": {
    "execution": {
     "iopub.execute_input": "2021-06-16T15:03:56.819537Z",
     "iopub.status.busy": "2021-06-16T15:03:56.818852Z",
     "iopub.status.idle": "2021-06-16T15:03:56.821009Z",
     "shell.execute_reply": "2021-06-16T15:03:56.820549Z"
    },
    "id": "aXKbbMC-kmuv"
   },
   "outputs": [],
   "source": [
    "class ActorCritic(tf.keras.Model):\n",
    "  \"\"\"Combined actor-critic network.\"\"\"\n",
    "\n",
    "  def __init__(\n",
    "      self, \n",
    "      num_actions: int, \n",
    "      num_hidden_units: int):\n",
    "    \"\"\"Initialize.\"\"\"\n",
    "    super().__init__()\n",
    "\n",
    "    self.common = layers.Dense(num_hidden_units, activation=\"relu\")\n",
    "    self.actor = layers.Dense(num_actions)\n",
    "    self.critic = layers.Dense(1)\n",
    "\n",
    "  def call(self, inputs: tf.Tensor) -> Tuple[tf.Tensor, tf.Tensor]:\n",
    "    x = self.common(inputs)\n",
    "    return self.actor(x), self.critic(x)"
   ]
  },
  {
   "cell_type": "code",
   "execution_count": 6,
   "metadata": {
    "execution": {
     "iopub.execute_input": "2021-06-16T15:03:56.825667Z",
     "iopub.status.busy": "2021-06-16T15:03:56.824118Z",
     "iopub.status.idle": "2021-06-16T15:03:58.392766Z",
     "shell.execute_reply": "2021-06-16T15:03:58.393155Z"
    },
    "id": "nWyxJgjLn68c"
   },
   "outputs": [],
   "source": [
    "num_actions = env.action_space.n  # 2\n",
    "num_hidden_units = 128\n",
    "\n",
    "model = ActorCritic(num_actions, num_hidden_units)"
   ]
  },
  {
   "cell_type": "markdown",
   "metadata": {
    "id": "hk92njFziUJw"
   },
   "source": [
    "## Training\n",
    "\n",
    "To train the agent, you will follow these steps:\n",
    "\n",
    "1. Run the agent on the environment to collect training data per episode.\n",
    "2. Compute expected return at each time step.\n",
    "3. Compute the loss for the combined actor-critic model.\n",
    "4. Compute gradients and update network parameters.\n",
    "5. Repeat 1-4 until either success criterion or max episodes has been reached.\n"
   ]
  },
  {
   "cell_type": "markdown",
   "metadata": {
    "id": "R2nde2XDs8Gh"
   },
   "source": [
    "### 1. Collecting training data\n",
    "\n",
    "As in supervised learning, in order to train the actor-critic model, you need\n",
    "to have training data. However, in order to collect such data, the model would\n",
    "need to be \"run\" in the environment.\n",
    "\n",
    "Training data is collected for each episode. Then at each time step, the model's forward pass will be run on the environment's state in order to generate action probabilities and the critic value based on the current policy parameterized by the model's weights.\n",
    "\n",
    "The next action will be sampled from the action probabilities generated by the model, which would then be applied to the environment, causing the next state and reward to be generated.\n",
    "\n",
    "This process is implemented in the `run_episode` function, which uses TensorFlow operations so that it can later be compiled into a TensorFlow graph for faster training. Note that `tf.TensorArray`s were used to support Tensor iteration on variable length arrays."
   ]
  },
  {
   "cell_type": "code",
   "execution_count": 7,
   "metadata": {
    "execution": {
     "iopub.execute_input": "2021-06-16T15:03:58.398778Z",
     "iopub.status.busy": "2021-06-16T15:03:58.398191Z",
     "iopub.status.idle": "2021-06-16T15:03:58.399964Z",
     "shell.execute_reply": "2021-06-16T15:03:58.400306Z"
    },
    "id": "5URrbGlDSAGx"
   },
   "outputs": [],
   "source": [
    "# Wrap OpenAI Gym's `env.step` call as an operation in a TensorFlow function.\n",
    "# This would allow it to be included in a callable TensorFlow graph.\n",
    "\n",
    "def env_step(action: np.ndarray) -> Tuple[np.ndarray, np.ndarray, np.ndarray]:\n",
    "  \"\"\"Returns state, reward and done flag given an action.\"\"\"\n",
    "\n",
    "  state, reward, done, _ = env.step(action)\n",
    "  return (state.astype(np.float32), \n",
    "          np.array(reward, np.int32), \n",
    "          np.array(done, np.int32))\n",
    "\n",
    "\n",
    "def tf_env_step(action: tf.Tensor) -> List[tf.Tensor]:\n",
    "  return tf.numpy_function(env_step, [action], \n",
    "                           [tf.float32, tf.int32, tf.int32])"
   ]
  },
  {
   "cell_type": "code",
   "execution_count": 8,
   "metadata": {
    "execution": {
     "iopub.execute_input": "2021-06-16T15:03:58.407284Z",
     "iopub.status.busy": "2021-06-16T15:03:58.406713Z",
     "iopub.status.idle": "2021-06-16T15:03:58.408542Z",
     "shell.execute_reply": "2021-06-16T15:03:58.408896Z"
    },
    "id": "a4qVRV063Cl9"
   },
   "outputs": [],
   "source": [
    "def run_episode(\n",
    "    initial_state: tf.Tensor,  \n",
    "    model: tf.keras.Model, \n",
    "    max_steps: int) -> Tuple[tf.Tensor, tf.Tensor, tf.Tensor]:\n",
    "  \"\"\"Runs a single episode to collect training data.\"\"\"\n",
    "\n",
    "  action_probs = tf.TensorArray(dtype=tf.float32, size=0, dynamic_size=True)\n",
    "  values = tf.TensorArray(dtype=tf.float32, size=0, dynamic_size=True)\n",
    "  rewards = tf.TensorArray(dtype=tf.int32, size=0, dynamic_size=True)\n",
    "\n",
    "  initial_state_shape = initial_state.shape\n",
    "  state = initial_state\n",
    "\n",
    "  for t in tf.range(max_steps):\n",
    "    # Convert state into a batched tensor (batch size = 1)\n",
    "    state = tf.expand_dims(state, 0)\n",
    "  \n",
    "    # Run the model and to get action probabilities and critic value\n",
    "    action_logits_t, value = model(state)\n",
    "  \n",
    "    # Sample next action from the action probability distribution\n",
    "    action = tf.random.categorical(action_logits_t, 1)[0, 0]\n",
    "    action_probs_t = tf.nn.softmax(action_logits_t)\n",
    "\n",
    "    # Store critic values\n",
    "    values = values.write(t, tf.squeeze(value))\n",
    "\n",
    "    # Store log probability of the action chosen\n",
    "    action_probs = action_probs.write(t, action_probs_t[0, action])\n",
    "  \n",
    "    # Apply action to the environment to get next state and reward\n",
    "    state, reward, done = tf_env_step(action)\n",
    "    state.set_shape(initial_state_shape)\n",
    "  \n",
    "    # Store reward\n",
    "    rewards = rewards.write(t, reward)\n",
    "\n",
    "    if tf.cast(done, tf.bool):\n",
    "      break\n",
    "\n",
    "  action_probs = action_probs.stack()\n",
    "  values = values.stack()\n",
    "  rewards = rewards.stack()\n",
    "  \n",
    "  return action_probs, values, rewards"
   ]
  },
  {
   "cell_type": "markdown",
   "metadata": {
    "id": "lBnIHdz22dIx"
   },
   "source": [
    "### 2. Computing expected returns\n",
    "\n",
    "The sequence of rewards for each timestep $t$, $\\{r_{t}\\}^{T}_{t=1}$ collected during one episode is converted into a sequence of expected returns $\\{G_{t}\\}^{T}_{t=1}$ in which the sum of rewards is taken from the current timestep $t$ to $T$ and each reward is multiplied with an exponentially decaying discount factor $\\gamma$:\n",
    "\n",
    "$$G_{t} = \\sum^{T}_{t'=t} \\gamma^{t'-t}r_{t'}$$\n",
    "\n",
    "Since $\\gamma\\in(0,1)$, rewards further out from the current timestep are given less weight.\n",
    "\n",
    "Intuitively, expected return simply implies that rewards now are better than rewards later. In a mathematical sense, it is to ensure that the sum of the rewards converges.\n",
    "\n",
    "To stabilize training, the resulting sequence of returns is also standardized (i.e. to have zero mean and unit standard deviation).\n"
   ]
  },
  {
   "cell_type": "code",
   "execution_count": 9,
   "metadata": {
    "execution": {
     "iopub.execute_input": "2021-06-16T15:03:58.414659Z",
     "iopub.status.busy": "2021-06-16T15:03:58.414062Z",
     "iopub.status.idle": "2021-06-16T15:03:58.415720Z",
     "shell.execute_reply": "2021-06-16T15:03:58.416069Z"
    },
    "id": "jpEwFyl315dl"
   },
   "outputs": [],
   "source": [
    "def get_expected_return(\n",
    "    rewards: tf.Tensor, \n",
    "    gamma: float, \n",
    "    standardize: bool = True) -> tf.Tensor:\n",
    "  \"\"\"Compute expected returns per timestep.\"\"\"\n",
    "\n",
    "  n = tf.shape(rewards)[0]\n",
    "  returns = tf.TensorArray(dtype=tf.float32, size=n)\n",
    "\n",
    "  # Start from the end of `rewards` and accumulate reward sums\n",
    "  # into the `returns` array\n",
    "  rewards = tf.cast(rewards[::-1], dtype=tf.float32)\n",
    "  discounted_sum = tf.constant(0.0)\n",
    "  discounted_sum_shape = discounted_sum.shape\n",
    "  for i in tf.range(n):\n",
    "    reward = rewards[i]\n",
    "    discounted_sum = reward + gamma * discounted_sum\n",
    "    discounted_sum.set_shape(discounted_sum_shape)\n",
    "    returns = returns.write(i, discounted_sum)\n",
    "  returns = returns.stack()[::-1]\n",
    "\n",
    "  if standardize:\n",
    "    returns = ((returns - tf.math.reduce_mean(returns)) / \n",
    "               (tf.math.reduce_std(returns) + eps))\n",
    "\n",
    "  return returns"
   ]
  },
  {
   "cell_type": "markdown",
   "metadata": {
    "id": "1hrPLrgGxlvb"
   },
   "source": [
    "### 3. The actor-critic loss\n",
    "\n",
    "Since a hybrid actor-critic model is used, the chosen loss function is a combination of actor and critic losses for training, as shown below:\n",
    "\n",
    "$$L = L_{actor} + L_{critic}$$\n",
    "\n",
    "#### Actor loss\n",
    "\n",
    "The actor loss is based on [policy gradients with the critic as a state dependent baseline](https://www.youtube.com/watch?v=EKqxumCuAAY&t=62m23s) and computed with single-sample (per-episode) estimates.\n",
    "\n",
    "$$L_{actor} = -\\sum^{T}_{t=1} log\\pi_{\\theta}(a_{t} | s_{t})[G(s_{t}, a_{t})  - V^{\\pi}_{\\theta}(s_{t})]$$\n",
    "\n",
    "where:\n",
    "- $T$: the number of timesteps per episode, which can vary per episode\n",
    "- $s_{t}$: the state at timestep $t$\n",
    "- $a_{t}$: chosen action at timestep $t$ given state $s$\n",
    "- $\\pi_{\\theta}$: is the policy (actor) parameterized by $\\theta$\n",
    "- $V^{\\pi}_{\\theta}$: is the value function (critic) also parameterized by $\\theta$\n",
    "- $G = G_{t}$: the expected return for a given state, action pair at timestep $t$\n",
    "\n",
    "A negative term is added to the sum since the idea is to maximize the probabilities of actions yielding higher rewards by minimizing the combined loss.\n",
    "\n",
    "<br>\n",
    "\n",
    "##### Advantage\n",
    "\n",
    "The $G - V$ term in our $L_{actor}$ formulation is called the [advantage](https://spinningup.openai.com/en/latest/spinningup/rl_intro.html#advantage-functions), which indicates how much better an action is given a particular state over a random action selected according to the policy $\\pi$ for that state.\n",
    "\n",
    "While it's possible to exclude a baseline, this may result in high variance during training. And the nice thing about choosing the critic $V$ as a baseline is that it trained to be as close as possible to $G$, leading to a lower variance.\n",
    "\n",
    "In addition, without the critic, the algorithm would try to increase probabilities for actions taken on a particular state based on expected return, which may not make much of a difference if the relative probabilities between actions remain the same.\n",
    "\n",
    "For instance, suppose that two actions for a given state would yield the same expected return. Without the critic, the algorithm would try to raise the probability of these actions based on the objective $J$. With the critic, it may turn out that there's no advantage ($G - V = 0$) and thus no benefit gained in increasing the actions' probabilities and the algorithm would set the gradients to zero.\n",
    "\n",
    "<br>\n",
    "\n",
    "#### Critic loss\n",
    "\n",
    "Training $V$ to be as close possible to $G$ can be set up as a regression problem with the following loss function:\n",
    "\n",
    "$$L_{critic} = L_{\\delta}(G, V^{\\pi}_{\\theta})$$\n",
    "\n",
    "where $L_{\\delta}$ is the [Huber loss](https://en.wikipedia.org/wiki/Huber_loss), which is less sensitive to outliers in data than squared-error loss.\n"
   ]
  },
  {
   "cell_type": "code",
   "execution_count": 10,
   "metadata": {
    "execution": {
     "iopub.execute_input": "2021-06-16T15:03:58.420510Z",
     "iopub.status.busy": "2021-06-16T15:03:58.419951Z",
     "iopub.status.idle": "2021-06-16T15:03:58.421856Z",
     "shell.execute_reply": "2021-06-16T15:03:58.422199Z"
    },
    "id": "9EXwbEez6n9m"
   },
   "outputs": [],
   "source": [
    "huber_loss = tf.keras.losses.Huber(reduction=tf.keras.losses.Reduction.SUM)\n",
    "\n",
    "def compute_loss(\n",
    "    action_probs: tf.Tensor,  \n",
    "    values: tf.Tensor,  \n",
    "    returns: tf.Tensor) -> tf.Tensor:\n",
    "  \"\"\"Computes the combined actor-critic loss.\"\"\"\n",
    "\n",
    "  advantage = returns - values\n",
    "\n",
    "  action_log_probs = tf.math.log(action_probs)\n",
    "  actor_loss = -tf.math.reduce_sum(action_log_probs * advantage)\n",
    "\n",
    "  critic_loss = huber_loss(values, returns)\n",
    "\n",
    "  return actor_loss + critic_loss"
   ]
  },
  {
   "cell_type": "markdown",
   "metadata": {
    "id": "HSYkQOmRfV75"
   },
   "source": [
    "### 4. Defining the training step to update parameters\n",
    "\n",
    "All of the steps above are combined into a training step that is run every episode. All steps leading up to the loss function are executed with the `tf.GradientTape` context to enable automatic differentiation.\n",
    "\n",
    "This tutorial uses the Adam optimizer to apply the gradients to the model parameters.\n",
    "\n",
    "The sum of the undiscounted rewards, `episode_reward`, is also computed in this step. This value will be used later on to evaluate if the success criterion is met.\n",
    "\n",
    "The `tf.function` context is applied to the `train_step` function so that it can be compiled into a callable TensorFlow graph, which can lead to 10x speedup in training.\n"
   ]
  },
  {
   "cell_type": "code",
   "execution_count": 11,
   "metadata": {
    "execution": {
     "iopub.execute_input": "2021-06-16T15:03:58.428189Z",
     "iopub.status.busy": "2021-06-16T15:03:58.427588Z",
     "iopub.status.idle": "2021-06-16T15:03:58.429275Z",
     "shell.execute_reply": "2021-06-16T15:03:58.429616Z"
    },
    "id": "QoccrkF3IFCg"
   },
   "outputs": [],
   "source": [
    "optimizer = tf.keras.optimizers.Adam(learning_rate=0.01)\n",
    "\n",
    "\n",
    "@tf.function\n",
    "def train_step(\n",
    "    initial_state: tf.Tensor, \n",
    "    model: tf.keras.Model, \n",
    "    optimizer: tf.keras.optimizers.Optimizer, \n",
    "    gamma: float, \n",
    "    max_steps_per_episode: int) -> tf.Tensor:\n",
    "  \"\"\"Runs a model training step.\"\"\"\n",
    "\n",
    "  with tf.GradientTape() as tape:\n",
    "\n",
    "    # Run the model for one episode to collect training data\n",
    "    action_probs, values, rewards = run_episode(\n",
    "        initial_state, model, max_steps_per_episode) \n",
    "\n",
    "    # Calculate expected returns\n",
    "    returns = get_expected_return(rewards, gamma)\n",
    "\n",
    "    # Convert training data to appropriate TF tensor shapes\n",
    "    action_probs, values, returns = [\n",
    "        tf.expand_dims(x, 1) for x in [action_probs, values, returns]] \n",
    "\n",
    "    # Calculating loss values to update our network\n",
    "    loss = compute_loss(action_probs, values, returns)\n",
    "\n",
    "  # Compute the gradients from the loss\n",
    "  grads = tape.gradient(loss, model.trainable_variables)\n",
    "\n",
    "  # Apply the gradients to the model's parameters\n",
    "  optimizer.apply_gradients(zip(grads, model.trainable_variables))\n",
    "\n",
    "  episode_reward = tf.math.reduce_sum(rewards)\n",
    "\n",
    "  return episode_reward"
   ]
  },
  {
   "cell_type": "markdown",
   "metadata": {
    "id": "HFvZiDoAflGK"
   },
   "source": [
    "### 5. Run the training loop\n",
    "\n",
    "Training is executed by running the training step until either the success criterion or maximum number of episodes is reached.  \n",
    "\n",
    "A running record of episode rewards is kept in a queue. Once 100 trials are reached, the oldest reward is removed at the left (tail) end of the queue and the newest one is added at the head (right). A running sum of the rewards is also maintained for computational efficiency. \n",
    "\n",
    "Depending on your runtime, training can finish in less than a minute."
   ]
  },
  {
   "cell_type": "code",
   "execution_count": 12,
   "metadata": {
    "execution": {
     "iopub.execute_input": "2021-06-16T15:03:58.434380Z",
     "iopub.status.busy": "2021-06-16T15:03:58.433810Z",
     "iopub.status.idle": "2021-06-16T15:05:13.702979Z",
     "shell.execute_reply": "2021-06-16T15:05:13.703412Z"
    },
    "id": "kbmBxnzLiUJx"
   },
   "outputs": [
    {
     "name": "stderr",
     "output_type": "stream",
     "text": [
      "\r",
      "  0%|          | 0/10000 [00:00<?, ?it/s]"
     ]
    },
    {
     "name": "stderr",
     "output_type": "stream",
     "text": [
      "\r",
      "Episode 0:   0%|          | 0/10000 [00:01<?, ?it/s]"
     ]
    },
    {
     "name": "stderr",
     "output_type": "stream",
     "text": [
      "\r",
      "Episode 0:   0%|          | 0/10000 [00:01<?, ?it/s, episode_reward=40, running_reward=40]"
     ]
    },
    {
     "name": "stderr",
     "output_type": "stream",
     "text": [
      "\r",
      "Episode 0:   0%|          | 1/10000 [00:01<5:25:18,  1.95s/it, episode_reward=40, running_reward=40]"
     ]
    },
    {
     "name": "stderr",
     "output_type": "stream",
     "text": [
      "\r",
      "Episode 1:   0%|          | 1/10000 [00:01<5:25:18,  1.95s/it, episode_reward=40, running_reward=40]"
     ]
    },
    {
     "name": "stderr",
     "output_type": "stream",
     "text": [
      "\r",
      "Episode 1:   0%|          | 1/10000 [00:01<5:25:18,  1.95s/it, episode_reward=25, running_reward=32.5]"
     ]
    },
    {
     "name": "stderr",
     "output_type": "stream",
     "text": [
      "\r",
      "Episode 2:   0%|          | 1/10000 [00:02<5:25:18,  1.95s/it, episode_reward=25, running_reward=32.5]"
     ]
    },
    {
     "name": "stderr",
     "output_type": "stream",
     "text": [
      "\r",
      "Episode 2:   0%|          | 1/10000 [00:02<5:25:18,  1.95s/it, episode_reward=59, running_reward=41.3]"
     ]
    },
    {
     "name": "stderr",
     "output_type": "stream",
     "text": [
      "\r",
      "Episode 2:   0%|          | 3/10000 [00:02<1:33:07,  1.79it/s, episode_reward=59, running_reward=41.3]"
     ]
    },
    {
     "name": "stderr",
     "output_type": "stream",
     "text": [
      "\r",
      "Episode 3:   0%|          | 3/10000 [00:02<1:33:07,  1.79it/s, episode_reward=59, running_reward=41.3]"
     ]
    },
    {
     "name": "stderr",
     "output_type": "stream",
     "text": [
      "\r",
      "Episode 3:   0%|          | 3/10000 [00:02<1:33:07,  1.79it/s, episode_reward=24, running_reward=37]  "
     ]
    },
    {
     "name": "stderr",
     "output_type": "stream",
     "text": [
      "\r",
      "Episode 4:   0%|          | 3/10000 [00:02<1:33:07,  1.79it/s, episode_reward=24, running_reward=37]"
     ]
    },
    {
     "name": "stderr",
     "output_type": "stream",
     "text": [
      "\r",
      "Episode 4:   0%|          | 3/10000 [00:02<1:33:07,  1.79it/s, episode_reward=25, running_reward=34.6]"
     ]
    },
    {
     "name": "stderr",
     "output_type": "stream",
     "text": [
      "\r",
      "Episode 5:   0%|          | 3/10000 [00:02<1:33:07,  1.79it/s, episode_reward=25, running_reward=34.6]"
     ]
    },
    {
     "name": "stderr",
     "output_type": "stream",
     "text": [
      "\r",
      "Episode 5:   0%|          | 3/10000 [00:02<1:33:07,  1.79it/s, episode_reward=54, running_reward=37.8]"
     ]
    },
    {
     "name": "stderr",
     "output_type": "stream",
     "text": [
      "\r",
      "Episode 5:   0%|          | 6/10000 [00:02<41:45,  3.99it/s, episode_reward=54, running_reward=37.8]  "
     ]
    },
    {
     "name": "stderr",
     "output_type": "stream",
     "text": [
      "\r",
      "Episode 6:   0%|          | 6/10000 [00:02<41:45,  3.99it/s, episode_reward=54, running_reward=37.8]"
     ]
    },
    {
     "name": "stderr",
     "output_type": "stream",
     "text": [
      "\r",
      "Episode 6:   0%|          | 6/10000 [00:02<41:45,  3.99it/s, episode_reward=29, running_reward=36.6]"
     ]
    },
    {
     "name": "stderr",
     "output_type": "stream",
     "text": [
      "\r",
      "Episode 7:   0%|          | 6/10000 [00:02<41:45,  3.99it/s, episode_reward=29, running_reward=36.6]"
     ]
    },
    {
     "name": "stderr",
     "output_type": "stream",
     "text": [
      "\r",
      "Episode 7:   0%|          | 6/10000 [00:02<41:45,  3.99it/s, episode_reward=20, running_reward=34.5]"
     ]
    },
    {
     "name": "stderr",
     "output_type": "stream",
     "text": [
      "\r",
      "Episode 8:   0%|          | 6/10000 [00:02<41:45,  3.99it/s, episode_reward=20, running_reward=34.5]"
     ]
    },
    {
     "name": "stderr",
     "output_type": "stream",
     "text": [
      "\r",
      "Episode 8:   0%|          | 6/10000 [00:02<41:45,  3.99it/s, episode_reward=14, running_reward=32.2]"
     ]
    },
    {
     "name": "stderr",
     "output_type": "stream",
     "text": [
      "\r",
      "Episode 8:   0%|          | 9/10000 [00:02<24:58,  6.67it/s, episode_reward=14, running_reward=32.2]"
     ]
    },
    {
     "name": "stderr",
     "output_type": "stream",
     "text": [
      "\r",
      "Episode 9:   0%|          | 9/10000 [00:02<24:58,  6.67it/s, episode_reward=14, running_reward=32.2]"
     ]
    },
    {
     "name": "stderr",
     "output_type": "stream",
     "text": [
      "\r",
      "Episode 9:   0%|          | 9/10000 [00:02<24:58,  6.67it/s, episode_reward=44, running_reward=33.4]"
     ]
    },
    {
     "name": "stderr",
     "output_type": "stream",
     "text": [
      "\r",
      "Episode 10:   0%|          | 9/10000 [00:02<24:58,  6.67it/s, episode_reward=44, running_reward=33.4]"
     ]
    },
    {
     "name": "stderr",
     "output_type": "stream",
     "text": [
      "\r",
      "Episode 10:   0%|          | 9/10000 [00:02<24:58,  6.67it/s, episode_reward=42, running_reward=34.2]"
     ]
    },
    {
     "name": "stderr",
     "output_type": "stream",
     "text": [
      "\r",
      "Episode 10:   0%|          | 11/10000 [00:02<21:04,  7.90it/s, episode_reward=42, running_reward=34.2]"
     ]
    },
    {
     "name": "stderr",
     "output_type": "stream",
     "text": [
      "\r",
      "Episode 11:   0%|          | 11/10000 [00:02<21:04,  7.90it/s, episode_reward=42, running_reward=34.2]"
     ]
    },
    {
     "name": "stderr",
     "output_type": "stream",
     "text": [
      "\r",
      "Episode 11:   0%|          | 11/10000 [00:02<21:04,  7.90it/s, episode_reward=74, running_reward=37.5]"
     ]
    },
    {
     "name": "stderr",
     "output_type": "stream",
     "text": [
      "\r",
      "Episode 12:   0%|          | 11/10000 [00:02<21:04,  7.90it/s, episode_reward=74, running_reward=37.5]"
     ]
    },
    {
     "name": "stderr",
     "output_type": "stream",
     "text": [
      "\r",
      "Episode 12:   0%|          | 11/10000 [00:02<21:04,  7.90it/s, episode_reward=27, running_reward=36.7]"
     ]
    },
    {
     "name": "stderr",
     "output_type": "stream",
     "text": [
      "\r",
      "Episode 12:   0%|          | 13/10000 [00:02<18:45,  8.87it/s, episode_reward=27, running_reward=36.7]"
     ]
    },
    {
     "name": "stderr",
     "output_type": "stream",
     "text": [
      "\r",
      "Episode 13:   0%|          | 13/10000 [00:02<18:45,  8.87it/s, episode_reward=27, running_reward=36.7]"
     ]
    },
    {
     "name": "stderr",
     "output_type": "stream",
     "text": [
      "\r",
      "Episode 13:   0%|          | 13/10000 [00:02<18:45,  8.87it/s, episode_reward=120, running_reward=42.6]"
     ]
    },
    {
     "name": "stderr",
     "output_type": "stream",
     "text": [
      "\r",
      "Episode 14:   0%|          | 13/10000 [00:02<18:45,  8.87it/s, episode_reward=120, running_reward=42.6]"
     ]
    },
    {
     "name": "stderr",
     "output_type": "stream",
     "text": [
      "\r",
      "Episode 14:   0%|          | 13/10000 [00:02<18:45,  8.87it/s, episode_reward=29, running_reward=41.7] "
     ]
    },
    {
     "name": "stderr",
     "output_type": "stream",
     "text": [
      "\r",
      "Episode 14:   0%|          | 15/10000 [00:02<18:58,  8.77it/s, episode_reward=29, running_reward=41.7]"
     ]
    },
    {
     "name": "stderr",
     "output_type": "stream",
     "text": [
      "\r",
      "Episode 15:   0%|          | 15/10000 [00:02<18:58,  8.77it/s, episode_reward=29, running_reward=41.7]"
     ]
    },
    {
     "name": "stderr",
     "output_type": "stream",
     "text": [
      "\r",
      "Episode 15:   0%|          | 15/10000 [00:02<18:58,  8.77it/s, episode_reward=13, running_reward=39.9]"
     ]
    },
    {
     "name": "stderr",
     "output_type": "stream",
     "text": [
      "\r",
      "Episode 16:   0%|          | 15/10000 [00:03<18:58,  8.77it/s, episode_reward=13, running_reward=39.9]"
     ]
    },
    {
     "name": "stderr",
     "output_type": "stream",
     "text": [
      "\r",
      "Episode 16:   0%|          | 15/10000 [00:03<18:58,  8.77it/s, episode_reward=45, running_reward=40.2]"
     ]
    },
    {
     "name": "stderr",
     "output_type": "stream",
     "text": [
      "\r",
      "Episode 17:   0%|          | 15/10000 [00:03<18:58,  8.77it/s, episode_reward=45, running_reward=40.2]"
     ]
    },
    {
     "name": "stderr",
     "output_type": "stream",
     "text": [
      "\r",
      "Episode 17:   0%|          | 15/10000 [00:03<18:58,  8.77it/s, episode_reward=41, running_reward=40.3]"
     ]
    },
    {
     "name": "stderr",
     "output_type": "stream",
     "text": [
      "\r",
      "Episode 17:   0%|          | 18/10000 [00:03<14:58, 11.11it/s, episode_reward=41, running_reward=40.3]"
     ]
    },
    {
     "name": "stderr",
     "output_type": "stream",
     "text": [
      "\r",
      "Episode 18:   0%|          | 18/10000 [00:03<14:58, 11.11it/s, episode_reward=41, running_reward=40.3]"
     ]
    },
    {
     "name": "stderr",
     "output_type": "stream",
     "text": [
      "\r",
      "Episode 18:   0%|          | 18/10000 [00:03<14:58, 11.11it/s, episode_reward=19, running_reward=39.2]"
     ]
    },
    {
     "name": "stderr",
     "output_type": "stream",
     "text": [
      "\r",
      "Episode 19:   0%|          | 18/10000 [00:03<14:58, 11.11it/s, episode_reward=19, running_reward=39.2]"
     ]
    },
    {
     "name": "stderr",
     "output_type": "stream",
     "text": [
      "\r",
      "Episode 19:   0%|          | 18/10000 [00:03<14:58, 11.11it/s, episode_reward=34, running_reward=38.9]"
     ]
    },
    {
     "name": "stderr",
     "output_type": "stream",
     "text": [
      "\r",
      "Episode 20:   0%|          | 18/10000 [00:03<14:58, 11.11it/s, episode_reward=34, running_reward=38.9]"
     ]
    },
    {
     "name": "stderr",
     "output_type": "stream",
     "text": [
      "\r",
      "Episode 20:   0%|          | 18/10000 [00:03<14:58, 11.11it/s, episode_reward=43, running_reward=39.1]"
     ]
    },
    {
     "name": "stderr",
     "output_type": "stream",
     "text": [
      "\r",
      "Episode 20:   0%|          | 21/10000 [00:03<12:45, 13.03it/s, episode_reward=43, running_reward=39.1]"
     ]
    },
    {
     "name": "stderr",
     "output_type": "stream",
     "text": [
      "\r",
      "Episode 21:   0%|          | 21/10000 [00:03<12:45, 13.03it/s, episode_reward=43, running_reward=39.1]"
     ]
    },
    {
     "name": "stderr",
     "output_type": "stream",
     "text": [
      "\r",
      "Episode 21:   0%|          | 21/10000 [00:03<12:45, 13.03it/s, episode_reward=22, running_reward=38.3]"
     ]
    },
    {
     "name": "stderr",
     "output_type": "stream",
     "text": [
      "\r",
      "Episode 22:   0%|          | 21/10000 [00:03<12:45, 13.03it/s, episode_reward=22, running_reward=38.3]"
     ]
    },
    {
     "name": "stderr",
     "output_type": "stream",
     "text": [
      "\r",
      "Episode 22:   0%|          | 21/10000 [00:03<12:45, 13.03it/s, episode_reward=23, running_reward=37.7]"
     ]
    },
    {
     "name": "stderr",
     "output_type": "stream",
     "text": [
      "\r",
      "Episode 23:   0%|          | 21/10000 [00:03<12:45, 13.03it/s, episode_reward=23, running_reward=37.7]"
     ]
    },
    {
     "name": "stderr",
     "output_type": "stream",
     "text": [
      "\r",
      "Episode 23:   0%|          | 21/10000 [00:03<12:45, 13.03it/s, episode_reward=21, running_reward=37]  "
     ]
    },
    {
     "name": "stderr",
     "output_type": "stream",
     "text": [
      "\r",
      "Episode 23:   0%|          | 24/10000 [00:03<10:35, 15.69it/s, episode_reward=21, running_reward=37]"
     ]
    },
    {
     "name": "stderr",
     "output_type": "stream",
     "text": [
      "\r",
      "Episode 24:   0%|          | 24/10000 [00:03<10:35, 15.69it/s, episode_reward=21, running_reward=37]"
     ]
    },
    {
     "name": "stderr",
     "output_type": "stream",
     "text": [
      "\r",
      "Episode 24:   0%|          | 24/10000 [00:03<10:35, 15.69it/s, episode_reward=35, running_reward=36.9]"
     ]
    },
    {
     "name": "stderr",
     "output_type": "stream",
     "text": [
      "\r",
      "Episode 25:   0%|          | 24/10000 [00:03<10:35, 15.69it/s, episode_reward=35, running_reward=36.9]"
     ]
    },
    {
     "name": "stderr",
     "output_type": "stream",
     "text": [
      "\r",
      "Episode 25:   0%|          | 24/10000 [00:03<10:35, 15.69it/s, episode_reward=28, running_reward=36.5]"
     ]
    },
    {
     "name": "stderr",
     "output_type": "stream",
     "text": [
      "\r",
      "Episode 25:   0%|          | 26/10000 [00:03<10:05, 16.47it/s, episode_reward=28, running_reward=36.5]"
     ]
    },
    {
     "name": "stderr",
     "output_type": "stream",
     "text": [
      "\r",
      "Episode 26:   0%|          | 26/10000 [00:03<10:05, 16.47it/s, episode_reward=28, running_reward=36.5]"
     ]
    },
    {
     "name": "stderr",
     "output_type": "stream",
     "text": [
      "\r",
      "Episode 26:   0%|          | 26/10000 [00:03<10:05, 16.47it/s, episode_reward=81, running_reward=38.2]"
     ]
    },
    {
     "name": "stderr",
     "output_type": "stream",
     "text": [
      "\r",
      "Episode 27:   0%|          | 26/10000 [00:03<10:05, 16.47it/s, episode_reward=81, running_reward=38.2]"
     ]
    },
    {
     "name": "stderr",
     "output_type": "stream",
     "text": [
      "\r",
      "Episode 27:   0%|          | 26/10000 [00:03<10:05, 16.47it/s, episode_reward=112, running_reward=40.8]"
     ]
    },
    {
     "name": "stderr",
     "output_type": "stream",
     "text": [
      "\r",
      "Episode 27:   0%|          | 28/10000 [00:03<13:57, 11.91it/s, episode_reward=112, running_reward=40.8]"
     ]
    },
    {
     "name": "stderr",
     "output_type": "stream",
     "text": [
      "\r",
      "Episode 28:   0%|          | 28/10000 [00:03<13:57, 11.91it/s, episode_reward=112, running_reward=40.8]"
     ]
    },
    {
     "name": "stderr",
     "output_type": "stream",
     "text": [
      "\r",
      "Episode 28:   0%|          | 28/10000 [00:03<13:57, 11.91it/s, episode_reward=34, running_reward=40.6] "
     ]
    },
    {
     "name": "stderr",
     "output_type": "stream",
     "text": [
      "\r",
      "Episode 29:   0%|          | 28/10000 [00:03<13:57, 11.91it/s, episode_reward=34, running_reward=40.6]"
     ]
    },
    {
     "name": "stderr",
     "output_type": "stream",
     "text": [
      "\r",
      "Episode 29:   0%|          | 28/10000 [00:03<13:57, 11.91it/s, episode_reward=58, running_reward=41.2]"
     ]
    },
    {
     "name": "stderr",
     "output_type": "stream",
     "text": [
      "\r",
      "Episode 29:   0%|          | 30/10000 [00:03<13:31, 12.29it/s, episode_reward=58, running_reward=41.2]"
     ]
    },
    {
     "name": "stderr",
     "output_type": "stream",
     "text": [
      "\r",
      "Episode 30:   0%|          | 30/10000 [00:03<13:31, 12.29it/s, episode_reward=58, running_reward=41.2]"
     ]
    },
    {
     "name": "stderr",
     "output_type": "stream",
     "text": [
      "\r",
      "Episode 30:   0%|          | 30/10000 [00:03<13:31, 12.29it/s, episode_reward=51, running_reward=41.5]"
     ]
    },
    {
     "name": "stderr",
     "output_type": "stream",
     "text": [
      "\r",
      "Episode 31:   0%|          | 30/10000 [00:04<13:31, 12.29it/s, episode_reward=51, running_reward=41.5]"
     ]
    },
    {
     "name": "stderr",
     "output_type": "stream",
     "text": [
      "\r",
      "Episode 31:   0%|          | 30/10000 [00:04<13:31, 12.29it/s, episode_reward=34, running_reward=41.2]"
     ]
    },
    {
     "name": "stderr",
     "output_type": "stream",
     "text": [
      "\r",
      "Episode 31:   0%|          | 32/10000 [00:04<12:52, 12.90it/s, episode_reward=34, running_reward=41.2]"
     ]
    },
    {
     "name": "stderr",
     "output_type": "stream",
     "text": [
      "\r",
      "Episode 32:   0%|          | 32/10000 [00:04<12:52, 12.90it/s, episode_reward=34, running_reward=41.2]"
     ]
    },
    {
     "name": "stderr",
     "output_type": "stream",
     "text": [
      "\r",
      "Episode 32:   0%|          | 32/10000 [00:04<12:52, 12.90it/s, episode_reward=26, running_reward=40.8]"
     ]
    },
    {
     "name": "stderr",
     "output_type": "stream",
     "text": [
      "\r",
      "Episode 33:   0%|          | 32/10000 [00:04<12:52, 12.90it/s, episode_reward=26, running_reward=40.8]"
     ]
    },
    {
     "name": "stderr",
     "output_type": "stream",
     "text": [
      "\r",
      "Episode 33:   0%|          | 32/10000 [00:04<12:52, 12.90it/s, episode_reward=24, running_reward=40.3]"
     ]
    },
    {
     "name": "stderr",
     "output_type": "stream",
     "text": [
      "\r",
      "Episode 34:   0%|          | 32/10000 [00:04<12:52, 12.90it/s, episode_reward=24, running_reward=40.3]"
     ]
    },
    {
     "name": "stderr",
     "output_type": "stream",
     "text": [
      "\r",
      "Episode 34:   0%|          | 32/10000 [00:04<12:52, 12.90it/s, episode_reward=15, running_reward=39.6]"
     ]
    },
    {
     "name": "stderr",
     "output_type": "stream",
     "text": [
      "\r",
      "Episode 34:   0%|          | 35/10000 [00:04<10:17, 16.14it/s, episode_reward=15, running_reward=39.6]"
     ]
    },
    {
     "name": "stderr",
     "output_type": "stream",
     "text": [
      "\r",
      "Episode 35:   0%|          | 35/10000 [00:04<10:17, 16.14it/s, episode_reward=15, running_reward=39.6]"
     ]
    },
    {
     "name": "stderr",
     "output_type": "stream",
     "text": [
      "\r",
      "Episode 35:   0%|          | 35/10000 [00:04<10:17, 16.14it/s, episode_reward=82, running_reward=40.8]"
     ]
    },
    {
     "name": "stderr",
     "output_type": "stream",
     "text": [
      "\r",
      "Episode 36:   0%|          | 35/10000 [00:04<10:17, 16.14it/s, episode_reward=82, running_reward=40.8]"
     ]
    },
    {
     "name": "stderr",
     "output_type": "stream",
     "text": [
      "\r",
      "Episode 36:   0%|          | 35/10000 [00:04<10:17, 16.14it/s, episode_reward=68, running_reward=41.5]"
     ]
    },
    {
     "name": "stderr",
     "output_type": "stream",
     "text": [
      "\r",
      "Episode 36:   0%|          | 37/10000 [00:04<13:05, 12.69it/s, episode_reward=68, running_reward=41.5]"
     ]
    },
    {
     "name": "stderr",
     "output_type": "stream",
     "text": [
      "\r",
      "Episode 37:   0%|          | 37/10000 [00:04<13:05, 12.69it/s, episode_reward=68, running_reward=41.5]"
     ]
    },
    {
     "name": "stderr",
     "output_type": "stream",
     "text": [
      "\r",
      "Episode 37:   0%|          | 37/10000 [00:04<13:05, 12.69it/s, episode_reward=24, running_reward=41]  "
     ]
    },
    {
     "name": "stderr",
     "output_type": "stream",
     "text": [
      "\r",
      "Episode 38:   0%|          | 37/10000 [00:04<13:05, 12.69it/s, episode_reward=24, running_reward=41]"
     ]
    },
    {
     "name": "stderr",
     "output_type": "stream",
     "text": [
      "\r",
      "Episode 38:   0%|          | 37/10000 [00:04<13:05, 12.69it/s, episode_reward=25, running_reward=40.6]"
     ]
    },
    {
     "name": "stderr",
     "output_type": "stream",
     "text": [
      "\r",
      "Episode 39:   0%|          | 37/10000 [00:04<13:05, 12.69it/s, episode_reward=25, running_reward=40.6]"
     ]
    },
    {
     "name": "stderr",
     "output_type": "stream",
     "text": [
      "\r",
      "Episode 39:   0%|          | 37/10000 [00:04<13:05, 12.69it/s, episode_reward=64, running_reward=41.2]"
     ]
    },
    {
     "name": "stderr",
     "output_type": "stream",
     "text": [
      "\r",
      "Episode 39:   0%|          | 40/10000 [00:04<12:12, 13.60it/s, episode_reward=64, running_reward=41.2]"
     ]
    },
    {
     "name": "stderr",
     "output_type": "stream",
     "text": [
      "\r",
      "Episode 40:   0%|          | 40/10000 [00:04<12:12, 13.60it/s, episode_reward=64, running_reward=41.2]"
     ]
    },
    {
     "name": "stderr",
     "output_type": "stream",
     "text": [
      "\r",
      "Episode 40:   0%|          | 40/10000 [00:04<12:12, 13.60it/s, episode_reward=72, running_reward=42]  "
     ]
    },
    {
     "name": "stderr",
     "output_type": "stream",
     "text": [
      "\r",
      "Episode 41:   0%|          | 40/10000 [00:04<12:12, 13.60it/s, episode_reward=72, running_reward=42]"
     ]
    },
    {
     "name": "stderr",
     "output_type": "stream",
     "text": [
      "\r",
      "Episode 41:   0%|          | 40/10000 [00:04<12:12, 13.60it/s, episode_reward=60, running_reward=42.4]"
     ]
    },
    {
     "name": "stderr",
     "output_type": "stream",
     "text": [
      "\r",
      "Episode 41:   0%|          | 42/10000 [00:04<13:55, 11.91it/s, episode_reward=60, running_reward=42.4]"
     ]
    },
    {
     "name": "stderr",
     "output_type": "stream",
     "text": [
      "\r",
      "Episode 42:   0%|          | 42/10000 [00:04<13:55, 11.91it/s, episode_reward=60, running_reward=42.4]"
     ]
    },
    {
     "name": "stderr",
     "output_type": "stream",
     "text": [
      "\r",
      "Episode 42:   0%|          | 42/10000 [00:04<13:55, 11.91it/s, episode_reward=61, running_reward=42.8]"
     ]
    },
    {
     "name": "stderr",
     "output_type": "stream",
     "text": [
      "\r",
      "Episode 43:   0%|          | 42/10000 [00:05<13:55, 11.91it/s, episode_reward=61, running_reward=42.8]"
     ]
    },
    {
     "name": "stderr",
     "output_type": "stream",
     "text": [
      "\r",
      "Episode 43:   0%|          | 42/10000 [00:05<13:55, 11.91it/s, episode_reward=72, running_reward=43.5]"
     ]
    },
    {
     "name": "stderr",
     "output_type": "stream",
     "text": [
      "\r",
      "Episode 43:   0%|          | 44/10000 [00:05<15:15, 10.87it/s, episode_reward=72, running_reward=43.5]"
     ]
    },
    {
     "name": "stderr",
     "output_type": "stream",
     "text": [
      "\r",
      "Episode 44:   0%|          | 44/10000 [00:05<15:15, 10.87it/s, episode_reward=72, running_reward=43.5]"
     ]
    },
    {
     "name": "stderr",
     "output_type": "stream",
     "text": [
      "\r",
      "Episode 44:   0%|          | 44/10000 [00:05<15:15, 10.87it/s, episode_reward=47, running_reward=43.6]"
     ]
    },
    {
     "name": "stderr",
     "output_type": "stream",
     "text": [
      "\r",
      "Episode 45:   0%|          | 44/10000 [00:05<15:15, 10.87it/s, episode_reward=47, running_reward=43.6]"
     ]
    },
    {
     "name": "stderr",
     "output_type": "stream",
     "text": [
      "\r",
      "Episode 45:   0%|          | 44/10000 [00:05<15:15, 10.87it/s, episode_reward=39, running_reward=43.5]"
     ]
    },
    {
     "name": "stderr",
     "output_type": "stream",
     "text": [
      "\r",
      "Episode 45:   0%|          | 46/10000 [00:05<14:29, 11.45it/s, episode_reward=39, running_reward=43.5]"
     ]
    },
    {
     "name": "stderr",
     "output_type": "stream",
     "text": [
      "\r",
      "Episode 46:   0%|          | 46/10000 [00:05<14:29, 11.45it/s, episode_reward=39, running_reward=43.5]"
     ]
    },
    {
     "name": "stderr",
     "output_type": "stream",
     "text": [
      "\r",
      "Episode 46:   0%|          | 46/10000 [00:05<14:29, 11.45it/s, episode_reward=53, running_reward=43.7]"
     ]
    },
    {
     "name": "stderr",
     "output_type": "stream",
     "text": [
      "\r",
      "Episode 47:   0%|          | 46/10000 [00:05<14:29, 11.45it/s, episode_reward=53, running_reward=43.7]"
     ]
    },
    {
     "name": "stderr",
     "output_type": "stream",
     "text": [
      "\r",
      "Episode 47:   0%|          | 46/10000 [00:05<14:29, 11.45it/s, episode_reward=31, running_reward=43.4]"
     ]
    },
    {
     "name": "stderr",
     "output_type": "stream",
     "text": [
      "\r",
      "Episode 47:   0%|          | 48/10000 [00:05<13:38, 12.16it/s, episode_reward=31, running_reward=43.4]"
     ]
    },
    {
     "name": "stderr",
     "output_type": "stream",
     "text": [
      "\r",
      "Episode 48:   0%|          | 48/10000 [00:05<13:38, 12.16it/s, episode_reward=31, running_reward=43.4]"
     ]
    },
    {
     "name": "stderr",
     "output_type": "stream",
     "text": [
      "\r",
      "Episode 48:   0%|          | 48/10000 [00:05<13:38, 12.16it/s, episode_reward=69, running_reward=43.9]"
     ]
    },
    {
     "name": "stderr",
     "output_type": "stream",
     "text": [
      "\r",
      "Episode 49:   0%|          | 48/10000 [00:05<13:38, 12.16it/s, episode_reward=69, running_reward=43.9]"
     ]
    },
    {
     "name": "stderr",
     "output_type": "stream",
     "text": [
      "\r",
      "Episode 49:   0%|          | 48/10000 [00:05<13:38, 12.16it/s, episode_reward=18, running_reward=43.4]"
     ]
    },
    {
     "name": "stderr",
     "output_type": "stream",
     "text": [
      "\r",
      "Episode 49:   0%|          | 50/10000 [00:05<13:25, 12.36it/s, episode_reward=18, running_reward=43.4]"
     ]
    },
    {
     "name": "stderr",
     "output_type": "stream",
     "text": [
      "\r",
      "Episode 50:   0%|          | 50/10000 [00:05<13:25, 12.36it/s, episode_reward=18, running_reward=43.4]"
     ]
    },
    {
     "name": "stderr",
     "output_type": "stream",
     "text": [
      "\r",
      "Episode 50:   0%|          | 50/10000 [00:05<13:25, 12.36it/s, episode_reward=18, running_reward=42.9]"
     ]
    },
    {
     "name": "stderr",
     "output_type": "stream",
     "text": [
      "\r",
      "Episode 51:   0%|          | 50/10000 [00:05<13:25, 12.36it/s, episode_reward=18, running_reward=42.9]"
     ]
    },
    {
     "name": "stderr",
     "output_type": "stream",
     "text": [
      "\r",
      "Episode 51:   0%|          | 50/10000 [00:05<13:25, 12.36it/s, episode_reward=18, running_reward=42.4]"
     ]
    },
    {
     "name": "stderr",
     "output_type": "stream",
     "text": [
      "\r",
      "Episode 52:   0%|          | 50/10000 [00:05<13:25, 12.36it/s, episode_reward=18, running_reward=42.4]"
     ]
    },
    {
     "name": "stderr",
     "output_type": "stream",
     "text": [
      "\r",
      "Episode 52:   0%|          | 50/10000 [00:05<13:25, 12.36it/s, episode_reward=49, running_reward=42.5]"
     ]
    },
    {
     "name": "stderr",
     "output_type": "stream",
     "text": [
      "\r",
      "Episode 52:   1%|          | 53/10000 [00:05<11:26, 14.50it/s, episode_reward=49, running_reward=42.5]"
     ]
    },
    {
     "name": "stderr",
     "output_type": "stream",
     "text": [
      "\r",
      "Episode 53:   1%|          | 53/10000 [00:05<11:26, 14.50it/s, episode_reward=49, running_reward=42.5]"
     ]
    },
    {
     "name": "stderr",
     "output_type": "stream",
     "text": [
      "\r",
      "Episode 53:   1%|          | 53/10000 [00:05<11:26, 14.50it/s, episode_reward=52, running_reward=42.7]"
     ]
    },
    {
     "name": "stderr",
     "output_type": "stream",
     "text": [
      "\r",
      "Episode 54:   1%|          | 53/10000 [00:05<11:26, 14.50it/s, episode_reward=52, running_reward=42.7]"
     ]
    },
    {
     "name": "stderr",
     "output_type": "stream",
     "text": [
      "\r",
      "Episode 54:   1%|          | 53/10000 [00:05<11:26, 14.50it/s, episode_reward=31, running_reward=42.5]"
     ]
    },
    {
     "name": "stderr",
     "output_type": "stream",
     "text": [
      "\r",
      "Episode 54:   1%|          | 55/10000 [00:05<11:30, 14.41it/s, episode_reward=31, running_reward=42.5]"
     ]
    },
    {
     "name": "stderr",
     "output_type": "stream",
     "text": [
      "\r",
      "Episode 55:   1%|          | 55/10000 [00:05<11:30, 14.41it/s, episode_reward=31, running_reward=42.5]"
     ]
    },
    {
     "name": "stderr",
     "output_type": "stream",
     "text": [
      "\r",
      "Episode 55:   1%|          | 55/10000 [00:05<11:30, 14.41it/s, episode_reward=34, running_reward=42.4]"
     ]
    },
    {
     "name": "stderr",
     "output_type": "stream",
     "text": [
      "\r",
      "Episode 56:   1%|          | 55/10000 [00:05<11:30, 14.41it/s, episode_reward=34, running_reward=42.4]"
     ]
    },
    {
     "name": "stderr",
     "output_type": "stream",
     "text": [
      "\r",
      "Episode 56:   1%|          | 55/10000 [00:05<11:30, 14.41it/s, episode_reward=58, running_reward=42.6]"
     ]
    },
    {
     "name": "stderr",
     "output_type": "stream",
     "text": [
      "\r",
      "Episode 56:   1%|          | 57/10000 [00:05<11:45, 14.08it/s, episode_reward=58, running_reward=42.6]"
     ]
    },
    {
     "name": "stderr",
     "output_type": "stream",
     "text": [
      "\r",
      "Episode 57:   1%|          | 57/10000 [00:06<11:45, 14.08it/s, episode_reward=58, running_reward=42.6]"
     ]
    },
    {
     "name": "stderr",
     "output_type": "stream",
     "text": [
      "\r",
      "Episode 57:   1%|          | 57/10000 [00:06<11:45, 14.08it/s, episode_reward=73, running_reward=43.2]"
     ]
    },
    {
     "name": "stderr",
     "output_type": "stream",
     "text": [
      "\r",
      "Episode 58:   1%|          | 57/10000 [00:06<11:45, 14.08it/s, episode_reward=73, running_reward=43.2]"
     ]
    },
    {
     "name": "stderr",
     "output_type": "stream",
     "text": [
      "\r",
      "Episode 58:   1%|          | 57/10000 [00:06<11:45, 14.08it/s, episode_reward=121, running_reward=44.5]"
     ]
    },
    {
     "name": "stderr",
     "output_type": "stream",
     "text": [
      "\r",
      "Episode 58:   1%|          | 59/10000 [00:06<15:47, 10.50it/s, episode_reward=121, running_reward=44.5]"
     ]
    },
    {
     "name": "stderr",
     "output_type": "stream",
     "text": [
      "\r",
      "Episode 59:   1%|          | 59/10000 [00:06<15:47, 10.50it/s, episode_reward=121, running_reward=44.5]"
     ]
    },
    {
     "name": "stderr",
     "output_type": "stream",
     "text": [
      "\r",
      "Episode 59:   1%|          | 59/10000 [00:06<15:47, 10.50it/s, episode_reward=136, running_reward=46]  "
     ]
    },
    {
     "name": "stderr",
     "output_type": "stream",
     "text": [
      "\r",
      "Episode 60:   1%|          | 59/10000 [00:06<15:47, 10.50it/s, episode_reward=136, running_reward=46]"
     ]
    },
    {
     "name": "stderr",
     "output_type": "stream",
     "text": [
      "\r",
      "Episode 60:   1%|          | 59/10000 [00:06<15:47, 10.50it/s, episode_reward=59, running_reward=46.2]"
     ]
    },
    {
     "name": "stderr",
     "output_type": "stream",
     "text": [
      "\r",
      "Episode 60:   1%|          | 61/10000 [00:06<19:09,  8.65it/s, episode_reward=59, running_reward=46.2]"
     ]
    },
    {
     "name": "stderr",
     "output_type": "stream",
     "text": [
      "\r",
      "Episode 61:   1%|          | 61/10000 [00:06<19:09,  8.65it/s, episode_reward=59, running_reward=46.2]"
     ]
    },
    {
     "name": "stderr",
     "output_type": "stream",
     "text": [
      "\r",
      "Episode 61:   1%|          | 61/10000 [00:06<19:09,  8.65it/s, episode_reward=55, running_reward=46.4]"
     ]
    },
    {
     "name": "stderr",
     "output_type": "stream",
     "text": [
      "\r",
      "Episode 62:   1%|          | 61/10000 [00:06<19:09,  8.65it/s, episode_reward=55, running_reward=46.4]"
     ]
    },
    {
     "name": "stderr",
     "output_type": "stream",
     "text": [
      "\r",
      "Episode 62:   1%|          | 61/10000 [00:06<19:09,  8.65it/s, episode_reward=112, running_reward=47.4]"
     ]
    },
    {
     "name": "stderr",
     "output_type": "stream",
     "text": [
      "\r",
      "Episode 62:   1%|          | 63/10000 [00:06<20:33,  8.06it/s, episode_reward=112, running_reward=47.4]"
     ]
    },
    {
     "name": "stderr",
     "output_type": "stream",
     "text": [
      "\r",
      "Episode 63:   1%|          | 63/10000 [00:07<20:33,  8.06it/s, episode_reward=112, running_reward=47.4]"
     ]
    },
    {
     "name": "stderr",
     "output_type": "stream",
     "text": [
      "\r",
      "Episode 63:   1%|          | 63/10000 [00:07<20:33,  8.06it/s, episode_reward=169, running_reward=49.3]"
     ]
    },
    {
     "name": "stderr",
     "output_type": "stream",
     "text": [
      "\r",
      "Episode 63:   1%|          | 64/10000 [00:07<24:56,  6.64it/s, episode_reward=169, running_reward=49.3]"
     ]
    },
    {
     "name": "stderr",
     "output_type": "stream",
     "text": [
      "\r",
      "Episode 64:   1%|          | 64/10000 [00:07<24:56,  6.64it/s, episode_reward=169, running_reward=49.3]"
     ]
    },
    {
     "name": "stderr",
     "output_type": "stream",
     "text": [
      "\r",
      "Episode 64:   1%|          | 64/10000 [00:07<24:56,  6.64it/s, episode_reward=182, running_reward=51.3]"
     ]
    },
    {
     "name": "stderr",
     "output_type": "stream",
     "text": [
      "\r",
      "Episode 64:   1%|          | 65/10000 [00:07<30:13,  5.48it/s, episode_reward=182, running_reward=51.3]"
     ]
    },
    {
     "name": "stderr",
     "output_type": "stream",
     "text": [
      "\r",
      "Episode 65:   1%|          | 65/10000 [00:07<30:13,  5.48it/s, episode_reward=182, running_reward=51.3]"
     ]
    },
    {
     "name": "stderr",
     "output_type": "stream",
     "text": [
      "\r",
      "Episode 65:   1%|          | 65/10000 [00:07<30:13,  5.48it/s, episode_reward=113, running_reward=52.3]"
     ]
    },
    {
     "name": "stderr",
     "output_type": "stream",
     "text": [
      "\r",
      "Episode 65:   1%|          | 66/10000 [00:07<30:37,  5.41it/s, episode_reward=113, running_reward=52.3]"
     ]
    },
    {
     "name": "stderr",
     "output_type": "stream",
     "text": [
      "\r",
      "Episode 66:   1%|          | 66/10000 [00:07<30:37,  5.41it/s, episode_reward=113, running_reward=52.3]"
     ]
    },
    {
     "name": "stderr",
     "output_type": "stream",
     "text": [
      "\r",
      "Episode 66:   1%|          | 66/10000 [00:07<30:37,  5.41it/s, episode_reward=129, running_reward=53.4]"
     ]
    },
    {
     "name": "stderr",
     "output_type": "stream",
     "text": [
      "\r",
      "Episode 66:   1%|          | 67/10000 [00:07<31:49,  5.20it/s, episode_reward=129, running_reward=53.4]"
     ]
    },
    {
     "name": "stderr",
     "output_type": "stream",
     "text": [
      "\r",
      "Episode 67:   1%|          | 67/10000 [00:07<31:49,  5.20it/s, episode_reward=129, running_reward=53.4]"
     ]
    },
    {
     "name": "stderr",
     "output_type": "stream",
     "text": [
      "\r",
      "Episode 67:   1%|          | 67/10000 [00:07<31:49,  5.20it/s, episode_reward=36, running_reward=53.2] "
     ]
    },
    {
     "name": "stderr",
     "output_type": "stream",
     "text": [
      "\r",
      "Episode 68:   1%|          | 67/10000 [00:07<31:49,  5.20it/s, episode_reward=36, running_reward=53.2]"
     ]
    },
    {
     "name": "stderr",
     "output_type": "stream",
     "text": [
      "\r",
      "Episode 68:   1%|          | 67/10000 [00:07<31:49,  5.20it/s, episode_reward=37, running_reward=52.9]"
     ]
    },
    {
     "name": "stderr",
     "output_type": "stream",
     "text": [
      "\r",
      "Episode 68:   1%|          | 69/10000 [00:07<23:04,  7.17it/s, episode_reward=37, running_reward=52.9]"
     ]
    },
    {
     "name": "stderr",
     "output_type": "stream",
     "text": [
      "\r",
      "Episode 69:   1%|          | 69/10000 [00:08<23:04,  7.17it/s, episode_reward=37, running_reward=52.9]"
     ]
    },
    {
     "name": "stderr",
     "output_type": "stream",
     "text": [
      "\r",
      "Episode 69:   1%|          | 69/10000 [00:08<23:04,  7.17it/s, episode_reward=137, running_reward=54.1]"
     ]
    },
    {
     "name": "stderr",
     "output_type": "stream",
     "text": [
      "\r",
      "Episode 69:   1%|          | 70/10000 [00:08<26:08,  6.33it/s, episode_reward=137, running_reward=54.1]"
     ]
    },
    {
     "name": "stderr",
     "output_type": "stream",
     "text": [
      "\r",
      "Episode 70:   1%|          | 70/10000 [00:08<26:08,  6.33it/s, episode_reward=137, running_reward=54.1]"
     ]
    },
    {
     "name": "stderr",
     "output_type": "stream",
     "text": [
      "\r",
      "Episode 70:   1%|          | 70/10000 [00:08<26:08,  6.33it/s, episode_reward=44, running_reward=54]   "
     ]
    },
    {
     "name": "stderr",
     "output_type": "stream",
     "text": [
      "\r",
      "Episode 71:   1%|          | 70/10000 [00:08<26:08,  6.33it/s, episode_reward=44, running_reward=54]"
     ]
    },
    {
     "name": "stderr",
     "output_type": "stream",
     "text": [
      "\r",
      "Episode 71:   1%|          | 70/10000 [00:08<26:08,  6.33it/s, episode_reward=100, running_reward=54.6]"
     ]
    },
    {
     "name": "stderr",
     "output_type": "stream",
     "text": [
      "\r",
      "Episode 71:   1%|          | 72/10000 [00:08<23:33,  7.02it/s, episode_reward=100, running_reward=54.6]"
     ]
    },
    {
     "name": "stderr",
     "output_type": "stream",
     "text": [
      "\r",
      "Episode 72:   1%|          | 72/10000 [00:08<23:33,  7.02it/s, episode_reward=100, running_reward=54.6]"
     ]
    },
    {
     "name": "stderr",
     "output_type": "stream",
     "text": [
      "\r",
      "Episode 72:   1%|          | 72/10000 [00:08<23:33,  7.02it/s, episode_reward=35, running_reward=54.4] "
     ]
    },
    {
     "name": "stderr",
     "output_type": "stream",
     "text": [
      "\r",
      "Episode 73:   1%|          | 72/10000 [00:08<23:33,  7.02it/s, episode_reward=35, running_reward=54.4]"
     ]
    },
    {
     "name": "stderr",
     "output_type": "stream",
     "text": [
      "\r",
      "Episode 73:   1%|          | 72/10000 [00:08<23:33,  7.02it/s, episode_reward=38, running_reward=54.1]"
     ]
    },
    {
     "name": "stderr",
     "output_type": "stream",
     "text": [
      "\r",
      "Episode 73:   1%|          | 74/10000 [00:08<18:41,  8.85it/s, episode_reward=38, running_reward=54.1]"
     ]
    },
    {
     "name": "stderr",
     "output_type": "stream",
     "text": [
      "\r",
      "Episode 74:   1%|          | 74/10000 [00:08<18:41,  8.85it/s, episode_reward=38, running_reward=54.1]"
     ]
    },
    {
     "name": "stderr",
     "output_type": "stream",
     "text": [
      "\r",
      "Episode 74:   1%|          | 74/10000 [00:08<18:41,  8.85it/s, episode_reward=34, running_reward=53.9]"
     ]
    },
    {
     "name": "stderr",
     "output_type": "stream",
     "text": [
      "\r",
      "Episode 75:   1%|          | 74/10000 [00:08<18:41,  8.85it/s, episode_reward=34, running_reward=53.9]"
     ]
    },
    {
     "name": "stderr",
     "output_type": "stream",
     "text": [
      "\r",
      "Episode 75:   1%|          | 74/10000 [00:08<18:41,  8.85it/s, episode_reward=41, running_reward=53.7]"
     ]
    },
    {
     "name": "stderr",
     "output_type": "stream",
     "text": [
      "\r",
      "Episode 75:   1%|          | 76/10000 [00:08<15:57, 10.37it/s, episode_reward=41, running_reward=53.7]"
     ]
    },
    {
     "name": "stderr",
     "output_type": "stream",
     "text": [
      "\r",
      "Episode 76:   1%|          | 76/10000 [00:08<15:57, 10.37it/s, episode_reward=41, running_reward=53.7]"
     ]
    },
    {
     "name": "stderr",
     "output_type": "stream",
     "text": [
      "\r",
      "Episode 76:   1%|          | 76/10000 [00:08<15:57, 10.37it/s, episode_reward=41, running_reward=53.5]"
     ]
    },
    {
     "name": "stderr",
     "output_type": "stream",
     "text": [
      "\r",
      "Episode 77:   1%|          | 76/10000 [00:09<15:57, 10.37it/s, episode_reward=41, running_reward=53.5]"
     ]
    },
    {
     "name": "stderr",
     "output_type": "stream",
     "text": [
      "\r",
      "Episode 77:   1%|          | 76/10000 [00:09<15:57, 10.37it/s, episode_reward=200, running_reward=55.4]"
     ]
    },
    {
     "name": "stderr",
     "output_type": "stream",
     "text": [
      "\r",
      "Episode 77:   1%|          | 78/10000 [00:09<21:20,  7.75it/s, episode_reward=200, running_reward=55.4]"
     ]
    },
    {
     "name": "stderr",
     "output_type": "stream",
     "text": [
      "\r",
      "Episode 78:   1%|          | 78/10000 [00:09<21:20,  7.75it/s, episode_reward=200, running_reward=55.4]"
     ]
    },
    {
     "name": "stderr",
     "output_type": "stream",
     "text": [
      "\r",
      "Episode 78:   1%|          | 78/10000 [00:09<21:20,  7.75it/s, episode_reward=161, running_reward=56.7]"
     ]
    },
    {
     "name": "stderr",
     "output_type": "stream",
     "text": [
      "\r",
      "Episode 78:   1%|          | 79/10000 [00:09<25:38,  6.45it/s, episode_reward=161, running_reward=56.7]"
     ]
    },
    {
     "name": "stderr",
     "output_type": "stream",
     "text": [
      "\r",
      "Episode 79:   1%|          | 79/10000 [00:09<25:38,  6.45it/s, episode_reward=161, running_reward=56.7]"
     ]
    },
    {
     "name": "stderr",
     "output_type": "stream",
     "text": [
      "\r",
      "Episode 79:   1%|          | 79/10000 [00:09<25:38,  6.45it/s, episode_reward=30, running_reward=56.4] "
     ]
    },
    {
     "name": "stderr",
     "output_type": "stream",
     "text": [
      "\r",
      "Episode 80:   1%|          | 79/10000 [00:09<25:38,  6.45it/s, episode_reward=30, running_reward=56.4]"
     ]
    },
    {
     "name": "stderr",
     "output_type": "stream",
     "text": [
      "\r",
      "Episode 80:   1%|          | 79/10000 [00:09<25:38,  6.45it/s, episode_reward=200, running_reward=58.2]"
     ]
    },
    {
     "name": "stderr",
     "output_type": "stream",
     "text": [
      "\r",
      "Episode 80:   1%|          | 81/10000 [00:09<28:00,  5.90it/s, episode_reward=200, running_reward=58.2]"
     ]
    },
    {
     "name": "stderr",
     "output_type": "stream",
     "text": [
      "\r",
      "Episode 81:   1%|          | 81/10000 [00:09<28:00,  5.90it/s, episode_reward=200, running_reward=58.2]"
     ]
    },
    {
     "name": "stderr",
     "output_type": "stream",
     "text": [
      "\r",
      "Episode 81:   1%|          | 81/10000 [00:09<28:00,  5.90it/s, episode_reward=100, running_reward=58.7]"
     ]
    },
    {
     "name": "stderr",
     "output_type": "stream",
     "text": [
      "\r",
      "Episode 81:   1%|          | 82/10000 [00:09<28:01,  5.90it/s, episode_reward=100, running_reward=58.7]"
     ]
    },
    {
     "name": "stderr",
     "output_type": "stream",
     "text": [
      "\r",
      "Episode 82:   1%|          | 82/10000 [00:10<28:01,  5.90it/s, episode_reward=100, running_reward=58.7]"
     ]
    },
    {
     "name": "stderr",
     "output_type": "stream",
     "text": [
      "\r",
      "Episode 82:   1%|          | 82/10000 [00:10<28:01,  5.90it/s, episode_reward=186, running_reward=60.2]"
     ]
    },
    {
     "name": "stderr",
     "output_type": "stream",
     "text": [
      "\r",
      "Episode 82:   1%|          | 83/10000 [00:10<32:29,  5.09it/s, episode_reward=186, running_reward=60.2]"
     ]
    },
    {
     "name": "stderr",
     "output_type": "stream",
     "text": [
      "\r",
      "Episode 83:   1%|          | 83/10000 [00:10<32:29,  5.09it/s, episode_reward=186, running_reward=60.2]"
     ]
    },
    {
     "name": "stderr",
     "output_type": "stream",
     "text": [
      "\r",
      "Episode 83:   1%|          | 83/10000 [00:10<32:29,  5.09it/s, episode_reward=200, running_reward=61.9]"
     ]
    },
    {
     "name": "stderr",
     "output_type": "stream",
     "text": [
      "\r",
      "Episode 83:   1%|          | 84/10000 [00:10<37:10,  4.45it/s, episode_reward=200, running_reward=61.9]"
     ]
    },
    {
     "name": "stderr",
     "output_type": "stream",
     "text": [
      "\r",
      "Episode 84:   1%|          | 84/10000 [00:10<37:10,  4.45it/s, episode_reward=200, running_reward=61.9]"
     ]
    },
    {
     "name": "stderr",
     "output_type": "stream",
     "text": [
      "\r",
      "Episode 84:   1%|          | 84/10000 [00:10<37:10,  4.45it/s, episode_reward=200, running_reward=63.5]"
     ]
    },
    {
     "name": "stderr",
     "output_type": "stream",
     "text": [
      "\r",
      "Episode 84:   1%|          | 85/10000 [00:10<41:07,  4.02it/s, episode_reward=200, running_reward=63.5]"
     ]
    },
    {
     "name": "stderr",
     "output_type": "stream",
     "text": [
      "\r",
      "Episode 85:   1%|          | 85/10000 [00:11<41:07,  4.02it/s, episode_reward=200, running_reward=63.5]"
     ]
    },
    {
     "name": "stderr",
     "output_type": "stream",
     "text": [
      "\r",
      "Episode 85:   1%|          | 85/10000 [00:11<41:07,  4.02it/s, episode_reward=200, running_reward=65.1]"
     ]
    },
    {
     "name": "stderr",
     "output_type": "stream",
     "text": [
      "\r",
      "Episode 85:   1%|          | 86/10000 [00:11<43:54,  3.76it/s, episode_reward=200, running_reward=65.1]"
     ]
    },
    {
     "name": "stderr",
     "output_type": "stream",
     "text": [
      "\r",
      "Episode 86:   1%|          | 86/10000 [00:11<43:54,  3.76it/s, episode_reward=200, running_reward=65.1]"
     ]
    },
    {
     "name": "stderr",
     "output_type": "stream",
     "text": [
      "\r",
      "Episode 86:   1%|          | 86/10000 [00:11<43:54,  3.76it/s, episode_reward=200, running_reward=66.7]"
     ]
    },
    {
     "name": "stderr",
     "output_type": "stream",
     "text": [
      "\r",
      "Episode 86:   1%|          | 87/10000 [00:11<46:19,  3.57it/s, episode_reward=200, running_reward=66.7]"
     ]
    },
    {
     "name": "stderr",
     "output_type": "stream",
     "text": [
      "\r",
      "Episode 87:   1%|          | 87/10000 [00:11<46:19,  3.57it/s, episode_reward=200, running_reward=66.7]"
     ]
    },
    {
     "name": "stderr",
     "output_type": "stream",
     "text": [
      "\r",
      "Episode 87:   1%|          | 87/10000 [00:11<46:19,  3.57it/s, episode_reward=200, running_reward=68.2]"
     ]
    },
    {
     "name": "stderr",
     "output_type": "stream",
     "text": [
      "\r",
      "Episode 87:   1%|          | 88/10000 [00:11<47:45,  3.46it/s, episode_reward=200, running_reward=68.2]"
     ]
    },
    {
     "name": "stderr",
     "output_type": "stream",
     "text": [
      "\r",
      "Episode 88:   1%|          | 88/10000 [00:12<47:45,  3.46it/s, episode_reward=200, running_reward=68.2]"
     ]
    },
    {
     "name": "stderr",
     "output_type": "stream",
     "text": [
      "\r",
      "Episode 88:   1%|          | 88/10000 [00:12<47:45,  3.46it/s, episode_reward=200, running_reward=69.7]"
     ]
    },
    {
     "name": "stderr",
     "output_type": "stream",
     "text": [
      "\r",
      "Episode 88:   1%|          | 89/10000 [00:12<48:49,  3.38it/s, episode_reward=200, running_reward=69.7]"
     ]
    },
    {
     "name": "stderr",
     "output_type": "stream",
     "text": [
      "\r",
      "Episode 89:   1%|          | 89/10000 [00:12<48:49,  3.38it/s, episode_reward=200, running_reward=69.7]"
     ]
    },
    {
     "name": "stderr",
     "output_type": "stream",
     "text": [
      "\r",
      "Episode 89:   1%|          | 89/10000 [00:12<48:49,  3.38it/s, episode_reward=128, running_reward=70.3]"
     ]
    },
    {
     "name": "stderr",
     "output_type": "stream",
     "text": [
      "\r",
      "Episode 89:   1%|          | 90/10000 [00:12<45:14,  3.65it/s, episode_reward=128, running_reward=70.3]"
     ]
    },
    {
     "name": "stderr",
     "output_type": "stream",
     "text": [
      "\r",
      "Episode 90:   1%|          | 90/10000 [00:12<45:14,  3.65it/s, episode_reward=128, running_reward=70.3]"
     ]
    },
    {
     "name": "stderr",
     "output_type": "stream",
     "text": [
      "\r",
      "Episode 90:   1%|          | 90/10000 [00:12<45:14,  3.65it/s, episode_reward=185, running_reward=71.6]"
     ]
    },
    {
     "name": "stderr",
     "output_type": "stream",
     "text": [
      "\r",
      "Episode 90:   1%|          | 91/10000 [00:12<46:07,  3.58it/s, episode_reward=185, running_reward=71.6]"
     ]
    },
    {
     "name": "stderr",
     "output_type": "stream",
     "text": [
      "\r",
      "Episode 91:   1%|          | 91/10000 [00:12<46:07,  3.58it/s, episode_reward=185, running_reward=71.6]"
     ]
    },
    {
     "name": "stderr",
     "output_type": "stream",
     "text": [
      "\r",
      "Episode 91:   1%|          | 91/10000 [00:12<46:07,  3.58it/s, episode_reward=200, running_reward=73]  "
     ]
    },
    {
     "name": "stderr",
     "output_type": "stream",
     "text": [
      "\r",
      "Episode 91:   1%|          | 92/10000 [00:12<47:48,  3.45it/s, episode_reward=200, running_reward=73]"
     ]
    },
    {
     "name": "stderr",
     "output_type": "stream",
     "text": [
      "\r",
      "Episode 92:   1%|          | 92/10000 [00:13<47:48,  3.45it/s, episode_reward=200, running_reward=73]"
     ]
    },
    {
     "name": "stderr",
     "output_type": "stream",
     "text": [
      "\r",
      "Episode 92:   1%|          | 92/10000 [00:13<47:48,  3.45it/s, episode_reward=194, running_reward=74.3]"
     ]
    },
    {
     "name": "stderr",
     "output_type": "stream",
     "text": [
      "\r",
      "Episode 92:   1%|          | 93/10000 [00:13<48:12,  3.43it/s, episode_reward=194, running_reward=74.3]"
     ]
    },
    {
     "name": "stderr",
     "output_type": "stream",
     "text": [
      "\r",
      "Episode 93:   1%|          | 93/10000 [00:13<48:12,  3.43it/s, episode_reward=194, running_reward=74.3]"
     ]
    },
    {
     "name": "stderr",
     "output_type": "stream",
     "text": [
      "\r",
      "Episode 93:   1%|          | 93/10000 [00:13<48:12,  3.43it/s, episode_reward=137, running_reward=74.9]"
     ]
    },
    {
     "name": "stderr",
     "output_type": "stream",
     "text": [
      "\r",
      "Episode 93:   1%|          | 94/10000 [00:13<44:36,  3.70it/s, episode_reward=137, running_reward=74.9]"
     ]
    },
    {
     "name": "stderr",
     "output_type": "stream",
     "text": [
      "\r",
      "Episode 94:   1%|          | 94/10000 [00:13<44:36,  3.70it/s, episode_reward=137, running_reward=74.9]"
     ]
    },
    {
     "name": "stderr",
     "output_type": "stream",
     "text": [
      "\r",
      "Episode 94:   1%|          | 94/10000 [00:13<44:36,  3.70it/s, episode_reward=200, running_reward=76.2]"
     ]
    },
    {
     "name": "stderr",
     "output_type": "stream",
     "text": [
      "\r",
      "Episode 94:   1%|          | 95/10000 [00:13<46:46,  3.53it/s, episode_reward=200, running_reward=76.2]"
     ]
    },
    {
     "name": "stderr",
     "output_type": "stream",
     "text": [
      "\r",
      "Episode 95:   1%|          | 95/10000 [00:13<46:46,  3.53it/s, episode_reward=200, running_reward=76.2]"
     ]
    },
    {
     "name": "stderr",
     "output_type": "stream",
     "text": [
      "\r",
      "Episode 95:   1%|          | 95/10000 [00:13<46:46,  3.53it/s, episode_reward=125, running_reward=76.8]"
     ]
    },
    {
     "name": "stderr",
     "output_type": "stream",
     "text": [
      "\r",
      "Episode 95:   1%|          | 96/10000 [00:13<43:49,  3.77it/s, episode_reward=125, running_reward=76.8]"
     ]
    },
    {
     "name": "stderr",
     "output_type": "stream",
     "text": [
      "\r",
      "Episode 96:   1%|          | 96/10000 [00:14<43:49,  3.77it/s, episode_reward=125, running_reward=76.8]"
     ]
    },
    {
     "name": "stderr",
     "output_type": "stream",
     "text": [
      "\r",
      "Episode 96:   1%|          | 96/10000 [00:14<43:49,  3.77it/s, episode_reward=157, running_reward=77.6]"
     ]
    },
    {
     "name": "stderr",
     "output_type": "stream",
     "text": [
      "\r",
      "Episode 96:   1%|          | 97/10000 [00:14<43:23,  3.80it/s, episode_reward=157, running_reward=77.6]"
     ]
    },
    {
     "name": "stderr",
     "output_type": "stream",
     "text": [
      "\r",
      "Episode 97:   1%|          | 97/10000 [00:14<43:23,  3.80it/s, episode_reward=157, running_reward=77.6]"
     ]
    },
    {
     "name": "stderr",
     "output_type": "stream",
     "text": [
      "\r",
      "Episode 97:   1%|          | 97/10000 [00:14<43:23,  3.80it/s, episode_reward=132, running_reward=78.1]"
     ]
    },
    {
     "name": "stderr",
     "output_type": "stream",
     "text": [
      "\r",
      "Episode 97:   1%|          | 98/10000 [00:14<40:55,  4.03it/s, episode_reward=132, running_reward=78.1]"
     ]
    },
    {
     "name": "stderr",
     "output_type": "stream",
     "text": [
      "\r",
      "Episode 98:   1%|          | 98/10000 [00:14<40:55,  4.03it/s, episode_reward=132, running_reward=78.1]"
     ]
    },
    {
     "name": "stderr",
     "output_type": "stream",
     "text": [
      "\r",
      "Episode 98:   1%|          | 98/10000 [00:14<40:55,  4.03it/s, episode_reward=36, running_reward=77.7] "
     ]
    },
    {
     "name": "stderr",
     "output_type": "stream",
     "text": [
      "\r",
      "Episode 99:   1%|          | 98/10000 [00:14<40:55,  4.03it/s, episode_reward=36, running_reward=77.7]"
     ]
    },
    {
     "name": "stderr",
     "output_type": "stream",
     "text": [
      "\r",
      "Episode 99:   1%|          | 98/10000 [00:14<40:55,  4.03it/s, episode_reward=30, running_reward=77.2]"
     ]
    },
    {
     "name": "stderr",
     "output_type": "stream",
     "text": [
      "\r",
      "Episode 99:   1%|          | 100/10000 [00:14<26:07,  6.31it/s, episode_reward=30, running_reward=77.2]"
     ]
    },
    {
     "name": "stderr",
     "output_type": "stream",
     "text": [
      "\r",
      "Episode 100:   1%|          | 100/10000 [00:14<26:07,  6.31it/s, episode_reward=30, running_reward=77.2]"
     ]
    },
    {
     "name": "stderr",
     "output_type": "stream",
     "text": [
      "\r",
      "Episode 100:   1%|          | 100/10000 [00:14<26:07,  6.31it/s, episode_reward=82, running_reward=77.7]"
     ]
    },
    {
     "name": "stderr",
     "output_type": "stream",
     "text": [
      "\r",
      "Episode 100:   1%|          | 101/10000 [00:14<24:53,  6.63it/s, episode_reward=82, running_reward=77.7]"
     ]
    },
    {
     "name": "stderr",
     "output_type": "stream",
     "text": [
      "\r",
      "Episode 101:   1%|          | 101/10000 [00:14<24:53,  6.63it/s, episode_reward=82, running_reward=77.7]"
     ]
    },
    {
     "name": "stderr",
     "output_type": "stream",
     "text": [
      "\r",
      "Episode 101:   1%|          | 101/10000 [00:14<24:53,  6.63it/s, episode_reward=28, running_reward=77.7]"
     ]
    },
    {
     "name": "stderr",
     "output_type": "stream",
     "text": [
      "\r",
      "Episode 102:   1%|          | 101/10000 [00:14<24:53,  6.63it/s, episode_reward=28, running_reward=77.7]"
     ]
    },
    {
     "name": "stderr",
     "output_type": "stream",
     "text": [
      "\r",
      "Episode 102:   1%|          | 101/10000 [00:14<24:53,  6.63it/s, episode_reward=73, running_reward=77.8]"
     ]
    },
    {
     "name": "stderr",
     "output_type": "stream",
     "text": [
      "\r",
      "Episode 102:   1%|          | 103/10000 [00:14<20:09,  8.18it/s, episode_reward=73, running_reward=77.8]"
     ]
    },
    {
     "name": "stderr",
     "output_type": "stream",
     "text": [
      "\r",
      "Episode 103:   1%|          | 103/10000 [00:14<20:09,  8.18it/s, episode_reward=73, running_reward=77.8]"
     ]
    },
    {
     "name": "stderr",
     "output_type": "stream",
     "text": [
      "\r",
      "Episode 103:   1%|          | 103/10000 [00:14<20:09,  8.18it/s, episode_reward=28, running_reward=77.9]"
     ]
    },
    {
     "name": "stderr",
     "output_type": "stream",
     "text": [
      "\r",
      "Episode 104:   1%|          | 103/10000 [00:14<20:09,  8.18it/s, episode_reward=28, running_reward=77.9]"
     ]
    },
    {
     "name": "stderr",
     "output_type": "stream",
     "text": [
      "\r",
      "Episode 104:   1%|          | 103/10000 [00:14<20:09,  8.18it/s, episode_reward=29, running_reward=77.9]"
     ]
    },
    {
     "name": "stderr",
     "output_type": "stream",
     "text": [
      "\r",
      "Episode 105:   1%|          | 103/10000 [00:15<20:09,  8.18it/s, episode_reward=29, running_reward=77.9]"
     ]
    },
    {
     "name": "stderr",
     "output_type": "stream",
     "text": [
      "\r",
      "Episode 105:   1%|          | 103/10000 [00:15<20:09,  8.18it/s, episode_reward=36, running_reward=77.7]"
     ]
    },
    {
     "name": "stderr",
     "output_type": "stream",
     "text": [
      "\r",
      "Episode 105:   1%|          | 106/10000 [00:15<14:45, 11.17it/s, episode_reward=36, running_reward=77.7]"
     ]
    },
    {
     "name": "stderr",
     "output_type": "stream",
     "text": [
      "\r",
      "Episode 106:   1%|          | 106/10000 [00:15<14:45, 11.17it/s, episode_reward=36, running_reward=77.7]"
     ]
    },
    {
     "name": "stderr",
     "output_type": "stream",
     "text": [
      "\r",
      "Episode 106:   1%|          | 106/10000 [00:15<14:45, 11.17it/s, episode_reward=25, running_reward=77.7]"
     ]
    },
    {
     "name": "stderr",
     "output_type": "stream",
     "text": [
      "\r",
      "Episode 107:   1%|          | 106/10000 [00:15<14:45, 11.17it/s, episode_reward=25, running_reward=77.7]"
     ]
    },
    {
     "name": "stderr",
     "output_type": "stream",
     "text": [
      "\r",
      "Episode 107:   1%|          | 106/10000 [00:15<14:45, 11.17it/s, episode_reward=37, running_reward=77.8]"
     ]
    },
    {
     "name": "stderr",
     "output_type": "stream",
     "text": [
      "\r",
      "Episode 107:   1%|          | 108/10000 [00:15<12:53, 12.78it/s, episode_reward=37, running_reward=77.8]"
     ]
    },
    {
     "name": "stderr",
     "output_type": "stream",
     "text": [
      "\r",
      "Episode 108:   1%|          | 108/10000 [00:15<12:53, 12.78it/s, episode_reward=37, running_reward=77.8]"
     ]
    },
    {
     "name": "stderr",
     "output_type": "stream",
     "text": [
      "\r",
      "Episode 108:   1%|          | 108/10000 [00:15<12:53, 12.78it/s, episode_reward=32, running_reward=78]  "
     ]
    },
    {
     "name": "stderr",
     "output_type": "stream",
     "text": [
      "\r",
      "Episode 109:   1%|          | 108/10000 [00:15<12:53, 12.78it/s, episode_reward=32, running_reward=78]"
     ]
    },
    {
     "name": "stderr",
     "output_type": "stream",
     "text": [
      "\r",
      "Episode 109:   1%|          | 108/10000 [00:15<12:53, 12.78it/s, episode_reward=40, running_reward=78]"
     ]
    },
    {
     "name": "stderr",
     "output_type": "stream",
     "text": [
      "\r",
      "Episode 109:   1%|          | 110/10000 [00:15<12:03, 13.67it/s, episode_reward=40, running_reward=78]"
     ]
    },
    {
     "name": "stderr",
     "output_type": "stream",
     "text": [
      "\r",
      "Episode 110:   1%|          | 110/10000 [00:15<12:03, 13.67it/s, episode_reward=40, running_reward=78]"
     ]
    },
    {
     "name": "stderr",
     "output_type": "stream",
     "text": [
      "\r",
      "Episode 110:   1%|          | 110/10000 [00:15<12:03, 13.67it/s, episode_reward=40, running_reward=78]"
     ]
    },
    {
     "name": "stderr",
     "output_type": "stream",
     "text": [
      "\r",
      "Episode 111:   1%|          | 110/10000 [00:15<12:03, 13.67it/s, episode_reward=40, running_reward=78]"
     ]
    },
    {
     "name": "stderr",
     "output_type": "stream",
     "text": [
      "\r",
      "Episode 111:   1%|          | 110/10000 [00:15<12:03, 13.67it/s, episode_reward=24, running_reward=77.5]"
     ]
    },
    {
     "name": "stderr",
     "output_type": "stream",
     "text": [
      "\r",
      "Episode 111:   1%|          | 112/10000 [00:15<11:02, 14.92it/s, episode_reward=24, running_reward=77.5]"
     ]
    },
    {
     "name": "stderr",
     "output_type": "stream",
     "text": [
      "\r",
      "Episode 112:   1%|          | 112/10000 [00:15<11:02, 14.92it/s, episode_reward=24, running_reward=77.5]"
     ]
    },
    {
     "name": "stderr",
     "output_type": "stream",
     "text": [
      "\r",
      "Episode 112:   1%|          | 112/10000 [00:15<11:02, 14.92it/s, episode_reward=39, running_reward=77.6]"
     ]
    },
    {
     "name": "stderr",
     "output_type": "stream",
     "text": [
      "\r",
      "Episode 113:   1%|          | 112/10000 [00:15<11:02, 14.92it/s, episode_reward=39, running_reward=77.6]"
     ]
    },
    {
     "name": "stderr",
     "output_type": "stream",
     "text": [
      "\r",
      "Episode 113:   1%|          | 112/10000 [00:15<11:02, 14.92it/s, episode_reward=36, running_reward=76.8]"
     ]
    },
    {
     "name": "stderr",
     "output_type": "stream",
     "text": [
      "\r",
      "Episode 113:   1%|          | 114/10000 [00:15<10:48, 15.25it/s, episode_reward=36, running_reward=76.8]"
     ]
    },
    {
     "name": "stderr",
     "output_type": "stream",
     "text": [
      "\r",
      "Episode 114:   1%|          | 114/10000 [00:15<10:48, 15.25it/s, episode_reward=36, running_reward=76.8]"
     ]
    },
    {
     "name": "stderr",
     "output_type": "stream",
     "text": [
      "\r",
      "Episode 114:   1%|          | 114/10000 [00:15<10:48, 15.25it/s, episode_reward=20, running_reward=76.7]"
     ]
    },
    {
     "name": "stderr",
     "output_type": "stream",
     "text": [
      "\r",
      "Episode 115:   1%|          | 114/10000 [00:15<10:48, 15.25it/s, episode_reward=20, running_reward=76.7]"
     ]
    },
    {
     "name": "stderr",
     "output_type": "stream",
     "text": [
      "\r",
      "Episode 115:   1%|          | 114/10000 [00:15<10:48, 15.25it/s, episode_reward=74, running_reward=77.3]"
     ]
    },
    {
     "name": "stderr",
     "output_type": "stream",
     "text": [
      "\r",
      "Episode 115:   1%|          | 116/10000 [00:15<11:22, 14.49it/s, episode_reward=74, running_reward=77.3]"
     ]
    },
    {
     "name": "stderr",
     "output_type": "stream",
     "text": [
      "\r",
      "Episode 116:   1%|          | 116/10000 [00:15<11:22, 14.49it/s, episode_reward=74, running_reward=77.3]"
     ]
    },
    {
     "name": "stderr",
     "output_type": "stream",
     "text": [
      "\r",
      "Episode 116:   1%|          | 116/10000 [00:15<11:22, 14.49it/s, episode_reward=50, running_reward=77.3]"
     ]
    },
    {
     "name": "stderr",
     "output_type": "stream",
     "text": [
      "\r",
      "Episode 117:   1%|          | 116/10000 [00:15<11:22, 14.49it/s, episode_reward=50, running_reward=77.3]"
     ]
    },
    {
     "name": "stderr",
     "output_type": "stream",
     "text": [
      "\r",
      "Episode 117:   1%|          | 116/10000 [00:15<11:22, 14.49it/s, episode_reward=35, running_reward=77.3]"
     ]
    },
    {
     "name": "stderr",
     "output_type": "stream",
     "text": [
      "\r",
      "Episode 117:   1%|          | 118/10000 [00:15<11:45, 14.01it/s, episode_reward=35, running_reward=77.3]"
     ]
    },
    {
     "name": "stderr",
     "output_type": "stream",
     "text": [
      "\r",
      "Episode 118:   1%|          | 118/10000 [00:15<11:45, 14.01it/s, episode_reward=35, running_reward=77.3]"
     ]
    },
    {
     "name": "stderr",
     "output_type": "stream",
     "text": [
      "\r",
      "Episode 118:   1%|          | 118/10000 [00:15<11:45, 14.01it/s, episode_reward=44, running_reward=77.5]"
     ]
    },
    {
     "name": "stderr",
     "output_type": "stream",
     "text": [
      "\r",
      "Episode 119:   1%|          | 118/10000 [00:15<11:45, 14.01it/s, episode_reward=44, running_reward=77.5]"
     ]
    },
    {
     "name": "stderr",
     "output_type": "stream",
     "text": [
      "\r",
      "Episode 119:   1%|          | 118/10000 [00:15<11:45, 14.01it/s, episode_reward=43, running_reward=77.6]"
     ]
    },
    {
     "name": "stderr",
     "output_type": "stream",
     "text": [
      "\r",
      "Episode 119:   1%|          | 120/10000 [00:15<11:44, 14.03it/s, episode_reward=43, running_reward=77.6]"
     ]
    },
    {
     "name": "stderr",
     "output_type": "stream",
     "text": [
      "\r",
      "Episode 120:   1%|          | 120/10000 [00:15<11:44, 14.03it/s, episode_reward=43, running_reward=77.6]"
     ]
    },
    {
     "name": "stderr",
     "output_type": "stream",
     "text": [
      "\r",
      "Episode 120:   1%|          | 120/10000 [00:15<11:44, 14.03it/s, episode_reward=42, running_reward=77.6]"
     ]
    },
    {
     "name": "stderr",
     "output_type": "stream",
     "text": [
      "\r",
      "Episode 121:   1%|          | 120/10000 [00:16<11:44, 14.03it/s, episode_reward=42, running_reward=77.6]"
     ]
    },
    {
     "name": "stderr",
     "output_type": "stream",
     "text": [
      "\r",
      "Episode 121:   1%|          | 120/10000 [00:16<11:44, 14.03it/s, episode_reward=50, running_reward=77.9]"
     ]
    },
    {
     "name": "stderr",
     "output_type": "stream",
     "text": [
      "\r",
      "Episode 121:   1%|          | 122/10000 [00:16<11:58, 13.75it/s, episode_reward=50, running_reward=77.9]"
     ]
    },
    {
     "name": "stderr",
     "output_type": "stream",
     "text": [
      "\r",
      "Episode 122:   1%|          | 122/10000 [00:16<11:58, 13.75it/s, episode_reward=50, running_reward=77.9]"
     ]
    },
    {
     "name": "stderr",
     "output_type": "stream",
     "text": [
      "\r",
      "Episode 122:   1%|          | 122/10000 [00:16<11:58, 13.75it/s, episode_reward=68, running_reward=78.3]"
     ]
    },
    {
     "name": "stderr",
     "output_type": "stream",
     "text": [
      "\r",
      "Episode 123:   1%|          | 122/10000 [00:16<11:58, 13.75it/s, episode_reward=68, running_reward=78.3]"
     ]
    },
    {
     "name": "stderr",
     "output_type": "stream",
     "text": [
      "\r",
      "Episode 123:   1%|          | 122/10000 [00:16<11:58, 13.75it/s, episode_reward=49, running_reward=78.6]"
     ]
    },
    {
     "name": "stderr",
     "output_type": "stream",
     "text": [
      "\r",
      "Episode 123:   1%|          | 124/10000 [00:16<13:11, 12.47it/s, episode_reward=49, running_reward=78.6]"
     ]
    },
    {
     "name": "stderr",
     "output_type": "stream",
     "text": [
      "\r",
      "Episode 124:   1%|          | 124/10000 [00:16<13:11, 12.47it/s, episode_reward=49, running_reward=78.6]"
     ]
    },
    {
     "name": "stderr",
     "output_type": "stream",
     "text": [
      "\r",
      "Episode 124:   1%|          | 124/10000 [00:16<13:11, 12.47it/s, episode_reward=55, running_reward=78.8]"
     ]
    },
    {
     "name": "stderr",
     "output_type": "stream",
     "text": [
      "\r",
      "Episode 125:   1%|          | 124/10000 [00:16<13:11, 12.47it/s, episode_reward=55, running_reward=78.8]"
     ]
    },
    {
     "name": "stderr",
     "output_type": "stream",
     "text": [
      "\r",
      "Episode 125:   1%|          | 124/10000 [00:16<13:11, 12.47it/s, episode_reward=66, running_reward=79.2]"
     ]
    },
    {
     "name": "stderr",
     "output_type": "stream",
     "text": [
      "\r",
      "Episode 125:   1%|▏         | 126/10000 [00:16<14:04, 11.69it/s, episode_reward=66, running_reward=79.2]"
     ]
    },
    {
     "name": "stderr",
     "output_type": "stream",
     "text": [
      "\r",
      "Episode 126:   1%|▏         | 126/10000 [00:16<14:04, 11.69it/s, episode_reward=66, running_reward=79.2]"
     ]
    },
    {
     "name": "stderr",
     "output_type": "stream",
     "text": [
      "\r",
      "Episode 126:   1%|▏         | 126/10000 [00:16<14:04, 11.69it/s, episode_reward=110, running_reward=79.5]"
     ]
    },
    {
     "name": "stderr",
     "output_type": "stream",
     "text": [
      "\r",
      "Episode 127:   1%|▏         | 126/10000 [00:16<14:04, 11.69it/s, episode_reward=110, running_reward=79.5]"
     ]
    },
    {
     "name": "stderr",
     "output_type": "stream",
     "text": [
      "\r",
      "Episode 127:   1%|▏         | 126/10000 [00:16<14:04, 11.69it/s, episode_reward=57, running_reward=78.9] "
     ]
    },
    {
     "name": "stderr",
     "output_type": "stream",
     "text": [
      "\r",
      "Episode 127:   1%|▏         | 128/10000 [00:16<16:48,  9.78it/s, episode_reward=57, running_reward=78.9]"
     ]
    },
    {
     "name": "stderr",
     "output_type": "stream",
     "text": [
      "\r",
      "Episode 128:   1%|▏         | 128/10000 [00:16<16:48,  9.78it/s, episode_reward=57, running_reward=78.9]"
     ]
    },
    {
     "name": "stderr",
     "output_type": "stream",
     "text": [
      "\r",
      "Episode 128:   1%|▏         | 128/10000 [00:16<16:48,  9.78it/s, episode_reward=66, running_reward=79.2]"
     ]
    },
    {
     "name": "stderr",
     "output_type": "stream",
     "text": [
      "\r",
      "Episode 129:   1%|▏         | 128/10000 [00:16<16:48,  9.78it/s, episode_reward=66, running_reward=79.2]"
     ]
    },
    {
     "name": "stderr",
     "output_type": "stream",
     "text": [
      "\r",
      "Episode 129:   1%|▏         | 128/10000 [00:16<16:48,  9.78it/s, episode_reward=62, running_reward=79.3]"
     ]
    },
    {
     "name": "stderr",
     "output_type": "stream",
     "text": [
      "\r",
      "Episode 129:   1%|▏         | 130/10000 [00:16<16:59,  9.68it/s, episode_reward=62, running_reward=79.3]"
     ]
    },
    {
     "name": "stderr",
     "output_type": "stream",
     "text": [
      "\r",
      "Episode 130:   1%|▏         | 130/10000 [00:17<16:59,  9.68it/s, episode_reward=62, running_reward=79.3]"
     ]
    },
    {
     "name": "stderr",
     "output_type": "stream",
     "text": [
      "\r",
      "Episode 130:   1%|▏         | 130/10000 [00:17<16:59,  9.68it/s, episode_reward=71, running_reward=79.5]"
     ]
    },
    {
     "name": "stderr",
     "output_type": "stream",
     "text": [
      "\r",
      "Episode 131:   1%|▏         | 130/10000 [00:17<16:59,  9.68it/s, episode_reward=71, running_reward=79.5]"
     ]
    },
    {
     "name": "stderr",
     "output_type": "stream",
     "text": [
      "\r",
      "Episode 131:   1%|▏         | 130/10000 [00:17<16:59,  9.68it/s, episode_reward=152, running_reward=80.7]"
     ]
    },
    {
     "name": "stderr",
     "output_type": "stream",
     "text": [
      "\r",
      "Episode 131:   1%|▏         | 132/10000 [00:17<20:52,  7.88it/s, episode_reward=152, running_reward=80.7]"
     ]
    },
    {
     "name": "stderr",
     "output_type": "stream",
     "text": [
      "\r",
      "Episode 132:   1%|▏         | 132/10000 [00:17<20:52,  7.88it/s, episode_reward=152, running_reward=80.7]"
     ]
    },
    {
     "name": "stderr",
     "output_type": "stream",
     "text": [
      "\r",
      "Episode 132:   1%|▏         | 132/10000 [00:17<20:52,  7.88it/s, episode_reward=84, running_reward=81.2] "
     ]
    },
    {
     "name": "stderr",
     "output_type": "stream",
     "text": [
      "\r",
      "Episode 132:   1%|▏         | 133/10000 [00:17<21:12,  7.75it/s, episode_reward=84, running_reward=81.2]"
     ]
    },
    {
     "name": "stderr",
     "output_type": "stream",
     "text": [
      "\r",
      "Episode 133:   1%|▏         | 133/10000 [00:17<21:12,  7.75it/s, episode_reward=84, running_reward=81.2]"
     ]
    },
    {
     "name": "stderr",
     "output_type": "stream",
     "text": [
      "\r",
      "Episode 133:   1%|▏         | 133/10000 [00:17<21:12,  7.75it/s, episode_reward=98, running_reward=82]  "
     ]
    },
    {
     "name": "stderr",
     "output_type": "stream",
     "text": [
      "\r",
      "Episode 133:   1%|▏         | 134/10000 [00:17<22:06,  7.43it/s, episode_reward=98, running_reward=82]"
     ]
    },
    {
     "name": "stderr",
     "output_type": "stream",
     "text": [
      "\r",
      "Episode 134:   1%|▏         | 134/10000 [00:17<22:06,  7.43it/s, episode_reward=98, running_reward=82]"
     ]
    },
    {
     "name": "stderr",
     "output_type": "stream",
     "text": [
      "\r",
      "Episode 134:   1%|▏         | 134/10000 [00:17<22:06,  7.43it/s, episode_reward=200, running_reward=83.8]"
     ]
    },
    {
     "name": "stderr",
     "output_type": "stream",
     "text": [
      "\r",
      "Episode 134:   1%|▏         | 135/10000 [00:17<28:52,  5.69it/s, episode_reward=200, running_reward=83.8]"
     ]
    },
    {
     "name": "stderr",
     "output_type": "stream",
     "text": [
      "\r",
      "Episode 135:   1%|▏         | 135/10000 [00:18<28:52,  5.69it/s, episode_reward=200, running_reward=83.8]"
     ]
    },
    {
     "name": "stderr",
     "output_type": "stream",
     "text": [
      "\r",
      "Episode 135:   1%|▏         | 135/10000 [00:18<28:52,  5.69it/s, episode_reward=74, running_reward=83.8] "
     ]
    },
    {
     "name": "stderr",
     "output_type": "stream",
     "text": [
      "\r",
      "Episode 135:   1%|▏         | 136/10000 [00:18<26:53,  6.11it/s, episode_reward=74, running_reward=83.8]"
     ]
    },
    {
     "name": "stderr",
     "output_type": "stream",
     "text": [
      "\r",
      "Episode 136:   1%|▏         | 136/10000 [00:18<26:53,  6.11it/s, episode_reward=74, running_reward=83.8]"
     ]
    },
    {
     "name": "stderr",
     "output_type": "stream",
     "text": [
      "\r",
      "Episode 136:   1%|▏         | 136/10000 [00:18<26:53,  6.11it/s, episode_reward=90, running_reward=84]  "
     ]
    },
    {
     "name": "stderr",
     "output_type": "stream",
     "text": [
      "\r",
      "Episode 136:   1%|▏         | 137/10000 [00:18<26:18,  6.25it/s, episode_reward=90, running_reward=84]"
     ]
    },
    {
     "name": "stderr",
     "output_type": "stream",
     "text": [
      "\r",
      "Episode 137:   1%|▏         | 137/10000 [00:18<26:18,  6.25it/s, episode_reward=90, running_reward=84]"
     ]
    },
    {
     "name": "stderr",
     "output_type": "stream",
     "text": [
      "\r",
      "Episode 137:   1%|▏         | 137/10000 [00:18<26:18,  6.25it/s, episode_reward=100, running_reward=84.7]"
     ]
    },
    {
     "name": "stderr",
     "output_type": "stream",
     "text": [
      "\r",
      "Episode 137:   1%|▏         | 138/10000 [00:18<26:11,  6.27it/s, episode_reward=100, running_reward=84.7]"
     ]
    },
    {
     "name": "stderr",
     "output_type": "stream",
     "text": [
      "\r",
      "Episode 138:   1%|▏         | 138/10000 [00:18<26:11,  6.27it/s, episode_reward=100, running_reward=84.7]"
     ]
    },
    {
     "name": "stderr",
     "output_type": "stream",
     "text": [
      "\r",
      "Episode 138:   1%|▏         | 138/10000 [00:18<26:11,  6.27it/s, episode_reward=94, running_reward=85.4] "
     ]
    },
    {
     "name": "stderr",
     "output_type": "stream",
     "text": [
      "\r",
      "Episode 138:   1%|▏         | 139/10000 [00:18<25:49,  6.37it/s, episode_reward=94, running_reward=85.4]"
     ]
    },
    {
     "name": "stderr",
     "output_type": "stream",
     "text": [
      "\r",
      "Episode 139:   1%|▏         | 139/10000 [00:18<25:49,  6.37it/s, episode_reward=94, running_reward=85.4]"
     ]
    },
    {
     "name": "stderr",
     "output_type": "stream",
     "text": [
      "\r",
      "Episode 139:   1%|▏         | 139/10000 [00:18<25:49,  6.37it/s, episode_reward=74, running_reward=85.5]"
     ]
    },
    {
     "name": "stderr",
     "output_type": "stream",
     "text": [
      "\r",
      "Episode 139:   1%|▏         | 140/10000 [00:18<24:09,  6.80it/s, episode_reward=74, running_reward=85.5]"
     ]
    },
    {
     "name": "stderr",
     "output_type": "stream",
     "text": [
      "\r",
      "Episode 140:   1%|▏         | 140/10000 [00:18<24:09,  6.80it/s, episode_reward=74, running_reward=85.5]"
     ]
    },
    {
     "name": "stderr",
     "output_type": "stream",
     "text": [
      "\r",
      "Episode 140:   1%|▏         | 140/10000 [00:18<24:09,  6.80it/s, episode_reward=88, running_reward=85.7]"
     ]
    },
    {
     "name": "stderr",
     "output_type": "stream",
     "text": [
      "\r",
      "Episode 140:   1%|▏         | 141/10000 [00:18<24:12,  6.79it/s, episode_reward=88, running_reward=85.7]"
     ]
    },
    {
     "name": "stderr",
     "output_type": "stream",
     "text": [
      "\r",
      "Episode 141:   1%|▏         | 141/10000 [00:18<24:12,  6.79it/s, episode_reward=88, running_reward=85.7]"
     ]
    },
    {
     "name": "stderr",
     "output_type": "stream",
     "text": [
      "\r",
      "Episode 141:   1%|▏         | 141/10000 [00:18<24:12,  6.79it/s, episode_reward=105, running_reward=86.1]"
     ]
    },
    {
     "name": "stderr",
     "output_type": "stream",
     "text": [
      "\r",
      "Episode 141:   1%|▏         | 142/10000 [00:18<25:28,  6.45it/s, episode_reward=105, running_reward=86.1]"
     ]
    },
    {
     "name": "stderr",
     "output_type": "stream",
     "text": [
      "\r",
      "Episode 142:   1%|▏         | 142/10000 [00:19<25:28,  6.45it/s, episode_reward=105, running_reward=86.1]"
     ]
    },
    {
     "name": "stderr",
     "output_type": "stream",
     "text": [
      "\r",
      "Episode 142:   1%|▏         | 142/10000 [00:19<25:28,  6.45it/s, episode_reward=91, running_reward=86.4] "
     ]
    },
    {
     "name": "stderr",
     "output_type": "stream",
     "text": [
      "\r",
      "Episode 142:   1%|▏         | 143/10000 [00:19<25:20,  6.48it/s, episode_reward=91, running_reward=86.4]"
     ]
    },
    {
     "name": "stderr",
     "output_type": "stream",
     "text": [
      "\r",
      "Episode 143:   1%|▏         | 143/10000 [00:19<25:20,  6.48it/s, episode_reward=91, running_reward=86.4]"
     ]
    },
    {
     "name": "stderr",
     "output_type": "stream",
     "text": [
      "\r",
      "Episode 143:   1%|▏         | 143/10000 [00:19<25:20,  6.48it/s, episode_reward=76, running_reward=86.5]"
     ]
    },
    {
     "name": "stderr",
     "output_type": "stream",
     "text": [
      "\r",
      "Episode 143:   1%|▏         | 144/10000 [00:19<23:57,  6.85it/s, episode_reward=76, running_reward=86.5]"
     ]
    },
    {
     "name": "stderr",
     "output_type": "stream",
     "text": [
      "\r",
      "Episode 144:   1%|▏         | 144/10000 [00:19<23:57,  6.85it/s, episode_reward=76, running_reward=86.5]"
     ]
    },
    {
     "name": "stderr",
     "output_type": "stream",
     "text": [
      "\r",
      "Episode 144:   1%|▏         | 144/10000 [00:19<23:57,  6.85it/s, episode_reward=71, running_reward=86.7]"
     ]
    },
    {
     "name": "stderr",
     "output_type": "stream",
     "text": [
      "\r",
      "Episode 144:   1%|▏         | 145/10000 [00:19<22:53,  7.18it/s, episode_reward=71, running_reward=86.7]"
     ]
    },
    {
     "name": "stderr",
     "output_type": "stream",
     "text": [
      "\r",
      "Episode 145:   1%|▏         | 145/10000 [00:19<22:53,  7.18it/s, episode_reward=71, running_reward=86.7]"
     ]
    },
    {
     "name": "stderr",
     "output_type": "stream",
     "text": [
      "\r",
      "Episode 145:   1%|▏         | 145/10000 [00:19<22:53,  7.18it/s, episode_reward=95, running_reward=87.3]"
     ]
    },
    {
     "name": "stderr",
     "output_type": "stream",
     "text": [
      "\r",
      "Episode 145:   1%|▏         | 146/10000 [00:19<23:37,  6.95it/s, episode_reward=95, running_reward=87.3]"
     ]
    },
    {
     "name": "stderr",
     "output_type": "stream",
     "text": [
      "\r",
      "Episode 146:   1%|▏         | 146/10000 [00:19<23:37,  6.95it/s, episode_reward=95, running_reward=87.3]"
     ]
    },
    {
     "name": "stderr",
     "output_type": "stream",
     "text": [
      "\r",
      "Episode 146:   1%|▏         | 146/10000 [00:19<23:37,  6.95it/s, episode_reward=95, running_reward=87.7]"
     ]
    },
    {
     "name": "stderr",
     "output_type": "stream",
     "text": [
      "\r",
      "Episode 146:   1%|▏         | 147/10000 [00:19<24:07,  6.81it/s, episode_reward=95, running_reward=87.7]"
     ]
    },
    {
     "name": "stderr",
     "output_type": "stream",
     "text": [
      "\r",
      "Episode 147:   1%|▏         | 147/10000 [00:19<24:07,  6.81it/s, episode_reward=95, running_reward=87.7]"
     ]
    },
    {
     "name": "stderr",
     "output_type": "stream",
     "text": [
      "\r",
      "Episode 147:   1%|▏         | 147/10000 [00:19<24:07,  6.81it/s, episode_reward=106, running_reward=88.4]"
     ]
    },
    {
     "name": "stderr",
     "output_type": "stream",
     "text": [
      "\r",
      "Episode 147:   1%|▏         | 148/10000 [00:19<25:11,  6.52it/s, episode_reward=106, running_reward=88.4]"
     ]
    },
    {
     "name": "stderr",
     "output_type": "stream",
     "text": [
      "\r",
      "Episode 148:   1%|▏         | 148/10000 [00:19<25:11,  6.52it/s, episode_reward=106, running_reward=88.4]"
     ]
    },
    {
     "name": "stderr",
     "output_type": "stream",
     "text": [
      "\r",
      "Episode 148:   1%|▏         | 148/10000 [00:19<25:11,  6.52it/s, episode_reward=92, running_reward=88.7] "
     ]
    },
    {
     "name": "stderr",
     "output_type": "stream",
     "text": [
      "\r",
      "Episode 148:   1%|▏         | 149/10000 [00:19<24:49,  6.61it/s, episode_reward=92, running_reward=88.7]"
     ]
    },
    {
     "name": "stderr",
     "output_type": "stream",
     "text": [
      "\r",
      "Episode 149:   1%|▏         | 149/10000 [00:20<24:49,  6.61it/s, episode_reward=92, running_reward=88.7]"
     ]
    },
    {
     "name": "stderr",
     "output_type": "stream",
     "text": [
      "\r",
      "Episode 149:   1%|▏         | 149/10000 [00:20<24:49,  6.61it/s, episode_reward=116, running_reward=89.7]"
     ]
    },
    {
     "name": "stderr",
     "output_type": "stream",
     "text": [
      "\r",
      "Episode 149:   2%|▏         | 150/10000 [00:20<26:27,  6.20it/s, episode_reward=116, running_reward=89.7]"
     ]
    },
    {
     "name": "stderr",
     "output_type": "stream",
     "text": [
      "\r",
      "Episode 150:   2%|▏         | 150/10000 [00:20<26:27,  6.20it/s, episode_reward=116, running_reward=89.7]"
     ]
    },
    {
     "name": "stderr",
     "output_type": "stream",
     "text": [
      "\r",
      "Episode 150:   2%|▏         | 150/10000 [00:20<26:27,  6.20it/s, episode_reward=73, running_reward=90.2] "
     ]
    },
    {
     "name": "stderr",
     "output_type": "stream",
     "text": [
      "\r",
      "Episode 150:   2%|▏         | 151/10000 [00:20<24:35,  6.67it/s, episode_reward=73, running_reward=90.2]"
     ]
    },
    {
     "name": "stderr",
     "output_type": "stream",
     "text": [
      "\r",
      "Episode 151:   2%|▏         | 151/10000 [00:20<24:35,  6.67it/s, episode_reward=73, running_reward=90.2]"
     ]
    },
    {
     "name": "stderr",
     "output_type": "stream",
     "text": [
      "\r",
      "Episode 151:   2%|▏         | 151/10000 [00:20<24:35,  6.67it/s, episode_reward=108, running_reward=91.1]"
     ]
    },
    {
     "name": "stderr",
     "output_type": "stream",
     "text": [
      "\r",
      "Episode 151:   2%|▏         | 152/10000 [00:20<25:47,  6.36it/s, episode_reward=108, running_reward=91.1]"
     ]
    },
    {
     "name": "stderr",
     "output_type": "stream",
     "text": [
      "\r",
      "Episode 152:   2%|▏         | 152/10000 [00:20<25:47,  6.36it/s, episode_reward=108, running_reward=91.1]"
     ]
    },
    {
     "name": "stderr",
     "output_type": "stream",
     "text": [
      "\r",
      "Episode 152:   2%|▏         | 152/10000 [00:20<25:47,  6.36it/s, episode_reward=140, running_reward=92]  "
     ]
    },
    {
     "name": "stderr",
     "output_type": "stream",
     "text": [
      "\r",
      "Episode 152:   2%|▏         | 153/10000 [00:20<29:20,  5.59it/s, episode_reward=140, running_reward=92]"
     ]
    },
    {
     "name": "stderr",
     "output_type": "stream",
     "text": [
      "\r",
      "Episode 153:   2%|▏         | 153/10000 [00:20<29:20,  5.59it/s, episode_reward=140, running_reward=92]"
     ]
    },
    {
     "name": "stderr",
     "output_type": "stream",
     "text": [
      "\r",
      "Episode 153:   2%|▏         | 153/10000 [00:20<29:20,  5.59it/s, episode_reward=117, running_reward=92.7]"
     ]
    },
    {
     "name": "stderr",
     "output_type": "stream",
     "text": [
      "\r",
      "Episode 153:   2%|▏         | 154/10000 [00:20<29:46,  5.51it/s, episode_reward=117, running_reward=92.7]"
     ]
    },
    {
     "name": "stderr",
     "output_type": "stream",
     "text": [
      "\r",
      "Episode 154:   2%|▏         | 154/10000 [00:21<29:46,  5.51it/s, episode_reward=117, running_reward=92.7]"
     ]
    },
    {
     "name": "stderr",
     "output_type": "stream",
     "text": [
      "\r",
      "Episode 154:   2%|▏         | 154/10000 [00:21<29:46,  5.51it/s, episode_reward=111, running_reward=93.5]"
     ]
    },
    {
     "name": "stderr",
     "output_type": "stream",
     "text": [
      "\r",
      "Episode 154:   2%|▏         | 155/10000 [00:21<29:30,  5.56it/s, episode_reward=111, running_reward=93.5]"
     ]
    },
    {
     "name": "stderr",
     "output_type": "stream",
     "text": [
      "\r",
      "Episode 155:   2%|▏         | 155/10000 [00:21<29:30,  5.56it/s, episode_reward=111, running_reward=93.5]"
     ]
    },
    {
     "name": "stderr",
     "output_type": "stream",
     "text": [
      "\r",
      "Episode 155:   2%|▏         | 155/10000 [00:21<29:30,  5.56it/s, episode_reward=75, running_reward=93.9] "
     ]
    },
    {
     "name": "stderr",
     "output_type": "stream",
     "text": [
      "\r",
      "Episode 155:   2%|▏         | 156/10000 [00:21<26:25,  6.21it/s, episode_reward=75, running_reward=93.9]"
     ]
    },
    {
     "name": "stderr",
     "output_type": "stream",
     "text": [
      "\r",
      "Episode 156:   2%|▏         | 156/10000 [00:21<26:25,  6.21it/s, episode_reward=75, running_reward=93.9]"
     ]
    },
    {
     "name": "stderr",
     "output_type": "stream",
     "text": [
      "\r",
      "Episode 156:   2%|▏         | 156/10000 [00:21<26:25,  6.21it/s, episode_reward=89, running_reward=94.2]"
     ]
    },
    {
     "name": "stderr",
     "output_type": "stream",
     "text": [
      "\r",
      "Episode 156:   2%|▏         | 157/10000 [00:21<25:39,  6.39it/s, episode_reward=89, running_reward=94.2]"
     ]
    },
    {
     "name": "stderr",
     "output_type": "stream",
     "text": [
      "\r",
      "Episode 157:   2%|▏         | 157/10000 [00:21<25:39,  6.39it/s, episode_reward=89, running_reward=94.2]"
     ]
    },
    {
     "name": "stderr",
     "output_type": "stream",
     "text": [
      "\r",
      "Episode 157:   2%|▏         | 157/10000 [00:21<25:39,  6.39it/s, episode_reward=54, running_reward=94]  "
     ]
    },
    {
     "name": "stderr",
     "output_type": "stream",
     "text": [
      "\r",
      "Episode 158:   2%|▏         | 157/10000 [00:21<25:39,  6.39it/s, episode_reward=54, running_reward=94]"
     ]
    },
    {
     "name": "stderr",
     "output_type": "stream",
     "text": [
      "\r",
      "Episode 158:   2%|▏         | 157/10000 [00:21<25:39,  6.39it/s, episode_reward=78, running_reward=93.6]"
     ]
    },
    {
     "name": "stderr",
     "output_type": "stream",
     "text": [
      "\r",
      "Episode 158:   2%|▏         | 159/10000 [00:21<22:01,  7.45it/s, episode_reward=78, running_reward=93.6]"
     ]
    },
    {
     "name": "stderr",
     "output_type": "stream",
     "text": [
      "\r",
      "Episode 159:   2%|▏         | 159/10000 [00:21<22:01,  7.45it/s, episode_reward=78, running_reward=93.6]"
     ]
    },
    {
     "name": "stderr",
     "output_type": "stream",
     "text": [
      "\r",
      "Episode 159:   2%|▏         | 159/10000 [00:21<22:01,  7.45it/s, episode_reward=50, running_reward=92.7]"
     ]
    },
    {
     "name": "stderr",
     "output_type": "stream",
     "text": [
      "\r",
      "Episode 160:   2%|▏         | 159/10000 [00:21<22:01,  7.45it/s, episode_reward=50, running_reward=92.7]"
     ]
    },
    {
     "name": "stderr",
     "output_type": "stream",
     "text": [
      "\r",
      "Episode 160:   2%|▏         | 159/10000 [00:21<22:01,  7.45it/s, episode_reward=44, running_reward=92.5]"
     ]
    },
    {
     "name": "stderr",
     "output_type": "stream",
     "text": [
      "\r",
      "Episode 160:   2%|▏         | 161/10000 [00:21<18:25,  8.90it/s, episode_reward=44, running_reward=92.5]"
     ]
    },
    {
     "name": "stderr",
     "output_type": "stream",
     "text": [
      "\r",
      "Episode 161:   2%|▏         | 161/10000 [00:21<18:25,  8.90it/s, episode_reward=44, running_reward=92.5]"
     ]
    },
    {
     "name": "stderr",
     "output_type": "stream",
     "text": [
      "\r",
      "Episode 161:   2%|▏         | 161/10000 [00:21<18:25,  8.90it/s, episode_reward=123, running_reward=93.2]"
     ]
    },
    {
     "name": "stderr",
     "output_type": "stream",
     "text": [
      "\r",
      "Episode 161:   2%|▏         | 162/10000 [00:21<21:31,  7.62it/s, episode_reward=123, running_reward=93.2]"
     ]
    },
    {
     "name": "stderr",
     "output_type": "stream",
     "text": [
      "\r",
      "Episode 162:   2%|▏         | 162/10000 [00:22<21:31,  7.62it/s, episode_reward=123, running_reward=93.2]"
     ]
    },
    {
     "name": "stderr",
     "output_type": "stream",
     "text": [
      "\r",
      "Episode 162:   2%|▏         | 162/10000 [00:22<21:31,  7.62it/s, episode_reward=90, running_reward=93]   "
     ]
    },
    {
     "name": "stderr",
     "output_type": "stream",
     "text": [
      "\r",
      "Episode 162:   2%|▏         | 163/10000 [00:22<22:03,  7.43it/s, episode_reward=90, running_reward=93]"
     ]
    },
    {
     "name": "stderr",
     "output_type": "stream",
     "text": [
      "\r",
      "Episode 163:   2%|▏         | 163/10000 [00:22<22:03,  7.43it/s, episode_reward=90, running_reward=93]"
     ]
    },
    {
     "name": "stderr",
     "output_type": "stream",
     "text": [
      "\r",
      "Episode 163:   2%|▏         | 163/10000 [00:22<22:03,  7.43it/s, episode_reward=48, running_reward=91.8]"
     ]
    },
    {
     "name": "stderr",
     "output_type": "stream",
     "text": [
      "\r",
      "Episode 164:   2%|▏         | 163/10000 [00:22<22:03,  7.43it/s, episode_reward=48, running_reward=91.8]"
     ]
    },
    {
     "name": "stderr",
     "output_type": "stream",
     "text": [
      "\r",
      "Episode 164:   2%|▏         | 163/10000 [00:22<22:03,  7.43it/s, episode_reward=78, running_reward=90.8]"
     ]
    },
    {
     "name": "stderr",
     "output_type": "stream",
     "text": [
      "\r",
      "Episode 164:   2%|▏         | 165/10000 [00:22<19:59,  8.20it/s, episode_reward=78, running_reward=90.8]"
     ]
    },
    {
     "name": "stderr",
     "output_type": "stream",
     "text": [
      "\r",
      "Episode 165:   2%|▏         | 165/10000 [00:22<19:59,  8.20it/s, episode_reward=78, running_reward=90.8]"
     ]
    },
    {
     "name": "stderr",
     "output_type": "stream",
     "text": [
      "\r",
      "Episode 165:   2%|▏         | 165/10000 [00:22<19:59,  8.20it/s, episode_reward=117, running_reward=90.8]"
     ]
    },
    {
     "name": "stderr",
     "output_type": "stream",
     "text": [
      "\r",
      "Episode 165:   2%|▏         | 166/10000 [00:22<22:14,  7.37it/s, episode_reward=117, running_reward=90.8]"
     ]
    },
    {
     "name": "stderr",
     "output_type": "stream",
     "text": [
      "\r",
      "Episode 166:   2%|▏         | 166/10000 [00:22<22:14,  7.37it/s, episode_reward=117, running_reward=90.8]"
     ]
    },
    {
     "name": "stderr",
     "output_type": "stream",
     "text": [
      "\r",
      "Episode 166:   2%|▏         | 166/10000 [00:22<22:14,  7.37it/s, episode_reward=158, running_reward=91.1]"
     ]
    },
    {
     "name": "stderr",
     "output_type": "stream",
     "text": [
      "\r",
      "Episode 166:   2%|▏         | 167/10000 [00:22<26:58,  6.08it/s, episode_reward=158, running_reward=91.1]"
     ]
    },
    {
     "name": "stderr",
     "output_type": "stream",
     "text": [
      "\r",
      "Episode 167:   2%|▏         | 167/10000 [00:22<26:58,  6.08it/s, episode_reward=158, running_reward=91.1]"
     ]
    },
    {
     "name": "stderr",
     "output_type": "stream",
     "text": [
      "\r",
      "Episode 167:   2%|▏         | 167/10000 [00:22<26:58,  6.08it/s, episode_reward=145, running_reward=92.2]"
     ]
    },
    {
     "name": "stderr",
     "output_type": "stream",
     "text": [
      "\r",
      "Episode 167:   2%|▏         | 168/10000 [00:22<30:05,  5.45it/s, episode_reward=145, running_reward=92.2]"
     ]
    },
    {
     "name": "stderr",
     "output_type": "stream",
     "text": [
      "\r",
      "Episode 168:   2%|▏         | 168/10000 [00:23<30:05,  5.45it/s, episode_reward=145, running_reward=92.2]"
     ]
    },
    {
     "name": "stderr",
     "output_type": "stream",
     "text": [
      "\r",
      "Episode 168:   2%|▏         | 168/10000 [00:23<30:05,  5.45it/s, episode_reward=200, running_reward=93.8]"
     ]
    },
    {
     "name": "stderr",
     "output_type": "stream",
     "text": [
      "\r",
      "Episode 168:   2%|▏         | 169/10000 [00:23<36:33,  4.48it/s, episode_reward=200, running_reward=93.8]"
     ]
    },
    {
     "name": "stderr",
     "output_type": "stream",
     "text": [
      "\r",
      "Episode 169:   2%|▏         | 169/10000 [00:23<36:33,  4.48it/s, episode_reward=200, running_reward=93.8]"
     ]
    },
    {
     "name": "stderr",
     "output_type": "stream",
     "text": [
      "\r",
      "Episode 169:   2%|▏         | 169/10000 [00:23<36:33,  4.48it/s, episode_reward=186, running_reward=94.3]"
     ]
    },
    {
     "name": "stderr",
     "output_type": "stream",
     "text": [
      "\r",
      "Episode 169:   2%|▏         | 170/10000 [00:23<40:00,  4.09it/s, episode_reward=186, running_reward=94.3]"
     ]
    },
    {
     "name": "stderr",
     "output_type": "stream",
     "text": [
      "\r",
      "Episode 170:   2%|▏         | 170/10000 [00:23<40:00,  4.09it/s, episode_reward=186, running_reward=94.3]"
     ]
    },
    {
     "name": "stderr",
     "output_type": "stream",
     "text": [
      "\r",
      "Episode 170:   2%|▏         | 170/10000 [00:23<40:00,  4.09it/s, episode_reward=200, running_reward=95.9]"
     ]
    },
    {
     "name": "stderr",
     "output_type": "stream",
     "text": [
      "\r",
      "Episode 170:   2%|▏         | 171/10000 [00:23<43:57,  3.73it/s, episode_reward=200, running_reward=95.9]"
     ]
    },
    {
     "name": "stderr",
     "output_type": "stream",
     "text": [
      "\r",
      "Episode 171:   2%|▏         | 171/10000 [00:24<43:57,  3.73it/s, episode_reward=200, running_reward=95.9]"
     ]
    },
    {
     "name": "stderr",
     "output_type": "stream",
     "text": [
      "\r",
      "Episode 171:   2%|▏         | 171/10000 [00:24<43:57,  3.73it/s, episode_reward=144, running_reward=96.3]"
     ]
    },
    {
     "name": "stderr",
     "output_type": "stream",
     "text": [
      "\r",
      "Episode 171:   2%|▏         | 172/10000 [00:24<42:10,  3.88it/s, episode_reward=144, running_reward=96.3]"
     ]
    },
    {
     "name": "stderr",
     "output_type": "stream",
     "text": [
      "\r",
      "Episode 172:   2%|▏         | 172/10000 [00:24<42:10,  3.88it/s, episode_reward=144, running_reward=96.3]"
     ]
    },
    {
     "name": "stderr",
     "output_type": "stream",
     "text": [
      "\r",
      "Episode 172:   2%|▏         | 172/10000 [00:24<42:10,  3.88it/s, episode_reward=138, running_reward=97.3]"
     ]
    },
    {
     "name": "stderr",
     "output_type": "stream",
     "text": [
      "\r",
      "Episode 172:   2%|▏         | 173/10000 [00:24<40:48,  4.01it/s, episode_reward=138, running_reward=97.3]"
     ]
    },
    {
     "name": "stderr",
     "output_type": "stream",
     "text": [
      "\r",
      "Episode 173:   2%|▏         | 173/10000 [00:24<40:48,  4.01it/s, episode_reward=138, running_reward=97.3]"
     ]
    },
    {
     "name": "stderr",
     "output_type": "stream",
     "text": [
      "\r",
      "Episode 173:   2%|▏         | 173/10000 [00:24<40:48,  4.01it/s, episode_reward=119, running_reward=98.1]"
     ]
    },
    {
     "name": "stderr",
     "output_type": "stream",
     "text": [
      "\r",
      "Episode 173:   2%|▏         | 174/10000 [00:24<37:53,  4.32it/s, episode_reward=119, running_reward=98.1]"
     ]
    },
    {
     "name": "stderr",
     "output_type": "stream",
     "text": [
      "\r",
      "Episode 174:   2%|▏         | 174/10000 [00:24<37:53,  4.32it/s, episode_reward=119, running_reward=98.1]"
     ]
    },
    {
     "name": "stderr",
     "output_type": "stream",
     "text": [
      "\r",
      "Episode 174:   2%|▏         | 174/10000 [00:24<37:53,  4.32it/s, episode_reward=135, running_reward=99.2]"
     ]
    },
    {
     "name": "stderr",
     "output_type": "stream",
     "text": [
      "\r",
      "Episode 174:   2%|▏         | 175/10000 [00:24<37:31,  4.36it/s, episode_reward=135, running_reward=99.2]"
     ]
    },
    {
     "name": "stderr",
     "output_type": "stream",
     "text": [
      "\r",
      "Episode 175:   2%|▏         | 175/10000 [00:24<37:31,  4.36it/s, episode_reward=135, running_reward=99.2]"
     ]
    },
    {
     "name": "stderr",
     "output_type": "stream",
     "text": [
      "\r",
      "Episode 175:   2%|▏         | 175/10000 [00:24<37:31,  4.36it/s, episode_reward=113, running_reward=99.9]"
     ]
    },
    {
     "name": "stderr",
     "output_type": "stream",
     "text": [
      "\r",
      "Episode 175:   2%|▏         | 176/10000 [00:24<35:25,  4.62it/s, episode_reward=113, running_reward=99.9]"
     ]
    },
    {
     "name": "stderr",
     "output_type": "stream",
     "text": [
      "\r",
      "Episode 176:   2%|▏         | 176/10000 [00:25<35:25,  4.62it/s, episode_reward=113, running_reward=99.9]"
     ]
    },
    {
     "name": "stderr",
     "output_type": "stream",
     "text": [
      "\r",
      "Episode 176:   2%|▏         | 176/10000 [00:25<35:25,  4.62it/s, episode_reward=106, running_reward=101] "
     ]
    },
    {
     "name": "stderr",
     "output_type": "stream",
     "text": [
      "\r",
      "Episode 176:   2%|▏         | 177/10000 [00:25<33:22,  4.91it/s, episode_reward=106, running_reward=101]"
     ]
    },
    {
     "name": "stderr",
     "output_type": "stream",
     "text": [
      "\r",
      "Episode 177:   2%|▏         | 177/10000 [00:25<33:22,  4.91it/s, episode_reward=106, running_reward=101]"
     ]
    },
    {
     "name": "stderr",
     "output_type": "stream",
     "text": [
      "\r",
      "Episode 177:   2%|▏         | 177/10000 [00:25<33:22,  4.91it/s, episode_reward=85, running_reward=99.4]"
     ]
    },
    {
     "name": "stderr",
     "output_type": "stream",
     "text": [
      "\r",
      "Episode 177:   2%|▏         | 178/10000 [00:25<30:06,  5.44it/s, episode_reward=85, running_reward=99.4]"
     ]
    },
    {
     "name": "stderr",
     "output_type": "stream",
     "text": [
      "\r",
      "Episode 178:   2%|▏         | 178/10000 [00:25<30:06,  5.44it/s, episode_reward=85, running_reward=99.4]"
     ]
    },
    {
     "name": "stderr",
     "output_type": "stream",
     "text": [
      "\r",
      "Episode 178:   2%|▏         | 178/10000 [00:25<30:06,  5.44it/s, episode_reward=98, running_reward=98.7]"
     ]
    },
    {
     "name": "stderr",
     "output_type": "stream",
     "text": [
      "\r",
      "Episode 178:   2%|▏         | 179/10000 [00:25<28:59,  5.65it/s, episode_reward=98, running_reward=98.7]"
     ]
    },
    {
     "name": "stderr",
     "output_type": "stream",
     "text": [
      "\r",
      "Episode 179:   2%|▏         | 179/10000 [00:25<28:59,  5.65it/s, episode_reward=98, running_reward=98.7]"
     ]
    },
    {
     "name": "stderr",
     "output_type": "stream",
     "text": [
      "\r",
      "Episode 179:   2%|▏         | 179/10000 [00:25<28:59,  5.65it/s, episode_reward=57, running_reward=99]  "
     ]
    },
    {
     "name": "stderr",
     "output_type": "stream",
     "text": [
      "\r",
      "Episode 180:   2%|▏         | 179/10000 [00:25<28:59,  5.65it/s, episode_reward=57, running_reward=99]"
     ]
    },
    {
     "name": "stderr",
     "output_type": "stream",
     "text": [
      "\r",
      "Episode 180:   2%|▏         | 179/10000 [00:25<28:59,  5.65it/s, episode_reward=62, running_reward=97.6]"
     ]
    },
    {
     "name": "stderr",
     "output_type": "stream",
     "text": [
      "\r",
      "Episode 180:   2%|▏         | 181/10000 [00:25<23:01,  7.11it/s, episode_reward=62, running_reward=97.6]"
     ]
    },
    {
     "name": "stderr",
     "output_type": "stream",
     "text": [
      "\r",
      "Episode 181:   2%|▏         | 181/10000 [00:25<23:01,  7.11it/s, episode_reward=62, running_reward=97.6]"
     ]
    },
    {
     "name": "stderr",
     "output_type": "stream",
     "text": [
      "\r",
      "Episode 181:   2%|▏         | 181/10000 [00:25<23:01,  7.11it/s, episode_reward=51, running_reward=97.1]"
     ]
    },
    {
     "name": "stderr",
     "output_type": "stream",
     "text": [
      "\r",
      "Episode 182:   2%|▏         | 181/10000 [00:25<23:01,  7.11it/s, episode_reward=51, running_reward=97.1]"
     ]
    },
    {
     "name": "stderr",
     "output_type": "stream",
     "text": [
      "\r",
      "Episode 182:   2%|▏         | 181/10000 [00:25<23:01,  7.11it/s, episode_reward=92, running_reward=96.2]"
     ]
    },
    {
     "name": "stderr",
     "output_type": "stream",
     "text": [
      "\r",
      "Episode 182:   2%|▏         | 183/10000 [00:25<21:38,  7.56it/s, episode_reward=92, running_reward=96.2]"
     ]
    },
    {
     "name": "stderr",
     "output_type": "stream",
     "text": [
      "\r",
      "Episode 183:   2%|▏         | 183/10000 [00:26<21:38,  7.56it/s, episode_reward=92, running_reward=96.2]"
     ]
    },
    {
     "name": "stderr",
     "output_type": "stream",
     "text": [
      "\r",
      "Episode 183:   2%|▏         | 183/10000 [00:26<21:38,  7.56it/s, episode_reward=101, running_reward=95.2]"
     ]
    },
    {
     "name": "stderr",
     "output_type": "stream",
     "text": [
      "\r",
      "Episode 183:   2%|▏         | 184/10000 [00:26<22:42,  7.20it/s, episode_reward=101, running_reward=95.2]"
     ]
    },
    {
     "name": "stderr",
     "output_type": "stream",
     "text": [
      "\r",
      "Episode 184:   2%|▏         | 184/10000 [00:26<22:42,  7.20it/s, episode_reward=101, running_reward=95.2]"
     ]
    },
    {
     "name": "stderr",
     "output_type": "stream",
     "text": [
      "\r",
      "Episode 184:   2%|▏         | 184/10000 [00:26<22:42,  7.20it/s, episode_reward=51, running_reward=93.7] "
     ]
    },
    {
     "name": "stderr",
     "output_type": "stream",
     "text": [
      "\r",
      "Episode 185:   2%|▏         | 184/10000 [00:26<22:42,  7.20it/s, episode_reward=51, running_reward=93.7]"
     ]
    },
    {
     "name": "stderr",
     "output_type": "stream",
     "text": [
      "\r",
      "Episode 185:   2%|▏         | 184/10000 [00:26<22:42,  7.20it/s, episode_reward=61, running_reward=92.3]"
     ]
    },
    {
     "name": "stderr",
     "output_type": "stream",
     "text": [
      "\r",
      "Episode 185:   2%|▏         | 186/10000 [00:26<19:45,  8.28it/s, episode_reward=61, running_reward=92.3]"
     ]
    },
    {
     "name": "stderr",
     "output_type": "stream",
     "text": [
      "\r",
      "Episode 186:   2%|▏         | 186/10000 [00:26<19:45,  8.28it/s, episode_reward=61, running_reward=92.3]"
     ]
    },
    {
     "name": "stderr",
     "output_type": "stream",
     "text": [
      "\r",
      "Episode 186:   2%|▏         | 186/10000 [00:26<19:45,  8.28it/s, episode_reward=99, running_reward=91.3]"
     ]
    },
    {
     "name": "stderr",
     "output_type": "stream",
     "text": [
      "\r",
      "Episode 186:   2%|▏         | 187/10000 [00:26<21:19,  7.67it/s, episode_reward=99, running_reward=91.3]"
     ]
    },
    {
     "name": "stderr",
     "output_type": "stream",
     "text": [
      "\r",
      "Episode 187:   2%|▏         | 187/10000 [00:26<21:19,  7.67it/s, episode_reward=99, running_reward=91.3]"
     ]
    },
    {
     "name": "stderr",
     "output_type": "stream",
     "text": [
      "\r",
      "Episode 187:   2%|▏         | 187/10000 [00:26<21:19,  7.67it/s, episode_reward=87, running_reward=90.2]"
     ]
    },
    {
     "name": "stderr",
     "output_type": "stream",
     "text": [
      "\r",
      "Episode 187:   2%|▏         | 188/10000 [00:26<21:58,  7.44it/s, episode_reward=87, running_reward=90.2]"
     ]
    },
    {
     "name": "stderr",
     "output_type": "stream",
     "text": [
      "\r",
      "Episode 188:   2%|▏         | 188/10000 [00:26<21:58,  7.44it/s, episode_reward=87, running_reward=90.2]"
     ]
    },
    {
     "name": "stderr",
     "output_type": "stream",
     "text": [
      "\r",
      "Episode 188:   2%|▏         | 188/10000 [00:26<21:58,  7.44it/s, episode_reward=75, running_reward=88.9]"
     ]
    },
    {
     "name": "stderr",
     "output_type": "stream",
     "text": [
      "\r",
      "Episode 188:   2%|▏         | 189/10000 [00:26<21:30,  7.60it/s, episode_reward=75, running_reward=88.9]"
     ]
    },
    {
     "name": "stderr",
     "output_type": "stream",
     "text": [
      "\r",
      "Episode 189:   2%|▏         | 189/10000 [00:26<21:30,  7.60it/s, episode_reward=75, running_reward=88.9]"
     ]
    },
    {
     "name": "stderr",
     "output_type": "stream",
     "text": [
      "\r",
      "Episode 189:   2%|▏         | 189/10000 [00:26<21:30,  7.60it/s, episode_reward=75, running_reward=88.4]"
     ]
    },
    {
     "name": "stderr",
     "output_type": "stream",
     "text": [
      "\r",
      "Episode 189:   2%|▏         | 190/10000 [00:26<21:20,  7.66it/s, episode_reward=75, running_reward=88.4]"
     ]
    },
    {
     "name": "stderr",
     "output_type": "stream",
     "text": [
      "\r",
      "Episode 190:   2%|▏         | 190/10000 [00:26<21:20,  7.66it/s, episode_reward=75, running_reward=88.4]"
     ]
    },
    {
     "name": "stderr",
     "output_type": "stream",
     "text": [
      "\r",
      "Episode 190:   2%|▏         | 190/10000 [00:26<21:20,  7.66it/s, episode_reward=99, running_reward=87.5]"
     ]
    },
    {
     "name": "stderr",
     "output_type": "stream",
     "text": [
      "\r",
      "Episode 190:   2%|▏         | 191/10000 [00:26<23:01,  7.10it/s, episode_reward=99, running_reward=87.5]"
     ]
    },
    {
     "name": "stderr",
     "output_type": "stream",
     "text": [
      "\r",
      "Episode 191:   2%|▏         | 191/10000 [00:27<23:01,  7.10it/s, episode_reward=99, running_reward=87.5]"
     ]
    },
    {
     "name": "stderr",
     "output_type": "stream",
     "text": [
      "\r",
      "Episode 191:   2%|▏         | 191/10000 [00:27<23:01,  7.10it/s, episode_reward=94, running_reward=86.5]"
     ]
    },
    {
     "name": "stderr",
     "output_type": "stream",
     "text": [
      "\r",
      "Episode 191:   2%|▏         | 192/10000 [00:27<24:18,  6.73it/s, episode_reward=94, running_reward=86.5]"
     ]
    },
    {
     "name": "stderr",
     "output_type": "stream",
     "text": [
      "\r",
      "Episode 192:   2%|▏         | 192/10000 [00:27<24:18,  6.73it/s, episode_reward=94, running_reward=86.5]"
     ]
    },
    {
     "name": "stderr",
     "output_type": "stream",
     "text": [
      "\r",
      "Episode 192:   2%|▏         | 192/10000 [00:27<24:18,  6.73it/s, episode_reward=95, running_reward=85.5]"
     ]
    },
    {
     "name": "stderr",
     "output_type": "stream",
     "text": [
      "\r",
      "Episode 192:   2%|▏         | 193/10000 [00:27<24:30,  6.67it/s, episode_reward=95, running_reward=85.5]"
     ]
    },
    {
     "name": "stderr",
     "output_type": "stream",
     "text": [
      "\r",
      "Episode 193:   2%|▏         | 193/10000 [00:27<24:30,  6.67it/s, episode_reward=95, running_reward=85.5]"
     ]
    },
    {
     "name": "stderr",
     "output_type": "stream",
     "text": [
      "\r",
      "Episode 193:   2%|▏         | 193/10000 [00:27<24:30,  6.67it/s, episode_reward=92, running_reward=85]  "
     ]
    },
    {
     "name": "stderr",
     "output_type": "stream",
     "text": [
      "\r",
      "Episode 193:   2%|▏         | 194/10000 [00:27<24:46,  6.60it/s, episode_reward=92, running_reward=85]"
     ]
    },
    {
     "name": "stderr",
     "output_type": "stream",
     "text": [
      "\r",
      "Episode 194:   2%|▏         | 194/10000 [00:27<24:46,  6.60it/s, episode_reward=92, running_reward=85]"
     ]
    },
    {
     "name": "stderr",
     "output_type": "stream",
     "text": [
      "\r",
      "Episode 194:   2%|▏         | 194/10000 [00:27<24:46,  6.60it/s, episode_reward=106, running_reward=84.1]"
     ]
    },
    {
     "name": "stderr",
     "output_type": "stream",
     "text": [
      "\r",
      "Episode 194:   2%|▏         | 195/10000 [00:27<25:40,  6.36it/s, episode_reward=106, running_reward=84.1]"
     ]
    },
    {
     "name": "stderr",
     "output_type": "stream",
     "text": [
      "\r",
      "Episode 195:   2%|▏         | 195/10000 [00:27<25:40,  6.36it/s, episode_reward=106, running_reward=84.1]"
     ]
    },
    {
     "name": "stderr",
     "output_type": "stream",
     "text": [
      "\r",
      "Episode 195:   2%|▏         | 195/10000 [00:27<25:40,  6.36it/s, episode_reward=115, running_reward=84]  "
     ]
    },
    {
     "name": "stderr",
     "output_type": "stream",
     "text": [
      "\r",
      "Episode 195:   2%|▏         | 196/10000 [00:27<27:16,  5.99it/s, episode_reward=115, running_reward=84]"
     ]
    },
    {
     "name": "stderr",
     "output_type": "stream",
     "text": [
      "\r",
      "Episode 196:   2%|▏         | 196/10000 [00:27<27:16,  5.99it/s, episode_reward=115, running_reward=84]"
     ]
    },
    {
     "name": "stderr",
     "output_type": "stream",
     "text": [
      "\r",
      "Episode 196:   2%|▏         | 196/10000 [00:27<27:16,  5.99it/s, episode_reward=123, running_reward=83.7]"
     ]
    },
    {
     "name": "stderr",
     "output_type": "stream",
     "text": [
      "\r",
      "Episode 196:   2%|▏         | 197/10000 [00:27<28:43,  5.69it/s, episode_reward=123, running_reward=83.7]"
     ]
    },
    {
     "name": "stderr",
     "output_type": "stream",
     "text": [
      "\r",
      "Episode 197:   2%|▏         | 197/10000 [00:28<28:43,  5.69it/s, episode_reward=123, running_reward=83.7]"
     ]
    },
    {
     "name": "stderr",
     "output_type": "stream",
     "text": [
      "\r",
      "Episode 197:   2%|▏         | 197/10000 [00:28<28:43,  5.69it/s, episode_reward=133, running_reward=83.7]"
     ]
    },
    {
     "name": "stderr",
     "output_type": "stream",
     "text": [
      "\r",
      "Episode 197:   2%|▏         | 198/10000 [00:28<30:59,  5.27it/s, episode_reward=133, running_reward=83.7]"
     ]
    },
    {
     "name": "stderr",
     "output_type": "stream",
     "text": [
      "\r",
      "Episode 198:   2%|▏         | 198/10000 [00:28<30:59,  5.27it/s, episode_reward=133, running_reward=83.7]"
     ]
    },
    {
     "name": "stderr",
     "output_type": "stream",
     "text": [
      "\r",
      "Episode 198:   2%|▏         | 198/10000 [00:28<30:59,  5.27it/s, episode_reward=75, running_reward=84.1] "
     ]
    },
    {
     "name": "stderr",
     "output_type": "stream",
     "text": [
      "\r",
      "Episode 198:   2%|▏         | 199/10000 [00:28<28:02,  5.83it/s, episode_reward=75, running_reward=84.1]"
     ]
    },
    {
     "name": "stderr",
     "output_type": "stream",
     "text": [
      "\r",
      "Episode 199:   2%|▏         | 199/10000 [00:28<28:02,  5.83it/s, episode_reward=75, running_reward=84.1]"
     ]
    },
    {
     "name": "stderr",
     "output_type": "stream",
     "text": [
      "\r",
      "Episode 199:   2%|▏         | 199/10000 [00:28<28:02,  5.83it/s, episode_reward=122, running_reward=85] "
     ]
    },
    {
     "name": "stderr",
     "output_type": "stream",
     "text": [
      "\r",
      "Episode 199:   2%|▏         | 200/10000 [00:28<29:31,  5.53it/s, episode_reward=122, running_reward=85]"
     ]
    },
    {
     "name": "stderr",
     "output_type": "stream",
     "text": [
      "\r",
      "Episode 200:   2%|▏         | 200/10000 [00:28<29:31,  5.53it/s, episode_reward=122, running_reward=85]"
     ]
    },
    {
     "name": "stderr",
     "output_type": "stream",
     "text": [
      "\r",
      "Episode 200:   2%|▏         | 200/10000 [00:28<29:31,  5.53it/s, episode_reward=110, running_reward=85.3]"
     ]
    },
    {
     "name": "stderr",
     "output_type": "stream",
     "text": [
      "\r",
      "Episode 200:   2%|▏         | 201/10000 [00:28<29:22,  5.56it/s, episode_reward=110, running_reward=85.3]"
     ]
    },
    {
     "name": "stderr",
     "output_type": "stream",
     "text": [
      "\r",
      "Episode 201:   2%|▏         | 201/10000 [00:28<29:22,  5.56it/s, episode_reward=110, running_reward=85.3]"
     ]
    },
    {
     "name": "stderr",
     "output_type": "stream",
     "text": [
      "\r",
      "Episode 201:   2%|▏         | 201/10000 [00:28<29:22,  5.56it/s, episode_reward=92, running_reward=85.9] "
     ]
    },
    {
     "name": "stderr",
     "output_type": "stream",
     "text": [
      "\r",
      "Episode 201:   2%|▏         | 202/10000 [00:28<28:03,  5.82it/s, episode_reward=92, running_reward=85.9]"
     ]
    },
    {
     "name": "stderr",
     "output_type": "stream",
     "text": [
      "\r",
      "Episode 202:   2%|▏         | 202/10000 [00:29<28:03,  5.82it/s, episode_reward=92, running_reward=85.9]"
     ]
    },
    {
     "name": "stderr",
     "output_type": "stream",
     "text": [
      "\r",
      "Episode 202:   2%|▏         | 202/10000 [00:29<28:03,  5.82it/s, episode_reward=147, running_reward=86.7]"
     ]
    },
    {
     "name": "stderr",
     "output_type": "stream",
     "text": [
      "\r",
      "Episode 202:   2%|▏         | 203/10000 [00:29<31:15,  5.22it/s, episode_reward=147, running_reward=86.7]"
     ]
    },
    {
     "name": "stderr",
     "output_type": "stream",
     "text": [
      "\r",
      "Episode 203:   2%|▏         | 203/10000 [00:29<31:15,  5.22it/s, episode_reward=147, running_reward=86.7]"
     ]
    },
    {
     "name": "stderr",
     "output_type": "stream",
     "text": [
      "\r",
      "Episode 203:   2%|▏         | 203/10000 [00:29<31:15,  5.22it/s, episode_reward=190, running_reward=88.3]"
     ]
    },
    {
     "name": "stderr",
     "output_type": "stream",
     "text": [
      "\r",
      "Episode 203:   2%|▏         | 204/10000 [00:29<37:02,  4.41it/s, episode_reward=190, running_reward=88.3]"
     ]
    },
    {
     "name": "stderr",
     "output_type": "stream",
     "text": [
      "\r",
      "Episode 204:   2%|▏         | 204/10000 [00:29<37:02,  4.41it/s, episode_reward=190, running_reward=88.3]"
     ]
    },
    {
     "name": "stderr",
     "output_type": "stream",
     "text": [
      "\r",
      "Episode 204:   2%|▏         | 204/10000 [00:29<37:02,  4.41it/s, episode_reward=200, running_reward=90]  "
     ]
    },
    {
     "name": "stderr",
     "output_type": "stream",
     "text": [
      "\r",
      "Episode 204:   2%|▏         | 205/10000 [00:29<41:01,  3.98it/s, episode_reward=200, running_reward=90]"
     ]
    },
    {
     "name": "stderr",
     "output_type": "stream",
     "text": [
      "\r",
      "Episode 205:   2%|▏         | 205/10000 [00:30<41:01,  3.98it/s, episode_reward=200, running_reward=90]"
     ]
    },
    {
     "name": "stderr",
     "output_type": "stream",
     "text": [
      "\r",
      "Episode 205:   2%|▏         | 205/10000 [00:30<41:01,  3.98it/s, episode_reward=200, running_reward=91.6]"
     ]
    },
    {
     "name": "stderr",
     "output_type": "stream",
     "text": [
      "\r",
      "Episode 205:   2%|▏         | 206/10000 [00:30<43:48,  3.73it/s, episode_reward=200, running_reward=91.6]"
     ]
    },
    {
     "name": "stderr",
     "output_type": "stream",
     "text": [
      "\r",
      "Episode 206:   2%|▏         | 206/10000 [00:30<43:48,  3.73it/s, episode_reward=200, running_reward=91.6]"
     ]
    },
    {
     "name": "stderr",
     "output_type": "stream",
     "text": [
      "\r",
      "Episode 206:   2%|▏         | 206/10000 [00:30<43:48,  3.73it/s, episode_reward=148, running_reward=92.8]"
     ]
    },
    {
     "name": "stderr",
     "output_type": "stream",
     "text": [
      "\r",
      "Episode 206:   2%|▏         | 207/10000 [00:30<41:56,  3.89it/s, episode_reward=148, running_reward=92.8]"
     ]
    },
    {
     "name": "stderr",
     "output_type": "stream",
     "text": [
      "\r",
      "Episode 207:   2%|▏         | 207/10000 [00:30<41:56,  3.89it/s, episode_reward=148, running_reward=92.8]"
     ]
    },
    {
     "name": "stderr",
     "output_type": "stream",
     "text": [
      "\r",
      "Episode 207:   2%|▏         | 207/10000 [00:30<41:56,  3.89it/s, episode_reward=154, running_reward=94]  "
     ]
    },
    {
     "name": "stderr",
     "output_type": "stream",
     "text": [
      "\r",
      "Episode 207:   2%|▏         | 208/10000 [00:30<41:28,  3.93it/s, episode_reward=154, running_reward=94]"
     ]
    },
    {
     "name": "stderr",
     "output_type": "stream",
     "text": [
      "\r",
      "Episode 208:   2%|▏         | 208/10000 [00:30<41:28,  3.93it/s, episode_reward=154, running_reward=94]"
     ]
    },
    {
     "name": "stderr",
     "output_type": "stream",
     "text": [
      "\r",
      "Episode 208:   2%|▏         | 208/10000 [00:30<41:28,  3.93it/s, episode_reward=168, running_reward=95.4]"
     ]
    },
    {
     "name": "stderr",
     "output_type": "stream",
     "text": [
      "\r",
      "Episode 208:   2%|▏         | 209/10000 [00:30<41:54,  3.89it/s, episode_reward=168, running_reward=95.4]"
     ]
    },
    {
     "name": "stderr",
     "output_type": "stream",
     "text": [
      "\r",
      "Episode 209:   2%|▏         | 209/10000 [00:31<41:54,  3.89it/s, episode_reward=168, running_reward=95.4]"
     ]
    },
    {
     "name": "stderr",
     "output_type": "stream",
     "text": [
      "\r",
      "Episode 209:   2%|▏         | 209/10000 [00:31<41:54,  3.89it/s, episode_reward=192, running_reward=96.9]"
     ]
    },
    {
     "name": "stderr",
     "output_type": "stream",
     "text": [
      "\r",
      "Episode 209:   2%|▏         | 210/10000 [00:31<43:56,  3.71it/s, episode_reward=192, running_reward=96.9]"
     ]
    },
    {
     "name": "stderr",
     "output_type": "stream",
     "text": [
      "\r",
      "Episode 210:   2%|▏         | 210/10000 [00:31<43:56,  3.71it/s, episode_reward=192, running_reward=96.9]"
     ]
    },
    {
     "name": "stderr",
     "output_type": "stream",
     "text": [
      "\r",
      "Episode 210:   2%|▏         | 210/10000 [00:31<43:56,  3.71it/s, episode_reward=200, running_reward=98.5]"
     ]
    },
    {
     "name": "stderr",
     "output_type": "stream",
     "text": [
      "\r",
      "Episode 210:   2%|▏         | 211/10000 [00:31<45:57,  3.55it/s, episode_reward=200, running_reward=98.5]"
     ]
    },
    {
     "name": "stderr",
     "output_type": "stream",
     "text": [
      "\r",
      "Episode 211:   2%|▏         | 211/10000 [00:31<45:57,  3.55it/s, episode_reward=200, running_reward=98.5]"
     ]
    },
    {
     "name": "stderr",
     "output_type": "stream",
     "text": [
      "\r",
      "Episode 211:   2%|▏         | 211/10000 [00:31<45:57,  3.55it/s, episode_reward=200, running_reward=100] "
     ]
    },
    {
     "name": "stderr",
     "output_type": "stream",
     "text": [
      "\r",
      "Episode 211:   2%|▏         | 212/10000 [00:31<47:39,  3.42it/s, episode_reward=200, running_reward=100]"
     ]
    },
    {
     "name": "stderr",
     "output_type": "stream",
     "text": [
      "\r",
      "Episode 212:   2%|▏         | 212/10000 [00:31<47:39,  3.42it/s, episode_reward=200, running_reward=100]"
     ]
    },
    {
     "name": "stderr",
     "output_type": "stream",
     "text": [
      "\r",
      "Episode 212:   2%|▏         | 212/10000 [00:31<47:39,  3.42it/s, episode_reward=200, running_reward=102]"
     ]
    },
    {
     "name": "stderr",
     "output_type": "stream",
     "text": [
      "\r",
      "Episode 212:   2%|▏         | 213/10000 [00:31<49:01,  3.33it/s, episode_reward=200, running_reward=102]"
     ]
    },
    {
     "name": "stderr",
     "output_type": "stream",
     "text": [
      "\r",
      "Episode 213:   2%|▏         | 213/10000 [00:32<49:01,  3.33it/s, episode_reward=200, running_reward=102]"
     ]
    },
    {
     "name": "stderr",
     "output_type": "stream",
     "text": [
      "\r",
      "Episode 213:   2%|▏         | 213/10000 [00:32<49:01,  3.33it/s, episode_reward=200, running_reward=104]"
     ]
    },
    {
     "name": "stderr",
     "output_type": "stream",
     "text": [
      "\r",
      "Episode 213:   2%|▏         | 214/10000 [00:32<50:09,  3.25it/s, episode_reward=200, running_reward=104]"
     ]
    },
    {
     "name": "stderr",
     "output_type": "stream",
     "text": [
      "\r",
      "Episode 214:   2%|▏         | 214/10000 [00:32<50:09,  3.25it/s, episode_reward=200, running_reward=104]"
     ]
    },
    {
     "name": "stderr",
     "output_type": "stream",
     "text": [
      "\r",
      "Episode 214:   2%|▏         | 214/10000 [00:32<50:09,  3.25it/s, episode_reward=200, running_reward=105]"
     ]
    },
    {
     "name": "stderr",
     "output_type": "stream",
     "text": [
      "\r",
      "Episode 214:   2%|▏         | 215/10000 [00:32<50:57,  3.20it/s, episode_reward=200, running_reward=105]"
     ]
    },
    {
     "name": "stderr",
     "output_type": "stream",
     "text": [
      "\r",
      "Episode 215:   2%|▏         | 215/10000 [00:32<50:57,  3.20it/s, episode_reward=200, running_reward=105]"
     ]
    },
    {
     "name": "stderr",
     "output_type": "stream",
     "text": [
      "\r",
      "Episode 215:   2%|▏         | 215/10000 [00:32<50:57,  3.20it/s, episode_reward=189, running_reward=106]"
     ]
    },
    {
     "name": "stderr",
     "output_type": "stream",
     "text": [
      "\r",
      "Episode 215:   2%|▏         | 216/10000 [00:32<50:24,  3.24it/s, episode_reward=189, running_reward=106]"
     ]
    },
    {
     "name": "stderr",
     "output_type": "stream",
     "text": [
      "\r",
      "Episode 216:   2%|▏         | 216/10000 [00:33<50:24,  3.24it/s, episode_reward=189, running_reward=106]"
     ]
    },
    {
     "name": "stderr",
     "output_type": "stream",
     "text": [
      "\r",
      "Episode 216:   2%|▏         | 216/10000 [00:33<50:24,  3.24it/s, episode_reward=197, running_reward=108]"
     ]
    },
    {
     "name": "stderr",
     "output_type": "stream",
     "text": [
      "\r",
      "Episode 216:   2%|▏         | 217/10000 [00:33<50:40,  3.22it/s, episode_reward=197, running_reward=108]"
     ]
    },
    {
     "name": "stderr",
     "output_type": "stream",
     "text": [
      "\r",
      "Episode 217:   2%|▏         | 217/10000 [00:33<50:40,  3.22it/s, episode_reward=197, running_reward=108]"
     ]
    },
    {
     "name": "stderr",
     "output_type": "stream",
     "text": [
      "\r",
      "Episode 217:   2%|▏         | 217/10000 [00:33<50:40,  3.22it/s, episode_reward=200, running_reward=110]"
     ]
    },
    {
     "name": "stderr",
     "output_type": "stream",
     "text": [
      "\r",
      "Episode 217:   2%|▏         | 218/10000 [00:33<51:11,  3.18it/s, episode_reward=200, running_reward=110]"
     ]
    },
    {
     "name": "stderr",
     "output_type": "stream",
     "text": [
      "\r",
      "Episode 218:   2%|▏         | 218/10000 [00:33<51:11,  3.18it/s, episode_reward=200, running_reward=110]"
     ]
    },
    {
     "name": "stderr",
     "output_type": "stream",
     "text": [
      "\r",
      "Episode 218:   2%|▏         | 218/10000 [00:33<51:11,  3.18it/s, episode_reward=200, running_reward=111]"
     ]
    },
    {
     "name": "stderr",
     "output_type": "stream",
     "text": [
      "\r",
      "Episode 218:   2%|▏         | 219/10000 [00:33<51:29,  3.17it/s, episode_reward=200, running_reward=111]"
     ]
    },
    {
     "name": "stderr",
     "output_type": "stream",
     "text": [
      "\r",
      "Episode 219:   2%|▏         | 219/10000 [00:34<51:29,  3.17it/s, episode_reward=200, running_reward=111]"
     ]
    },
    {
     "name": "stderr",
     "output_type": "stream",
     "text": [
      "\r",
      "Episode 219:   2%|▏         | 219/10000 [00:34<51:29,  3.17it/s, episode_reward=200, running_reward=113]"
     ]
    },
    {
     "name": "stderr",
     "output_type": "stream",
     "text": [
      "\r",
      "Episode 219:   2%|▏         | 220/10000 [00:34<51:34,  3.16it/s, episode_reward=200, running_reward=113]"
     ]
    },
    {
     "name": "stderr",
     "output_type": "stream",
     "text": [
      "\r",
      "Episode 220:   2%|▏         | 220/10000 [00:34<51:34,  3.16it/s, episode_reward=200, running_reward=113]"
     ]
    },
    {
     "name": "stderr",
     "output_type": "stream",
     "text": [
      "\r",
      "Episode 220:   2%|▏         | 220/10000 [00:34<51:34,  3.16it/s, episode_reward=200, running_reward=114]"
     ]
    },
    {
     "name": "stderr",
     "output_type": "stream",
     "text": [
      "\r",
      "Episode 220:   2%|▏         | 221/10000 [00:34<51:53,  3.14it/s, episode_reward=200, running_reward=114]"
     ]
    },
    {
     "name": "stderr",
     "output_type": "stream",
     "text": [
      "\r",
      "Episode 221:   2%|▏         | 221/10000 [00:34<51:53,  3.14it/s, episode_reward=200, running_reward=114]"
     ]
    },
    {
     "name": "stderr",
     "output_type": "stream",
     "text": [
      "\r",
      "Episode 221:   2%|▏         | 221/10000 [00:34<51:53,  3.14it/s, episode_reward=200, running_reward=116]"
     ]
    },
    {
     "name": "stderr",
     "output_type": "stream",
     "text": [
      "\r",
      "Episode 221:   2%|▏         | 222/10000 [00:34<51:51,  3.14it/s, episode_reward=200, running_reward=116]"
     ]
    },
    {
     "name": "stderr",
     "output_type": "stream",
     "text": [
      "\r",
      "Episode 222:   2%|▏         | 222/10000 [00:35<51:51,  3.14it/s, episode_reward=200, running_reward=116]"
     ]
    },
    {
     "name": "stderr",
     "output_type": "stream",
     "text": [
      "\r",
      "Episode 222:   2%|▏         | 222/10000 [00:35<51:51,  3.14it/s, episode_reward=200, running_reward=117]"
     ]
    },
    {
     "name": "stderr",
     "output_type": "stream",
     "text": [
      "\r",
      "Episode 222:   2%|▏         | 223/10000 [00:35<53:04,  3.07it/s, episode_reward=200, running_reward=117]"
     ]
    },
    {
     "name": "stderr",
     "output_type": "stream",
     "text": [
      "\r",
      "Episode 223:   2%|▏         | 223/10000 [00:35<53:04,  3.07it/s, episode_reward=200, running_reward=117]"
     ]
    },
    {
     "name": "stderr",
     "output_type": "stream",
     "text": [
      "\r",
      "Episode 223:   2%|▏         | 223/10000 [00:35<53:04,  3.07it/s, episode_reward=200, running_reward=119]"
     ]
    },
    {
     "name": "stderr",
     "output_type": "stream",
     "text": [
      "\r",
      "Episode 223:   2%|▏         | 224/10000 [00:35<53:41,  3.03it/s, episode_reward=200, running_reward=119]"
     ]
    },
    {
     "name": "stderr",
     "output_type": "stream",
     "text": [
      "\r",
      "Episode 224:   2%|▏         | 224/10000 [00:35<53:41,  3.03it/s, episode_reward=200, running_reward=119]"
     ]
    },
    {
     "name": "stderr",
     "output_type": "stream",
     "text": [
      "\r",
      "Episode 224:   2%|▏         | 224/10000 [00:35<53:41,  3.03it/s, episode_reward=200, running_reward=120]"
     ]
    },
    {
     "name": "stderr",
     "output_type": "stream",
     "text": [
      "\r",
      "Episode 224:   2%|▏         | 225/10000 [00:35<53:52,  3.02it/s, episode_reward=200, running_reward=120]"
     ]
    },
    {
     "name": "stderr",
     "output_type": "stream",
     "text": [
      "\r",
      "Episode 225:   2%|▏         | 225/10000 [00:36<53:52,  3.02it/s, episode_reward=200, running_reward=120]"
     ]
    },
    {
     "name": "stderr",
     "output_type": "stream",
     "text": [
      "\r",
      "Episode 225:   2%|▏         | 225/10000 [00:36<53:52,  3.02it/s, episode_reward=200, running_reward=121]"
     ]
    },
    {
     "name": "stderr",
     "output_type": "stream",
     "text": [
      "\r",
      "Episode 225:   2%|▏         | 226/10000 [00:36<53:24,  3.05it/s, episode_reward=200, running_reward=121]"
     ]
    },
    {
     "name": "stderr",
     "output_type": "stream",
     "text": [
      "\r",
      "Episode 226:   2%|▏         | 226/10000 [00:36<53:24,  3.05it/s, episode_reward=200, running_reward=121]"
     ]
    },
    {
     "name": "stderr",
     "output_type": "stream",
     "text": [
      "\r",
      "Episode 226:   2%|▏         | 226/10000 [00:36<53:24,  3.05it/s, episode_reward=200, running_reward=122]"
     ]
    },
    {
     "name": "stderr",
     "output_type": "stream",
     "text": [
      "\r",
      "Episode 226:   2%|▏         | 227/10000 [00:36<53:21,  3.05it/s, episode_reward=200, running_reward=122]"
     ]
    },
    {
     "name": "stderr",
     "output_type": "stream",
     "text": [
      "\r",
      "Episode 227:   2%|▏         | 227/10000 [00:36<53:21,  3.05it/s, episode_reward=200, running_reward=122]"
     ]
    },
    {
     "name": "stderr",
     "output_type": "stream",
     "text": [
      "\r",
      "Episode 227:   2%|▏         | 227/10000 [00:36<53:21,  3.05it/s, episode_reward=200, running_reward=124]"
     ]
    },
    {
     "name": "stderr",
     "output_type": "stream",
     "text": [
      "\r",
      "Episode 227:   2%|▏         | 228/10000 [00:36<53:37,  3.04it/s, episode_reward=200, running_reward=124]"
     ]
    },
    {
     "name": "stderr",
     "output_type": "stream",
     "text": [
      "\r",
      "Episode 228:   2%|▏         | 228/10000 [00:37<53:37,  3.04it/s, episode_reward=200, running_reward=124]"
     ]
    },
    {
     "name": "stderr",
     "output_type": "stream",
     "text": [
      "\r",
      "Episode 228:   2%|▏         | 228/10000 [00:37<53:37,  3.04it/s, episode_reward=200, running_reward=125]"
     ]
    },
    {
     "name": "stderr",
     "output_type": "stream",
     "text": [
      "\r",
      "Episode 228:   2%|▏         | 229/10000 [00:37<54:43,  2.98it/s, episode_reward=200, running_reward=125]"
     ]
    },
    {
     "name": "stderr",
     "output_type": "stream",
     "text": [
      "\r",
      "Episode 229:   2%|▏         | 229/10000 [00:37<54:43,  2.98it/s, episode_reward=200, running_reward=125]"
     ]
    },
    {
     "name": "stderr",
     "output_type": "stream",
     "text": [
      "\r",
      "Episode 229:   2%|▏         | 229/10000 [00:37<54:43,  2.98it/s, episode_reward=200, running_reward=126]"
     ]
    },
    {
     "name": "stderr",
     "output_type": "stream",
     "text": [
      "\r",
      "Episode 229:   2%|▏         | 230/10000 [00:37<54:33,  2.98it/s, episode_reward=200, running_reward=126]"
     ]
    },
    {
     "name": "stderr",
     "output_type": "stream",
     "text": [
      "\r",
      "Episode 230:   2%|▏         | 230/10000 [00:37<54:33,  2.98it/s, episode_reward=200, running_reward=126]"
     ]
    },
    {
     "name": "stderr",
     "output_type": "stream",
     "text": [
      "\r",
      "Episode 230:   2%|▏         | 230/10000 [00:37<54:33,  2.98it/s, episode_reward=183, running_reward=128]"
     ]
    },
    {
     "name": "stderr",
     "output_type": "stream",
     "text": [
      "\r",
      "Episode 230:   2%|▏         | 231/10000 [00:37<52:26,  3.10it/s, episode_reward=183, running_reward=128]"
     ]
    },
    {
     "name": "stderr",
     "output_type": "stream",
     "text": [
      "\r",
      "Episode 231:   2%|▏         | 231/10000 [00:38<52:26,  3.10it/s, episode_reward=183, running_reward=128]"
     ]
    },
    {
     "name": "stderr",
     "output_type": "stream",
     "text": [
      "\r",
      "Episode 231:   2%|▏         | 231/10000 [00:38<52:26,  3.10it/s, episode_reward=167, running_reward=128]"
     ]
    },
    {
     "name": "stderr",
     "output_type": "stream",
     "text": [
      "\r",
      "Episode 231:   2%|▏         | 232/10000 [00:38<49:48,  3.27it/s, episode_reward=167, running_reward=128]"
     ]
    },
    {
     "name": "stderr",
     "output_type": "stream",
     "text": [
      "\r",
      "Episode 232:   2%|▏         | 232/10000 [00:38<49:48,  3.27it/s, episode_reward=167, running_reward=128]"
     ]
    },
    {
     "name": "stderr",
     "output_type": "stream",
     "text": [
      "\r",
      "Episode 232:   2%|▏         | 232/10000 [00:38<49:48,  3.27it/s, episode_reward=134, running_reward=128]"
     ]
    },
    {
     "name": "stderr",
     "output_type": "stream",
     "text": [
      "\r",
      "Episode 232:   2%|▏         | 233/10000 [00:38<45:52,  3.55it/s, episode_reward=134, running_reward=128]"
     ]
    },
    {
     "name": "stderr",
     "output_type": "stream",
     "text": [
      "\r",
      "Episode 233:   2%|▏         | 233/10000 [00:38<45:52,  3.55it/s, episode_reward=134, running_reward=128]"
     ]
    },
    {
     "name": "stderr",
     "output_type": "stream",
     "text": [
      "\r",
      "Episode 233:   2%|▏         | 233/10000 [00:38<45:52,  3.55it/s, episode_reward=141, running_reward=129]"
     ]
    },
    {
     "name": "stderr",
     "output_type": "stream",
     "text": [
      "\r",
      "Episode 233:   2%|▏         | 234/10000 [00:38<42:56,  3.79it/s, episode_reward=141, running_reward=129]"
     ]
    },
    {
     "name": "stderr",
     "output_type": "stream",
     "text": [
      "\r",
      "Episode 234:   2%|▏         | 234/10000 [00:38<42:56,  3.79it/s, episode_reward=141, running_reward=129]"
     ]
    },
    {
     "name": "stderr",
     "output_type": "stream",
     "text": [
      "\r",
      "Episode 234:   2%|▏         | 234/10000 [00:38<42:56,  3.79it/s, episode_reward=125, running_reward=128]"
     ]
    },
    {
     "name": "stderr",
     "output_type": "stream",
     "text": [
      "\r",
      "Episode 234:   2%|▏         | 235/10000 [00:38<39:44,  4.09it/s, episode_reward=125, running_reward=128]"
     ]
    },
    {
     "name": "stderr",
     "output_type": "stream",
     "text": [
      "\r",
      "Episode 235:   2%|▏         | 235/10000 [00:38<39:44,  4.09it/s, episode_reward=125, running_reward=128]"
     ]
    },
    {
     "name": "stderr",
     "output_type": "stream",
     "text": [
      "\r",
      "Episode 235:   2%|▏         | 235/10000 [00:38<39:44,  4.09it/s, episode_reward=153, running_reward=129]"
     ]
    },
    {
     "name": "stderr",
     "output_type": "stream",
     "text": [
      "\r",
      "Episode 235:   2%|▏         | 236/10000 [00:38<39:23,  4.13it/s, episode_reward=153, running_reward=129]"
     ]
    },
    {
     "name": "stderr",
     "output_type": "stream",
     "text": [
      "\r",
      "Episode 236:   2%|▏         | 236/10000 [00:39<39:23,  4.13it/s, episode_reward=153, running_reward=129]"
     ]
    },
    {
     "name": "stderr",
     "output_type": "stream",
     "text": [
      "\r",
      "Episode 236:   2%|▏         | 236/10000 [00:39<39:23,  4.13it/s, episode_reward=124, running_reward=129]"
     ]
    },
    {
     "name": "stderr",
     "output_type": "stream",
     "text": [
      "\r",
      "Episode 236:   2%|▏         | 237/10000 [00:39<36:58,  4.40it/s, episode_reward=124, running_reward=129]"
     ]
    },
    {
     "name": "stderr",
     "output_type": "stream",
     "text": [
      "\r",
      "Episode 237:   2%|▏         | 237/10000 [00:39<36:58,  4.40it/s, episode_reward=124, running_reward=129]"
     ]
    },
    {
     "name": "stderr",
     "output_type": "stream",
     "text": [
      "\r",
      "Episode 237:   2%|▏         | 237/10000 [00:39<36:58,  4.40it/s, episode_reward=113, running_reward=129]"
     ]
    },
    {
     "name": "stderr",
     "output_type": "stream",
     "text": [
      "\r",
      "Episode 237:   2%|▏         | 238/10000 [00:39<34:50,  4.67it/s, episode_reward=113, running_reward=129]"
     ]
    },
    {
     "name": "stderr",
     "output_type": "stream",
     "text": [
      "\r",
      "Episode 238:   2%|▏         | 238/10000 [00:39<34:50,  4.67it/s, episode_reward=113, running_reward=129]"
     ]
    },
    {
     "name": "stderr",
     "output_type": "stream",
     "text": [
      "\r",
      "Episode 238:   2%|▏         | 238/10000 [00:39<34:50,  4.67it/s, episode_reward=125, running_reward=129]"
     ]
    },
    {
     "name": "stderr",
     "output_type": "stream",
     "text": [
      "\r",
      "Episode 238:   2%|▏         | 239/10000 [00:39<34:36,  4.70it/s, episode_reward=125, running_reward=129]"
     ]
    },
    {
     "name": "stderr",
     "output_type": "stream",
     "text": [
      "\r",
      "Episode 239:   2%|▏         | 239/10000 [00:39<34:36,  4.70it/s, episode_reward=125, running_reward=129]"
     ]
    },
    {
     "name": "stderr",
     "output_type": "stream",
     "text": [
      "\r",
      "Episode 239:   2%|▏         | 239/10000 [00:39<34:36,  4.70it/s, episode_reward=112, running_reward=130]"
     ]
    },
    {
     "name": "stderr",
     "output_type": "stream",
     "text": [
      "\r",
      "Episode 239:   2%|▏         | 240/10000 [00:39<33:04,  4.92it/s, episode_reward=112, running_reward=130]"
     ]
    },
    {
     "name": "stderr",
     "output_type": "stream",
     "text": [
      "\r",
      "Episode 240:   2%|▏         | 240/10000 [00:39<33:04,  4.92it/s, episode_reward=112, running_reward=130]"
     ]
    },
    {
     "name": "stderr",
     "output_type": "stream",
     "text": [
      "\r",
      "Episode 240:   2%|▏         | 240/10000 [00:39<33:04,  4.92it/s, episode_reward=118, running_reward=130]"
     ]
    },
    {
     "name": "stderr",
     "output_type": "stream",
     "text": [
      "\r",
      "Episode 240:   2%|▏         | 241/10000 [00:39<32:20,  5.03it/s, episode_reward=118, running_reward=130]"
     ]
    },
    {
     "name": "stderr",
     "output_type": "stream",
     "text": [
      "\r",
      "Episode 241:   2%|▏         | 241/10000 [00:40<32:20,  5.03it/s, episode_reward=118, running_reward=130]"
     ]
    },
    {
     "name": "stderr",
     "output_type": "stream",
     "text": [
      "\r",
      "Episode 241:   2%|▏         | 241/10000 [00:40<32:20,  5.03it/s, episode_reward=124, running_reward=130]"
     ]
    },
    {
     "name": "stderr",
     "output_type": "stream",
     "text": [
      "\r",
      "Episode 241:   2%|▏         | 242/10000 [00:40<32:41,  4.98it/s, episode_reward=124, running_reward=130]"
     ]
    },
    {
     "name": "stderr",
     "output_type": "stream",
     "text": [
      "\r",
      "Episode 242:   2%|▏         | 242/10000 [00:40<32:41,  4.98it/s, episode_reward=124, running_reward=130]"
     ]
    },
    {
     "name": "stderr",
     "output_type": "stream",
     "text": [
      "\r",
      "Episode 242:   2%|▏         | 242/10000 [00:40<32:41,  4.98it/s, episode_reward=119, running_reward=131]"
     ]
    },
    {
     "name": "stderr",
     "output_type": "stream",
     "text": [
      "\r",
      "Episode 242:   2%|▏         | 243/10000 [00:40<32:25,  5.02it/s, episode_reward=119, running_reward=131]"
     ]
    },
    {
     "name": "stderr",
     "output_type": "stream",
     "text": [
      "\r",
      "Episode 243:   2%|▏         | 243/10000 [00:40<32:25,  5.02it/s, episode_reward=119, running_reward=131]"
     ]
    },
    {
     "name": "stderr",
     "output_type": "stream",
     "text": [
      "\r",
      "Episode 243:   2%|▏         | 243/10000 [00:40<32:25,  5.02it/s, episode_reward=113, running_reward=131]"
     ]
    },
    {
     "name": "stderr",
     "output_type": "stream",
     "text": [
      "\r",
      "Episode 243:   2%|▏         | 244/10000 [00:40<31:35,  5.15it/s, episode_reward=113, running_reward=131]"
     ]
    },
    {
     "name": "stderr",
     "output_type": "stream",
     "text": [
      "\r",
      "Episode 244:   2%|▏         | 244/10000 [00:40<31:35,  5.15it/s, episode_reward=113, running_reward=131]"
     ]
    },
    {
     "name": "stderr",
     "output_type": "stream",
     "text": [
      "\r",
      "Episode 244:   2%|▏         | 244/10000 [00:40<31:35,  5.15it/s, episode_reward=115, running_reward=131]"
     ]
    },
    {
     "name": "stderr",
     "output_type": "stream",
     "text": [
      "\r",
      "Episode 244:   2%|▏         | 245/10000 [00:40<31:29,  5.16it/s, episode_reward=115, running_reward=131]"
     ]
    },
    {
     "name": "stderr",
     "output_type": "stream",
     "text": [
      "\r",
      "Episode 245:   2%|▏         | 245/10000 [00:40<31:29,  5.16it/s, episode_reward=115, running_reward=131]"
     ]
    },
    {
     "name": "stderr",
     "output_type": "stream",
     "text": [
      "\r",
      "Episode 245:   2%|▏         | 245/10000 [00:40<31:29,  5.16it/s, episode_reward=23, running_reward=131] "
     ]
    },
    {
     "name": "stderr",
     "output_type": "stream",
     "text": [
      "\r",
      "Episode 246:   2%|▏         | 245/10000 [00:40<31:29,  5.16it/s, episode_reward=23, running_reward=131]"
     ]
    },
    {
     "name": "stderr",
     "output_type": "stream",
     "text": [
      "\r",
      "Episode 246:   2%|▏         | 245/10000 [00:40<31:29,  5.16it/s, episode_reward=18, running_reward=130]"
     ]
    },
    {
     "name": "stderr",
     "output_type": "stream",
     "text": [
      "\r",
      "Episode 247:   2%|▏         | 245/10000 [00:40<31:29,  5.16it/s, episode_reward=18, running_reward=130]"
     ]
    },
    {
     "name": "stderr",
     "output_type": "stream",
     "text": [
      "\r",
      "Episode 247:   2%|▏         | 245/10000 [00:40<31:29,  5.16it/s, episode_reward=82, running_reward=130]"
     ]
    },
    {
     "name": "stderr",
     "output_type": "stream",
     "text": [
      "\r",
      "Episode 247:   2%|▏         | 248/10000 [00:40<20:03,  8.10it/s, episode_reward=82, running_reward=130]"
     ]
    },
    {
     "name": "stderr",
     "output_type": "stream",
     "text": [
      "\r",
      "Episode 248:   2%|▏         | 248/10000 [00:41<20:03,  8.10it/s, episode_reward=82, running_reward=130]"
     ]
    },
    {
     "name": "stderr",
     "output_type": "stream",
     "text": [
      "\r",
      "Episode 248:   2%|▏         | 248/10000 [00:41<20:03,  8.10it/s, episode_reward=117, running_reward=130]"
     ]
    },
    {
     "name": "stderr",
     "output_type": "stream",
     "text": [
      "\r",
      "Episode 248:   2%|▏         | 249/10000 [00:41<22:28,  7.23it/s, episode_reward=117, running_reward=130]"
     ]
    },
    {
     "name": "stderr",
     "output_type": "stream",
     "text": [
      "\r",
      "Episode 249:   2%|▏         | 249/10000 [00:41<22:28,  7.23it/s, episode_reward=117, running_reward=130]"
     ]
    },
    {
     "name": "stderr",
     "output_type": "stream",
     "text": [
      "\r",
      "Episode 249:   2%|▏         | 249/10000 [00:41<22:28,  7.23it/s, episode_reward=21, running_reward=129] "
     ]
    },
    {
     "name": "stderr",
     "output_type": "stream",
     "text": [
      "\r",
      "Episode 250:   2%|▏         | 249/10000 [00:41<22:28,  7.23it/s, episode_reward=21, running_reward=129]"
     ]
    },
    {
     "name": "stderr",
     "output_type": "stream",
     "text": [
      "\r",
      "Episode 250:   2%|▏         | 249/10000 [00:41<22:28,  7.23it/s, episode_reward=128, running_reward=130]"
     ]
    },
    {
     "name": "stderr",
     "output_type": "stream",
     "text": [
      "\r",
      "Episode 250:   3%|▎         | 251/10000 [00:41<21:29,  7.56it/s, episode_reward=128, running_reward=130]"
     ]
    },
    {
     "name": "stderr",
     "output_type": "stream",
     "text": [
      "\r",
      "Episode 251:   3%|▎         | 251/10000 [00:41<21:29,  7.56it/s, episode_reward=128, running_reward=130]"
     ]
    },
    {
     "name": "stderr",
     "output_type": "stream",
     "text": [
      "\r",
      "Episode 251:   3%|▎         | 251/10000 [00:41<21:29,  7.56it/s, episode_reward=123, running_reward=130]"
     ]
    },
    {
     "name": "stderr",
     "output_type": "stream",
     "text": [
      "\r",
      "Episode 251:   3%|▎         | 252/10000 [00:41<23:56,  6.79it/s, episode_reward=123, running_reward=130]"
     ]
    },
    {
     "name": "stderr",
     "output_type": "stream",
     "text": [
      "\r",
      "Episode 252:   3%|▎         | 252/10000 [00:41<23:56,  6.79it/s, episode_reward=123, running_reward=130]"
     ]
    },
    {
     "name": "stderr",
     "output_type": "stream",
     "text": [
      "\r",
      "Episode 252:   3%|▎         | 252/10000 [00:41<23:56,  6.79it/s, episode_reward=133, running_reward=130]"
     ]
    },
    {
     "name": "stderr",
     "output_type": "stream",
     "text": [
      "\r",
      "Episode 252:   3%|▎         | 253/10000 [00:41<27:21,  5.94it/s, episode_reward=133, running_reward=130]"
     ]
    },
    {
     "name": "stderr",
     "output_type": "stream",
     "text": [
      "\r",
      "Episode 253:   3%|▎         | 253/10000 [00:42<27:21,  5.94it/s, episode_reward=133, running_reward=130]"
     ]
    },
    {
     "name": "stderr",
     "output_type": "stream",
     "text": [
      "\r",
      "Episode 253:   3%|▎         | 253/10000 [00:42<27:21,  5.94it/s, episode_reward=130, running_reward=130]"
     ]
    },
    {
     "name": "stderr",
     "output_type": "stream",
     "text": [
      "\r",
      "Episode 253:   3%|▎         | 254/10000 [00:42<29:27,  5.52it/s, episode_reward=130, running_reward=130]"
     ]
    },
    {
     "name": "stderr",
     "output_type": "stream",
     "text": [
      "\r",
      "Episode 254:   3%|▎         | 254/10000 [00:42<29:27,  5.52it/s, episode_reward=130, running_reward=130]"
     ]
    },
    {
     "name": "stderr",
     "output_type": "stream",
     "text": [
      "\r",
      "Episode 254:   3%|▎         | 254/10000 [00:42<29:27,  5.52it/s, episode_reward=145, running_reward=130]"
     ]
    },
    {
     "name": "stderr",
     "output_type": "stream",
     "text": [
      "\r",
      "Episode 254:   3%|▎         | 255/10000 [00:42<31:55,  5.09it/s, episode_reward=145, running_reward=130]"
     ]
    },
    {
     "name": "stderr",
     "output_type": "stream",
     "text": [
      "\r",
      "Episode 255:   3%|▎         | 255/10000 [00:42<31:55,  5.09it/s, episode_reward=145, running_reward=130]"
     ]
    },
    {
     "name": "stderr",
     "output_type": "stream",
     "text": [
      "\r",
      "Episode 255:   3%|▎         | 255/10000 [00:42<31:55,  5.09it/s, episode_reward=121, running_reward=131]"
     ]
    },
    {
     "name": "stderr",
     "output_type": "stream",
     "text": [
      "\r",
      "Episode 255:   3%|▎         | 256/10000 [00:42<32:00,  5.07it/s, episode_reward=121, running_reward=131]"
     ]
    },
    {
     "name": "stderr",
     "output_type": "stream",
     "text": [
      "\r",
      "Episode 256:   3%|▎         | 256/10000 [00:42<32:00,  5.07it/s, episode_reward=121, running_reward=131]"
     ]
    },
    {
     "name": "stderr",
     "output_type": "stream",
     "text": [
      "\r",
      "Episode 256:   3%|▎         | 256/10000 [00:42<32:00,  5.07it/s, episode_reward=128, running_reward=131]"
     ]
    },
    {
     "name": "stderr",
     "output_type": "stream",
     "text": [
      "\r",
      "Episode 256:   3%|▎         | 257/10000 [00:42<32:55,  4.93it/s, episode_reward=128, running_reward=131]"
     ]
    },
    {
     "name": "stderr",
     "output_type": "stream",
     "text": [
      "\r",
      "Episode 257:   3%|▎         | 257/10000 [00:42<32:55,  4.93it/s, episode_reward=128, running_reward=131]"
     ]
    },
    {
     "name": "stderr",
     "output_type": "stream",
     "text": [
      "\r",
      "Episode 257:   3%|▎         | 257/10000 [00:42<32:55,  4.93it/s, episode_reward=116, running_reward=132]"
     ]
    },
    {
     "name": "stderr",
     "output_type": "stream",
     "text": [
      "\r",
      "Episode 257:   3%|▎         | 258/10000 [00:42<32:15,  5.03it/s, episode_reward=116, running_reward=132]"
     ]
    },
    {
     "name": "stderr",
     "output_type": "stream",
     "text": [
      "\r",
      "Episode 258:   3%|▎         | 258/10000 [00:43<32:15,  5.03it/s, episode_reward=116, running_reward=132]"
     ]
    },
    {
     "name": "stderr",
     "output_type": "stream",
     "text": [
      "\r",
      "Episode 258:   3%|▎         | 258/10000 [00:43<32:15,  5.03it/s, episode_reward=115, running_reward=132]"
     ]
    },
    {
     "name": "stderr",
     "output_type": "stream",
     "text": [
      "\r",
      "Episode 258:   3%|▎         | 259/10000 [00:43<31:32,  5.15it/s, episode_reward=115, running_reward=132]"
     ]
    },
    {
     "name": "stderr",
     "output_type": "stream",
     "text": [
      "\r",
      "Episode 259:   3%|▎         | 259/10000 [00:43<31:32,  5.15it/s, episode_reward=115, running_reward=132]"
     ]
    },
    {
     "name": "stderr",
     "output_type": "stream",
     "text": [
      "\r",
      "Episode 259:   3%|▎         | 259/10000 [00:43<31:32,  5.15it/s, episode_reward=119, running_reward=133]"
     ]
    },
    {
     "name": "stderr",
     "output_type": "stream",
     "text": [
      "\r",
      "Episode 259:   3%|▎         | 260/10000 [00:43<31:34,  5.14it/s, episode_reward=119, running_reward=133]"
     ]
    },
    {
     "name": "stderr",
     "output_type": "stream",
     "text": [
      "\r",
      "Episode 260:   3%|▎         | 260/10000 [00:43<31:34,  5.14it/s, episode_reward=119, running_reward=133]"
     ]
    },
    {
     "name": "stderr",
     "output_type": "stream",
     "text": [
      "\r",
      "Episode 260:   3%|▎         | 260/10000 [00:43<31:34,  5.14it/s, episode_reward=126, running_reward=133]"
     ]
    },
    {
     "name": "stderr",
     "output_type": "stream",
     "text": [
      "\r",
      "Episode 260:   3%|▎         | 261/10000 [00:43<32:14,  5.04it/s, episode_reward=126, running_reward=133]"
     ]
    },
    {
     "name": "stderr",
     "output_type": "stream",
     "text": [
      "\r",
      "Episode 261:   3%|▎         | 261/10000 [00:43<32:14,  5.04it/s, episode_reward=126, running_reward=133]"
     ]
    },
    {
     "name": "stderr",
     "output_type": "stream",
     "text": [
      "\r",
      "Episode 261:   3%|▎         | 261/10000 [00:43<32:14,  5.04it/s, episode_reward=132, running_reward=134]"
     ]
    },
    {
     "name": "stderr",
     "output_type": "stream",
     "text": [
      "\r",
      "Episode 261:   3%|▎         | 262/10000 [00:43<33:10,  4.89it/s, episode_reward=132, running_reward=134]"
     ]
    },
    {
     "name": "stderr",
     "output_type": "stream",
     "text": [
      "\r",
      "Episode 262:   3%|▎         | 262/10000 [00:43<33:10,  4.89it/s, episode_reward=132, running_reward=134]"
     ]
    },
    {
     "name": "stderr",
     "output_type": "stream",
     "text": [
      "\r",
      "Episode 262:   3%|▎         | 262/10000 [00:43<33:10,  4.89it/s, episode_reward=137, running_reward=134]"
     ]
    },
    {
     "name": "stderr",
     "output_type": "stream",
     "text": [
      "\r",
      "Episode 262:   3%|▎         | 263/10000 [00:43<34:19,  4.73it/s, episode_reward=137, running_reward=134]"
     ]
    },
    {
     "name": "stderr",
     "output_type": "stream",
     "text": [
      "\r",
      "Episode 263:   3%|▎         | 263/10000 [00:44<34:19,  4.73it/s, episode_reward=137, running_reward=134]"
     ]
    },
    {
     "name": "stderr",
     "output_type": "stream",
     "text": [
      "\r",
      "Episode 263:   3%|▎         | 263/10000 [00:44<34:19,  4.73it/s, episode_reward=169, running_reward=135]"
     ]
    },
    {
     "name": "stderr",
     "output_type": "stream",
     "text": [
      "\r",
      "Episode 263:   3%|▎         | 264/10000 [00:44<38:16,  4.24it/s, episode_reward=169, running_reward=135]"
     ]
    },
    {
     "name": "stderr",
     "output_type": "stream",
     "text": [
      "\r",
      "Episode 264:   3%|▎         | 264/10000 [00:44<38:16,  4.24it/s, episode_reward=169, running_reward=135]"
     ]
    },
    {
     "name": "stderr",
     "output_type": "stream",
     "text": [
      "\r",
      "Episode 264:   3%|▎         | 264/10000 [00:44<38:16,  4.24it/s, episode_reward=177, running_reward=136]"
     ]
    },
    {
     "name": "stderr",
     "output_type": "stream",
     "text": [
      "\r",
      "Episode 264:   3%|▎         | 265/10000 [00:44<40:58,  3.96it/s, episode_reward=177, running_reward=136]"
     ]
    },
    {
     "name": "stderr",
     "output_type": "stream",
     "text": [
      "\r",
      "Episode 265:   3%|▎         | 265/10000 [00:44<40:58,  3.96it/s, episode_reward=177, running_reward=136]"
     ]
    },
    {
     "name": "stderr",
     "output_type": "stream",
     "text": [
      "\r",
      "Episode 265:   3%|▎         | 265/10000 [00:44<40:58,  3.96it/s, episode_reward=152, running_reward=137]"
     ]
    },
    {
     "name": "stderr",
     "output_type": "stream",
     "text": [
      "\r",
      "Episode 265:   3%|▎         | 266/10000 [00:44<41:04,  3.95it/s, episode_reward=152, running_reward=137]"
     ]
    },
    {
     "name": "stderr",
     "output_type": "stream",
     "text": [
      "\r",
      "Episode 266:   3%|▎         | 266/10000 [00:45<41:04,  3.95it/s, episode_reward=152, running_reward=137]"
     ]
    },
    {
     "name": "stderr",
     "output_type": "stream",
     "text": [
      "\r",
      "Episode 266:   3%|▎         | 266/10000 [00:45<41:04,  3.95it/s, episode_reward=200, running_reward=137]"
     ]
    },
    {
     "name": "stderr",
     "output_type": "stream",
     "text": [
      "\r",
      "Episode 266:   3%|▎         | 267/10000 [00:45<45:11,  3.59it/s, episode_reward=200, running_reward=137]"
     ]
    },
    {
     "name": "stderr",
     "output_type": "stream",
     "text": [
      "\r",
      "Episode 267:   3%|▎         | 267/10000 [00:45<45:11,  3.59it/s, episode_reward=200, running_reward=137]"
     ]
    },
    {
     "name": "stderr",
     "output_type": "stream",
     "text": [
      "\r",
      "Episode 267:   3%|▎         | 267/10000 [00:45<45:11,  3.59it/s, episode_reward=196, running_reward=138]"
     ]
    },
    {
     "name": "stderr",
     "output_type": "stream",
     "text": [
      "\r",
      "Episode 267:   3%|▎         | 268/10000 [00:45<47:20,  3.43it/s, episode_reward=196, running_reward=138]"
     ]
    },
    {
     "name": "stderr",
     "output_type": "stream",
     "text": [
      "\r",
      "Episode 268:   3%|▎         | 268/10000 [00:45<47:20,  3.43it/s, episode_reward=196, running_reward=138]"
     ]
    },
    {
     "name": "stderr",
     "output_type": "stream",
     "text": [
      "\r",
      "Episode 268:   3%|▎         | 268/10000 [00:45<47:20,  3.43it/s, episode_reward=200, running_reward=138]"
     ]
    },
    {
     "name": "stderr",
     "output_type": "stream",
     "text": [
      "\r",
      "Episode 268:   3%|▎         | 269/10000 [00:45<49:13,  3.29it/s, episode_reward=200, running_reward=138]"
     ]
    },
    {
     "name": "stderr",
     "output_type": "stream",
     "text": [
      "\r",
      "Episode 269:   3%|▎         | 269/10000 [00:45<49:13,  3.29it/s, episode_reward=200, running_reward=138]"
     ]
    },
    {
     "name": "stderr",
     "output_type": "stream",
     "text": [
      "\r",
      "Episode 269:   3%|▎         | 269/10000 [00:45<49:13,  3.29it/s, episode_reward=168, running_reward=137]"
     ]
    },
    {
     "name": "stderr",
     "output_type": "stream",
     "text": [
      "\r",
      "Episode 269:   3%|▎         | 270/10000 [00:45<47:42,  3.40it/s, episode_reward=168, running_reward=137]"
     ]
    },
    {
     "name": "stderr",
     "output_type": "stream",
     "text": [
      "\r",
      "Episode 270:   3%|▎         | 270/10000 [00:46<47:42,  3.40it/s, episode_reward=168, running_reward=137]"
     ]
    },
    {
     "name": "stderr",
     "output_type": "stream",
     "text": [
      "\r",
      "Episode 270:   3%|▎         | 270/10000 [00:46<47:42,  3.40it/s, episode_reward=194, running_reward=137]"
     ]
    },
    {
     "name": "stderr",
     "output_type": "stream",
     "text": [
      "\r",
      "Episode 270:   3%|▎         | 271/10000 [00:46<48:51,  3.32it/s, episode_reward=194, running_reward=137]"
     ]
    },
    {
     "name": "stderr",
     "output_type": "stream",
     "text": [
      "\r",
      "Episode 271:   3%|▎         | 271/10000 [00:46<48:51,  3.32it/s, episode_reward=194, running_reward=137]"
     ]
    },
    {
     "name": "stderr",
     "output_type": "stream",
     "text": [
      "\r",
      "Episode 271:   3%|▎         | 271/10000 [00:46<48:51,  3.32it/s, episode_reward=191, running_reward=138]"
     ]
    },
    {
     "name": "stderr",
     "output_type": "stream",
     "text": [
      "\r",
      "Episode 271:   3%|▎         | 272/10000 [00:46<49:23,  3.28it/s, episode_reward=191, running_reward=138]"
     ]
    },
    {
     "name": "stderr",
     "output_type": "stream",
     "text": [
      "\r",
      "Episode 272:   3%|▎         | 272/10000 [00:46<49:23,  3.28it/s, episode_reward=191, running_reward=138]"
     ]
    },
    {
     "name": "stderr",
     "output_type": "stream",
     "text": [
      "\r",
      "Episode 272:   3%|▎         | 272/10000 [00:46<49:23,  3.28it/s, episode_reward=181, running_reward=138]"
     ]
    },
    {
     "name": "stderr",
     "output_type": "stream",
     "text": [
      "\r",
      "Episode 272:   3%|▎         | 273/10000 [00:46<49:22,  3.28it/s, episode_reward=181, running_reward=138]"
     ]
    },
    {
     "name": "stderr",
     "output_type": "stream",
     "text": [
      "\r",
      "Episode 273:   3%|▎         | 273/10000 [00:47<49:22,  3.28it/s, episode_reward=181, running_reward=138]"
     ]
    },
    {
     "name": "stderr",
     "output_type": "stream",
     "text": [
      "\r",
      "Episode 273:   3%|▎         | 273/10000 [00:47<49:22,  3.28it/s, episode_reward=169, running_reward=139]"
     ]
    },
    {
     "name": "stderr",
     "output_type": "stream",
     "text": [
      "\r",
      "Episode 273:   3%|▎         | 274/10000 [00:47<48:44,  3.33it/s, episode_reward=169, running_reward=139]"
     ]
    },
    {
     "name": "stderr",
     "output_type": "stream",
     "text": [
      "\r",
      "Episode 274:   3%|▎         | 274/10000 [00:47<48:44,  3.33it/s, episode_reward=169, running_reward=139]"
     ]
    },
    {
     "name": "stderr",
     "output_type": "stream",
     "text": [
      "\r",
      "Episode 274:   3%|▎         | 274/10000 [00:47<48:44,  3.33it/s, episode_reward=200, running_reward=139]"
     ]
    },
    {
     "name": "stderr",
     "output_type": "stream",
     "text": [
      "\r",
      "Episode 274:   3%|▎         | 275/10000 [00:47<51:11,  3.17it/s, episode_reward=200, running_reward=139]"
     ]
    },
    {
     "name": "stderr",
     "output_type": "stream",
     "text": [
      "\r",
      "Episode 275:   3%|▎         | 275/10000 [00:47<51:11,  3.17it/s, episode_reward=200, running_reward=139]"
     ]
    },
    {
     "name": "stderr",
     "output_type": "stream",
     "text": [
      "\r",
      "Episode 275:   3%|▎         | 275/10000 [00:47<51:11,  3.17it/s, episode_reward=162, running_reward=140]"
     ]
    },
    {
     "name": "stderr",
     "output_type": "stream",
     "text": [
      "\r",
      "Episode 275:   3%|▎         | 276/10000 [00:47<49:08,  3.30it/s, episode_reward=162, running_reward=140]"
     ]
    },
    {
     "name": "stderr",
     "output_type": "stream",
     "text": [
      "\r",
      "Episode 276:   3%|▎         | 276/10000 [00:48<49:08,  3.30it/s, episode_reward=162, running_reward=140]"
     ]
    },
    {
     "name": "stderr",
     "output_type": "stream",
     "text": [
      "\r",
      "Episode 276:   3%|▎         | 276/10000 [00:48<49:08,  3.30it/s, episode_reward=200, running_reward=141]"
     ]
    },
    {
     "name": "stderr",
     "output_type": "stream",
     "text": [
      "\r",
      "Episode 276:   3%|▎         | 277/10000 [00:48<50:55,  3.18it/s, episode_reward=200, running_reward=141]"
     ]
    },
    {
     "name": "stderr",
     "output_type": "stream",
     "text": [
      "\r",
      "Episode 277:   3%|▎         | 277/10000 [00:48<50:55,  3.18it/s, episode_reward=200, running_reward=141]"
     ]
    },
    {
     "name": "stderr",
     "output_type": "stream",
     "text": [
      "\r",
      "Episode 277:   3%|▎         | 277/10000 [00:48<50:55,  3.18it/s, episode_reward=168, running_reward=142]"
     ]
    },
    {
     "name": "stderr",
     "output_type": "stream",
     "text": [
      "\r",
      "Episode 277:   3%|▎         | 278/10000 [00:48<49:52,  3.25it/s, episode_reward=168, running_reward=142]"
     ]
    },
    {
     "name": "stderr",
     "output_type": "stream",
     "text": [
      "\r",
      "Episode 278:   3%|▎         | 278/10000 [00:48<49:52,  3.25it/s, episode_reward=168, running_reward=142]"
     ]
    },
    {
     "name": "stderr",
     "output_type": "stream",
     "text": [
      "\r",
      "Episode 278:   3%|▎         | 278/10000 [00:48<49:52,  3.25it/s, episode_reward=198, running_reward=143]"
     ]
    },
    {
     "name": "stderr",
     "output_type": "stream",
     "text": [
      "\r",
      "Episode 278:   3%|▎         | 279/10000 [00:48<51:32,  3.14it/s, episode_reward=198, running_reward=143]"
     ]
    },
    {
     "name": "stderr",
     "output_type": "stream",
     "text": [
      "\r",
      "Episode 279:   3%|▎         | 279/10000 [00:49<51:32,  3.14it/s, episode_reward=198, running_reward=143]"
     ]
    },
    {
     "name": "stderr",
     "output_type": "stream",
     "text": [
      "\r",
      "Episode 279:   3%|▎         | 279/10000 [00:49<51:32,  3.14it/s, episode_reward=187, running_reward=144]"
     ]
    },
    {
     "name": "stderr",
     "output_type": "stream",
     "text": [
      "\r",
      "Episode 279:   3%|▎         | 280/10000 [00:49<50:29,  3.21it/s, episode_reward=187, running_reward=144]"
     ]
    },
    {
     "name": "stderr",
     "output_type": "stream",
     "text": [
      "\r",
      "Episode 280:   3%|▎         | 280/10000 [00:49<50:29,  3.21it/s, episode_reward=187, running_reward=144]"
     ]
    },
    {
     "name": "stderr",
     "output_type": "stream",
     "text": [
      "\r",
      "Episode 280:   3%|▎         | 280/10000 [00:49<50:29,  3.21it/s, episode_reward=200, running_reward=145]"
     ]
    },
    {
     "name": "stderr",
     "output_type": "stream",
     "text": [
      "\r",
      "Episode 280:   3%|▎         | 281/10000 [00:49<50:41,  3.20it/s, episode_reward=200, running_reward=145]"
     ]
    },
    {
     "name": "stderr",
     "output_type": "stream",
     "text": [
      "\r",
      "Episode 281:   3%|▎         | 281/10000 [00:49<50:41,  3.20it/s, episode_reward=200, running_reward=145]"
     ]
    },
    {
     "name": "stderr",
     "output_type": "stream",
     "text": [
      "\r",
      "Episode 281:   3%|▎         | 281/10000 [00:49<50:41,  3.20it/s, episode_reward=200, running_reward=147]"
     ]
    },
    {
     "name": "stderr",
     "output_type": "stream",
     "text": [
      "\r",
      "Episode 281:   3%|▎         | 282/10000 [00:49<52:16,  3.10it/s, episode_reward=200, running_reward=147]"
     ]
    },
    {
     "name": "stderr",
     "output_type": "stream",
     "text": [
      "\r",
      "Episode 282:   3%|▎         | 282/10000 [00:50<52:16,  3.10it/s, episode_reward=200, running_reward=147]"
     ]
    },
    {
     "name": "stderr",
     "output_type": "stream",
     "text": [
      "\r",
      "Episode 282:   3%|▎         | 282/10000 [00:50<52:16,  3.10it/s, episode_reward=200, running_reward=148]"
     ]
    },
    {
     "name": "stderr",
     "output_type": "stream",
     "text": [
      "\r",
      "Episode 282:   3%|▎         | 283/10000 [00:50<52:29,  3.09it/s, episode_reward=200, running_reward=148]"
     ]
    },
    {
     "name": "stderr",
     "output_type": "stream",
     "text": [
      "\r",
      "Episode 283:   3%|▎         | 283/10000 [00:50<52:29,  3.09it/s, episode_reward=200, running_reward=148]"
     ]
    },
    {
     "name": "stderr",
     "output_type": "stream",
     "text": [
      "\r",
      "Episode 283:   3%|▎         | 283/10000 [00:50<52:29,  3.09it/s, episode_reward=200, running_reward=149]"
     ]
    },
    {
     "name": "stderr",
     "output_type": "stream",
     "text": [
      "\r",
      "Episode 283:   3%|▎         | 284/10000 [00:50<52:10,  3.10it/s, episode_reward=200, running_reward=149]"
     ]
    },
    {
     "name": "stderr",
     "output_type": "stream",
     "text": [
      "\r",
      "Episode 284:   3%|▎         | 284/10000 [00:50<52:10,  3.10it/s, episode_reward=200, running_reward=149]"
     ]
    },
    {
     "name": "stderr",
     "output_type": "stream",
     "text": [
      "\r",
      "Episode 284:   3%|▎         | 284/10000 [00:50<52:10,  3.10it/s, episode_reward=200, running_reward=150]"
     ]
    },
    {
     "name": "stderr",
     "output_type": "stream",
     "text": [
      "\r",
      "Episode 284:   3%|▎         | 285/10000 [00:50<51:53,  3.12it/s, episode_reward=200, running_reward=150]"
     ]
    },
    {
     "name": "stderr",
     "output_type": "stream",
     "text": [
      "\r",
      "Episode 285:   3%|▎         | 285/10000 [00:51<51:53,  3.12it/s, episode_reward=200, running_reward=150]"
     ]
    },
    {
     "name": "stderr",
     "output_type": "stream",
     "text": [
      "\r",
      "Episode 285:   3%|▎         | 285/10000 [00:51<51:53,  3.12it/s, episode_reward=200, running_reward=152]"
     ]
    },
    {
     "name": "stderr",
     "output_type": "stream",
     "text": [
      "\r",
      "Episode 285:   3%|▎         | 286/10000 [00:51<51:53,  3.12it/s, episode_reward=200, running_reward=152]"
     ]
    },
    {
     "name": "stderr",
     "output_type": "stream",
     "text": [
      "\r",
      "Episode 286:   3%|▎         | 286/10000 [00:51<51:53,  3.12it/s, episode_reward=200, running_reward=152]"
     ]
    },
    {
     "name": "stderr",
     "output_type": "stream",
     "text": [
      "\r",
      "Episode 286:   3%|▎         | 286/10000 [00:51<51:53,  3.12it/s, episode_reward=200, running_reward=153]"
     ]
    },
    {
     "name": "stderr",
     "output_type": "stream",
     "text": [
      "\r",
      "Episode 286:   3%|▎         | 287/10000 [00:51<51:25,  3.15it/s, episode_reward=200, running_reward=153]"
     ]
    },
    {
     "name": "stderr",
     "output_type": "stream",
     "text": [
      "\r",
      "Episode 287:   3%|▎         | 287/10000 [00:51<51:25,  3.15it/s, episode_reward=200, running_reward=153]"
     ]
    },
    {
     "name": "stderr",
     "output_type": "stream",
     "text": [
      "\r",
      "Episode 287:   3%|▎         | 287/10000 [00:51<51:25,  3.15it/s, episode_reward=200, running_reward=154]"
     ]
    },
    {
     "name": "stderr",
     "output_type": "stream",
     "text": [
      "\r",
      "Episode 287:   3%|▎         | 288/10000 [00:51<51:19,  3.15it/s, episode_reward=200, running_reward=154]"
     ]
    },
    {
     "name": "stderr",
     "output_type": "stream",
     "text": [
      "\r",
      "Episode 288:   3%|▎         | 288/10000 [00:52<51:19,  3.15it/s, episode_reward=200, running_reward=154]"
     ]
    },
    {
     "name": "stderr",
     "output_type": "stream",
     "text": [
      "\r",
      "Episode 288:   3%|▎         | 288/10000 [00:52<51:19,  3.15it/s, episode_reward=200, running_reward=155]"
     ]
    },
    {
     "name": "stderr",
     "output_type": "stream",
     "text": [
      "\r",
      "Episode 288:   3%|▎         | 289/10000 [00:52<51:42,  3.13it/s, episode_reward=200, running_reward=155]"
     ]
    },
    {
     "name": "stderr",
     "output_type": "stream",
     "text": [
      "\r",
      "Episode 289:   3%|▎         | 289/10000 [00:52<51:42,  3.13it/s, episode_reward=200, running_reward=155]"
     ]
    },
    {
     "name": "stderr",
     "output_type": "stream",
     "text": [
      "\r",
      "Episode 289:   3%|▎         | 289/10000 [00:52<51:42,  3.13it/s, episode_reward=200, running_reward=156]"
     ]
    },
    {
     "name": "stderr",
     "output_type": "stream",
     "text": [
      "\r",
      "Episode 289:   3%|▎         | 290/10000 [00:52<51:57,  3.12it/s, episode_reward=200, running_reward=156]"
     ]
    },
    {
     "name": "stderr",
     "output_type": "stream",
     "text": [
      "\r",
      "Episode 290:   3%|▎         | 290/10000 [00:52<51:57,  3.12it/s, episode_reward=200, running_reward=156]"
     ]
    },
    {
     "name": "stderr",
     "output_type": "stream",
     "text": [
      "\r",
      "Episode 290:   3%|▎         | 290/10000 [00:52<51:57,  3.12it/s, episode_reward=200, running_reward=157]"
     ]
    },
    {
     "name": "stderr",
     "output_type": "stream",
     "text": [
      "\r",
      "Episode 290:   3%|▎         | 291/10000 [00:52<51:51,  3.12it/s, episode_reward=200, running_reward=157]"
     ]
    },
    {
     "name": "stderr",
     "output_type": "stream",
     "text": [
      "\r",
      "Episode 291:   3%|▎         | 291/10000 [00:52<51:51,  3.12it/s, episode_reward=200, running_reward=157]"
     ]
    },
    {
     "name": "stderr",
     "output_type": "stream",
     "text": [
      "\r",
      "Episode 291:   3%|▎         | 291/10000 [00:52<51:51,  3.12it/s, episode_reward=200, running_reward=158]"
     ]
    },
    {
     "name": "stderr",
     "output_type": "stream",
     "text": [
      "\r",
      "Episode 291:   3%|▎         | 292/10000 [00:52<51:49,  3.12it/s, episode_reward=200, running_reward=158]"
     ]
    },
    {
     "name": "stderr",
     "output_type": "stream",
     "text": [
      "\r",
      "Episode 292:   3%|▎         | 292/10000 [00:53<51:49,  3.12it/s, episode_reward=200, running_reward=158]"
     ]
    },
    {
     "name": "stderr",
     "output_type": "stream",
     "text": [
      "\r",
      "Episode 292:   3%|▎         | 292/10000 [00:53<51:49,  3.12it/s, episode_reward=200, running_reward=159]"
     ]
    },
    {
     "name": "stderr",
     "output_type": "stream",
     "text": [
      "\r",
      "Episode 292:   3%|▎         | 293/10000 [00:53<51:48,  3.12it/s, episode_reward=200, running_reward=159]"
     ]
    },
    {
     "name": "stderr",
     "output_type": "stream",
     "text": [
      "\r",
      "Episode 293:   3%|▎         | 293/10000 [00:53<51:48,  3.12it/s, episode_reward=200, running_reward=159]"
     ]
    },
    {
     "name": "stderr",
     "output_type": "stream",
     "text": [
      "\r",
      "Episode 293:   3%|▎         | 293/10000 [00:53<51:48,  3.12it/s, episode_reward=200, running_reward=161]"
     ]
    },
    {
     "name": "stderr",
     "output_type": "stream",
     "text": [
      "\r",
      "Episode 293:   3%|▎         | 294/10000 [00:53<51:46,  3.12it/s, episode_reward=200, running_reward=161]"
     ]
    },
    {
     "name": "stderr",
     "output_type": "stream",
     "text": [
      "\r",
      "Episode 294:   3%|▎         | 294/10000 [00:53<51:46,  3.12it/s, episode_reward=200, running_reward=161]"
     ]
    },
    {
     "name": "stderr",
     "output_type": "stream",
     "text": [
      "\r",
      "Episode 294:   3%|▎         | 294/10000 [00:53<51:46,  3.12it/s, episode_reward=200, running_reward=161]"
     ]
    },
    {
     "name": "stderr",
     "output_type": "stream",
     "text": [
      "\r",
      "Episode 294:   3%|▎         | 295/10000 [00:53<51:42,  3.13it/s, episode_reward=200, running_reward=161]"
     ]
    },
    {
     "name": "stderr",
     "output_type": "stream",
     "text": [
      "\r",
      "Episode 295:   3%|▎         | 295/10000 [00:54<51:42,  3.13it/s, episode_reward=200, running_reward=161]"
     ]
    },
    {
     "name": "stderr",
     "output_type": "stream",
     "text": [
      "\r",
      "Episode 295:   3%|▎         | 295/10000 [00:54<51:42,  3.13it/s, episode_reward=200, running_reward=162]"
     ]
    },
    {
     "name": "stderr",
     "output_type": "stream",
     "text": [
      "\r",
      "Episode 295:   3%|▎         | 296/10000 [00:54<51:44,  3.13it/s, episode_reward=200, running_reward=162]"
     ]
    },
    {
     "name": "stderr",
     "output_type": "stream",
     "text": [
      "\r",
      "Episode 296:   3%|▎         | 296/10000 [00:54<51:44,  3.13it/s, episode_reward=200, running_reward=162]"
     ]
    },
    {
     "name": "stderr",
     "output_type": "stream",
     "text": [
      "\r",
      "Episode 296:   3%|▎         | 296/10000 [00:54<51:44,  3.13it/s, episode_reward=200, running_reward=163]"
     ]
    },
    {
     "name": "stderr",
     "output_type": "stream",
     "text": [
      "\r",
      "Episode 296:   3%|▎         | 297/10000 [00:54<51:29,  3.14it/s, episode_reward=200, running_reward=163]"
     ]
    },
    {
     "name": "stderr",
     "output_type": "stream",
     "text": [
      "\r",
      "Episode 297:   3%|▎         | 297/10000 [00:54<51:29,  3.14it/s, episode_reward=200, running_reward=163]"
     ]
    },
    {
     "name": "stderr",
     "output_type": "stream",
     "text": [
      "\r",
      "Episode 297:   3%|▎         | 297/10000 [00:54<51:29,  3.14it/s, episode_reward=200, running_reward=164]"
     ]
    },
    {
     "name": "stderr",
     "output_type": "stream",
     "text": [
      "\r",
      "Episode 297:   3%|▎         | 298/10000 [00:54<51:28,  3.14it/s, episode_reward=200, running_reward=164]"
     ]
    },
    {
     "name": "stderr",
     "output_type": "stream",
     "text": [
      "\r",
      "Episode 298:   3%|▎         | 298/10000 [00:55<51:28,  3.14it/s, episode_reward=200, running_reward=164]"
     ]
    },
    {
     "name": "stderr",
     "output_type": "stream",
     "text": [
      "\r",
      "Episode 298:   3%|▎         | 298/10000 [00:55<51:28,  3.14it/s, episode_reward=200, running_reward=165]"
     ]
    },
    {
     "name": "stderr",
     "output_type": "stream",
     "text": [
      "\r",
      "Episode 298:   3%|▎         | 299/10000 [00:55<52:10,  3.10it/s, episode_reward=200, running_reward=165]"
     ]
    },
    {
     "name": "stderr",
     "output_type": "stream",
     "text": [
      "\r",
      "Episode 299:   3%|▎         | 299/10000 [00:55<52:10,  3.10it/s, episode_reward=200, running_reward=165]"
     ]
    },
    {
     "name": "stderr",
     "output_type": "stream",
     "text": [
      "\r",
      "Episode 299:   3%|▎         | 299/10000 [00:55<52:10,  3.10it/s, episode_reward=200, running_reward=166]"
     ]
    },
    {
     "name": "stderr",
     "output_type": "stream",
     "text": [
      "\r",
      "Episode 299:   3%|▎         | 300/10000 [00:55<52:43,  3.07it/s, episode_reward=200, running_reward=166]"
     ]
    },
    {
     "name": "stderr",
     "output_type": "stream",
     "text": [
      "\r",
      "Episode 300:   3%|▎         | 300/10000 [00:55<52:43,  3.07it/s, episode_reward=200, running_reward=166]"
     ]
    },
    {
     "name": "stderr",
     "output_type": "stream",
     "text": [
      "\r",
      "Episode 300:   3%|▎         | 300/10000 [00:55<52:43,  3.07it/s, episode_reward=200, running_reward=167]"
     ]
    },
    {
     "name": "stderr",
     "output_type": "stream",
     "text": [
      "\r",
      "Episode 300:   3%|▎         | 301/10000 [00:55<53:17,  3.03it/s, episode_reward=200, running_reward=167]"
     ]
    },
    {
     "name": "stderr",
     "output_type": "stream",
     "text": [
      "\r",
      "Episode 301:   3%|▎         | 301/10000 [00:56<53:17,  3.03it/s, episode_reward=200, running_reward=167]"
     ]
    },
    {
     "name": "stderr",
     "output_type": "stream",
     "text": [
      "\r",
      "Episode 301:   3%|▎         | 301/10000 [00:56<53:17,  3.03it/s, episode_reward=200, running_reward=168]"
     ]
    },
    {
     "name": "stderr",
     "output_type": "stream",
     "text": [
      "\r",
      "Episode 301:   3%|▎         | 302/10000 [00:56<52:48,  3.06it/s, episode_reward=200, running_reward=168]"
     ]
    },
    {
     "name": "stderr",
     "output_type": "stream",
     "text": [
      "\r",
      "Episode 302:   3%|▎         | 302/10000 [00:56<52:48,  3.06it/s, episode_reward=200, running_reward=168]"
     ]
    },
    {
     "name": "stderr",
     "output_type": "stream",
     "text": [
      "\r",
      "Episode 302:   3%|▎         | 302/10000 [00:56<52:48,  3.06it/s, episode_reward=200, running_reward=168]"
     ]
    },
    {
     "name": "stderr",
     "output_type": "stream",
     "text": [
      "\r",
      "Episode 302:   3%|▎         | 303/10000 [00:56<52:27,  3.08it/s, episode_reward=200, running_reward=168]"
     ]
    },
    {
     "name": "stderr",
     "output_type": "stream",
     "text": [
      "\r",
      "Episode 303:   3%|▎         | 303/10000 [00:56<52:27,  3.08it/s, episode_reward=200, running_reward=168]"
     ]
    },
    {
     "name": "stderr",
     "output_type": "stream",
     "text": [
      "\r",
      "Episode 303:   3%|▎         | 303/10000 [00:56<52:27,  3.08it/s, episode_reward=200, running_reward=168]"
     ]
    },
    {
     "name": "stderr",
     "output_type": "stream",
     "text": [
      "\r",
      "Episode 303:   3%|▎         | 304/10000 [00:56<52:48,  3.06it/s, episode_reward=200, running_reward=168]"
     ]
    },
    {
     "name": "stderr",
     "output_type": "stream",
     "text": [
      "\r",
      "Episode 304:   3%|▎         | 304/10000 [00:57<52:48,  3.06it/s, episode_reward=200, running_reward=168]"
     ]
    },
    {
     "name": "stderr",
     "output_type": "stream",
     "text": [
      "\r",
      "Episode 304:   3%|▎         | 304/10000 [00:57<52:48,  3.06it/s, episode_reward=200, running_reward=168]"
     ]
    },
    {
     "name": "stderr",
     "output_type": "stream",
     "text": [
      "\r",
      "Episode 304:   3%|▎         | 305/10000 [00:57<52:09,  3.10it/s, episode_reward=200, running_reward=168]"
     ]
    },
    {
     "name": "stderr",
     "output_type": "stream",
     "text": [
      "\r",
      "Episode 305:   3%|▎         | 305/10000 [00:57<52:09,  3.10it/s, episode_reward=200, running_reward=168]"
     ]
    },
    {
     "name": "stderr",
     "output_type": "stream",
     "text": [
      "\r",
      "Episode 305:   3%|▎         | 305/10000 [00:57<52:09,  3.10it/s, episode_reward=200, running_reward=168]"
     ]
    },
    {
     "name": "stderr",
     "output_type": "stream",
     "text": [
      "\r",
      "Episode 305:   3%|▎         | 306/10000 [00:57<51:48,  3.12it/s, episode_reward=200, running_reward=168]"
     ]
    },
    {
     "name": "stderr",
     "output_type": "stream",
     "text": [
      "\r",
      "Episode 306:   3%|▎         | 306/10000 [00:57<51:48,  3.12it/s, episode_reward=200, running_reward=168]"
     ]
    },
    {
     "name": "stderr",
     "output_type": "stream",
     "text": [
      "\r",
      "Episode 306:   3%|▎         | 306/10000 [00:57<51:48,  3.12it/s, episode_reward=200, running_reward=169]"
     ]
    },
    {
     "name": "stderr",
     "output_type": "stream",
     "text": [
      "\r",
      "Episode 306:   3%|▎         | 307/10000 [00:57<52:13,  3.09it/s, episode_reward=200, running_reward=169]"
     ]
    },
    {
     "name": "stderr",
     "output_type": "stream",
     "text": [
      "\r",
      "Episode 307:   3%|▎         | 307/10000 [00:58<52:13,  3.09it/s, episode_reward=200, running_reward=169]"
     ]
    },
    {
     "name": "stderr",
     "output_type": "stream",
     "text": [
      "\r",
      "Episode 307:   3%|▎         | 307/10000 [00:58<52:13,  3.09it/s, episode_reward=200, running_reward=169]"
     ]
    },
    {
     "name": "stderr",
     "output_type": "stream",
     "text": [
      "\r",
      "Episode 307:   3%|▎         | 308/10000 [00:58<52:30,  3.08it/s, episode_reward=200, running_reward=169]"
     ]
    },
    {
     "name": "stderr",
     "output_type": "stream",
     "text": [
      "\r",
      "Episode 308:   3%|▎         | 308/10000 [00:58<52:30,  3.08it/s, episode_reward=200, running_reward=169]"
     ]
    },
    {
     "name": "stderr",
     "output_type": "stream",
     "text": [
      "\r",
      "Episode 308:   3%|▎         | 308/10000 [00:58<52:30,  3.08it/s, episode_reward=200, running_reward=170]"
     ]
    },
    {
     "name": "stderr",
     "output_type": "stream",
     "text": [
      "\r",
      "Episode 308:   3%|▎         | 309/10000 [00:58<51:54,  3.11it/s, episode_reward=200, running_reward=170]"
     ]
    },
    {
     "name": "stderr",
     "output_type": "stream",
     "text": [
      "\r",
      "Episode 309:   3%|▎         | 309/10000 [00:58<51:54,  3.11it/s, episode_reward=200, running_reward=170]"
     ]
    },
    {
     "name": "stderr",
     "output_type": "stream",
     "text": [
      "\r",
      "Episode 309:   3%|▎         | 309/10000 [00:58<51:54,  3.11it/s, episode_reward=200, running_reward=170]"
     ]
    },
    {
     "name": "stderr",
     "output_type": "stream",
     "text": [
      "\r",
      "Episode 309:   3%|▎         | 310/10000 [00:58<51:37,  3.13it/s, episode_reward=200, running_reward=170]"
     ]
    },
    {
     "name": "stderr",
     "output_type": "stream",
     "text": [
      "\r",
      "Episode 310:   3%|▎         | 310/10000 [00:59<51:37,  3.13it/s, episode_reward=200, running_reward=170]"
     ]
    },
    {
     "name": "stderr",
     "output_type": "stream",
     "text": [
      "\r",
      "Episode 310:   3%|▎         | 310/10000 [00:59<51:37,  3.13it/s, episode_reward=200, running_reward=170]"
     ]
    },
    {
     "name": "stderr",
     "output_type": "stream",
     "text": [
      "\r",
      "Episode 310:   3%|▎         | 311/10000 [00:59<51:49,  3.12it/s, episode_reward=200, running_reward=170]"
     ]
    },
    {
     "name": "stderr",
     "output_type": "stream",
     "text": [
      "\r",
      "Episode 311:   3%|▎         | 311/10000 [00:59<51:49,  3.12it/s, episode_reward=200, running_reward=170]"
     ]
    },
    {
     "name": "stderr",
     "output_type": "stream",
     "text": [
      "\r",
      "Episode 311:   3%|▎         | 311/10000 [00:59<51:49,  3.12it/s, episode_reward=200, running_reward=170]"
     ]
    },
    {
     "name": "stderr",
     "output_type": "stream",
     "text": [
      "\r",
      "Episode 311:   3%|▎         | 312/10000 [00:59<51:48,  3.12it/s, episode_reward=200, running_reward=170]"
     ]
    },
    {
     "name": "stderr",
     "output_type": "stream",
     "text": [
      "\r",
      "Episode 312:   3%|▎         | 312/10000 [00:59<51:48,  3.12it/s, episode_reward=200, running_reward=170]"
     ]
    },
    {
     "name": "stderr",
     "output_type": "stream",
     "text": [
      "\r",
      "Episode 312:   3%|▎         | 312/10000 [00:59<51:48,  3.12it/s, episode_reward=200, running_reward=170]"
     ]
    },
    {
     "name": "stderr",
     "output_type": "stream",
     "text": [
      "\r",
      "Episode 312:   3%|▎         | 313/10000 [00:59<52:03,  3.10it/s, episode_reward=200, running_reward=170]"
     ]
    },
    {
     "name": "stderr",
     "output_type": "stream",
     "text": [
      "\r",
      "Episode 313:   3%|▎         | 313/10000 [01:00<52:03,  3.10it/s, episode_reward=200, running_reward=170]"
     ]
    },
    {
     "name": "stderr",
     "output_type": "stream",
     "text": [
      "\r",
      "Episode 313:   3%|▎         | 313/10000 [01:00<52:03,  3.10it/s, episode_reward=200, running_reward=170]"
     ]
    },
    {
     "name": "stderr",
     "output_type": "stream",
     "text": [
      "\r",
      "Episode 313:   3%|▎         | 314/10000 [01:00<51:42,  3.12it/s, episode_reward=200, running_reward=170]"
     ]
    },
    {
     "name": "stderr",
     "output_type": "stream",
     "text": [
      "\r",
      "Episode 314:   3%|▎         | 314/10000 [01:00<51:42,  3.12it/s, episode_reward=200, running_reward=170]"
     ]
    },
    {
     "name": "stderr",
     "output_type": "stream",
     "text": [
      "\r",
      "Episode 314:   3%|▎         | 314/10000 [01:00<51:42,  3.12it/s, episode_reward=200, running_reward=170]"
     ]
    },
    {
     "name": "stderr",
     "output_type": "stream",
     "text": [
      "\r",
      "Episode 314:   3%|▎         | 315/10000 [01:00<51:40,  3.12it/s, episode_reward=200, running_reward=170]"
     ]
    },
    {
     "name": "stderr",
     "output_type": "stream",
     "text": [
      "\r",
      "Episode 315:   3%|▎         | 315/10000 [01:00<51:40,  3.12it/s, episode_reward=200, running_reward=170]"
     ]
    },
    {
     "name": "stderr",
     "output_type": "stream",
     "text": [
      "\r",
      "Episode 315:   3%|▎         | 315/10000 [01:00<51:40,  3.12it/s, episode_reward=200, running_reward=170]"
     ]
    },
    {
     "name": "stderr",
     "output_type": "stream",
     "text": [
      "\r",
      "Episode 315:   3%|▎         | 316/10000 [01:00<51:07,  3.16it/s, episode_reward=200, running_reward=170]"
     ]
    },
    {
     "name": "stderr",
     "output_type": "stream",
     "text": [
      "\r",
      "Episode 316:   3%|▎         | 316/10000 [01:01<51:07,  3.16it/s, episode_reward=200, running_reward=170]"
     ]
    },
    {
     "name": "stderr",
     "output_type": "stream",
     "text": [
      "\r",
      "Episode 316:   3%|▎         | 316/10000 [01:01<51:07,  3.16it/s, episode_reward=200, running_reward=170]"
     ]
    },
    {
     "name": "stderr",
     "output_type": "stream",
     "text": [
      "\r",
      "Episode 316:   3%|▎         | 317/10000 [01:01<51:00,  3.16it/s, episode_reward=200, running_reward=170]"
     ]
    },
    {
     "name": "stderr",
     "output_type": "stream",
     "text": [
      "\r",
      "Episode 317:   3%|▎         | 317/10000 [01:01<51:00,  3.16it/s, episode_reward=200, running_reward=170]"
     ]
    },
    {
     "name": "stderr",
     "output_type": "stream",
     "text": [
      "\r",
      "Episode 317:   3%|▎         | 317/10000 [01:01<51:00,  3.16it/s, episode_reward=200, running_reward=170]"
     ]
    },
    {
     "name": "stderr",
     "output_type": "stream",
     "text": [
      "\r",
      "Episode 317:   3%|▎         | 318/10000 [01:01<51:14,  3.15it/s, episode_reward=200, running_reward=170]"
     ]
    },
    {
     "name": "stderr",
     "output_type": "stream",
     "text": [
      "\r",
      "Episode 318:   3%|▎         | 318/10000 [01:01<51:14,  3.15it/s, episode_reward=200, running_reward=170]"
     ]
    },
    {
     "name": "stderr",
     "output_type": "stream",
     "text": [
      "\r",
      "Episode 318:   3%|▎         | 318/10000 [01:01<51:14,  3.15it/s, episode_reward=200, running_reward=170]"
     ]
    },
    {
     "name": "stderr",
     "output_type": "stream",
     "text": [
      "\r",
      "Episode 318:   3%|▎         | 319/10000 [01:01<51:10,  3.15it/s, episode_reward=200, running_reward=170]"
     ]
    },
    {
     "name": "stderr",
     "output_type": "stream",
     "text": [
      "\r",
      "Episode 319:   3%|▎         | 319/10000 [01:01<51:10,  3.15it/s, episode_reward=200, running_reward=170]"
     ]
    },
    {
     "name": "stderr",
     "output_type": "stream",
     "text": [
      "\r",
      "Episode 319:   3%|▎         | 319/10000 [01:01<51:10,  3.15it/s, episode_reward=200, running_reward=170]"
     ]
    },
    {
     "name": "stderr",
     "output_type": "stream",
     "text": [
      "\r",
      "Episode 319:   3%|▎         | 320/10000 [01:01<50:49,  3.17it/s, episode_reward=200, running_reward=170]"
     ]
    },
    {
     "name": "stderr",
     "output_type": "stream",
     "text": [
      "\r",
      "Episode 320:   3%|▎         | 320/10000 [01:02<50:49,  3.17it/s, episode_reward=200, running_reward=170]"
     ]
    },
    {
     "name": "stderr",
     "output_type": "stream",
     "text": [
      "\r",
      "Episode 320:   3%|▎         | 320/10000 [01:02<50:49,  3.17it/s, episode_reward=200, running_reward=170]"
     ]
    },
    {
     "name": "stderr",
     "output_type": "stream",
     "text": [
      "\r",
      "Episode 320:   3%|▎         | 321/10000 [01:02<50:44,  3.18it/s, episode_reward=200, running_reward=170]"
     ]
    },
    {
     "name": "stderr",
     "output_type": "stream",
     "text": [
      "\r",
      "Episode 321:   3%|▎         | 321/10000 [01:02<50:44,  3.18it/s, episode_reward=200, running_reward=170]"
     ]
    },
    {
     "name": "stderr",
     "output_type": "stream",
     "text": [
      "\r",
      "Episode 321:   3%|▎         | 321/10000 [01:02<50:44,  3.18it/s, episode_reward=200, running_reward=170]"
     ]
    },
    {
     "name": "stderr",
     "output_type": "stream",
     "text": [
      "\r",
      "Episode 321:   3%|▎         | 322/10000 [01:02<50:26,  3.20it/s, episode_reward=200, running_reward=170]"
     ]
    },
    {
     "name": "stderr",
     "output_type": "stream",
     "text": [
      "\r",
      "Episode 322:   3%|▎         | 322/10000 [01:02<50:26,  3.20it/s, episode_reward=200, running_reward=170]"
     ]
    },
    {
     "name": "stderr",
     "output_type": "stream",
     "text": [
      "\r",
      "Episode 322:   3%|▎         | 322/10000 [01:02<50:26,  3.20it/s, episode_reward=200, running_reward=170]"
     ]
    },
    {
     "name": "stderr",
     "output_type": "stream",
     "text": [
      "\r",
      "Episode 322:   3%|▎         | 323/10000 [01:02<51:04,  3.16it/s, episode_reward=200, running_reward=170]"
     ]
    },
    {
     "name": "stderr",
     "output_type": "stream",
     "text": [
      "\r",
      "Episode 323:   3%|▎         | 323/10000 [01:03<51:04,  3.16it/s, episode_reward=200, running_reward=170]"
     ]
    },
    {
     "name": "stderr",
     "output_type": "stream",
     "text": [
      "\r",
      "Episode 323:   3%|▎         | 323/10000 [01:03<51:04,  3.16it/s, episode_reward=200, running_reward=170]"
     ]
    },
    {
     "name": "stderr",
     "output_type": "stream",
     "text": [
      "\r",
      "Episode 323:   3%|▎         | 324/10000 [01:03<51:23,  3.14it/s, episode_reward=200, running_reward=170]"
     ]
    },
    {
     "name": "stderr",
     "output_type": "stream",
     "text": [
      "\r",
      "Episode 324:   3%|▎         | 324/10000 [01:03<51:23,  3.14it/s, episode_reward=200, running_reward=170]"
     ]
    },
    {
     "name": "stderr",
     "output_type": "stream",
     "text": [
      "\r",
      "Episode 324:   3%|▎         | 324/10000 [01:03<51:23,  3.14it/s, episode_reward=200, running_reward=170]"
     ]
    },
    {
     "name": "stderr",
     "output_type": "stream",
     "text": [
      "\r",
      "Episode 324:   3%|▎         | 325/10000 [01:03<52:38,  3.06it/s, episode_reward=200, running_reward=170]"
     ]
    },
    {
     "name": "stderr",
     "output_type": "stream",
     "text": [
      "\r",
      "Episode 325:   3%|▎         | 325/10000 [01:03<52:38,  3.06it/s, episode_reward=200, running_reward=170]"
     ]
    },
    {
     "name": "stderr",
     "output_type": "stream",
     "text": [
      "\r",
      "Episode 325:   3%|▎         | 325/10000 [01:03<52:38,  3.06it/s, episode_reward=200, running_reward=170]"
     ]
    },
    {
     "name": "stderr",
     "output_type": "stream",
     "text": [
      "\r",
      "Episode 325:   3%|▎         | 326/10000 [01:03<53:07,  3.03it/s, episode_reward=200, running_reward=170]"
     ]
    },
    {
     "name": "stderr",
     "output_type": "stream",
     "text": [
      "\r",
      "Episode 326:   3%|▎         | 326/10000 [01:04<53:07,  3.03it/s, episode_reward=200, running_reward=170]"
     ]
    },
    {
     "name": "stderr",
     "output_type": "stream",
     "text": [
      "\r",
      "Episode 326:   3%|▎         | 326/10000 [01:04<53:07,  3.03it/s, episode_reward=200, running_reward=170]"
     ]
    },
    {
     "name": "stderr",
     "output_type": "stream",
     "text": [
      "\r",
      "Episode 326:   3%|▎         | 327/10000 [01:04<52:31,  3.07it/s, episode_reward=200, running_reward=170]"
     ]
    },
    {
     "name": "stderr",
     "output_type": "stream",
     "text": [
      "\r",
      "Episode 327:   3%|▎         | 327/10000 [01:04<52:31,  3.07it/s, episode_reward=200, running_reward=170]"
     ]
    },
    {
     "name": "stderr",
     "output_type": "stream",
     "text": [
      "\r",
      "Episode 327:   3%|▎         | 327/10000 [01:04<52:31,  3.07it/s, episode_reward=200, running_reward=170]"
     ]
    },
    {
     "name": "stderr",
     "output_type": "stream",
     "text": [
      "\r",
      "Episode 327:   3%|▎         | 328/10000 [01:04<52:03,  3.10it/s, episode_reward=200, running_reward=170]"
     ]
    },
    {
     "name": "stderr",
     "output_type": "stream",
     "text": [
      "\r",
      "Episode 328:   3%|▎         | 328/10000 [01:04<52:03,  3.10it/s, episode_reward=200, running_reward=170]"
     ]
    },
    {
     "name": "stderr",
     "output_type": "stream",
     "text": [
      "\r",
      "Episode 328:   3%|▎         | 328/10000 [01:04<52:03,  3.10it/s, episode_reward=200, running_reward=170]"
     ]
    },
    {
     "name": "stderr",
     "output_type": "stream",
     "text": [
      "\r",
      "Episode 328:   3%|▎         | 329/10000 [01:04<51:45,  3.11it/s, episode_reward=200, running_reward=170]"
     ]
    },
    {
     "name": "stderr",
     "output_type": "stream",
     "text": [
      "\r",
      "Episode 329:   3%|▎         | 329/10000 [01:05<51:45,  3.11it/s, episode_reward=200, running_reward=170]"
     ]
    },
    {
     "name": "stderr",
     "output_type": "stream",
     "text": [
      "\r",
      "Episode 329:   3%|▎         | 329/10000 [01:05<51:45,  3.11it/s, episode_reward=200, running_reward=170]"
     ]
    },
    {
     "name": "stderr",
     "output_type": "stream",
     "text": [
      "\r",
      "Episode 329:   3%|▎         | 330/10000 [01:05<51:17,  3.14it/s, episode_reward=200, running_reward=170]"
     ]
    },
    {
     "name": "stderr",
     "output_type": "stream",
     "text": [
      "\r",
      "Episode 330:   3%|▎         | 330/10000 [01:05<51:17,  3.14it/s, episode_reward=200, running_reward=170]"
     ]
    },
    {
     "name": "stderr",
     "output_type": "stream",
     "text": [
      "\r",
      "Episode 330:   3%|▎         | 330/10000 [01:05<51:17,  3.14it/s, episode_reward=200, running_reward=170]"
     ]
    },
    {
     "name": "stderr",
     "output_type": "stream",
     "text": [
      "\r",
      "Episode 330:   3%|▎         | 331/10000 [01:05<52:27,  3.07it/s, episode_reward=200, running_reward=170]"
     ]
    },
    {
     "name": "stderr",
     "output_type": "stream",
     "text": [
      "\r",
      "Episode 331:   3%|▎         | 331/10000 [01:05<52:27,  3.07it/s, episode_reward=200, running_reward=170]"
     ]
    },
    {
     "name": "stderr",
     "output_type": "stream",
     "text": [
      "\r",
      "Episode 331:   3%|▎         | 331/10000 [01:05<52:27,  3.07it/s, episode_reward=200, running_reward=170]"
     ]
    },
    {
     "name": "stderr",
     "output_type": "stream",
     "text": [
      "\r",
      "Episode 331:   3%|▎         | 332/10000 [01:05<52:14,  3.08it/s, episode_reward=200, running_reward=170]"
     ]
    },
    {
     "name": "stderr",
     "output_type": "stream",
     "text": [
      "\r",
      "Episode 332:   3%|▎         | 332/10000 [01:06<52:14,  3.08it/s, episode_reward=200, running_reward=170]"
     ]
    },
    {
     "name": "stderr",
     "output_type": "stream",
     "text": [
      "\r",
      "Episode 332:   3%|▎         | 332/10000 [01:06<52:14,  3.08it/s, episode_reward=200, running_reward=171]"
     ]
    },
    {
     "name": "stderr",
     "output_type": "stream",
     "text": [
      "\r",
      "Episode 332:   3%|▎         | 333/10000 [01:06<51:29,  3.13it/s, episode_reward=200, running_reward=171]"
     ]
    },
    {
     "name": "stderr",
     "output_type": "stream",
     "text": [
      "\r",
      "Episode 333:   3%|▎         | 333/10000 [01:06<51:29,  3.13it/s, episode_reward=200, running_reward=171]"
     ]
    },
    {
     "name": "stderr",
     "output_type": "stream",
     "text": [
      "\r",
      "Episode 333:   3%|▎         | 333/10000 [01:06<51:29,  3.13it/s, episode_reward=200, running_reward=172]"
     ]
    },
    {
     "name": "stderr",
     "output_type": "stream",
     "text": [
      "\r",
      "Episode 333:   3%|▎         | 334/10000 [01:06<51:19,  3.14it/s, episode_reward=200, running_reward=172]"
     ]
    },
    {
     "name": "stderr",
     "output_type": "stream",
     "text": [
      "\r",
      "Episode 334:   3%|▎         | 334/10000 [01:06<51:19,  3.14it/s, episode_reward=200, running_reward=172]"
     ]
    },
    {
     "name": "stderr",
     "output_type": "stream",
     "text": [
      "\r",
      "Episode 334:   3%|▎         | 334/10000 [01:06<51:19,  3.14it/s, episode_reward=200, running_reward=172]"
     ]
    },
    {
     "name": "stderr",
     "output_type": "stream",
     "text": [
      "\r",
      "Episode 334:   3%|▎         | 335/10000 [01:06<52:28,  3.07it/s, episode_reward=200, running_reward=172]"
     ]
    },
    {
     "name": "stderr",
     "output_type": "stream",
     "text": [
      "\r",
      "Episode 335:   3%|▎         | 335/10000 [01:07<52:28,  3.07it/s, episode_reward=200, running_reward=172]"
     ]
    },
    {
     "name": "stderr",
     "output_type": "stream",
     "text": [
      "\r",
      "Episode 335:   3%|▎         | 335/10000 [01:07<52:28,  3.07it/s, episode_reward=200, running_reward=173]"
     ]
    },
    {
     "name": "stderr",
     "output_type": "stream",
     "text": [
      "\r",
      "Episode 335:   3%|▎         | 336/10000 [01:07<52:48,  3.05it/s, episode_reward=200, running_reward=173]"
     ]
    },
    {
     "name": "stderr",
     "output_type": "stream",
     "text": [
      "\r",
      "Episode 336:   3%|▎         | 336/10000 [01:07<52:48,  3.05it/s, episode_reward=200, running_reward=173]"
     ]
    },
    {
     "name": "stderr",
     "output_type": "stream",
     "text": [
      "\r",
      "Episode 336:   3%|▎         | 336/10000 [01:07<52:48,  3.05it/s, episode_reward=200, running_reward=174]"
     ]
    },
    {
     "name": "stderr",
     "output_type": "stream",
     "text": [
      "\r",
      "Episode 336:   3%|▎         | 337/10000 [01:07<52:30,  3.07it/s, episode_reward=200, running_reward=174]"
     ]
    },
    {
     "name": "stderr",
     "output_type": "stream",
     "text": [
      "\r",
      "Episode 337:   3%|▎         | 337/10000 [01:07<52:30,  3.07it/s, episode_reward=200, running_reward=174]"
     ]
    },
    {
     "name": "stderr",
     "output_type": "stream",
     "text": [
      "\r",
      "Episode 337:   3%|▎         | 337/10000 [01:07<52:30,  3.07it/s, episode_reward=197, running_reward=174]"
     ]
    },
    {
     "name": "stderr",
     "output_type": "stream",
     "text": [
      "\r",
      "Episode 337:   3%|▎         | 338/10000 [01:07<52:09,  3.09it/s, episode_reward=197, running_reward=174]"
     ]
    },
    {
     "name": "stderr",
     "output_type": "stream",
     "text": [
      "\r",
      "Episode 338:   3%|▎         | 338/10000 [01:08<52:09,  3.09it/s, episode_reward=197, running_reward=174]"
     ]
    },
    {
     "name": "stderr",
     "output_type": "stream",
     "text": [
      "\r",
      "Episode 338:   3%|▎         | 338/10000 [01:08<52:09,  3.09it/s, episode_reward=200, running_reward=175]"
     ]
    },
    {
     "name": "stderr",
     "output_type": "stream",
     "text": [
      "\r",
      "Episode 338:   3%|▎         | 339/10000 [01:08<51:53,  3.10it/s, episode_reward=200, running_reward=175]"
     ]
    },
    {
     "name": "stderr",
     "output_type": "stream",
     "text": [
      "\r",
      "Episode 339:   3%|▎         | 339/10000 [01:08<51:53,  3.10it/s, episode_reward=200, running_reward=175]"
     ]
    },
    {
     "name": "stderr",
     "output_type": "stream",
     "text": [
      "\r",
      "Episode 339:   3%|▎         | 339/10000 [01:08<51:53,  3.10it/s, episode_reward=200, running_reward=176]"
     ]
    },
    {
     "name": "stderr",
     "output_type": "stream",
     "text": [
      "\r",
      "Episode 339:   3%|▎         | 340/10000 [01:08<51:25,  3.13it/s, episode_reward=200, running_reward=176]"
     ]
    },
    {
     "name": "stderr",
     "output_type": "stream",
     "text": [
      "\r",
      "Episode 340:   3%|▎         | 340/10000 [01:08<51:25,  3.13it/s, episode_reward=200, running_reward=176]"
     ]
    },
    {
     "name": "stderr",
     "output_type": "stream",
     "text": [
      "\r",
      "Episode 340:   3%|▎         | 340/10000 [01:08<51:25,  3.13it/s, episode_reward=200, running_reward=177]"
     ]
    },
    {
     "name": "stderr",
     "output_type": "stream",
     "text": [
      "\r",
      "Episode 340:   3%|▎         | 341/10000 [01:08<51:30,  3.12it/s, episode_reward=200, running_reward=177]"
     ]
    },
    {
     "name": "stderr",
     "output_type": "stream",
     "text": [
      "\r",
      "Episode 341:   3%|▎         | 341/10000 [01:09<51:30,  3.12it/s, episode_reward=200, running_reward=177]"
     ]
    },
    {
     "name": "stderr",
     "output_type": "stream",
     "text": [
      "\r",
      "Episode 341:   3%|▎         | 341/10000 [01:09<51:30,  3.12it/s, episode_reward=200, running_reward=178]"
     ]
    },
    {
     "name": "stderr",
     "output_type": "stream",
     "text": [
      "\r",
      "Episode 341:   3%|▎         | 342/10000 [01:09<51:02,  3.15it/s, episode_reward=200, running_reward=178]"
     ]
    },
    {
     "name": "stderr",
     "output_type": "stream",
     "text": [
      "\r",
      "Episode 342:   3%|▎         | 342/10000 [01:09<51:02,  3.15it/s, episode_reward=200, running_reward=178]"
     ]
    },
    {
     "name": "stderr",
     "output_type": "stream",
     "text": [
      "\r",
      "Episode 342:   3%|▎         | 342/10000 [01:09<51:02,  3.15it/s, episode_reward=200, running_reward=179]"
     ]
    },
    {
     "name": "stderr",
     "output_type": "stream",
     "text": [
      "\r",
      "Episode 342:   3%|▎         | 343/10000 [01:09<51:13,  3.14it/s, episode_reward=200, running_reward=179]"
     ]
    },
    {
     "name": "stderr",
     "output_type": "stream",
     "text": [
      "\r",
      "Episode 343:   3%|▎         | 343/10000 [01:09<51:13,  3.14it/s, episode_reward=200, running_reward=179]"
     ]
    },
    {
     "name": "stderr",
     "output_type": "stream",
     "text": [
      "\r",
      "Episode 343:   3%|▎         | 343/10000 [01:09<51:13,  3.14it/s, episode_reward=200, running_reward=179]"
     ]
    },
    {
     "name": "stderr",
     "output_type": "stream",
     "text": [
      "\r",
      "Episode 343:   3%|▎         | 344/10000 [01:09<51:25,  3.13it/s, episode_reward=200, running_reward=179]"
     ]
    },
    {
     "name": "stderr",
     "output_type": "stream",
     "text": [
      "\r",
      "Episode 344:   3%|▎         | 344/10000 [01:10<51:25,  3.13it/s, episode_reward=200, running_reward=179]"
     ]
    },
    {
     "name": "stderr",
     "output_type": "stream",
     "text": [
      "\r",
      "Episode 344:   3%|▎         | 344/10000 [01:10<51:25,  3.13it/s, episode_reward=200, running_reward=180]"
     ]
    },
    {
     "name": "stderr",
     "output_type": "stream",
     "text": [
      "\r",
      "Episode 344:   3%|▎         | 345/10000 [01:10<51:51,  3.10it/s, episode_reward=200, running_reward=180]"
     ]
    },
    {
     "name": "stderr",
     "output_type": "stream",
     "text": [
      "\r",
      "Episode 345:   3%|▎         | 345/10000 [01:10<51:51,  3.10it/s, episode_reward=200, running_reward=180]"
     ]
    },
    {
     "name": "stderr",
     "output_type": "stream",
     "text": [
      "\r",
      "Episode 345:   3%|▎         | 345/10000 [01:10<51:51,  3.10it/s, episode_reward=200, running_reward=182]"
     ]
    },
    {
     "name": "stderr",
     "output_type": "stream",
     "text": [
      "\r",
      "Episode 345:   3%|▎         | 346/10000 [01:10<51:49,  3.10it/s, episode_reward=200, running_reward=182]"
     ]
    },
    {
     "name": "stderr",
     "output_type": "stream",
     "text": [
      "\r",
      "Episode 346:   3%|▎         | 346/10000 [01:10<51:49,  3.10it/s, episode_reward=200, running_reward=182]"
     ]
    },
    {
     "name": "stderr",
     "output_type": "stream",
     "text": [
      "\r",
      "Episode 346:   3%|▎         | 346/10000 [01:10<51:49,  3.10it/s, episode_reward=200, running_reward=184]"
     ]
    },
    {
     "name": "stderr",
     "output_type": "stream",
     "text": [
      "\r",
      "Episode 346:   3%|▎         | 347/10000 [01:10<52:19,  3.07it/s, episode_reward=200, running_reward=184]"
     ]
    },
    {
     "name": "stderr",
     "output_type": "stream",
     "text": [
      "\r",
      "Episode 347:   3%|▎         | 347/10000 [01:10<52:19,  3.07it/s, episode_reward=200, running_reward=184]"
     ]
    },
    {
     "name": "stderr",
     "output_type": "stream",
     "text": [
      "\r",
      "Episode 347:   3%|▎         | 347/10000 [01:10<52:19,  3.07it/s, episode_reward=200, running_reward=185]"
     ]
    },
    {
     "name": "stderr",
     "output_type": "stream",
     "text": [
      "\r",
      "Episode 347:   3%|▎         | 348/10000 [01:10<52:03,  3.09it/s, episode_reward=200, running_reward=185]"
     ]
    },
    {
     "name": "stderr",
     "output_type": "stream",
     "text": [
      "\r",
      "Episode 348:   3%|▎         | 348/10000 [01:11<52:03,  3.09it/s, episode_reward=200, running_reward=185]"
     ]
    },
    {
     "name": "stderr",
     "output_type": "stream",
     "text": [
      "\r",
      "Episode 348:   3%|▎         | 348/10000 [01:11<52:03,  3.09it/s, episode_reward=200, running_reward=186]"
     ]
    },
    {
     "name": "stderr",
     "output_type": "stream",
     "text": [
      "\r",
      "Episode 348:   3%|▎         | 349/10000 [01:11<52:01,  3.09it/s, episode_reward=200, running_reward=186]"
     ]
    },
    {
     "name": "stderr",
     "output_type": "stream",
     "text": [
      "\r",
      "Episode 349:   3%|▎         | 349/10000 [01:11<52:01,  3.09it/s, episode_reward=200, running_reward=186]"
     ]
    },
    {
     "name": "stderr",
     "output_type": "stream",
     "text": [
      "\r",
      "Episode 349:   3%|▎         | 349/10000 [01:11<52:01,  3.09it/s, episode_reward=86, running_reward=186] "
     ]
    },
    {
     "name": "stderr",
     "output_type": "stream",
     "text": [
      "\r",
      "Episode 349:   4%|▎         | 350/10000 [01:11<43:18,  3.71it/s, episode_reward=86, running_reward=186]"
     ]
    },
    {
     "name": "stderr",
     "output_type": "stream",
     "text": [
      "\r",
      "Episode 350:   4%|▎         | 350/10000 [01:11<43:18,  3.71it/s, episode_reward=86, running_reward=186]"
     ]
    },
    {
     "name": "stderr",
     "output_type": "stream",
     "text": [
      "\r",
      "Episode 350:   4%|▎         | 350/10000 [01:11<43:18,  3.71it/s, episode_reward=200, running_reward=187]"
     ]
    },
    {
     "name": "stderr",
     "output_type": "stream",
     "text": [
      "\r",
      "Episode 350:   4%|▎         | 351/10000 [01:11<45:50,  3.51it/s, episode_reward=200, running_reward=187]"
     ]
    },
    {
     "name": "stderr",
     "output_type": "stream",
     "text": [
      "\r",
      "Episode 351:   4%|▎         | 351/10000 [01:12<45:50,  3.51it/s, episode_reward=200, running_reward=187]"
     ]
    },
    {
     "name": "stderr",
     "output_type": "stream",
     "text": [
      "\r",
      "Episode 351:   4%|▎         | 351/10000 [01:12<45:50,  3.51it/s, episode_reward=200, running_reward=188]"
     ]
    },
    {
     "name": "stderr",
     "output_type": "stream",
     "text": [
      "\r",
      "Episode 351:   4%|▎         | 352/10000 [01:12<47:40,  3.37it/s, episode_reward=200, running_reward=188]"
     ]
    },
    {
     "name": "stderr",
     "output_type": "stream",
     "text": [
      "\r",
      "Episode 352:   4%|▎         | 352/10000 [01:12<47:40,  3.37it/s, episode_reward=200, running_reward=188]"
     ]
    },
    {
     "name": "stderr",
     "output_type": "stream",
     "text": [
      "\r",
      "Episode 352:   4%|▎         | 352/10000 [01:12<47:40,  3.37it/s, episode_reward=200, running_reward=189]"
     ]
    },
    {
     "name": "stderr",
     "output_type": "stream",
     "text": [
      "\r",
      "Episode 352:   4%|▎         | 353/10000 [01:12<48:48,  3.29it/s, episode_reward=200, running_reward=189]"
     ]
    },
    {
     "name": "stderr",
     "output_type": "stream",
     "text": [
      "\r",
      "Episode 353:   4%|▎         | 353/10000 [01:12<48:48,  3.29it/s, episode_reward=200, running_reward=189]"
     ]
    },
    {
     "name": "stderr",
     "output_type": "stream",
     "text": [
      "\r",
      "Episode 353:   4%|▎         | 353/10000 [01:12<48:48,  3.29it/s, episode_reward=200, running_reward=189]"
     ]
    },
    {
     "name": "stderr",
     "output_type": "stream",
     "text": [
      "\r",
      "Episode 353:   4%|▎         | 354/10000 [01:12<49:25,  3.25it/s, episode_reward=200, running_reward=189]"
     ]
    },
    {
     "name": "stderr",
     "output_type": "stream",
     "text": [
      "\r",
      "Episode 354:   4%|▎         | 354/10000 [01:13<49:25,  3.25it/s, episode_reward=200, running_reward=189]"
     ]
    },
    {
     "name": "stderr",
     "output_type": "stream",
     "text": [
      "\r",
      "Episode 354:   4%|▎         | 354/10000 [01:13<49:25,  3.25it/s, episode_reward=200, running_reward=190]"
     ]
    },
    {
     "name": "stderr",
     "output_type": "stream",
     "text": [
      "\r",
      "Episode 354:   4%|▎         | 355/10000 [01:13<50:10,  3.20it/s, episode_reward=200, running_reward=190]"
     ]
    },
    {
     "name": "stderr",
     "output_type": "stream",
     "text": [
      "\r",
      "Episode 355:   4%|▎         | 355/10000 [01:13<50:10,  3.20it/s, episode_reward=200, running_reward=190]"
     ]
    },
    {
     "name": "stderr",
     "output_type": "stream",
     "text": [
      "\r",
      "Episode 355:   4%|▎         | 355/10000 [01:13<50:10,  3.20it/s, episode_reward=200, running_reward=191]"
     ]
    },
    {
     "name": "stderr",
     "output_type": "stream",
     "text": [
      "\r",
      "Episode 355:   4%|▎         | 356/10000 [01:13<50:21,  3.19it/s, episode_reward=200, running_reward=191]"
     ]
    },
    {
     "name": "stderr",
     "output_type": "stream",
     "text": [
      "\r",
      "Episode 356:   4%|▎         | 356/10000 [01:13<50:21,  3.19it/s, episode_reward=200, running_reward=191]"
     ]
    },
    {
     "name": "stderr",
     "output_type": "stream",
     "text": [
      "\r",
      "Episode 356:   4%|▎         | 356/10000 [01:13<50:21,  3.19it/s, episode_reward=200, running_reward=191]"
     ]
    },
    {
     "name": "stderr",
     "output_type": "stream",
     "text": [
      "\r",
      "Episode 356:   4%|▎         | 357/10000 [01:13<50:35,  3.18it/s, episode_reward=200, running_reward=191]"
     ]
    },
    {
     "name": "stderr",
     "output_type": "stream",
     "text": [
      "\r",
      "Episode 357:   4%|▎         | 357/10000 [01:14<50:35,  3.18it/s, episode_reward=200, running_reward=191]"
     ]
    },
    {
     "name": "stderr",
     "output_type": "stream",
     "text": [
      "\r",
      "Episode 357:   4%|▎         | 357/10000 [01:14<50:35,  3.18it/s, episode_reward=200, running_reward=192]"
     ]
    },
    {
     "name": "stderr",
     "output_type": "stream",
     "text": [
      "\r",
      "Episode 357:   4%|▎         | 358/10000 [01:14<51:07,  3.14it/s, episode_reward=200, running_reward=192]"
     ]
    },
    {
     "name": "stderr",
     "output_type": "stream",
     "text": [
      "\r",
      "Episode 358:   4%|▎         | 358/10000 [01:14<51:07,  3.14it/s, episode_reward=200, running_reward=192]"
     ]
    },
    {
     "name": "stderr",
     "output_type": "stream",
     "text": [
      "\r",
      "Episode 358:   4%|▎         | 358/10000 [01:14<51:07,  3.14it/s, episode_reward=200, running_reward=193]"
     ]
    },
    {
     "name": "stderr",
     "output_type": "stream",
     "text": [
      "\r",
      "Episode 358:   4%|▎         | 359/10000 [01:14<51:15,  3.14it/s, episode_reward=200, running_reward=193]"
     ]
    },
    {
     "name": "stderr",
     "output_type": "stream",
     "text": [
      "\r",
      "Episode 359:   4%|▎         | 359/10000 [01:14<51:15,  3.14it/s, episode_reward=200, running_reward=193]"
     ]
    },
    {
     "name": "stderr",
     "output_type": "stream",
     "text": [
      "\r",
      "Episode 359:   4%|▎         | 359/10000 [01:14<51:15,  3.14it/s, episode_reward=200, running_reward=194]"
     ]
    },
    {
     "name": "stderr",
     "output_type": "stream",
     "text": [
      "\r",
      "Episode 359:   4%|▎         | 360/10000 [01:14<51:19,  3.13it/s, episode_reward=200, running_reward=194]"
     ]
    },
    {
     "name": "stderr",
     "output_type": "stream",
     "text": [
      "\r",
      "Episode 360:   4%|▎         | 360/10000 [01:14<51:19,  3.13it/s, episode_reward=200, running_reward=194]"
     ]
    },
    {
     "name": "stderr",
     "output_type": "stream",
     "text": [
      "\r",
      "Episode 360:   4%|▎         | 360/10000 [01:14<51:19,  3.13it/s, episode_reward=200, running_reward=195]"
     ]
    },
    {
     "name": "stderr",
     "output_type": "stream",
     "text": [
      "\r",
      "Episode 360:   4%|▎         | 361/10000 [01:14<51:01,  3.15it/s, episode_reward=200, running_reward=195]"
     ]
    },
    {
     "name": "stderr",
     "output_type": "stream",
     "text": [
      "\r",
      "Episode 361:   4%|▎         | 361/10000 [01:15<51:01,  3.15it/s, episode_reward=200, running_reward=195]"
     ]
    },
    {
     "name": "stderr",
     "output_type": "stream",
     "text": [
      "\r",
      "Episode 361:   4%|▎         | 361/10000 [01:15<51:01,  3.15it/s, episode_reward=182, running_reward=195]"
     ]
    },
    {
     "name": "stderr",
     "output_type": "stream",
     "text": [
      "\r",
      "Episode 361:   4%|▎         | 361/10000 [01:15<33:29,  4.80it/s, episode_reward=182, running_reward=195]"
     ]
    },
    {
     "name": "stdout",
     "output_type": "stream",
     "text": [
      "\n",
      "Solved at episode 361: average reward: 195.14!\n",
      "CPU times: user 3min 5s, sys: 44.8 s, total: 3min 50s\n",
      "Wall time: 1min 15s\n"
     ]
    },
    {
     "name": "stderr",
     "output_type": "stream",
     "text": [
      "\n"
     ]
    }
   ],
   "source": [
    "%%time\n",
    "\n",
    "min_episodes_criterion = 100\n",
    "max_episodes = 10000\n",
    "max_steps_per_episode = 1000\n",
    "\n",
    "# Cartpole-v0 is considered solved if average reward is >= 195 over 100 \n",
    "# consecutive trials\n",
    "reward_threshold = 195\n",
    "running_reward = 0\n",
    "\n",
    "# Discount factor for future rewards\n",
    "gamma = 0.99\n",
    "\n",
    "# Keep last episodes reward\n",
    "episodes_reward: collections.deque = collections.deque(maxlen=min_episodes_criterion)\n",
    "\n",
    "with tqdm.trange(max_episodes) as t:\n",
    "  for i in t:\n",
    "    initial_state = tf.constant(env.reset(), dtype=tf.float32)\n",
    "    episode_reward = int(train_step(\n",
    "        initial_state, model, optimizer, gamma, max_steps_per_episode))\n",
    "    \n",
    "    episodes_reward.append(episode_reward)\n",
    "    running_reward = statistics.mean(episodes_reward)\n",
    "  \n",
    "    t.set_description(f'Episode {i}')\n",
    "    t.set_postfix(\n",
    "        episode_reward=episode_reward, running_reward=running_reward)\n",
    "  \n",
    "    # Show average episode reward every 10 episodes\n",
    "    if i % 10 == 0:\n",
    "      pass # print(f'Episode {i}: average reward: {avg_reward}')\n",
    "  \n",
    "    if running_reward > reward_threshold and i >= min_episodes_criterion:  \n",
    "        break\n",
    "\n",
    "print(f'\\nSolved at episode {i}: average reward: {running_reward:.2f}!')"
   ]
  },
  {
   "cell_type": "markdown",
   "metadata": {
    "id": "ru8BEwS1EmAv"
   },
   "source": [
    "## Visualization\n",
    "\n",
    "After training, it would be good to visualize how the model performs in the environment. You can run the cells below to generate a GIF animation of one episode run of the model. Note that additional packages need to be installed for OpenAI Gym to render the environment's images correctly in Colab."
   ]
  },
  {
   "cell_type": "code",
   "execution_count": 13,
   "metadata": {
    "execution": {
     "iopub.execute_input": "2021-06-16T15:05:13.711044Z",
     "iopub.status.busy": "2021-06-16T15:05:13.710457Z",
     "iopub.status.idle": "2021-06-16T15:05:15.744072Z",
     "shell.execute_reply": "2021-06-16T15:05:15.744478Z"
    },
    "id": "qbIMMkfmRHyC"
   },
   "outputs": [],
   "source": [
    "# Render an episode and save as a GIF file\n",
    "\n",
    "from IPython import display as ipythondisplay\n",
    "from PIL import Image\n",
    "from pyvirtualdisplay import Display\n",
    "\n",
    "\n",
    "display = Display(visible=0, size=(400, 300))\n",
    "display.start()\n",
    "\n",
    "\n",
    "def render_episode(env: gym.Env, model: tf.keras.Model, max_steps: int): \n",
    "  screen = env.render(mode='rgb_array')\n",
    "  im = Image.fromarray(screen)\n",
    "\n",
    "  images = [im]\n",
    "  \n",
    "  state = tf.constant(env.reset(), dtype=tf.float32)\n",
    "  for i in range(1, max_steps + 1):\n",
    "    state = tf.expand_dims(state, 0)\n",
    "    action_probs, _ = model(state)\n",
    "    action = np.argmax(np.squeeze(action_probs))\n",
    "\n",
    "    state, _, done, _ = env.step(action)\n",
    "    state = tf.constant(state, dtype=tf.float32)\n",
    "\n",
    "    # Render screen every 10 steps\n",
    "    if i % 10 == 0:\n",
    "      screen = env.render(mode='rgb_array')\n",
    "      images.append(Image.fromarray(screen))\n",
    "  \n",
    "    if done:\n",
    "      break\n",
    "  \n",
    "  return images\n",
    "\n",
    "\n",
    "# Save GIF image\n",
    "images = render_episode(env, model, max_steps_per_episode)\n",
    "image_file = 'cartpole-v0.gif'\n",
    "# loop=0: loop forever, duration=1: play each frame for 1ms\n",
    "images[0].save(\n",
    "    image_file, save_all=True, append_images=images[1:], loop=0, duration=1)"
   ]
  },
  {
   "cell_type": "code",
   "execution_count": 14,
   "metadata": {
    "execution": {
     "iopub.execute_input": "2021-06-16T15:05:15.748593Z",
     "iopub.status.busy": "2021-06-16T15:05:15.748040Z",
     "iopub.status.idle": "2021-06-16T15:05:15.767630Z",
     "shell.execute_reply": "2021-06-16T15:05:15.768053Z"
    },
    "id": "TLd720SejKmf"
   },
   "outputs": [
    {
     "data": {
      "text/html": [
       "<img src=\"data:image/gif;base64,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\"/>"
      ],
      "text/plain": [
       "<IPython.core.display.HTML object>"
      ]
     },
     "execution_count": 1,
     "metadata": {},
     "output_type": "execute_result"
    }
   ],
   "source": [
    "import tensorflow_docs.vis.embed as embed\n",
    "embed.embed_file(image_file)"
   ]
  },
  {
   "cell_type": "markdown",
   "metadata": {
    "id": "lnq9Hzo1Po6X"
   },
   "source": [
    "## Next steps\n",
    "\n",
    "This tutorial demonstrated how to implement the actor-critic method using Tensorflow.\n",
    "\n",
    "As a next step, you could try training a model on a different environment in OpenAI Gym. \n",
    "\n",
    "For additional information regarding actor-critic methods and the Cartpole-v0 problem, you may refer to the following resources:\n",
    "\n",
    "- [Actor Critic Method](https://hal.inria.fr/hal-00840470/document)\n",
    "- [Actor Critic Lecture (CAL)](https://www.youtube.com/watch?v=EKqxumCuAAY&list=PLkFD6_40KJIwhWJpGazJ9VSj9CFMkb79A&index=7&t=0s)\n",
    "- [Cartpole learning control problem \\[Barto, et al. 1983\\]](http://www.derongliu.org/adp/adp-cdrom/Barto1983.pdf) \n",
    "\n",
    "For more reinforcement learning examples in TensorFlow, you can check the following resources:\n",
    "- [Reinforcement learning code examples (keras.io)](https://keras.io/examples/rl/)\n",
    "- [TF-Agents reinforcement learning library](https://www.tensorflow.org/agents)\n"
   ]
  }
 ],
 "metadata": {
  "colab": {
   "collapsed_sections": [
    "_jQ1tEQCxwRx"
   ],
   "name": "actor_critic.ipynb",
   "toc_visible": true
  },
  "kernelspec": {
   "display_name": "Python 3",
   "name": "python3"
  },
  "language_info": {
   "codemirror_mode": {
    "name": "ipython",
    "version": 3
   },
   "file_extension": ".py",
   "mimetype": "text/x-python",
   "name": "python",
   "nbconvert_exporter": "python",
   "pygments_lexer": "ipython3",
   "version": "3.7.5"
  }
 },
 "nbformat": 4,
 "nbformat_minor": 0
}
