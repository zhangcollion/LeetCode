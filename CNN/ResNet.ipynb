{
 "cells": [
  {
   "cell_type": "code",
   "execution_count": null,
   "metadata": {},
   "outputs": [],
   "source": [
    "import tensorflow as tf\n",
    "from tensorflow.keras import layers"
   ]
  },
  {
   "cell_type": "code",
   "execution_count": null,
   "metadata": {},
   "outputs": [],
   "source": [
    "class ResnetBlock(Model):\n",
    "    def __init__(self, filters, strides=1, residual_path=False):\n",
    "        super(ResnetBlock, self).__init__()\n",
    "        self.filters = filters\n",
    "        self.strides = strides\n",
    "        self.residual_path = residual_path\n",
    "        \n",
    "        self.c1 = Conv2D(filters, (3,3), strides=strides, padding=\"same\", use_bias=False)\n",
    "        self.b1 = BatchNormalization()\n",
    "        self.a1 = Activation('relu')\n",
    "        \n",
    "        self.c2 = Conv2D(filters, (2,2), strides=1, padding=\"same\", use_bias=False)\n",
    "        self.b2 = BatchNormalization()\n",
    "        \n",
    "        if residual_path:\n",
    "            self.down_c1 = Conv2D(filters, (1,1), strides=strides, padding=\"same\", use_bias=False)\n",
    "            self.down_b1 = BatchNormalization()\n",
    "        self.a2 = Activation('relu')"
   ]
  }
 ],
 "metadata": {
  "kernelspec": {
   "display_name": "Python 3",
   "language": "python",
   "name": "python3"
  },
  "language_info": {
   "codemirror_mode": {
    "name": "ipython",
    "version": 3
   },
   "file_extension": ".py",
   "mimetype": "text/x-python",
   "name": "python",
   "nbconvert_exporter": "python",
   "pygments_lexer": "ipython3",
   "version": "3.8.3"
  }
 },
 "nbformat": 4,
 "nbformat_minor": 4
}
