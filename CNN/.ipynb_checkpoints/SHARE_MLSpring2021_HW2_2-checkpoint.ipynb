{
 "cells": [
  {
   "cell_type": "markdown",
   "metadata": {
    "id": "eNSV4QGHS1I1"
   },
   "source": [
    "# **Homework 2-2 Hessian Matrix**\n",
    "\n"
   ]
  },
  {
   "cell_type": "markdown",
   "metadata": {
    "id": "z0eNH3RD73Ye"
   },
   "source": [
    "## Hessian Matrix\n",
    "Imagine we are training a neural network and we are trying to find out whether the model is at **local minima like, saddle point, or none of the above**. We can make our decision by calculating the Hessian matrix.\n",
    "\n",
    "In practice, it is really hard to find a point where the gradient equals zero or all of the eigenvalues in Hessian matrix are greater than zero. In this homework, we make the following two assumptions:\n",
    "1. View gradient norm less than 1e-3 as **gradient equals to zero**.\n",
    "2. If minimum ratio is greater than 0.5 and gradient norm is less than 1e-3, then we assume that the model is at “local minima like”.\n",
    "\n",
    "> Minimum ratio is defined as the proportion of positive eigenvalues."
   ]
  },
  {
   "cell_type": "markdown",
   "metadata": {
    "id": "lezCgM8U8KJl"
   },
   "source": [
    "## IMPORTANT NOTICE\n",
    "In this homework, students with different student IDs will get different answers. Make sure to fill in your `student_id` in the following block correctly. Otherwise, your code may not run correctly and you will get a wrong answer."
   ]
  },
  {
   "cell_type": "code",
   "execution_count": 5,
   "metadata": {
    "id": "Bbr6MTQ488GH"
   },
   "outputs": [],
   "source": [
    "student_id = 2 # fill with your student ID\n",
    "\n",
    "assert student_id != 1, 'Please fill in your student_id before you start.'"
   ]
  },
  {
   "cell_type": "markdown",
   "metadata": {
    "id": "XHz08Ybg-dmB"
   },
   "source": [
    "## Calculate Hessian Matrix\n",
    "The computation of Hessian is done by TA, you don't need to and shouldn't change the following code. The only thing you need to do is to run the following blocks and determine whether the model is at `local minima like`, `saddle point`, or `none of the above` according to the value of `gradient norm` and `minimum ratio`."
   ]
  },
  {
   "cell_type": "markdown",
   "metadata": {
    "id": "zvDeNevCUvDW"
   },
   "source": [
    "### Install Package to Compute Hessian.\n",
    "\n",
    "The autograd-lib library is used to compute Hessian matrix. You can check the full document here https://github.com/cybertronai/autograd-lib."
   ]
  },
  {
   "cell_type": "code",
   "execution_count": 1,
   "metadata": {
    "colab": {
     "base_uri": "https://localhost:8080/"
    },
    "id": "r135K45psHwF",
    "outputId": "8492ab08-8ad9-4525-db9c-35884eaa0641"
   },
   "outputs": [
    {
     "name": "stdout",
     "output_type": "stream",
     "text": [
      "Looking in indexes: http://mirrors.aliyun.com/pypi/simple/, http://pypi.douban.com/simple, http://mirrors.aliyun.com/pypi/simple/, http://pypi.mirrors.ustc.edu.cn/simple/\n",
      "Collecting autograd-lib\n",
      "  Downloading https://mirrors.bfsu.edu.cn/pypi/web/packages/b9/ac/a3927e1e2a886a12b914bce86965bec3b925ad14ffb696b2f84d9f8ee949/autograd_lib-0.0.7-py3-none-any.whl (9.2 kB)\n",
      "Requirement already satisfied: seaborn in /opt/anaconda3/envs/notebook/lib/python3.8/site-packages (from autograd-lib) (0.11.1)\n",
      "Collecting gin-config\n",
      "  Downloading https://mirrors.bfsu.edu.cn/pypi/web/packages/d7/b1/c4950247902f430376c7d9c8a7811269150e66e0207b74330de181dd6779/gin_config-0.4.0-py2.py3-none-any.whl (46 kB)\n",
      "\u001b[K     |████████████████████████████████| 46 kB 3.6 MB/s eta 0:00:011\n",
      "\u001b[?25hCollecting pytorch-lightning\n",
      "  Downloading https://mirrors.bfsu.edu.cn/pypi/web/packages/58/01/5df6324efdc3f79025ea7eaf19478936c401a16dae4fd3fbd29f7d426974/pytorch_lightning-1.2.6-py3-none-any.whl (829 kB)\n",
      "\u001b[K     |████████████████████████████████| 829 kB 2.8 MB/s eta 0:00:01\n",
      "\u001b[?25hCollecting torchmetrics>=0.2.0\n",
      "  Downloading https://mirrors.bfsu.edu.cn/pypi/web/packages/3a/42/d984612cabf005a265aa99c8d4ab2958e37b753aafb12f31c81df38751c8/torchmetrics-0.2.0-py3-none-any.whl (176 kB)\n",
      "\u001b[K     |████████████████████████████████| 176 kB 4.9 MB/s eta 0:00:01\n",
      "\u001b[?25hCollecting future>=0.17.1\n",
      "  Downloading https://mirrors.bfsu.edu.cn/pypi/web/packages/45/0b/38b06fd9b92dc2b68d58b75f900e97884c45bedd2ff83203d933cf5851c9/future-0.18.2.tar.gz (829 kB)\n",
      "\u001b[K     |████████████████████████████████| 829 kB 29.6 MB/s eta 0:00:01\n",
      "\u001b[?25hCollecting fsspec[http]>=0.8.1\n",
      "  Downloading https://mirrors.bfsu.edu.cn/pypi/web/packages/62/11/f7689b996f85e45f718745c899f6747ee5edb4878cadac0a41ab146828fa/fsspec-0.9.0-py3-none-any.whl (107 kB)\n",
      "\u001b[K     |████████████████████████████████| 107 kB 27.6 MB/s eta 0:00:01\n",
      "\u001b[?25hRequirement already satisfied: torch>=1.4 in /opt/anaconda3/envs/notebook/lib/python3.8/site-packages (from pytorch-lightning->autograd-lib) (1.8.1)\n",
      "Requirement already satisfied: tqdm>=4.41.0 in /opt/anaconda3/envs/notebook/lib/python3.8/site-packages (from pytorch-lightning->autograd-lib) (4.59.0)\n",
      "Collecting PyYAML!=5.4.*,>=5.1\n",
      "  Downloading https://mirrors.bfsu.edu.cn/pypi/web/packages/64/c2/b80047c7ac2478f9501676c988a5411ed5572f35d1beff9cae07d321512c/PyYAML-5.3.1.tar.gz (269 kB)\n",
      "\u001b[K     |████████████████████████████████| 269 kB 25.8 MB/s eta 0:00:01\n",
      "\u001b[?25hRequirement already satisfied: tensorboard>=2.2.0 in /opt/anaconda3/envs/notebook/lib/python3.8/site-packages (from pytorch-lightning->autograd-lib) (2.4.1)\n",
      "Requirement already satisfied: numpy>=1.16.6 in /opt/anaconda3/envs/notebook/lib/python3.8/site-packages (from pytorch-lightning->autograd-lib) (1.19.5)\n",
      "Collecting aiohttp\n",
      "  Downloading https://mirrors.bfsu.edu.cn/pypi/web/packages/a6/76/f18138b0ff84fcd939667a2efc2e1b49c871299f9091f84c06bb4c350c01/aiohttp-3.7.4.post0-cp38-cp38-manylinux2014_x86_64.whl (1.5 MB)\n",
      "\u001b[K     |████████████████████████████████| 1.5 MB 3.2 MB/s eta 0:00:01\n",
      "\u001b[?25hRequirement already satisfied: requests in /opt/anaconda3/envs/notebook/lib/python3.8/site-packages (from fsspec[http]>=0.8.1->pytorch-lightning->autograd-lib) (2.25.1)\n",
      "Requirement already satisfied: google-auth-oauthlib<0.5,>=0.4.1 in /opt/anaconda3/envs/notebook/lib/python3.8/site-packages (from tensorboard>=2.2.0->pytorch-lightning->autograd-lib) (0.4.2)\n",
      "Requirement already satisfied: werkzeug>=0.11.15 in /opt/anaconda3/envs/notebook/lib/python3.8/site-packages (from tensorboard>=2.2.0->pytorch-lightning->autograd-lib) (1.0.1)\n",
      "Requirement already satisfied: six>=1.10.0 in /opt/anaconda3/envs/notebook/lib/python3.8/site-packages (from tensorboard>=2.2.0->pytorch-lightning->autograd-lib) (1.15.0)\n",
      "Requirement already satisfied: wheel>=0.26 in /opt/anaconda3/envs/notebook/lib/python3.8/site-packages (from tensorboard>=2.2.0->pytorch-lightning->autograd-lib) (0.36.2)\n",
      "Requirement already satisfied: setuptools>=41.0.0 in /opt/anaconda3/envs/notebook/lib/python3.8/site-packages (from tensorboard>=2.2.0->pytorch-lightning->autograd-lib) (52.0.0.post20210125)\n",
      "Requirement already satisfied: google-auth<2,>=1.6.3 in /opt/anaconda3/envs/notebook/lib/python3.8/site-packages (from tensorboard>=2.2.0->pytorch-lightning->autograd-lib) (1.27.0)\n",
      "Requirement already satisfied: absl-py>=0.4 in /opt/anaconda3/envs/notebook/lib/python3.8/site-packages (from tensorboard>=2.2.0->pytorch-lightning->autograd-lib) (0.11.0)\n",
      "Requirement already satisfied: markdown>=2.6.8 in /opt/anaconda3/envs/notebook/lib/python3.8/site-packages (from tensorboard>=2.2.0->pytorch-lightning->autograd-lib) (3.3.3)\n",
      "Requirement already satisfied: tensorboard-plugin-wit>=1.6.0 in /opt/anaconda3/envs/notebook/lib/python3.8/site-packages (from tensorboard>=2.2.0->pytorch-lightning->autograd-lib) (1.8.0)\n",
      "Requirement already satisfied: grpcio>=1.24.3 in /opt/anaconda3/envs/notebook/lib/python3.8/site-packages (from tensorboard>=2.2.0->pytorch-lightning->autograd-lib) (1.32.0)\n",
      "Requirement already satisfied: protobuf>=3.6.0 in /opt/anaconda3/envs/notebook/lib/python3.8/site-packages (from tensorboard>=2.2.0->pytorch-lightning->autograd-lib) (3.15.2)\n",
      "Requirement already satisfied: pyasn1-modules>=0.2.1 in /opt/anaconda3/envs/notebook/lib/python3.8/site-packages (from google-auth<2,>=1.6.3->tensorboard>=2.2.0->pytorch-lightning->autograd-lib) (0.2.8)\n",
      "Requirement already satisfied: rsa<5,>=3.1.4 in /opt/anaconda3/envs/notebook/lib/python3.8/site-packages (from google-auth<2,>=1.6.3->tensorboard>=2.2.0->pytorch-lightning->autograd-lib) (4.7.1)\n",
      "Requirement already satisfied: cachetools<5.0,>=2.0.0 in /opt/anaconda3/envs/notebook/lib/python3.8/site-packages (from google-auth<2,>=1.6.3->tensorboard>=2.2.0->pytorch-lightning->autograd-lib) (4.2.1)\n",
      "Requirement already satisfied: requests-oauthlib>=0.7.0 in /opt/anaconda3/envs/notebook/lib/python3.8/site-packages (from google-auth-oauthlib<0.5,>=0.4.1->tensorboard>=2.2.0->pytorch-lightning->autograd-lib) (1.3.0)\n",
      "Requirement already satisfied: pyasn1<0.5.0,>=0.4.6 in /opt/anaconda3/envs/notebook/lib/python3.8/site-packages (from pyasn1-modules>=0.2.1->google-auth<2,>=1.6.3->tensorboard>=2.2.0->pytorch-lightning->autograd-lib) (0.4.8)\n",
      "Requirement already satisfied: certifi>=2017.4.17 in /opt/anaconda3/envs/notebook/lib/python3.8/site-packages (from requests->fsspec[http]>=0.8.1->pytorch-lightning->autograd-lib) (2020.12.5)\n",
      "Requirement already satisfied: urllib3<1.27,>=1.21.1 in /opt/anaconda3/envs/notebook/lib/python3.8/site-packages (from requests->fsspec[http]>=0.8.1->pytorch-lightning->autograd-lib) (1.26.3)\n",
      "Requirement already satisfied: idna<3,>=2.5 in /opt/anaconda3/envs/notebook/lib/python3.8/site-packages (from requests->fsspec[http]>=0.8.1->pytorch-lightning->autograd-lib) (2.10)\n",
      "Requirement already satisfied: chardet<5,>=3.0.2 in /opt/anaconda3/envs/notebook/lib/python3.8/site-packages (from requests->fsspec[http]>=0.8.1->pytorch-lightning->autograd-lib) (4.0.0)\n",
      "Requirement already satisfied: oauthlib>=3.0.0 in /opt/anaconda3/envs/notebook/lib/python3.8/site-packages (from requests-oauthlib>=0.7.0->google-auth-oauthlib<0.5,>=0.4.1->tensorboard>=2.2.0->pytorch-lightning->autograd-lib) (3.1.0)\n",
      "Requirement already satisfied: typing-extensions in /opt/anaconda3/envs/notebook/lib/python3.8/site-packages (from torch>=1.4->pytorch-lightning->autograd-lib) (3.7.4.3)\n",
      "Collecting yarl<2.0,>=1.0\n",
      "  Downloading https://mirrors.bfsu.edu.cn/pypi/web/packages/28/48/fdce6d8323b58799541eddfb37123d6d18ad762899ca64b82ed767ae2bf8/yarl-1.6.3-cp38-cp38-manylinux2014_x86_64.whl (324 kB)\n",
      "\u001b[K     |████████████████████████████████| 324 kB 1.9 MB/s eta 0:00:01\n",
      "\u001b[?25hRequirement already satisfied: attrs>=17.3.0 in /opt/anaconda3/envs/notebook/lib/python3.8/site-packages (from aiohttp->fsspec[http]>=0.8.1->pytorch-lightning->autograd-lib) (20.3.0)\n",
      "Collecting async-timeout<4.0,>=3.0\n",
      "  Downloading https://mirrors.bfsu.edu.cn/pypi/web/packages/e1/1e/5a4441be21b0726c4464f3f23c8b19628372f606755a9d2e46c187e65ec4/async_timeout-3.0.1-py3-none-any.whl (8.2 kB)\n",
      "Collecting multidict<7.0,>=4.5\n",
      "  Downloading https://mirrors.bfsu.edu.cn/pypi/web/packages/86/6d/176bed53e4575edfb016f405d991c70144f2d00c0c9b00d686954fc6ba4b/multidict-5.1.0-cp38-cp38-manylinux2014_x86_64.whl (159 kB)\n"
     ]
    },
    {
     "name": "stdout",
     "output_type": "stream",
     "text": [
      "\u001b[K     |████████████████████████████████| 159 kB 880 kB/s eta 0:00:01\n",
      "\u001b[?25hRequirement already satisfied: scipy>=1.0 in /opt/anaconda3/envs/notebook/lib/python3.8/site-packages (from seaborn->autograd-lib) (1.6.1)\n",
      "Requirement already satisfied: matplotlib>=2.2 in /opt/anaconda3/envs/notebook/lib/python3.8/site-packages (from seaborn->autograd-lib) (3.3.4)\n",
      "Requirement already satisfied: pandas>=0.23 in /opt/anaconda3/envs/notebook/lib/python3.8/site-packages (from seaborn->autograd-lib) (1.2.2)\n",
      "Requirement already satisfied: python-dateutil>=2.1 in /opt/anaconda3/envs/notebook/lib/python3.8/site-packages (from matplotlib>=2.2->seaborn->autograd-lib) (2.8.1)\n",
      "Requirement already satisfied: cycler>=0.10 in /opt/anaconda3/envs/notebook/lib/python3.8/site-packages (from matplotlib>=2.2->seaborn->autograd-lib) (0.10.0)\n",
      "Requirement already satisfied: pillow>=6.2.0 in /opt/anaconda3/envs/notebook/lib/python3.8/site-packages (from matplotlib>=2.2->seaborn->autograd-lib) (8.1.0)\n",
      "Requirement already satisfied: kiwisolver>=1.0.1 in /opt/anaconda3/envs/notebook/lib/python3.8/site-packages (from matplotlib>=2.2->seaborn->autograd-lib) (1.3.1)\n",
      "Requirement already satisfied: pyparsing!=2.0.4,!=2.1.2,!=2.1.6,>=2.0.3 in /opt/anaconda3/envs/notebook/lib/python3.8/site-packages (from matplotlib>=2.2->seaborn->autograd-lib) (2.4.7)\n",
      "Requirement already satisfied: pytz>=2017.3 in /opt/anaconda3/envs/notebook/lib/python3.8/site-packages (from pandas>=0.23->seaborn->autograd-lib) (2021.1)\n",
      "Building wheels for collected packages: future, PyYAML\n",
      "  Building wheel for future (setup.py) ... \u001b[?25ldone\n",
      "\u001b[?25h  Created wheel for future: filename=future-0.18.2-py3-none-any.whl size=491059 sha256=6624f7e7ba7518c743105a30a2c211c45d499c61690801b9fae4e31eab9d3d49\n",
      "  Stored in directory: /root/.cache/pip/wheels/1f/e9/e6/0e9af1fb00bb774b933c8bd465741262463c8952844b24d62a\n",
      "  Building wheel for PyYAML (setup.py) ... \u001b[?25ldone\n",
      "\u001b[?25h  Created wheel for PyYAML: filename=PyYAML-5.3.1-cp38-cp38-linux_x86_64.whl size=44618 sha256=183a65c94d8d2818453efdba949ee829d18a09591b920a055de9c2b4ad0ce518\n",
      "  Stored in directory: /root/.cache/pip/wheels/4c/b1/86/6c563d0b5eae865afb8deb207d0acbd3455215ec4f41e76b2d\n",
      "Successfully built future PyYAML\n",
      "Installing collected packages: multidict, yarl, async-timeout, fsspec, aiohttp, torchmetrics, PyYAML, future, pytorch-lightning, gin-config, autograd-lib\n",
      "Successfully installed PyYAML-5.3.1 aiohttp-3.7.4.post0 async-timeout-3.0.1 autograd-lib-0.0.7 fsspec-0.9.0 future-0.18.2 gin-config-0.4.0 multidict-5.1.0 pytorch-lightning-1.2.6 torchmetrics-0.2.0 yarl-1.6.3\n"
     ]
    }
   ],
   "source": [
    "!pip install autograd-lib"
   ]
  },
  {
   "cell_type": "markdown",
   "metadata": {
    "id": "ZFGBCIFmVLS_"
   },
   "source": [
    "### Import Libraries\n"
   ]
  },
  {
   "cell_type": "code",
   "execution_count": 6,
   "metadata": {
    "id": "_-vjBvH0uqA-"
   },
   "outputs": [],
   "source": [
    "import numpy as np\n",
    "from math import pi\n",
    "from collections import defaultdict\n",
    "from autograd_lib import autograd_lib\n",
    "\n",
    "import torch\n",
    "import torch.nn as nn\n",
    "from torch.utils.data import DataLoader, Dataset\n",
    "\n",
    "import warnings\n",
    "warnings.filterwarnings(\"ignore\")"
   ]
  },
  {
   "cell_type": "markdown",
   "metadata": {
    "id": "ubbsl4dUVUj6"
   },
   "source": [
    "### Define NN Model\n",
    "The NN model here is used to fit a single variable math function.\n",
    "$$f(x) = \\frac{\\sin(5\\pi x)}{5\\pi x}.$$"
   ]
  },
  {
   "cell_type": "code",
   "execution_count": 7,
   "metadata": {
    "id": "uvdOpR9lVaJQ"
   },
   "outputs": [],
   "source": [
    "class MathRegressor(nn.Module):\n",
    "    def __init__(self, num_hidden=128):\n",
    "        super().__init__()\n",
    "        self.regressor = nn.Sequential(\n",
    "            nn.Linear(1, num_hidden),\n",
    "            nn.ReLU(),\n",
    "            nn.Linear(num_hidden, 1)\n",
    "        )\n",
    "\n",
    "    def forward(self, x):\n",
    "        x = self.regressor(x)\n",
    "        return x"
   ]
  },
  {
   "cell_type": "markdown",
   "metadata": {
    "id": "3nO0POKbWU9o"
   },
   "source": [
    "### Get Pretrained Checkpoints\n",
    "The pretrained checkpoints is done by TA. Each student will get a different checkpoint."
   ]
  },
  {
   "cell_type": "code",
   "execution_count": 8,
   "metadata": {
    "colab": {
     "base_uri": "https://localhost:8080/"
    },
    "id": "rUG_tQKLbIKB",
    "outputId": "46ab3391-f669-45cf-b3ae-a3a6ad901f4a"
   },
   "outputs": [
    {
     "name": "stdout",
     "output_type": "stream",
     "text": [
      "/bin/bash: gdown: command not found\r\n"
     ]
    }
   ],
   "source": [
    "!gdown --id 1ym6G7KKNkbsqSnMmnxdQKHO1JBoF0LPR"
   ]
  },
  {
   "cell_type": "markdown",
   "metadata": {
    "id": "kOFibHKCek_A"
   },
   "source": [
    "### Load Pretrained Checkpoints and Training Data"
   ]
  },
  {
   "cell_type": "code",
   "execution_count": null,
   "metadata": {
    "id": "zkLZoCR51D7P"
   },
   "outputs": [],
   "source": [
    "# find the key from student_id\n",
    "import re\n",
    "\n",
    "key = student_id[-1]\n",
    "if re.match('[0-9]', key) is not None:\n",
    "    key = int(key)\n",
    "else:\n",
    "    key = ord(key) % 10"
   ]
  },
  {
   "cell_type": "code",
   "execution_count": null,
   "metadata": {
    "id": "OSU8vnXEbY6q"
   },
   "outputs": [],
   "source": [
    "# load checkpoint and data corresponding to the key\n",
    "model = MathRegressor()\n",
    "autograd_lib.register(model)\n",
    "\n",
    "data = torch.load('data.pth')[key]\n",
    "model.load_state_dict(data['model'])\n",
    "train, target = data['data']"
   ]
  },
  {
   "cell_type": "markdown",
   "metadata": {
    "id": "EyBX5Gvvm_IW"
   },
   "source": [
    "### Function to compute gradient norm"
   ]
  },
  {
   "cell_type": "code",
   "execution_count": null,
   "metadata": {
    "id": "2i8qGj2dnYBN"
   },
   "outputs": [],
   "source": [
    "# function to compute gradient norm\n",
    "def compute_gradient_norm(model, criterion, train, target):\n",
    "    model.train()\n",
    "    model.zero_grad()\n",
    "    output = model(train)\n",
    "    loss = criterion(output, target)\n",
    "    loss.backward()\n",
    "\n",
    "    grads = []\n",
    "    for p in model.regressor.children():\n",
    "        if isinstance(p, nn.Linear):\n",
    "            param_norm = p.weight.grad.norm(2).item()\n",
    "            grads.append(param_norm)\n",
    "\n",
    "    grad_mean = np.mean(grads) # compute mean of gradient norms\n",
    "\n",
    "    return grad_mean"
   ]
  },
  {
   "cell_type": "markdown",
   "metadata": {
    "id": "BSHRU6saoOnf"
   },
   "source": [
    "### Function to compute minimum ratio"
   ]
  },
  {
   "cell_type": "code",
   "execution_count": null,
   "metadata": {
    "id": "zizIq6Y_o_UK"
   },
   "outputs": [],
   "source": [
    "# source code from the official document https://github.com/cybertronai/autograd-lib\n",
    "\n",
    "# helper function to save activations\n",
    "def save_activations(layer, A, _):\n",
    "    '''\n",
    "    A is the input of the layer, we use batch size of 6 here\n",
    "    layer 1: A has size of (6, 1)\n",
    "    layer 2: A has size of (6, 128)\n",
    "    '''\n",
    "    activations[layer] = A\n",
    "\n",
    "# helper function to compute Hessian matrix\n",
    "def compute_hess(layer, _, B):\n",
    "    '''\n",
    "    B is the backprop value of the layer\n",
    "    layer 1: B has size of (6, 128)\n",
    "    layer 2: B ahs size of (6, 1)\n",
    "    '''\n",
    "    A = activations[layer]\n",
    "    BA = torch.einsum('nl,ni->nli', B, A) # do batch-wise outer product\n",
    "\n",
    "    # full Hessian\n",
    "    hess[layer] += torch.einsum('nli,nkj->likj', BA, BA) # do batch-wise outer product, then sum over the batch"
   ]
  },
  {
   "cell_type": "code",
   "execution_count": null,
   "metadata": {
    "id": "l0r4R_-soT58"
   },
   "outputs": [],
   "source": [
    "# function to compute the minimum ratio\n",
    "def compute_minimum_ratio(model, criterion, train, target):\n",
    "    model.zero_grad()\n",
    "    # compute Hessian matrix\n",
    "    # save the gradient of each layer\n",
    "    with autograd_lib.module_hook(save_activations):\n",
    "        output = model(train)\n",
    "        loss = criterion(output, target)\n",
    "\n",
    "    # compute Hessian according to the gradient value stored in the previous step\n",
    "    with autograd_lib.module_hook(compute_hess):\n",
    "        autograd_lib.backward_hessian(output, loss='LeastSquares')\n",
    "\n",
    "    layer_hess = list(hess.values())\n",
    "    minimum_ratio = []\n",
    "\n",
    "    # compute eigenvalues of the Hessian matrix\n",
    "    for h in layer_hess:\n",
    "        size = h.shape[0] * h.shape[1]\n",
    "        h = h.reshape(size, size)\n",
    "        h_eig = torch.symeig(h).eigenvalues # torch.symeig() returns eigenvalues and eigenvectors of a real symmetric matrix\n",
    "        num_greater = torch.sum(h_eig > 0).item()\n",
    "        minimum_ratio.append(num_greater / len(h_eig))\n",
    "\n",
    "    ratio_mean = np.mean(minimum_ratio) # compute mean of minimum ratio\n",
    "\n",
    "    return ratio_mean"
   ]
  },
  {
   "cell_type": "markdown",
   "metadata": {
    "id": "ABZhFwVZY3x3"
   },
   "source": [
    "### Mathematical Derivation\n",
    "\n",
    "Method used here: https://en.wikipedia.org/wiki/Gauss–Newton_algorithm\n",
    "\n",
    "> **Notations** \\\\\n",
    "> $\\mathbf{A}$: the input of the layer. \\\\\n",
    "> $\\mathbf{B}$: the backprop value. \\\\\n",
    "> $\\mathbf{Z}$: the output of the layer. \\\\\n",
    "> $L$: the total loss, mean squared error was used here, $L=e^2$. \\\\\n",
    "> $w$: the weight value.\n",
    "\n",
    "Assume that the input dimension of the layer is $n$, and the output dimension of the layer is $m$.\n",
    "\n",
    "The derivative of the loss is\n",
    "\n",
    "\\begin{align*}\n",
    "    \\left(\\frac{\\partial L}{\\partial w}\\right)_{nm} &= \\mathbf{A}_m \\mathbf{B}_n,\n",
    "\\end{align*}\n",
    "\n",
    "which can be written as\n",
    "\n",
    "\\begin{align*}\n",
    "    \\frac{\\partial L}{\\partial w} &= \\mathbf{B} \\times \\mathbf{A}.\n",
    "\\end{align*}\n",
    "\n",
    "The Hessian can be derived as\n",
    "\n",
    "\\begin{align*}\n",
    "    \\mathbf{H}_{ij}&=\\frac{\\partial^2 L}{\\partial w_i \\partial w_j} \\\\\n",
    "    &= \\frac{\\partial}{\\partial w_i}\\left(\\frac{\\partial L}{\\partial w_j}\\right) \\\\\n",
    "    &= \\frac{\\partial}{\\partial w_i}\\left(\\frac{2e\\partial e}{\\partial w_j}\\right) \\\\\n",
    "    &= 2\\frac{\\partial e}{\\partial w_i}\\frac{\\partial e}{\\partial w_j}+2e\\frac{\\partial^2 e}{\\partial w_j \\partial w_i}.\n",
    "\\end{align*}\n",
    "\n",
    "We neglect the second-order derivative term because the term is relatively small ($e$ is small)\n",
    "\n",
    "\\begin{align*}\n",
    "    \\mathbf{H}_{ij}\n",
    "    &\\propto \\frac{\\partial e}{\\partial w_i}\\frac{\\partial e}{\\partial w_j},\n",
    "\\end{align*}\n",
    "\n",
    "and as the error $e$ is a constant\n",
    "\n",
    "\\begin{align*}\n",
    "    \\mathbf{H}_{ij}\n",
    "    &\\propto \\frac{\\partial L}{\\partial w_i}\\frac{\\partial L}{\\partial w_j},\n",
    "\\end{align*}\n",
    "\n",
    "then the full Hessian becomes\n",
    "\n",
    "\\begin{align*}\n",
    "    \\mathbf{H} &\\propto (\\mathbf{B}\\times\\mathbf{A})\\times(\\mathbf{B}\\times\\mathbf{A}).\n",
    "\\end{align*}\n"
   ]
  },
  {
   "cell_type": "code",
   "execution_count": null,
   "metadata": {
    "id": "1X-2uxwTcB9u"
   },
   "outputs": [],
   "source": [
    "# the main function to compute gradient norm and minimum ratio\n",
    "def main(model, train, target):\n",
    "    criterion = nn.MSELoss()\n",
    "\n",
    "    gradient_norm = compute_gradient_norm(model, criterion, train, target)\n",
    "    minimum_ratio = compute_minimum_ratio(model, criterion, train, target)\n",
    "\n",
    "    print('gradient norm: {}, minimum ratio: {}'.format(gradient_norm, minimum_ratio))"
   ]
  },
  {
   "cell_type": "markdown",
   "metadata": {
    "id": "uwHyQHc9w8k1"
   },
   "source": [
    "After running this block, you will get the value of `gradient norm` and `minimum ratio`. Determine whether the model is at `local minima like`, `saddle point`, or `none of the above`, and then submit your choice to NTU COOL."
   ]
  },
  {
   "cell_type": "code",
   "execution_count": null,
   "metadata": {
    "colab": {
     "base_uri": "https://localhost:8080/"
    },
    "id": "877W_ShIzS7a",
    "outputId": "6c90fdd9-0bbd-405c-c781-457d265c1606"
   },
   "outputs": [
    {
     "name": "stdout",
     "output_type": "stream",
     "text": [
      "gradient norm: 0.07222428917884827, minimum ratio: 0.46484375\n"
     ]
    }
   ],
   "source": [
    "if __name__ == '__main__':\n",
    "    # fix random seed\n",
    "    torch.manual_seed(0)\n",
    "\n",
    "    # reset compute dictionaries\n",
    "    activations = defaultdict(int)\n",
    "    hess = defaultdict(float)\n",
    "\n",
    "    # compute Hessian\n",
    "    main(model, train, target)"
   ]
  }
 ],
 "metadata": {
  "colab": {
   "collapsed_sections": [],
   "name": "SHARE MLSpring2021 - HW2-2.ipynb",
   "provenance": []
  },
  "kernelspec": {
   "display_name": "Python 3",
   "language": "python",
   "name": "python3"
  },
  "language_info": {
   "codemirror_mode": {
    "name": "ipython",
    "version": 3
   },
   "file_extension": ".py",
   "mimetype": "text/x-python",
   "name": "python",
   "nbconvert_exporter": "python",
   "pygments_lexer": "ipython3",
   "version": "3.8.5"
  }
 },
 "nbformat": 4,
 "nbformat_minor": 1
}
