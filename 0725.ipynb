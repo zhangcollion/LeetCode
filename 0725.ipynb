{
 "cells": [
  {
   "cell_type": "code",
   "execution_count": 2,
   "metadata": {},
   "outputs": [],
   "source": [
    "from typing import List"
   ]
  },
  {
   "cell_type": "code",
   "execution_count": null,
   "metadata": {},
   "outputs": [],
   "source": []
  },
  {
   "cell_type": "code",
   "execution_count": 10,
   "metadata": {},
   "outputs": [],
   "source": [
    "class Solution:\n",
    "    def getLucky(self, s: str, k: int) -> int:\n",
    "        info = {}\n",
    "        for i in range(0, 26):\n",
    "            info[chr(97+i)] = i+1\n",
    "        ans = \"\"\n",
    "        for i in s:\n",
    "            ans += str(info[i])\n",
    "        i = 0 \n",
    "        tmp = 0\n",
    "        while i < k:\n",
    "            tmp = 0\n",
    "            for j in ans:\n",
    "                tmp += int(j)\n",
    "            ans = str(tmp)\n",
    "            i += 1\n",
    "            \n",
    "        return int(tmp)"
   ]
  },
  {
   "cell_type": "code",
   "execution_count": 16,
   "metadata": {},
   "outputs": [
    {
     "data": {
      "text/plain": [
       "array([2, 0])"
      ]
     },
     "execution_count": 16,
     "metadata": {},
     "output_type": "execute_result"
    }
   ],
   "source": [
    "class Solution:\n",
    "    def maximumNumber(self, num: str, change: List[int]) -> str:\n",
    "        info = {}\n",
    "        for i, v in enumerate(change):\n",
    "            info[i] = v        \n",
    "        ans = \"\"\n",
    "        k = 0\n",
    "        flag = 0\n",
    "        for i , v in enumerate(num):\n",
    "            if int(v) <= info[int(v)]:\n",
    "                ans += str(info[int(v)])\n",
    "                if int(v) == info[int(v)] and flag == 0:\n",
    "                    flag = 0\n",
    "                else:\n",
    "                    flag = 1\n",
    "                \n",
    "            else:\n",
    "                if flag == 0:\n",
    "                    ans += str(v)\n",
    "                else:\n",
    "                    ans += str(v)\n",
    "                    break\n",
    "        if i < len(num)-1:\n",
    "            return ans+num[i+1:]\n",
    "        else:\n",
    "            return ans"
   ]
  }
 ],
 "metadata": {
  "kernelspec": {
   "display_name": "Python 3",
   "language": "python",
   "name": "python3"
  },
  "language_info": {
   "codemirror_mode": {
    "name": "ipython",
    "version": 3
   },
   "file_extension": ".py",
   "mimetype": "text/x-python",
   "name": "python",
   "nbconvert_exporter": "python",
   "pygments_lexer": "ipython3",
   "version": "3.6.5"
  }
 },
 "nbformat": 4,
 "nbformat_minor": 2
}
