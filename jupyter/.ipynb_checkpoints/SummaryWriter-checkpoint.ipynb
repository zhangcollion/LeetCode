{
 "cells": [
  {
   "cell_type": "code",
   "execution_count": 2,
   "metadata": {},
   "outputs": [],
   "source": [
    "from torch.utils.tensorboard import SummaryWriter"
   ]
  },
  {
   "cell_type": "code",
   "execution_count": 5,
   "metadata": {},
   "outputs": [],
   "source": [
    "import numpy as np\n",
    "r = 6\n",
    "writer = SummaryWriter(log_dir=r\"G:\\ML\\PYLearn\\jupyter\\log\")\n",
    "for i in range(100):\n",
    "    writer.add_scalar(\"y=x\", i**2, i)\n",
    "    writer.add_scalars(\"y\", {'xsinx':i*np.sin(i/r),\n",
    "                            'xcosx':i*np.cos(i/r)},i)\n",
    "writer.close()"
   ]
  },
  {
   "cell_type": "code",
   "execution_count": 98,
   "metadata": {},
   "outputs": [],
   "source": [
    "def y_data(tmp_x):\n",
    "    y = tmp_x**2 \n",
    "    return y\n",
    "from  torch.utils.data import Dataset\n",
    "from torch import  FloatTensor\n",
    "class UserDataset(Dataset):\n",
    "    def __init__(self, doc=\"dataset\"):\n",
    "        self.doc = doc\n",
    "        x = list(range(0,100,10))\n",
    "        self.x = torch.unsqueeze(FloatTensor(x),dim=1)\n",
    "        y = list(map(y_data,x))\n",
    "        self.y = torch.unsqueeze(FloatTensor(y),dim=1)\n",
    " \n",
    "    def __getitem__(self,index):\n",
    "        return self.x[index], self.y[index]\n",
    "    \n",
    "    def __len__(self):\n",
    "        return len(self.x)"
   ]
  },
  {
   "cell_type": "code",
   "execution_count": 99,
   "metadata": {},
   "outputs": [],
   "source": [
    "from torch.utils.data import DataLoader\n",
    "user_dataset = UserDataset()\n",
    "user_loader = DataLoader(user_dataset, batch_size=32, shuffle=True)"
   ]
  },
  {
   "cell_type": "code",
   "execution_count": 100,
   "metadata": {},
   "outputs": [],
   "source": [
    "import torch.nn as nn\n",
    "class reg_model(nn.Module):\n",
    "    def __init__(self, in_dim, out_dim=1):\n",
    "        super(reg_model, self).__init__()\n",
    "        self.in_dim = in_dim\n",
    "        self.out_dim = out_dim\n",
    "        self.model = nn.Sequential(nn.Linear(in_dim, 16),nn.ReLU(),nn.Linear(16, out_dim))\n",
    "        \n",
    "    def forward(self,x):\n",
    "        y = self.model(x)\n",
    "        return y"
   ]
  },
  {
   "cell_type": "code",
   "execution_count": 101,
   "metadata": {},
   "outputs": [],
   "source": [
    "from torch import optim\n",
    "import torch\n",
    "model = reg_model(1,1)\n",
    "criterior = nn.MSELoss()\n",
    "optimizer = optim.Adam(model.parameters(), lr=0.1)\n",
    "for i in range(3000):\n",
    "    for x, y in user_loader:\n",
    "        optimizer.zero_grad()\n",
    "        pred_y = model(x)\n",
    "        loss = criterior(pred_y, y)\n",
    "        loss.backward()\n",
    "        optimizer.step()\n",
    "#     print(f\"{i} loss is {loss}\")"
   ]
  },
  {
   "cell_type": "code",
   "execution_count": 106,
   "metadata": {},
   "outputs": [],
   "source": [
    "x = list(range(0,100))\n",
    "y = list(map(y_data, x))\n",
    "x = torch.unsqueeze(FloatTensor(x),dim=1)\n",
    "model.eval()\n",
    "with torch.no_grad():\n",
    "    pred_y = model(x)"
   ]
  },
  {
   "cell_type": "code",
   "execution_count": 107,
   "metadata": {},
   "outputs": [
    {
     "data": {
      "text/plain": [
       "[<matplotlib.lines.Line2D at 0x62d64ba8>]"
      ]
     },
     "execution_count": 107,
     "metadata": {},
     "output_type": "execute_result"
    },
    {
     "data": {
      "image/png": "[encoded data removed]",
      "text/plain": [
       "<Figure size 432x288 with 1 Axes>"
      ]
     },
     "metadata": {},
     "output_type": "display_data"
    }
   ],
   "source": [
    "import matplotlib.pyplot as plt\n",
    "plt.plot(x,y)\n",
    "plt.plot(x, pred_y.detach().numpy())"
   ]
  },
  {
   "cell_type": "code",
   "execution_count": 108,
   "metadata": {},
   "outputs": [
    {
     "data": {
      "text/plain": [
       "tensor([[ 8.0877e+00],\n",
       "        [-4.1194e+01],\n",
       "        [-9.0475e+01],\n",
       "        [-1.3976e+02],\n",
       "        [-1.7531e+02],\n",
       "        [-1.6286e+02],\n",
       "        [-1.2992e+02],\n",
       "        [-9.1243e+01],\n",
       "        [-4.9335e+01],\n",
       "        [-7.4269e+00],\n",
       "        [ 3.4481e+01],\n",
       "        [ 7.6389e+01],\n",
       "        [ 1.1830e+02],\n",
       "        [ 1.6020e+02],\n",
       "        [ 2.0211e+02],\n",
       "        [ 2.4402e+02],\n",
       "        [ 2.8593e+02],\n",
       "        [ 3.2784e+02],\n",
       "        [ 3.6974e+02],\n",
       "        [ 4.1165e+02],\n",
       "        [ 4.5356e+02],\n",
       "        [ 5.0801e+02],\n",
       "        [ 5.6253e+02],\n",
       "        [ 6.1705e+02],\n",
       "        [ 6.7156e+02],\n",
       "        [ 7.2608e+02],\n",
       "        [ 7.8060e+02],\n",
       "        [ 8.3511e+02],\n",
       "        [ 8.8963e+02],\n",
       "        [ 9.4415e+02],\n",
       "        [ 9.9866e+02],\n",
       "        [ 1.0532e+03],\n",
       "        [ 1.1077e+03],\n",
       "        [ 1.1622e+03],\n",
       "        [ 1.2167e+03],\n",
       "        [ 1.2712e+03],\n",
       "        [ 1.3258e+03],\n",
       "        [ 1.3803e+03],\n",
       "        [ 1.4348e+03],\n",
       "        [ 1.4893e+03],\n",
       "        [ 1.5438e+03],\n",
       "        [ 1.5983e+03],\n",
       "        [ 1.6529e+03],\n",
       "        [ 1.7074e+03],\n",
       "        [ 1.7619e+03],\n",
       "        [ 1.8164e+03],\n",
       "        [ 1.8709e+03],\n",
       "        [ 1.9254e+03],\n",
       "        [ 2.0292e+03],\n",
       "        [ 2.1695e+03],\n",
       "        [ 2.3098e+03],\n",
       "        [ 2.4500e+03],\n",
       "        [ 2.5903e+03],\n",
       "        [ 2.7306e+03],\n",
       "        [ 2.8709e+03],\n",
       "        [ 3.0111e+03],\n",
       "        [ 3.1514e+03],\n",
       "        [ 3.2917e+03],\n",
       "        [ 3.4320e+03],\n",
       "        [ 3.5722e+03],\n",
       "        [ 3.7125e+03],\n",
       "        [ 3.8528e+03],\n",
       "        [ 3.9931e+03],\n",
       "        [ 4.1333e+03],\n",
       "        [ 4.2736e+03],\n",
       "        [ 4.4139e+03],\n",
       "        [ 4.5542e+03],\n",
       "        [ 4.6944e+03],\n",
       "        [ 4.8347e+03],\n",
       "        [ 4.9750e+03],\n",
       "        [ 5.1153e+03],\n",
       "        [ 5.2555e+03],\n",
       "        [ 5.3958e+03],\n",
       "        [ 5.5361e+03],\n",
       "        [ 5.6764e+03],\n",
       "        [ 5.8166e+03],\n",
       "        [ 5.9569e+03],\n",
       "        [ 6.0972e+03],\n",
       "        [ 6.2375e+03],\n",
       "        [ 6.3777e+03],\n",
       "        [ 6.5180e+03],\n",
       "        [ 6.6583e+03],\n",
       "        [ 6.7986e+03],\n",
       "        [ 6.9388e+03],\n",
       "        [ 7.0791e+03],\n",
       "        [ 7.2194e+03],\n",
       "        [ 7.3597e+03],\n",
       "        [ 7.4999e+03],\n",
       "        [ 7.6402e+03],\n",
       "        [ 7.7805e+03],\n",
       "        [ 7.9207e+03],\n",
       "        [ 8.0610e+03],\n",
       "        [ 8.2013e+03],\n",
       "        [ 8.3416e+03],\n",
       "        [ 8.4818e+03],\n",
       "        [ 8.6221e+03],\n",
       "        [ 8.7624e+03],\n",
       "        [ 8.9027e+03],\n",
       "        [ 9.0429e+03],\n",
       "        [ 9.1832e+03]])"
      ]
     },
     "execution_count": 108,
     "metadata": {},
     "output_type": "execute_result"
    }
   ],
   "source": [
    "pred_y"
   ]
  },
  {
   "cell_type": "code",
   "execution_count": null,
   "metadata": {},
   "outputs": [],
   "source": []
  }
 ],
 "metadata": {
  "kernelspec": {
   "display_name": "Python 3",
   "language": "python",
   "name": "python3"
  },
  "language_info": {
   "codemirror_mode": {
    "name": "ipython",
    "version": 3
   },
   "file_extension": ".py",
   "mimetype": "text/x-python",
   "name": "python",
   "nbconvert_exporter": "python",
   "pygments_lexer": "ipython3",
   "version": "3.6.5"
  }
 },
 "nbformat": 4,
 "nbformat_minor": 2
}
