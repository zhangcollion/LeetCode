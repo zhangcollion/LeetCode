{
 "cells": [
  {
   "cell_type": "code",
   "execution_count": 1,
   "metadata": {},
   "outputs": [],
   "source": [
    "from torch.utils.tensorboard import SummaryWriter"
   ]
  },
  {
   "cell_type": "code",
   "execution_count": null,
   "metadata": {},
   "outputs": [],
   "source": [
    "import numpy as np\n",
    "r = 6\n",
    "writer = SummaryWriter(log_dir=r\"G:\\ML\\PYLearn\\jupyter\\log\")\n",
    "for i in range(100):\n",
    "    writer.add_scalar(\"y=x\", i**2, i)\n",
    "    writer.add_scalars(\"y\", {'xsinx':i*np.sin(i/r),\n",
    "                            'xcosx':i*np.cos(i/r)},i)\n",
    "writer.close()"
   ]
  },
  {
   "cell_type": "code",
   "execution_count": 2,
   "metadata": {},
   "outputs": [],
   "source": [
    "def y_data(tmp_x):\n",
    "    y = tmp_x**2 \n",
    "    return y\n",
    "\n",
    "from torch.utils.data import Dataset\n",
    "from torch import  FloatTensor\n",
    "class UserDataset(Dataset):\n",
    "    def __init__(self, doc=\"dataset\"):\n",
    "        self.doc = doc\n",
    "        x = list(range(0,100,3))\n",
    "        self.x =  FloatTensor(x).view(-1, 1)\n",
    "        y = list(map(y_data,x))\n",
    "        self.y = FloatTensor(y).view(-1, 1)\n",
    " \n",
    "    def __getitem__(self,index):\n",
    "        return self.x[index], self.y[index]\n",
    "    \n",
    "    def __len__(self):\n",
    "        return len(self.x)"
   ]
  },
  {
   "cell_type": "code",
   "execution_count": 3,
   "metadata": {},
   "outputs": [],
   "source": [
    "from torch.utils.data import DataLoader\n",
    "user_dataset = UserDataset()\n",
    "user_loader = DataLoader(user_dataset, batch_size=32, shuffle=True)"
   ]
  },
  {
   "cell_type": "code",
   "execution_count": 4,
   "metadata": {},
   "outputs": [],
   "source": [
    "import torch.nn as nn\n",
    "class reg_model(nn.Module):\n",
    "    def __init__(self, in_dim, out_dim=1):\n",
    "        super(reg_model, self).__init__()\n",
    "        self.in_dim = in_dim\n",
    "        self.out_dim = out_dim\n",
    "#         self.model = nn.Sequential(nn.Linear(in_dim, 16), nn.ReLU(),nn.Linear(16, out_dim))\n",
    "        self.fc1 = nn.Linear(in_dim, 16)\n",
    "        self.act   = nn.ReLU()\n",
    "        self.fc2 = nn.Linear(16, out_dim)\n",
    "        \n",
    "    def forward(self,x):\n",
    "#         y = self.model(x)\n",
    "        x = self.fc1(x)\n",
    "        x = self.act(x)\n",
    "        y = self.fc2(x)\n",
    "        return y"
   ]
  },
  {
   "cell_type": "code",
   "execution_count": 23,
   "metadata": {},
   "outputs": [
    {
     "name": "stdout",
     "output_type": "stream",
     "text": [
      "-->name: fc1.weight -->grad_requirs: Parameter containing:\n",
      "tensor([[ 0.6959],\n",
      "        [-0.8636],\n",
      "        [ 0.5841],\n",
      "        [ 0.5930],\n",
      "        [-0.7232],\n",
      "        [ 0.5257],\n",
      "        [ 0.7659],\n",
      "        [-0.7176],\n",
      "        [-0.2972],\n",
      "        [-0.3137],\n",
      "        [ 0.3248],\n",
      "        [-0.1091],\n",
      "        [-0.9199],\n",
      "        [-0.6800],\n",
      "        [ 0.6387],\n",
      "        [-0.6191]], requires_grad=True)  -->grad_value: tensor([[ 123424.4297],\n",
      "        [      0.0000],\n",
      "        [-182706.0312],\n",
      "        [-181317.5938],\n",
      "        [      0.0000],\n",
      "        [-220881.9062],\n",
      "        [-121321.0625],\n",
      "        [      0.0000],\n",
      "        [      0.0000],\n",
      "        [      0.0000],\n",
      "        [-110097.4688],\n",
      "        [      0.0000],\n",
      "        [      0.0000],\n",
      "        [      0.0000],\n",
      "        [-123621.5547],\n",
      "        [      0.0000]])\n",
      "-->name: fc1.bias -->grad_requirs: Parameter containing:\n",
      "tensor([ 0.1699,  0.3588, -0.6049,  0.9664, -0.8253, -0.3288, -0.1872, -0.4760,\n",
      "         0.1866, -0.9741, -0.3064, -0.7403, -0.2083, -0.3849, -0.0347, -0.2916],\n",
      "       requires_grad=True)  -->grad_value: tensor([ 1471.8785,     0.0000, -2178.8320, -2162.2744,     0.0000, -2634.0923,\n",
      "        -1446.7952,     0.0000,     0.0000,     0.0000, -1312.9500,     0.0000,\n",
      "            0.0000,     0.0000, -1474.2292,     0.0000])\n",
      "-->name: fc2.weight -->grad_requirs: Parameter containing:\n",
      "tensor([[-0.0122, -0.4102,  0.2506,  0.2496,  0.2106,  0.2835,  0.1979,  0.1405,\n",
      "         -0.0461, -0.1754,  0.1938, -0.2469, -0.1956, -0.1220,  0.1994,  0.0700]],\n",
      "       requires_grad=True)  -->grad_value: tensor([[-916044.8750,       0.0000, -564569.3750, -596361.1875,       0.0000,\n",
      "         -498758.5000, -787582.3750,       0.0000,       0.0000,       0.0000,\n",
      "         -283142.0938,       0.0000,       0.0000,       0.0000, -643243.1875,\n",
      "               0.0000]])\n",
      "-->name: fc2.bias -->grad_requirs: Parameter containing:\n",
      "tensor([0.3080], requires_grad=True)  -->grad_value: tensor([-13672.5332])\n",
      "-->name: fc1.weight -->grad_requirs: Parameter containing:\n",
      "tensor([[ 0.5689],\n",
      "        [-0.8636],\n",
      "        [ 0.7665],\n",
      "        [ 0.7754],\n",
      "        [-0.7232],\n",
      "        [ 0.7096],\n",
      "        [ 0.9423],\n",
      "        [-0.7176],\n",
      "        [-0.2972],\n",
      "        [-0.3137],\n",
      "        [ 0.4991],\n",
      "        [-0.1091],\n",
      "        [-0.9199],\n",
      "        [-0.6800],\n",
      "        [ 0.8154],\n",
      "        [-0.6191]], requires_grad=True)  -->grad_value: tensor([[ -42886.1328],\n",
      "        [      0.0000],\n",
      "        [-187452.0312],\n",
      "        [-186970.3594],\n",
      "        [      0.0000],\n",
      "        [-205498.7812],\n",
      "        [-158551.9219],\n",
      "        [      0.0000],\n",
      "        [      0.0000],\n",
      "        [      0.0000],\n",
      "        [-158874.4844],\n",
      "        [      0.0000],\n",
      "        [      0.0000],\n",
      "        [      0.0000],\n",
      "        [-159373.2188],\n",
      "        [      0.0000]])\n",
      "-->name: fc1.bias -->grad_requirs: Parameter containing:\n",
      "tensor([ 0.0434,  0.4851, -0.4204,  1.1507, -0.8253, -0.1424, -0.0102, -0.4760,\n",
      "         0.2464, -0.9741, -0.1320, -0.7403, -0.2083, -0.3849,  0.1428, -0.2916],\n",
      "       requires_grad=True)  -->grad_value: tensor([ -571.7941,     0.0000, -2499.2686, -2492.8467,     0.0000, -2739.8828,\n",
      "        -2113.9480,     0.0000,     0.0000,     0.0000, -2118.2485,     0.0000,\n",
      "            0.0000,     0.0000, -2124.8982,     0.0000])\n",
      "-->name: fc2.weight -->grad_requirs: Parameter containing:\n",
      "tensor([[ 0.1664, -0.5356,  0.4352,  0.4343,  0.2106,  0.4683,  0.3820,  0.1405,\n",
      "         -0.1879, -0.1754,  0.3870, -0.2469, -0.1956, -0.1220,  0.3837,  0.0700]],\n",
      "       requires_grad=True)  -->grad_value: tensor([[-338751.0625,       0.0000, -365573.6875, -381920.7500,       0.0000,\n",
      "         -336030.0625, -466459.7812,       0.0000,       0.0000,       0.0000,\n",
      "         -222974.9375,       0.0000,       0.0000,       0.0000, -397884.4062,\n",
      "               0.0000]])\n",
      "-->name: fc2.bias -->grad_requirs: Parameter containing:\n",
      "tensor([0.4945], requires_grad=True)  -->grad_value: tensor([-7314.0029])\n"
     ]
    }
   ],
   "source": [
    "from torch import optim\n",
    "import torch\n",
    "model = reg_model(1,1)\n",
    "criterior = nn.MSELoss()\n",
    "optimizer = optim.Adam(model.parameters(), lr=0.1)\n",
    "writer = SummaryWriter(log_dir=r\"G:\\ML\\PYLearn\\jupyter\\log\")\n",
    "for i in range(2):\n",
    "    for x, y in user_loader:\n",
    "        optimizer.zero_grad()\n",
    "        pred_y = model(x)\n",
    "        loss = criterior(pred_y, y)\n",
    "        loss.backward()\n",
    "        optimizer.step()\n",
    "        writer.add_scalar(\"train_loss\", loss,i)\n",
    "    for name, parms in model.named_parameters(): \n",
    "        print('-->name:', name, '-->grad_requirs:',parms, \\\n",
    "         ' -->grad_value:',parms.grad)\n",
    "#     for param_tensor in model.state_dict():  # 字典的遍历默认是遍历 key，所以param_tensor实际上是键值\n",
    "#         print(param_tensor, '\\t', model.state_dict()[param_tensor])\n",
    "# for param_tensor in model.state_dict():  # 字典的遍历默认是遍历 key，所以param_tensor实际上是键值\n",
    "#     print(param_tensor, '\\t', model.state_dict()[param_tensor])"
   ]
  },
  {
   "cell_type": "code",
   "execution_count": 21,
   "metadata": {},
   "outputs": [
    {
     "data": {
      "text/plain": [
       "odict_keys(['fc1.weight', 'fc1.bias', 'fc2.weight', 'fc2.bias'])"
      ]
     },
     "execution_count": 21,
     "metadata": {},
     "output_type": "execute_result"
    }
   ],
   "source": [
    "model.state_dict().keys()"
   ]
  },
  {
   "cell_type": "code",
   "execution_count": 40,
   "metadata": {},
   "outputs": [],
   "source": [
    "x = list(range(0,100))\n",
    "y = list(map(y_data, x))\n",
    "x = torch.unsqueeze(FloatTensor(x),dim=1)\n",
    "model.eval()\n",
    "with torch.no_grad():\n",
    "    pred_y = model(x)"
   ]
  },
  {
   "cell_type": "code",
   "execution_count": 41,
   "metadata": {},
   "outputs": [
    {
     "data": {
      "text/plain": [
       "[<matplotlib.lines.Line2D at 0x1c092d30>]"
      ]
     },
     "execution_count": 41,
     "metadata": {},
     "output_type": "execute_result"
    },
    {
     "data": {
      "image/png": "[encoded data removed]",
      "text/plain": [
       "<Figure size 432x288 with 1 Axes>"
      ]
     },
     "metadata": {},
     "output_type": "display_data"
    }
   ],
   "source": [
    "import matplotlib.pyplot as plt\n",
    "plt.plot(x,y)\n",
    "plt.plot(x, pred_y.detach().numpy())"
   ]
  },
  {
   "cell_type": "code",
   "execution_count": 47,
   "metadata": {},
   "outputs": [
    {
     "name": "stdout",
     "output_type": "stream",
     "text": [
      "Model's state_dict:\n",
      "fc1.weight \t torch.Size([16, 1])\n",
      "fc1.bias \t torch.Size([16])\n",
      "fc2.weight \t torch.Size([1, 16])\n",
      "fc2.bias \t torch.Size([1])\n"
     ]
    }
   ],
   "source": [
    "print(\"Model's state_dict:\")\n",
    "for param_tensor in model.state_dict():\n",
    "    print(param_tensor, \"\\t\", model.state_dict()[param_tensor].size())"
   ]
  },
  {
   "cell_type": "code",
   "execution_count": 49,
   "metadata": {},
   "outputs": [
    {
     "data": {
      "text/plain": [
       "\u001b[1;31mSignature:\u001b[0m \u001b[0moptimizer\u001b[0m\u001b[1;33m.\u001b[0m\u001b[0mstate_dict\u001b[0m\u001b[1;33m(\u001b[0m\u001b[1;33m)\u001b[0m\u001b[1;33m\u001b[0m\u001b[0m\n",
       "\u001b[1;31mDocstring:\u001b[0m\n",
       "Returns the state of the optimizer as a :class:`dict`.\n",
       "\n",
       "It contains two entries:\n",
       "\n",
       "* state - a dict holding current optimization state. Its content\n",
       "    differs between optimizer classes.\n",
       "* param_groups - a dict containing all parameter groups\n",
       "\u001b[1;31mFile:\u001b[0m      c:\\programdata\\anaconda3\\lib\\site-packages\\torch\\optim\\optimizer.py\n",
       "\u001b[1;31mType:\u001b[0m      method\n"
      ]
     },
     "metadata": {},
     "output_type": "display_data"
    }
   ],
   "source": [
    "optimizer.state_dict?"
   ]
  },
  {
   "cell_type": "code",
   "execution_count": 48,
   "metadata": {},
   "outputs": [
    {
     "name": "stdout",
     "output_type": "stream",
     "text": [
      "Optimizer's state_dict:\n",
      "state \t {0: {'step': 6000, 'exp_avg': tensor([[ 3.4952e+04],\n",
      "        [ 0.0000e+00],\n",
      "        [ 0.0000e+00],\n",
      "        [ 5.6052e-45],\n",
      "        [ 2.2232e+04],\n",
      "        [-8.6573e+04],\n",
      "        [ 4.2950e+04],\n",
      "        [ 2.2401e+04],\n",
      "        [ 0.0000e+00],\n",
      "        [ 0.0000e+00],\n",
      "        [ 0.0000e+00],\n",
      "        [-1.0213e+05],\n",
      "        [-1.3310e+05],\n",
      "        [ 2.1657e+04],\n",
      "        [ 0.0000e+00],\n",
      "        [ 0.0000e+00]]), 'exp_avg_sq': tensor([[1.7020e+10],\n",
      "        [0.0000e+00],\n",
      "        [0.0000e+00],\n",
      "        [3.4815e+04],\n",
      "        [9.8124e+09],\n",
      "        [1.4238e+11],\n",
      "        [2.4256e+10],\n",
      "        [9.9775e+09],\n",
      "        [0.0000e+00],\n",
      "        [0.0000e+00],\n",
      "        [0.0000e+00],\n",
      "        [1.4763e+11],\n",
      "        [3.3066e+11],\n",
      "        [9.3116e+09],\n",
      "        [0.0000e+00],\n",
      "        [0.0000e+00]])}, 1: {'step': 6000, 'exp_avg': tensor([ 3.8946e+02,  0.0000e+00,  0.0000e+00,  5.6052e-45,  1.9953e+02,\n",
      "        -8.0688e+02,  4.7163e+02,  2.0104e+02,  0.0000e+00,  0.0000e+00,\n",
      "         5.6052e-45, -2.3568e+03, -1.2409e+03,  1.9438e+02,  0.0000e+00,\n",
      "         5.6052e-45]), 'exp_avg_sq': tensor([3.2896e+06, 0.0000e+00, 0.0000e+00, 6.0827e+00, 2.1217e+06, 3.1862e+07,\n",
      "        4.5085e+06, 2.1576e+06, 0.0000e+00, 0.0000e+00, 6.7008e-12, 1.0664e+08,\n",
      "        7.3869e+07, 2.0137e+06, 0.0000e+00, 4.3452e-09])}, 2: {'step': 6000, 'exp_avg': tensor([[ 5.8271e+03,  0.0000e+00,  0.0000e+00, -5.6052e-45,  1.8517e+04,\n",
      "         -2.6816e+02,  5.1527e+03,  1.7855e+04,  0.0000e+00,  0.0000e+00,\n",
      "          5.6052e-45, -3.8368e+02, -3.0490e+02,  1.8311e+04,  0.0000e+00,\n",
      "          5.6052e-45]]), 'exp_avg_sq': tensor([[1.0674e+09, 0.0000e+00, 0.0000e+00, 7.8760e+03, 6.3724e+09, 8.9297e+07,\n",
      "         5.9840e+08, 5.8711e+09, 0.0000e+00, 0.0000e+00, 1.1511e-10, 1.4873e+07,\n",
      "         8.3672e+07, 6.2335e+09, 0.0000e+00, 3.6128e-09]])}, 3: {'step': 6000, 'exp_avg': tensor([37.3642]), 'exp_avg_sq': tensor([74975.8750])}}\n",
      "param_groups \t [{'lr': 0.1, 'betas': (0.9, 0.999), 'eps': 1e-08, 'weight_decay': 0, 'amsgrad': False, 'params': [0, 1, 2, 3]}]\n"
     ]
    }
   ],
   "source": [
    "print(\"Optimizer's state_dict:\")\n",
    "for var_name in optimizer.state_dict():\n",
    "    print(var_name, \"\\t\", optimizer.state_dict()[var_name])"
   ]
  },
  {
   "cell_type": "code",
   "execution_count": 50,
   "metadata": {},
   "outputs": [],
   "source": [
    "torch.save({\n",
    "            'epoch': 1000,\n",
    "            'model_state_dict': model.state_dict(),\n",
    "            'optimizer_state_dict': optimizer.state_dict(),\n",
    "            'loss': loss,\n",
    "            }, r\"G:\\ML\\PYLearn\\jupyter\\log\\model.pth\")"
   ]
  },
  {
   "cell_type": "code",
   "execution_count": 52,
   "metadata": {},
   "outputs": [],
   "source": [
    "checkpoint = torch.load(r\"G:\\ML\\PYLearn\\jupyter\\log\\model.pth\")\n",
    "# checkpoint"
   ]
  },
  {
   "cell_type": "code",
   "execution_count": 53,
   "metadata": {},
   "outputs": [],
   "source": [
    "model.load_state_dict(checkpoint['model_state_dict'])\n",
    "optimizer.load_state_dict(checkpoint['optimizer_state_dict'])\n",
    "epoch = checkpoint['epoch']\n",
    "loss = checkpoint['loss']"
   ]
  },
  {
   "cell_type": "code",
   "execution_count": null,
   "metadata": {},
   "outputs": [],
   "source": []
  }
 ],
 "metadata": {
  "kernelspec": {
   "display_name": "Python 3",
   "language": "python",
   "name": "python3"
  },
  "language_info": {
   "codemirror_mode": {
    "name": "ipython",
    "version": 3
   },
   "file_extension": ".py",
   "mimetype": "text/x-python",
   "name": "python",
   "nbconvert_exporter": "python",
   "pygments_lexer": "ipython3",
   "version": "3.6.5"
  }
 },
 "nbformat": 4,
 "nbformat_minor": 2
}
