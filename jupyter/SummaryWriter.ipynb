{
 "cells": [
  {
   "cell_type": "code",
   "execution_count": 1,
   "metadata": {},
   "outputs": [],
   "source": [
    "from torch.utils.tensorboard import SummaryWriter"
   ]
  },
  {
   "cell_type": "code",
   "execution_count": 2,
   "metadata": {},
   "outputs": [],
   "source": [
    "import torch\n",
    "import numpy as np\n",
    "import random\n"
   ]
  },
  {
   "cell_type": "code",
   "execution_count": 3,
   "metadata": {},
   "outputs": [],
   "source": [
    "def y_data(tmp_x1,tmp_x2):\n",
    "    y = tmp_x1**2 +  2*tmp_x2\n",
    "    return y\n",
    "\n",
    "from torch.utils.data import Dataset\n",
    "from torch import  FloatTensor\n",
    "class UserDataset(Dataset):\n",
    "    def __init__(self, doc=\"dataset\"):\n",
    "        self.doc = doc\n",
    "        x1 = list(range(0,100,3))\n",
    "        self.x1 =  FloatTensor(x1).view(-1, 1)\n",
    "        x2 = list(range(0,100,3))\n",
    "        self.x2 =  FloatTensor(x2).view(-1, 1)\n",
    "        y = list(map(y_data,x1,x2))\n",
    "        self.y = FloatTensor(y).view(-1, 1)\n",
    " \n",
    "    def __getitem__(self,index):\n",
    "        return self.x1[index], self.x2[index],self.y[index]\n",
    "    \n",
    "    def __len__(self):\n",
    "        return len(self.x1)"
   ]
  },
  {
   "cell_type": "code",
   "execution_count": 4,
   "metadata": {},
   "outputs": [
    {
     "data": {
      "text/plain": [
       "<torch._C.Generator at 0x4c25ac8>"
      ]
     },
     "execution_count": 4,
     "metadata": {},
     "output_type": "execute_result"
    }
   ],
   "source": [
    "## 随机种子设置，每次执行后再训练模型可以得到相同loss\n",
    "random.seed(3407)\n",
    "np.random.seed(3407)\n",
    "torch.manual_seed(3407) "
   ]
  },
  {
   "cell_type": "code",
   "execution_count": 5,
   "metadata": {},
   "outputs": [],
   "source": [
    "from torch.utils.data import DataLoader\n",
    "user_dataset = UserDataset()\n",
    "user_loader = DataLoader(user_dataset, batch_size=32, shuffle=True)"
   ]
  },
  {
   "cell_type": "code",
   "execution_count": 6,
   "metadata": {},
   "outputs": [],
   "source": [
    "import torch.nn as nn\n",
    "class reg_model(nn.Module):\n",
    "    def __init__(self, in_dim, out_dim=1):\n",
    "        super(reg_model, self).__init__()\n",
    "        self.in_dim = in_dim\n",
    "        self.out_dim = out_dim\n",
    "#         self.model = nn.Sequential(nn.Linear(in_dim, 16), nn.ReLU(),nn.Linear(16, out_dim))\n",
    "        self.fc1 = nn.Linear(2, 16)\n",
    "        self.act   = nn.ReLU()\n",
    "        self.fc2 = nn.Linear(16, out_dim)\n",
    "        self.register_buffer('mean', torch.zeros(out_dim), persistent=False)\n",
    "        \n",
    "    def forward(self,x1, x2):\n",
    "#         y = self.model(x)\n",
    "        x = torch.cat((x1, x2), dim=1)\n",
    "        x = self.fc1(x)\n",
    "        x = self.act(x)\n",
    "        y = self.fc2(x) + self.mean\n",
    "        return y"
   ]
  },
  {
   "cell_type": "code",
   "execution_count": 36,
   "metadata": {},
   "outputs": [
    {
     "name": "stdout",
     "output_type": "stream",
     "text": [
      "fc1.weight \t tensor([[-0.2694,  0.1531],\n",
      "        [-0.2477,  0.0217],\n",
      "        [-0.6537, -0.0335],\n",
      "        [ 0.6686, -0.4134],\n",
      "        [ 0.1201,  0.5221],\n",
      "        [-0.5310, -0.0166],\n",
      "        [ 0.1456, -0.1204],\n",
      "        [ 0.1694,  0.5028],\n",
      "        [-0.2763, -0.2221],\n",
      "        [ 0.7702, -0.2230],\n",
      "        [-0.1797,  0.6505],\n",
      "        [ 0.0204,  0.3966],\n",
      "        [ 0.1710, -0.2726],\n",
      "        [ 0.6551,  0.6226],\n",
      "        [-0.0836, -0.1713],\n",
      "        [ 0.3487, -0.0654]])\n",
      "fc1.bias \t tensor([-0.1027,  0.4742, -0.1861,  0.4799,  0.2508, -0.3902, -0.5208, -0.2870,\n",
      "         0.3514,  0.1034, -0.4733,  0.8011, -0.3259, -0.1752, -0.6088,  0.5182])\n",
      "fc2.weight \t tensor([[-0.0543, -0.2161,  0.1235,  0.1782,  0.0935,  0.0568,  0.0259,  0.1301,\n",
      "         -0.0478,  0.2728,  0.3644,  0.3564,  0.0979,  0.3294, -0.1119,  0.2285]])\n",
      "fc2.bias \t tensor([0.2832])\n",
      "------------------loss------------------ 50134450.0\n",
      "fc1.weight \t tensor([[-0.2694,  0.1531],\n",
      "        [-0.2477,  0.0217],\n",
      "        [-0.6537, -0.0335],\n",
      "        [ 0.8202, -0.2618],\n",
      "        [ 0.1324,  0.5345],\n",
      "        [-0.5310, -0.0166],\n",
      "        [ 0.0207, -0.2453],\n",
      "        [ 0.2738,  0.6072],\n",
      "        [-0.2763, -0.2221],\n",
      "        [ 0.9401, -0.0532],\n",
      "        [-0.0076,  0.8227],\n",
      "        [ 0.1924,  0.5686],\n",
      "        [ 0.1710, -0.2726],\n",
      "        [ 0.8269,  0.7944],\n",
      "        [-0.0836, -0.1713],\n",
      "        [ 0.5050,  0.0909]])\n",
      "fc1.bias \t tensor([-0.1027,  0.5963, -0.1861,  0.6346,  0.2681, -0.3902, -0.6423, -0.1832,\n",
      "         0.3910,  0.2808, -0.2930,  0.9812, -0.3259,  0.0044, -0.6088,  0.6806])\n",
      "fc2.weight \t tensor([[-0.0543, -0.3476,  0.1235,  0.3613,  0.2642,  0.0568,  0.1704,  0.3055,\n",
      "         -0.1916,  0.4426,  0.5307,  0.5205,  0.0979,  0.5027, -0.1119,  0.3882]])\n",
      "fc2.bias \t tensor([0.4636])\n",
      "------------------loss------------------ 403828.16\n"
     ]
    }
   ],
   "source": [
    "from torch import optim\n",
    "import torch\n",
    "model = reg_model(1,1)\n",
    "criterior = nn.MSELoss()\n",
    "optimizer = optim.Adam(model.parameters(), lr=0.1)\n",
    "writer = SummaryWriter(log_dir=r\"G:\\ML\\PYLearn\\jupyter\\log\")\n",
    "for i in range(2):\n",
    "    for data in user_loader:\n",
    "        x1,x2, y = data\n",
    "        optimizer.zero_grad()\n",
    "        pred_y = model(x1,x2)\n",
    "        loss = criterior(pred_y, y)\n",
    "        loss.backward()\n",
    "        optimizer.step()\n",
    "    for param_tensor in model.state_dict():  # 字典的遍历默认是遍历 key，所以param_tensor实际上是键值\n",
    "        print(param_tensor, '\\t', model.state_dict()[param_tensor])\n",
    "    print(\"------------------loss------------------\", loss.detach().numpy())\n",
    "#         writer.add_scalar(\"train_loss\", loss,i)\n",
    "#     for name, parms in model.named_parameters(): \n",
    "#         print('-->name:', name, '-->grad_requirs:',parms, \\\n",
    "#          ' -->grad_value:',parms.grad)\n",
    "#     for param_tensor in model.state_dict():  # 字典的遍历默认是遍历 key，所以param_tensor实际上是键值\n",
    "#         print(param_tensor, '\\t', model.state_dict()[param_tensor])\n"
   ]
  },
  {
   "cell_type": "code",
   "execution_count": 8,
   "metadata": {},
   "outputs": [],
   "source": [
    "writer.add_graph(model, (x1,x2))\n",
    "writer.close()"
   ]
  },
  {
   "cell_type": "code",
   "execution_count": 9,
   "metadata": {},
   "outputs": [
    {
     "data": {
      "text/plain": [
       "OrderedDict([('fc1.weight', tensor([[ 0.4831,  0.4410],\n",
       "                      [-0.0554,  0.9087],\n",
       "                      [-0.4157, -0.2391],\n",
       "                      [ 0.5926,  0.3606],\n",
       "                      [ 0.1151, -0.4883],\n",
       "                      [ 0.0661, -0.4727],\n",
       "                      [-0.0869,  0.9922],\n",
       "                      [-0.3671,  0.1279],\n",
       "                      [ 0.8341,  0.3113],\n",
       "                      [ 0.1338, -0.3689],\n",
       "                      [ 0.6387,  0.2660],\n",
       "                      [ 0.1682,  0.8132],\n",
       "                      [ 0.3095,  0.7375],\n",
       "                      [-0.1231, -0.3312],\n",
       "                      [-0.3302, -0.3534],\n",
       "                      [-0.5844, -0.1470]])),\n",
       "             ('fc1.bias',\n",
       "              tensor([ 0.5340, -0.0266,  0.1758,  0.0018, -0.8335,  0.5722, -0.0641, -0.2288,\n",
       "                      -0.3111, -0.6204,  0.9452,  0.3559,  0.0180,  0.6714,  0.0464, -0.3840])),\n",
       "             ('fc2.weight',\n",
       "              tensor([[ 0.3667,  0.4421, -0.2800,  0.5677,  0.1789, -0.1990,  0.5096, -0.2069,\n",
       "                        0.4173,  0.0633,  0.5693,  0.4894,  0.5333, -0.3175, -0.1380,  0.0725]])),\n",
       "             ('fc2.bias', tensor([0.2913]))])"
      ]
     },
     "execution_count": 9,
     "metadata": {},
     "output_type": "execute_result"
    }
   ],
   "source": [
    "model.state_dict()"
   ]
  },
  {
   "cell_type": "code",
   "execution_count": null,
   "metadata": {},
   "outputs": [],
   "source": []
  },
  {
   "cell_type": "code",
   "execution_count": 13,
   "metadata": {},
   "outputs": [],
   "source": [
    "x = list(range(0,100))\n",
    "y = list(map(y_data, x,x))\n",
    "x = torch.unsqueeze(FloatTensor(x),dim=1)\n",
    "model.eval()\n",
    "with torch.no_grad():\n",
    "    pred_y = model(x, x)"
   ]
  },
  {
   "cell_type": "code",
   "execution_count": 20,
   "metadata": {},
   "outputs": [
    {
     "data": {
      "text/plain": [
       "torch.Size([100, 1])"
      ]
     },
     "execution_count": 20,
     "metadata": {},
     "output_type": "execute_result"
    }
   ],
   "source": [
    "x.shape"
   ]
  },
  {
   "cell_type": "code",
   "execution_count": 14,
   "metadata": {},
   "outputs": [
    {
     "data": {
      "text/plain": [
       "[<matplotlib.lines.Line2D at 0x62751ba8>]"
      ]
     },
     "execution_count": 14,
     "metadata": {},
     "output_type": "execute_result"
    },
    {
     "data": {
      "image/png": "[encoded data removed]",
      "text/plain": [
       "<Figure size 432x288 with 1 Axes>"
      ]
     },
     "metadata": {},
     "output_type": "display_data"
    }
   ],
   "source": [
    "import matplotlib.pyplot as plt\n",
    "plt.plot(x,y)\n",
    "plt.plot(x, pred_y.detach().numpy())"
   ]
  },
  {
   "cell_type": "code",
   "execution_count": 16,
   "metadata": {},
   "outputs": [
    {
     "data": {
      "text/plain": [
       "\u001b[1;31mInit signature:\u001b[0m \u001b[0mnn\u001b[0m\u001b[1;33m.\u001b[0m\u001b[0mParameter\u001b[0m\u001b[1;33m(\u001b[0m\u001b[0mdata\u001b[0m\u001b[1;33m=\u001b[0m\u001b[1;32mNone\u001b[0m\u001b[1;33m,\u001b[0m \u001b[0mrequires_grad\u001b[0m\u001b[1;33m=\u001b[0m\u001b[1;32mTrue\u001b[0m\u001b[1;33m)\u001b[0m\u001b[1;33m\u001b[0m\u001b[0m\n",
       "\u001b[1;31mDocstring:\u001b[0m     \n",
       "A kind of Tensor that is to be considered a module parameter.\n",
       "\n",
       "Parameters are :class:`~torch.Tensor` subclasses, that have a\n",
       "very special property when used with :class:`Module` s - when they're\n",
       "assigned as Module attributes they are automatically added to the list of\n",
       "its parameters, and will appear e.g. in :meth:`~Module.parameters` iterator.\n",
       "Assigning a Tensor doesn't have such effect. This is because one might\n",
       "want to cache some temporary state, like last hidden state of the RNN, in\n",
       "the model. If there was no such class as :class:`Parameter`, these\n",
       "temporaries would get registered too.\n",
       "\n",
       "Args:\n",
       "    data (Tensor): parameter tensor.\n",
       "    requires_grad (bool, optional): if the parameter requires gradient. See\n",
       "        :ref:`excluding-subgraphs` for more details. Default: `True`\n",
       "\u001b[1;31mFile:\u001b[0m           c:\\programdata\\anaconda3\\lib\\site-packages\\torch\\nn\\parameter.py\n",
       "\u001b[1;31mType:\u001b[0m           type\n"
      ]
     },
     "metadata": {},
     "output_type": "display_data"
    }
   ],
   "source": [
    "nn.Parameter?"
   ]
  },
  {
   "cell_type": "code",
   "execution_count": 28,
   "metadata": {},
   "outputs": [],
   "source": [
    "class model_cat(nn.Module):\n",
    "    def __init__(self, data, kpi_model,idx):\n",
    "        super(model_cat, self).__init__()\n",
    "        self.x = nn.Parameter(data, requires_grad=True)\n",
    "        self.idx = idx\n",
    "        self.model = kpi_model\n",
    "        \n",
    "    def forward(self, x, z):\n",
    "        out = self.model(self.x[self.idx,:], z)\n",
    "        return out"
   ]
  },
  {
   "cell_type": "code",
   "execution_count": 51,
   "metadata": {},
   "outputs": [
    {
     "name": "stdout",
     "output_type": "stream",
     "text": [
      "-----\n"
     ]
    }
   ],
   "source": [
    "tmp_data = torch.ones((200,1))\n",
    "cat_net = model_cat(tmp_data, model, np.arange(4, 104))\n",
    "optimizer = optim.Adam(params=[cat_net.x], lr=0.01)\n",
    "for i in range(100):\n",
    "    optimizer.zero_grad()\n",
    "    loss = cat_net(tmp_data, x).mean()\n",
    "    loss.backward()\n",
    "    \n",
    "#     print(cat_net.x.grad)\n",
    "    if i == 1:\n",
    "        print('-----')\n",
    "        optimizer.step()\n",
    "    cat_net.x.grad = torch.ones((200,1))\n",
    "    optimizer.step()\n",
    "#     print(cat_net.x.grad)"
   ]
  },
  {
   "cell_type": "code",
   "execution_count": 47,
   "metadata": {},
   "outputs": [
    {
     "name": "stdout",
     "output_type": "stream",
     "text": [
      "Model's state_dict:\n",
      "fc1.weight \t torch.Size([16, 1])\n",
      "fc1.bias \t torch.Size([16])\n",
      "fc2.weight \t torch.Size([1, 16])\n",
      "fc2.bias \t torch.Size([1])\n"
     ]
    }
   ],
   "source": [
    "print(\"Model's state_dict:\")\n",
    "for param_tensor in model.state_dict():\n",
    "    print(param_tensor, \"\\t\", model.state_dict()[param_tensor].size())"
   ]
  },
  {
   "cell_type": "code",
   "execution_count": 49,
   "metadata": {},
   "outputs": [
    {
     "data": {
      "text/plain": [
       "\u001b[1;31mSignature:\u001b[0m \u001b[0moptimizer\u001b[0m\u001b[1;33m.\u001b[0m\u001b[0mstate_dict\u001b[0m\u001b[1;33m(\u001b[0m\u001b[1;33m)\u001b[0m\u001b[1;33m\u001b[0m\u001b[0m\n",
       "\u001b[1;31mDocstring:\u001b[0m\n",
       "Returns the state of the optimizer as a :class:`dict`.\n",
       "\n",
       "It contains two entries:\n",
       "\n",
       "* state - a dict holding current optimization state. Its content\n",
       "    differs between optimizer classes.\n",
       "* param_groups - a dict containing all parameter groups\n",
       "\u001b[1;31mFile:\u001b[0m      c:\\programdata\\anaconda3\\lib\\site-packages\\torch\\optim\\optimizer.py\n",
       "\u001b[1;31mType:\u001b[0m      method\n"
      ]
     },
     "metadata": {},
     "output_type": "display_data"
    }
   ],
   "source": [
    "optimizer.state_dict?"
   ]
  },
  {
   "cell_type": "code",
   "execution_count": 48,
   "metadata": {},
   "outputs": [
    {
     "name": "stdout",
     "output_type": "stream",
     "text": [
      "Optimizer's state_dict:\n",
      "state \t {0: {'step': 6000, 'exp_avg': tensor([[ 3.4952e+04],\n",
      "        [ 0.0000e+00],\n",
      "        [ 0.0000e+00],\n",
      "        [ 5.6052e-45],\n",
      "        [ 2.2232e+04],\n",
      "        [-8.6573e+04],\n",
      "        [ 4.2950e+04],\n",
      "        [ 2.2401e+04],\n",
      "        [ 0.0000e+00],\n",
      "        [ 0.0000e+00],\n",
      "        [ 0.0000e+00],\n",
      "        [-1.0213e+05],\n",
      "        [-1.3310e+05],\n",
      "        [ 2.1657e+04],\n",
      "        [ 0.0000e+00],\n",
      "        [ 0.0000e+00]]), 'exp_avg_sq': tensor([[1.7020e+10],\n",
      "        [0.0000e+00],\n",
      "        [0.0000e+00],\n",
      "        [3.4815e+04],\n",
      "        [9.8124e+09],\n",
      "        [1.4238e+11],\n",
      "        [2.4256e+10],\n",
      "        [9.9775e+09],\n",
      "        [0.0000e+00],\n",
      "        [0.0000e+00],\n",
      "        [0.0000e+00],\n",
      "        [1.4763e+11],\n",
      "        [3.3066e+11],\n",
      "        [9.3116e+09],\n",
      "        [0.0000e+00],\n",
      "        [0.0000e+00]])}, 1: {'step': 6000, 'exp_avg': tensor([ 3.8946e+02,  0.0000e+00,  0.0000e+00,  5.6052e-45,  1.9953e+02,\n",
      "        -8.0688e+02,  4.7163e+02,  2.0104e+02,  0.0000e+00,  0.0000e+00,\n",
      "         5.6052e-45, -2.3568e+03, -1.2409e+03,  1.9438e+02,  0.0000e+00,\n",
      "         5.6052e-45]), 'exp_avg_sq': tensor([3.2896e+06, 0.0000e+00, 0.0000e+00, 6.0827e+00, 2.1217e+06, 3.1862e+07,\n",
      "        4.5085e+06, 2.1576e+06, 0.0000e+00, 0.0000e+00, 6.7008e-12, 1.0664e+08,\n",
      "        7.3869e+07, 2.0137e+06, 0.0000e+00, 4.3452e-09])}, 2: {'step': 6000, 'exp_avg': tensor([[ 5.8271e+03,  0.0000e+00,  0.0000e+00, -5.6052e-45,  1.8517e+04,\n",
      "         -2.6816e+02,  5.1527e+03,  1.7855e+04,  0.0000e+00,  0.0000e+00,\n",
      "          5.6052e-45, -3.8368e+02, -3.0490e+02,  1.8311e+04,  0.0000e+00,\n",
      "          5.6052e-45]]), 'exp_avg_sq': tensor([[1.0674e+09, 0.0000e+00, 0.0000e+00, 7.8760e+03, 6.3724e+09, 8.9297e+07,\n",
      "         5.9840e+08, 5.8711e+09, 0.0000e+00, 0.0000e+00, 1.1511e-10, 1.4873e+07,\n",
      "         8.3672e+07, 6.2335e+09, 0.0000e+00, 3.6128e-09]])}, 3: {'step': 6000, 'exp_avg': tensor([37.3642]), 'exp_avg_sq': tensor([74975.8750])}}\n",
      "param_groups \t [{'lr': 0.1, 'betas': (0.9, 0.999), 'eps': 1e-08, 'weight_decay': 0, 'amsgrad': False, 'params': [0, 1, 2, 3]}]\n"
     ]
    }
   ],
   "source": [
    "print(\"Optimizer's state_dict:\")\n",
    "for var_name in optimizer.state_dict():\n",
    "    print(var_name, \"\\t\", optimizer.state_dict()[var_name])"
   ]
  },
  {
   "cell_type": "code",
   "execution_count": 50,
   "metadata": {},
   "outputs": [],
   "source": [
    "torch.save({\n",
    "            'epoch': 1000,\n",
    "            'model_state_dict': model.state_dict(),\n",
    "            'optimizer_state_dict': optimizer.state_dict(),\n",
    "            'loss': loss,\n",
    "            }, r\"G:\\ML\\PYLearn\\jupyter\\log\\model.pth\")"
   ]
  },
  {
   "cell_type": "code",
   "execution_count": 52,
   "metadata": {},
   "outputs": [],
   "source": [
    "checkpoint = torch.load(r\"G:\\ML\\PYLearn\\jupyter\\log\\model.pth\")\n",
    "# checkpoint"
   ]
  },
  {
   "cell_type": "code",
   "execution_count": 53,
   "metadata": {},
   "outputs": [],
   "source": [
    "model.load_state_dict(checkpoint['model_state_dict'])\n",
    "optimizer.load_state_dict(checkpoint['optimizer_state_dict'])\n",
    "epoch = checkpoint['epoch']\n",
    "loss = checkpoint['loss']"
   ]
  },
  {
   "cell_type": "code",
   "execution_count": 42,
   "metadata": {},
   "outputs": [
    {
     "data": {
      "text/plain": [
       "[('fc1.weight', Parameter containing:\n",
       "  tensor([[ 0.8607],\n",
       "          [-0.4612],\n",
       "          [ 1.1627],\n",
       "          [ 0.6596],\n",
       "          [-0.1963],\n",
       "          [-0.2116],\n",
       "          [-0.9390],\n",
       "          [-0.6986],\n",
       "          [ 1.1903],\n",
       "          [-0.2990],\n",
       "          [-0.2648],\n",
       "          [ 1.0166],\n",
       "          [ 0.5990],\n",
       "          [ 0.3458],\n",
       "          [ 1.3209],\n",
       "          [-0.2365]], requires_grad=True)), ('fc1.bias', Parameter containing:\n",
       "  tensor([-0.5419, -0.1460,  1.1332, -0.5549, -1.1715, -0.0499,  0.4957, -0.0812,\n",
       "           0.3717, -0.2156, -0.5980,  0.3973, -0.7329, -0.0947,  0.6900, -0.8912],\n",
       "         requires_grad=True)), ('fc2.weight', Parameter containing:\n",
       "  tensor([[ 0.3370, -0.0976,  0.4735,  0.1556,  0.1632,  0.1524, -0.1927,  0.1632,\n",
       "            0.4725,  0.0417, -0.0498,  0.3723,  0.1891,  0.3840,  0.5329,  0.0873]],\n",
       "         requires_grad=True)), ('fc2.bias', Parameter containing:\n",
       "  tensor([0.3488], requires_grad=True))]"
      ]
     },
     "execution_count": 42,
     "metadata": {},
     "output_type": "execute_result"
    }
   ],
   "source": [
    "list(model.named_parameters())"
   ]
  },
  {
   "cell_type": "code",
   "execution_count": 31,
   "metadata": {},
   "outputs": [
    {
     "data": {
      "text/plain": [
       "[Parameter containing:\n",
       " tensor([[ 0.8607],\n",
       "         [-0.4612],\n",
       "         [ 1.1627],\n",
       "         [ 0.6596],\n",
       "         [-0.1963],\n",
       "         [-0.2116],\n",
       "         [-0.9390],\n",
       "         [-0.6986],\n",
       "         [ 1.1903],\n",
       "         [-0.2990],\n",
       "         [-0.2648],\n",
       "         [ 1.0166],\n",
       "         [ 0.5990],\n",
       "         [ 0.3458],\n",
       "         [ 1.3209],\n",
       "         [-0.2365]], requires_grad=True), Parameter containing:\n",
       " tensor([-0.5419, -0.1460,  1.1332, -0.5549, -1.1715, -0.0499,  0.4957, -0.0812,\n",
       "          0.3717, -0.2156, -0.5980,  0.3973, -0.7329, -0.0947,  0.6900, -0.8912],\n",
       "        requires_grad=True), Parameter containing:\n",
       " tensor([[ 0.3370, -0.0976,  0.4735,  0.1556,  0.1632,  0.1524, -0.1927,  0.1632,\n",
       "           0.4725,  0.0417, -0.0498,  0.3723,  0.1891,  0.3840,  0.5329,  0.0873]],\n",
       "        requires_grad=True), Parameter containing:\n",
       " tensor([0.3488], requires_grad=True)]"
      ]
     },
     "execution_count": 31,
     "metadata": {},
     "output_type": "execute_result"
    }
   ],
   "source": [
    "list(model.parameters())"
   ]
  },
  {
   "cell_type": "markdown",
   "metadata": {},
   "source": [
    "### profiler to analyze the execution time"
   ]
  },
  {
   "cell_type": "code",
   "execution_count": null,
   "metadata": {},
   "outputs": [],
   "source": [
    "from torch.profiler import profile, record_function, ProfilerActivity\n",
    "with profile(activities=[ProfilerActivity.CPU], record_shapes=True) as prof:\n",
    "    with record_function(\"model_inference\"):\n",
    "        model(x)"
   ]
  },
  {
   "cell_type": "markdown",
   "metadata": {},
   "source": [
    "## GAN 模型定义"
   ]
  },
  {
   "cell_type": "code",
   "execution_count": 183,
   "metadata": {},
   "outputs": [],
   "source": [
    "class Generator(nn.Module):\n",
    "    def __init__(self, ngpu):\n",
    "        super(Generator, self).__init__()\n",
    "        self.ngpu = ngpu\n",
    "        self.main = nn.Sequential(\n",
    "        nn.ConvTranspose2d(nz, ngf * 8, 4, 1, 0, bias=False),\n",
    "        nn.BatchNorm2d(ngf*8),\n",
    "        nn.ReLU(True),\n",
    "        # state size. ``(ngf*8) x 4 x 4``\n",
    "        nn.ConvTranspose2d(ngf * 8, ngf * 4, 4, 2, 1, bias=False),\n",
    "        nn.BatchNorm2d(ngf * 4),\n",
    "        nn.ReLU(True),\n",
    "        # state size. ``(ngf*4) x 8 x 8``\n",
    "        nn.ConvTranspose2d( ngf * 4, ngf * 2, 4, 2, 1, bias=False),\n",
    "        nn.BatchNorm2d(ngf * 2),\n",
    "        nn.ReLU(True),\n",
    "        # state size. ``(ngf*2) x 16 x 16``\n",
    "        nn.ConvTranspose2d( ngf * 2, ngf, 4, 2, 1, bias=False),\n",
    "        nn.BatchNorm2d(ngf),\n",
    "        nn.ReLU(True),\n",
    "        # state size. ``(ngf) x 32 x 32``\n",
    "        nn.ConvTranspose2d( ngf, nc, 4, 2, 1, bias=False),\n",
    "        nn.Tanh()\n",
    "        )\n",
    "    \n",
    "    def forward(self, input):\n",
    "        return self.main(input)"
   ]
  },
  {
   "cell_type": "code",
   "execution_count": null,
   "metadata": {},
   "outputs": [],
   "source": [
    "ngpu = 1\n",
    "netG = Generator(ngpu).to(device)\n",
    "\n",
    "# Handle multi-GPU if desired\n",
    "if (device.type == 'cuda') and (ngpu > 1):\n",
    "    netG = nn.DataParallel(netG, list(range(ngpu)))\n",
    "\n",
    "# Apply the ``weights_init`` function to randomly initialize all weights\n",
    "#  to ``mean=0``, ``stdev=0.02``.\n",
    "netG.apply(weights_init)\n",
    "\n",
    "# Print the model\n",
    "print(netG)"
   ]
  },
  {
   "cell_type": "code",
   "execution_count": null,
   "metadata": {},
   "outputs": [],
   "source": []
  }
 ],
 "metadata": {
  "kernelspec": {
   "display_name": "Python 3",
   "language": "python",
   "name": "python3"
  },
  "language_info": {
   "codemirror_mode": {
    "name": "ipython",
    "version": 3
   },
   "file_extension": ".py",
   "mimetype": "text/x-python",
   "name": "python",
   "nbconvert_exporter": "python",
   "pygments_lexer": "ipython3",
   "version": "3.6.5"
  }
 },
 "nbformat": 4,
 "nbformat_minor": 2
}
