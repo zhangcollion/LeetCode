{
 "cells": [
  {
   "cell_type": "code",
   "execution_count": 2,
   "metadata": {},
   "outputs": [],
   "source": [
    "from torch.utils.tensorboard import SummaryWriter"
   ]
  },
  {
   "cell_type": "code",
   "execution_count": 5,
   "metadata": {},
   "outputs": [],
   "source": [
    "import numpy as np\n",
    "r = 6\n",
    "writer = SummaryWriter(log_dir=r\"G:\\ML\\PYLearn\\jupyter\\log\")\n",
    "for i in range(100):\n",
    "    writer.add_scalar(\"y=x\", i**2, i)\n",
    "    writer.add_scalars(\"y\", {'xsinx':i*np.sin(i/r),\n",
    "                            'xcosx':i*np.cos(i/r)},i)\n",
    "writer.close()"
   ]
  },
  {
   "cell_type": "code",
   "execution_count": 98,
   "metadata": {},
   "outputs": [],
   "source": [
    "def y_data(tmp_x):\n",
    "    y = tmp_x**2 \n",
    "    return y\n",
    "\n",
    "from torch.utils.data import Dataset\n",
    "from torch import  FloatTensor\n",
    "class UserDataset(Dataset):\n",
    "    def __init__(self, doc=\"dataset\"):\n",
    "        self.doc = doc\n",
    "        x = list(range(0,100,3))\n",
    "        self.x = torch.unsqueeze(FloatTensor(x), dim=1)\n",
    "        y = list(map(y_data,x))\n",
    "        self.y = torch.unsqueeze(FloatTensor(y), dim=1)\n",
    " \n",
    "    def __getitem__(self,index):\n",
    "        return self.x[index], self.y[index]\n",
    "    \n",
    "    def __len__(self):\n",
    "        return len(self.x)"
   ]
  },
  {
   "cell_type": "code",
   "execution_count": 99,
   "metadata": {},
   "outputs": [],
   "source": [
    "from torch.utils.data import DataLoader\n",
    "user_dataset = UserDataset()\n",
    "user_loader = DataLoader(user_dataset, batch_size=32, shuffle=True)"
   ]
  },
  {
   "cell_type": "code",
   "execution_count": 100,
   "metadata": {},
   "outputs": [],
   "source": [
    "import torch.nn as nn\n",
    "class reg_model(nn.Module):\n",
    "    def __init__(self, in_dim, out_dim=1):\n",
    "        super(reg_model, self).__init__()\n",
    "        self.in_dim = in_dim\n",
    "        self.out_dim = out_dim\n",
    "        self.model = nn.Sequential(nn.Linear(in_dim, 16),nn.ReLU(),nn.Linear(16, out_dim))\n",
    "        \n",
    "    def forward(self,x):\n",
    "        y = self.model(x)\n",
    "        return y"
   ]
  },
  {
   "cell_type": "code",
   "execution_count": 110,
   "metadata": {},
   "outputs": [],
   "source": [
    "from torch import optim\n",
    "import torch\n",
    "model = reg_model(1,1)\n",
    "criterior = nn.MSELoss()\n",
    "optimizer = optim.Adam(model.parameters(), lr=0.1)\n",
    "writer = SummaryWriter(log_dir=r\"G:\\ML\\PYLearn\\jupyter\\log\")\n",
    "for i in range(3000):\n",
    "    for x, y in user_loader:\n",
    "        optimizer.zero_grad()\n",
    "        pred_y = model(x)\n",
    "        loss = criterior(pred_y, y)\n",
    "        loss.backward()\n",
    "        optimizer.step()\n",
    "        writer.add_scalar(\"train_loss\", loss,i)\n",
    "#     print(f\"{i} loss is {loss}\")"
   ]
  },
  {
   "cell_type": "code",
   "execution_count": 115,
   "metadata": {},
   "outputs": [],
   "source": [
    "x = list(range(0,100))\n",
    "y = list(map(y_data, x))\n",
    "x = torch.unsqueeze(FloatTensor(x),dim=1)\n",
    "model.eval()\n",
    "with torch.no_grad():\n",
    "    pred_y = model(x)"
   ]
  },
  {
   "cell_type": "code",
   "execution_count": 116,
   "metadata": {},
   "outputs": [
    {
     "data": {
      "text/plain": [
       "[<matplotlib.lines.Line2D at 0x6434c5f8>]"
      ]
     },
     "execution_count": 116,
     "metadata": {},
     "output_type": "execute_result"
    },
    {
     "data": {
      "image/png": "[encoded data removed]",
      "text/plain": [
       "<Figure size 432x288 with 1 Axes>"
      ]
     },
     "metadata": {},
     "output_type": "display_data"
    }
   ],
   "source": [
    "import matplotlib.pyplot as plt\n",
    "plt.plot(x,y)\n",
    "plt.plot(x, pred_y.detach().numpy())"
   ]
  },
  {
   "cell_type": "code",
   "execution_count": null,
   "metadata": {},
   "outputs": [],
   "source": []
  },
  {
   "cell_type": "markdown",
   "metadata": {},
   "source": []
  },
  {
   "cell_type": "code",
   "execution_count": null,
   "metadata": {},
   "outputs": [],
   "source": []
  }
 ],
 "metadata": {
  "kernelspec": {
   "display_name": "Python 3",
   "language": "python",
   "name": "python3"
  },
  "language_info": {
   "codemirror_mode": {
    "name": "ipython",
    "version": 3
   },
   "file_extension": ".py",
   "mimetype": "text/x-python",
   "name": "python",
   "nbconvert_exporter": "python",
   "pygments_lexer": "ipython3",
   "version": "3.6.5"
  }
 },
 "nbformat": 4,
 "nbformat_minor": 2
}
