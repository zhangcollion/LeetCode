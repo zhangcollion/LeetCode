{
 "cells": [
  {
   "cell_type": "code",
   "execution_count": 1,
   "metadata": {},
   "outputs": [],
   "source": [
    "from torch.utils.tensorboard import SummaryWriter"
   ]
  },
  {
   "cell_type": "code",
   "execution_count": 56,
   "metadata": {},
   "outputs": [],
   "source": [
    "import torch\n",
    "import numpy as np\n",
    "import random\n"
   ]
  },
  {
   "cell_type": "code",
   "execution_count": 156,
   "metadata": {},
   "outputs": [],
   "source": [
    "def y_data(tmp_x1,tmp_x2):\n",
    "    y = tmp_x1**2 +  2*tmp_x2\n",
    "    return y\n",
    "\n",
    "from torch.utils.data import Dataset\n",
    "from torch import  FloatTensor\n",
    "class UserDataset(Dataset):\n",
    "    def __init__(self, doc=\"dataset\"):\n",
    "        self.doc = doc\n",
    "        x1 = list(range(0,100,3))\n",
    "        self.x1 =  FloatTensor(x1).view(-1, 1)\n",
    "        x2 = list(range(0,100,3))\n",
    "        self.x2 =  FloatTensor(x2).view(-1, 1)\n",
    "        y = list(map(y_data,x1,x2))\n",
    "        self.y = FloatTensor(y).view(-1, 1)\n",
    " \n",
    "    def __getitem__(self,index):\n",
    "        return self.x1[index], self.x2[index],self.y[index]\n",
    "    \n",
    "    def __len__(self):\n",
    "        return len(self.x1)"
   ]
  },
  {
   "cell_type": "code",
   "execution_count": 157,
   "metadata": {},
   "outputs": [
    {
     "data": {
      "text/plain": [
       "<torch._C.Generator at 0x4ab4ac8>"
      ]
     },
     "execution_count": 157,
     "metadata": {},
     "output_type": "execute_result"
    }
   ],
   "source": [
    "## 随机种子设置，每次执行后再训练模型可以得到相同loss\n",
    "random.seed(3407)\n",
    "np.random.seed(3407)\n",
    "torch.manual_seed(3407) "
   ]
  },
  {
   "cell_type": "code",
   "execution_count": 158,
   "metadata": {},
   "outputs": [],
   "source": [
    "from torch.utils.data import DataLoader\n",
    "user_dataset = UserDataset()\n",
    "user_loader = DataLoader(user_dataset, batch_size=32, shuffle=True)"
   ]
  },
  {
   "cell_type": "code",
   "execution_count": 165,
   "metadata": {},
   "outputs": [],
   "source": [
    "import torch.nn as nn\n",
    "class reg_model(nn.Module):\n",
    "    def __init__(self, in_dim, out_dim=1):\n",
    "        super(reg_model, self).__init__()\n",
    "        self.in_dim = in_dim\n",
    "        self.out_dim = out_dim\n",
    "#         self.model = nn.Sequential(nn.Linear(in_dim, 16), nn.ReLU(),nn.Linear(16, out_dim))\n",
    "        self.fc1 = nn.Linear(2, 16)\n",
    "        self.act   = nn.ReLU()\n",
    "        self.fc2 = nn.Linear(16, out_dim)\n",
    "        \n",
    "    def forward(self,x1, x2):\n",
    "#         y = self.model(x)\n",
    "        x = torch.cat((x1, x2), dim=1)\n",
    "        x = self.fc1(x)\n",
    "        x = self.act(x)\n",
    "        y = self.fc2(x)\n",
    "        return y"
   ]
  },
  {
   "cell_type": "code",
   "execution_count": 166,
   "metadata": {},
   "outputs": [
    {
     "name": "stdout",
     "output_type": "stream",
     "text": [
      "fc1.weight \t tensor([[ 0.8051,  0.1852],\n",
      "        [-0.0143, -0.3706],\n",
      "        [-0.1658, -0.3697],\n",
      "        [ 0.6931,  0.6699],\n",
      "        [ 0.3553, -0.4148],\n",
      "        [-0.2873,  0.4085],\n",
      "        [ 0.1995,  0.1925],\n",
      "        [-0.5107,  0.3811],\n",
      "        [ 0.0084, -0.5999],\n",
      "        [ 0.2814, -0.5011],\n",
      "        [-0.6948,  0.1882],\n",
      "        [-0.3664, -0.5535],\n",
      "        [-0.4561, -0.3076],\n",
      "        [-0.2097, -0.0670],\n",
      "        [ 0.7477, -0.2340],\n",
      "        [ 0.4823,  0.3632]])\n",
      "fc1.bias \t tensor([-0.1198,  0.1345,  0.7177, -0.1140, -0.0241,  0.4484,  0.3944,  0.1241,\n",
      "         0.3743, -0.7536, -0.5818, -0.2338,  0.3501,  0.2542,  0.3910,  0.8832])\n",
      "fc2.weight \t tensor([[ 0.3047,  0.0881,  0.2861,  0.3448,  0.0718, -0.0197,  0.1823,  0.0657,\n",
      "          0.3191, -0.0576, -0.1064,  0.0898,  0.2028,  0.4001,  0.3158,  0.2984]])\n",
      "fc2.bias \t tensor([0.0565])\n",
      "------------------loss------------------ 29547948.0\n",
      "fc1.weight \t tensor([[ 0.9989,  0.3789],\n",
      "        [-0.1085, -0.4649],\n",
      "        [-0.1658, -0.3697],\n",
      "        [ 0.8885,  0.8653],\n",
      "        [ 0.3553, -0.4148],\n",
      "        [-0.4333,  0.2625],\n",
      "        [ 0.3676,  0.3606],\n",
      "        [-0.6187,  0.2731],\n",
      "        [ 0.0084, -0.5999],\n",
      "        [ 0.1871, -0.5954],\n",
      "        [-0.6948,  0.1882],\n",
      "        [-0.3664, -0.5535],\n",
      "        [-0.4561, -0.3076],\n",
      "        [-0.2097, -0.0670],\n",
      "        [ 0.9424, -0.0392],\n",
      "        [ 0.6758,  0.5566]])\n",
      "fc1.bias \t tensor([ 0.0747,  0.0318,  0.6067,  0.0826, -0.0241,  0.3046,  0.5603,  0.0179,\n",
      "         0.2640, -0.8479, -0.5818, -0.2338,  0.2361,  0.1453,  0.5869,  1.0772])\n",
      "fc2.weight \t tensor([[ 0.5020,  0.1750,  0.1796,  0.5422,  0.0718,  0.1389,  0.3799,  0.1746,\n",
      "          0.2098,  0.0366, -0.1064,  0.0898,  0.0931,  0.2881,  0.5059,  0.4955]])\n",
      "fc2.bias \t tensor([0.2541])\n",
      "------------------loss------------------ 11417541.0\n"
     ]
    }
   ],
   "source": [
    "from torch import optim\n",
    "import torch\n",
    "model = reg_model(1,1)\n",
    "criterior = nn.MSELoss()\n",
    "optimizer = optim.Adam(model.parameters(), lr=0.1)\n",
    "writer = SummaryWriter(log_dir=r\"G:\\ML\\PYLearn\\jupyter\\log\")\n",
    "for i in range(2):\n",
    "    for data in user_loader:\n",
    "        x1,x2, y = data\n",
    "        optimizer.zero_grad()\n",
    "        pred_y = model(x1,x2)\n",
    "        loss = criterior(pred_y, y)\n",
    "        loss.backward()\n",
    "        optimizer.step()\n",
    "    for param_tensor in model.state_dict():  # 字典的遍历默认是遍历 key，所以param_tensor实际上是键值\n",
    "        print(param_tensor, '\\t', model.state_dict()[param_tensor])\n",
    "    print(\"------------------loss------------------\", loss.detach().numpy())\n",
    "#         writer.add_scalar(\"train_loss\", loss,i)\n",
    "#     for name, parms in model.named_parameters(): \n",
    "#         print('-->name:', name, '-->grad_requirs:',parms, \\\n",
    "#          ' -->grad_value:',parms.grad)\n",
    "#     for param_tensor in model.state_dict():  # 字典的遍历默认是遍历 key，所以param_tensor实际上是键值\n",
    "#         print(param_tensor, '\\t', model.state_dict()[param_tensor])\n"
   ]
  },
  {
   "cell_type": "code",
   "execution_count": 168,
   "metadata": {},
   "outputs": [],
   "source": [
    "writer.add_graph(model, (x1,x2))\n",
    "writer.close()"
   ]
  },
  {
   "cell_type": "code",
   "execution_count": 21,
   "metadata": {},
   "outputs": [
    {
     "data": {
      "text/plain": [
       "odict_keys(['fc1.weight', 'fc1.bias', 'fc2.weight', 'fc2.bias'])"
      ]
     },
     "execution_count": 21,
     "metadata": {},
     "output_type": "execute_result"
    }
   ],
   "source": [
    "model.state_dict().keys"
   ]
  },
  {
   "cell_type": "code",
   "execution_count": 40,
   "metadata": {},
   "outputs": [],
   "source": [
    "x = list(range(0,100))\n",
    "y = list(map(y_data, x))\n",
    "x = torch.unsqueeze(FloatTensor(x),dim=1)\n",
    "model.eval()\n",
    "with torch.no_grad():\n",
    "    pred_y = model(x)"
   ]
  },
  {
   "cell_type": "code",
   "execution_count": 41,
   "metadata": {},
   "outputs": [
    {
     "data": {
      "text/plain": [
       "[<matplotlib.lines.Line2D at 0x1c092d30>]"
      ]
     },
     "execution_count": 41,
     "metadata": {},
     "output_type": "execute_result"
    },
    {
     "data": {
      "image/png": "[encoded data removed]",
      "text/plain": [
       "<Figure size 432x288 with 1 Axes>"
      ]
     },
     "metadata": {},
     "output_type": "display_data"
    }
   ],
   "source": [
    "import matplotlib.pyplot as plt\n",
    "plt.plot(x,y)\n",
    "plt.plot(x, pred_y.detach().numpy())"
   ]
  },
  {
   "cell_type": "code",
   "execution_count": 47,
   "metadata": {},
   "outputs": [
    {
     "name": "stdout",
     "output_type": "stream",
     "text": [
      "Model's state_dict:\n",
      "fc1.weight \t torch.Size([16, 1])\n",
      "fc1.bias \t torch.Size([16])\n",
      "fc2.weight \t torch.Size([1, 16])\n",
      "fc2.bias \t torch.Size([1])\n"
     ]
    }
   ],
   "source": [
    "print(\"Model's state_dict:\")\n",
    "for param_tensor in model.state_dict():\n",
    "    print(param_tensor, \"\\t\", model.state_dict()[param_tensor].size())"
   ]
  },
  {
   "cell_type": "code",
   "execution_count": 49,
   "metadata": {},
   "outputs": [
    {
     "data": {
      "text/plain": [
       "\u001b[1;31mSignature:\u001b[0m \u001b[0moptimizer\u001b[0m\u001b[1;33m.\u001b[0m\u001b[0mstate_dict\u001b[0m\u001b[1;33m(\u001b[0m\u001b[1;33m)\u001b[0m\u001b[1;33m\u001b[0m\u001b[0m\n",
       "\u001b[1;31mDocstring:\u001b[0m\n",
       "Returns the state of the optimizer as a :class:`dict`.\n",
       "\n",
       "It contains two entries:\n",
       "\n",
       "* state - a dict holding current optimization state. Its content\n",
       "    differs between optimizer classes.\n",
       "* param_groups - a dict containing all parameter groups\n",
       "\u001b[1;31mFile:\u001b[0m      c:\\programdata\\anaconda3\\lib\\site-packages\\torch\\optim\\optimizer.py\n",
       "\u001b[1;31mType:\u001b[0m      method\n"
      ]
     },
     "metadata": {},
     "output_type": "display_data"
    }
   ],
   "source": [
    "optimizer.state_dict?"
   ]
  },
  {
   "cell_type": "code",
   "execution_count": 48,
   "metadata": {},
   "outputs": [
    {
     "name": "stdout",
     "output_type": "stream",
     "text": [
      "Optimizer's state_dict:\n",
      "state \t {0: {'step': 6000, 'exp_avg': tensor([[ 3.4952e+04],\n",
      "        [ 0.0000e+00],\n",
      "        [ 0.0000e+00],\n",
      "        [ 5.6052e-45],\n",
      "        [ 2.2232e+04],\n",
      "        [-8.6573e+04],\n",
      "        [ 4.2950e+04],\n",
      "        [ 2.2401e+04],\n",
      "        [ 0.0000e+00],\n",
      "        [ 0.0000e+00],\n",
      "        [ 0.0000e+00],\n",
      "        [-1.0213e+05],\n",
      "        [-1.3310e+05],\n",
      "        [ 2.1657e+04],\n",
      "        [ 0.0000e+00],\n",
      "        [ 0.0000e+00]]), 'exp_avg_sq': tensor([[1.7020e+10],\n",
      "        [0.0000e+00],\n",
      "        [0.0000e+00],\n",
      "        [3.4815e+04],\n",
      "        [9.8124e+09],\n",
      "        [1.4238e+11],\n",
      "        [2.4256e+10],\n",
      "        [9.9775e+09],\n",
      "        [0.0000e+00],\n",
      "        [0.0000e+00],\n",
      "        [0.0000e+00],\n",
      "        [1.4763e+11],\n",
      "        [3.3066e+11],\n",
      "        [9.3116e+09],\n",
      "        [0.0000e+00],\n",
      "        [0.0000e+00]])}, 1: {'step': 6000, 'exp_avg': tensor([ 3.8946e+02,  0.0000e+00,  0.0000e+00,  5.6052e-45,  1.9953e+02,\n",
      "        -8.0688e+02,  4.7163e+02,  2.0104e+02,  0.0000e+00,  0.0000e+00,\n",
      "         5.6052e-45, -2.3568e+03, -1.2409e+03,  1.9438e+02,  0.0000e+00,\n",
      "         5.6052e-45]), 'exp_avg_sq': tensor([3.2896e+06, 0.0000e+00, 0.0000e+00, 6.0827e+00, 2.1217e+06, 3.1862e+07,\n",
      "        4.5085e+06, 2.1576e+06, 0.0000e+00, 0.0000e+00, 6.7008e-12, 1.0664e+08,\n",
      "        7.3869e+07, 2.0137e+06, 0.0000e+00, 4.3452e-09])}, 2: {'step': 6000, 'exp_avg': tensor([[ 5.8271e+03,  0.0000e+00,  0.0000e+00, -5.6052e-45,  1.8517e+04,\n",
      "         -2.6816e+02,  5.1527e+03,  1.7855e+04,  0.0000e+00,  0.0000e+00,\n",
      "          5.6052e-45, -3.8368e+02, -3.0490e+02,  1.8311e+04,  0.0000e+00,\n",
      "          5.6052e-45]]), 'exp_avg_sq': tensor([[1.0674e+09, 0.0000e+00, 0.0000e+00, 7.8760e+03, 6.3724e+09, 8.9297e+07,\n",
      "         5.9840e+08, 5.8711e+09, 0.0000e+00, 0.0000e+00, 1.1511e-10, 1.4873e+07,\n",
      "         8.3672e+07, 6.2335e+09, 0.0000e+00, 3.6128e-09]])}, 3: {'step': 6000, 'exp_avg': tensor([37.3642]), 'exp_avg_sq': tensor([74975.8750])}}\n",
      "param_groups \t [{'lr': 0.1, 'betas': (0.9, 0.999), 'eps': 1e-08, 'weight_decay': 0, 'amsgrad': False, 'params': [0, 1, 2, 3]}]\n"
     ]
    }
   ],
   "source": [
    "print(\"Optimizer's state_dict:\")\n",
    "for var_name in optimizer.state_dict():\n",
    "    print(var_name, \"\\t\", optimizer.state_dict()[var_name])"
   ]
  },
  {
   "cell_type": "code",
   "execution_count": 50,
   "metadata": {},
   "outputs": [],
   "source": [
    "torch.save({\n",
    "            'epoch': 1000,\n",
    "            'model_state_dict': model.state_dict(),\n",
    "            'optimizer_state_dict': optimizer.state_dict(),\n",
    "            'loss': loss,\n",
    "            }, r\"G:\\ML\\PYLearn\\jupyter\\log\\model.pth\")"
   ]
  },
  {
   "cell_type": "code",
   "execution_count": 52,
   "metadata": {},
   "outputs": [],
   "source": [
    "checkpoint = torch.load(r\"G:\\ML\\PYLearn\\jupyter\\log\\model.pth\")\n",
    "# checkpoint"
   ]
  },
  {
   "cell_type": "code",
   "execution_count": 53,
   "metadata": {},
   "outputs": [],
   "source": [
    "model.load_state_dict(checkpoint['model_state_dict'])\n",
    "optimizer.load_state_dict(checkpoint['optimizer_state_dict'])\n",
    "epoch = checkpoint['epoch']\n",
    "loss = checkpoint['loss']"
   ]
  },
  {
   "cell_type": "code",
   "execution_count": 42,
   "metadata": {},
   "outputs": [
    {
     "data": {
      "text/plain": [
       "[('fc1.weight', Parameter containing:\n",
       "  tensor([[ 0.8607],\n",
       "          [-0.4612],\n",
       "          [ 1.1627],\n",
       "          [ 0.6596],\n",
       "          [-0.1963],\n",
       "          [-0.2116],\n",
       "          [-0.9390],\n",
       "          [-0.6986],\n",
       "          [ 1.1903],\n",
       "          [-0.2990],\n",
       "          [-0.2648],\n",
       "          [ 1.0166],\n",
       "          [ 0.5990],\n",
       "          [ 0.3458],\n",
       "          [ 1.3209],\n",
       "          [-0.2365]], requires_grad=True)), ('fc1.bias', Parameter containing:\n",
       "  tensor([-0.5419, -0.1460,  1.1332, -0.5549, -1.1715, -0.0499,  0.4957, -0.0812,\n",
       "           0.3717, -0.2156, -0.5980,  0.3973, -0.7329, -0.0947,  0.6900, -0.8912],\n",
       "         requires_grad=True)), ('fc2.weight', Parameter containing:\n",
       "  tensor([[ 0.3370, -0.0976,  0.4735,  0.1556,  0.1632,  0.1524, -0.1927,  0.1632,\n",
       "            0.4725,  0.0417, -0.0498,  0.3723,  0.1891,  0.3840,  0.5329,  0.0873]],\n",
       "         requires_grad=True)), ('fc2.bias', Parameter containing:\n",
       "  tensor([0.3488], requires_grad=True))]"
      ]
     },
     "execution_count": 42,
     "metadata": {},
     "output_type": "execute_result"
    }
   ],
   "source": [
    "list(model.named_parameters())"
   ]
  },
  {
   "cell_type": "code",
   "execution_count": 31,
   "metadata": {},
   "outputs": [
    {
     "data": {
      "text/plain": [
       "[Parameter containing:\n",
       " tensor([[ 0.8607],\n",
       "         [-0.4612],\n",
       "         [ 1.1627],\n",
       "         [ 0.6596],\n",
       "         [-0.1963],\n",
       "         [-0.2116],\n",
       "         [-0.9390],\n",
       "         [-0.6986],\n",
       "         [ 1.1903],\n",
       "         [-0.2990],\n",
       "         [-0.2648],\n",
       "         [ 1.0166],\n",
       "         [ 0.5990],\n",
       "         [ 0.3458],\n",
       "         [ 1.3209],\n",
       "         [-0.2365]], requires_grad=True), Parameter containing:\n",
       " tensor([-0.5419, -0.1460,  1.1332, -0.5549, -1.1715, -0.0499,  0.4957, -0.0812,\n",
       "          0.3717, -0.2156, -0.5980,  0.3973, -0.7329, -0.0947,  0.6900, -0.8912],\n",
       "        requires_grad=True), Parameter containing:\n",
       " tensor([[ 0.3370, -0.0976,  0.4735,  0.1556,  0.1632,  0.1524, -0.1927,  0.1632,\n",
       "           0.4725,  0.0417, -0.0498,  0.3723,  0.1891,  0.3840,  0.5329,  0.0873]],\n",
       "        requires_grad=True), Parameter containing:\n",
       " tensor([0.3488], requires_grad=True)]"
      ]
     },
     "execution_count": 31,
     "metadata": {},
     "output_type": "execute_result"
    }
   ],
   "source": [
    "list(model.parameters())"
   ]
  },
  {
   "cell_type": "code",
   "execution_count": null,
   "metadata": {},
   "outputs": [],
   "source": []
  }
 ],
 "metadata": {
  "kernelspec": {
   "display_name": "Python 3",
   "language": "python",
   "name": "python3"
  },
  "language_info": {
   "codemirror_mode": {
    "name": "ipython",
    "version": 3
   },
   "file_extension": ".py",
   "mimetype": "text/x-python",
   "name": "python",
   "nbconvert_exporter": "python",
   "pygments_lexer": "ipython3",
   "version": "3.6.5"
  }
 },
 "nbformat": 4,
 "nbformat_minor": 2
}
